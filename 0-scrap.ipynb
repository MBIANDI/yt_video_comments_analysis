{
 "cells": [
  {
   "cell_type": "code",
   "execution_count": 1,
   "metadata": {},
   "outputs": [],
   "source": [
    "from selenium import webdriver\n",
    "from selenium.webdriver.common.keys import Keys\n",
    "from selenium.webdriver.common.by import By\n",
    "from time import sleep\n",
    "import time"
   ]
  },
  {
   "cell_type": "code",
   "execution_count": 2,
   "metadata": {},
   "outputs": [],
   "source": [
    "video_to_scrape = \"https://www.youtube.com/watch?v=MJYRyysn5Po\" # Provide YT Video URL"
   ]
  },
  {
   "cell_type": "code",
   "execution_count": 3,
   "metadata": {},
   "outputs": [],
   "source": [
    "driver = webdriver.Chrome() # Provide path to chrome driver\n"
   ]
  },
  {
   "cell_type": "code",
   "execution_count": 4,
   "metadata": {},
   "outputs": [],
   "source": [
    "driver.get(video_to_scrape)"
   ]
  },
  {
   "cell_type": "code",
   "execution_count": 5,
   "metadata": {},
   "outputs": [],
   "source": [
    "# Scroll down to load comments\n",
    "body = driver.find_element(By.TAG_NAME, 'body')"
   ]
  },
  {
   "cell_type": "code",
   "execution_count": 6,
   "metadata": {},
   "outputs": [
    {
     "data": {
      "text/plain": [
       "2"
      ]
     },
     "execution_count": 6,
     "metadata": {},
     "output_type": "execute_result"
    }
   ],
   "source": [
    "import numpy as np\n",
    "# select random number between 1 and 10\n",
    "scrolls = np.random.randint(1, 10)\n",
    "scrolls"
   ]
  },
  {
   "cell_type": "code",
   "execution_count": 7,
   "metadata": {},
   "outputs": [
    {
     "ename": "KeyboardInterrupt",
     "evalue": "",
     "output_type": "error",
     "traceback": [
      "\u001b[1;31m---------------------------------------------------------------------------\u001b[0m",
      "\u001b[1;31mKeyboardInterrupt\u001b[0m                         Traceback (most recent call last)",
      "Cell \u001b[1;32mIn[7], line 4\u001b[0m\n\u001b[0;32m      2\u001b[0m body\u001b[38;5;241m.\u001b[39msend_keys(Keys\u001b[38;5;241m.\u001b[39mPAGE_DOWN)\n\u001b[0;32m      3\u001b[0m scrolls \u001b[38;5;241m=\u001b[39m np\u001b[38;5;241m.\u001b[39mrandom\u001b[38;5;241m.\u001b[39mrandint(\u001b[38;5;241m1\u001b[39m, \u001b[38;5;241m3\u001b[39m)\n\u001b[1;32m----> 4\u001b[0m \u001b[43mtime\u001b[49m\u001b[38;5;241;43m.\u001b[39;49m\u001b[43msleep\u001b[49m\u001b[43m(\u001b[49m\u001b[43mscrolls\u001b[49m\u001b[43m)\u001b[49m\n",
      "\u001b[1;31mKeyboardInterrupt\u001b[0m: "
     ]
    }
   ],
   "source": [
    "for _ in range(1000):  # Adjust the range for more scrolling\n",
    "    body.send_keys(Keys.PAGE_DOWN)\n",
    "    scrolls = np.random.randint(1, 3)\n",
    "    time.sleep(scrolls)"
   ]
  },
  {
   "cell_type": "code",
   "execution_count": 8,
   "metadata": {},
   "outputs": [],
   "source": [
    "comments = driver.find_elements(By.XPATH, '//*[@id=\"content-text\"]')"
   ]
  },
  {
   "cell_type": "code",
   "execution_count": 9,
   "metadata": {},
   "outputs": [],
   "source": [
    "comments_list = []\n",
    "for comment in comments:\n",
    "    comments_list.append(comment.text)"
   ]
  },
  {
   "cell_type": "code",
   "execution_count": 10,
   "metadata": {},
   "outputs": [
    {
     "data": {
      "text/plain": [
       "1183"
      ]
     },
     "execution_count": 10,
     "metadata": {},
     "output_type": "execute_result"
    }
   ],
   "source": [
    "len(comments_list)"
   ]
  },
  {
   "cell_type": "code",
   "execution_count": 12,
   "metadata": {},
   "outputs": [
    {
     "name": "stdout",
     "output_type": "stream",
     "text": [
      "J'ai adoré cette phrase d'Eto'o '' Ce ne sont que les meilleurs qui font des erreurs. Parce que si tu n'est pas meilleur, tu ne prends pas de risque.''\n",
      "Aurélien après ta carrière tu feras un bon journaliste. Tu as vraiment maîtrisé le job.\n",
      "Les anecdotes de Eto’o sont trois fois plus lourdes que toutes les motivations qu’on peut trouver sur internet\n",
      "Arrêttons nous un instant pour apprécier la qualité de la présentation d'Aurélien. Un véritable maître \n",
      "C’est la première fois de ma vie que je regarde 1h30 d’interview sans me lasser…🇨🇲🇨🇲🇨🇲…️️️…\n",
      "Si tu suis l’interview a cause de Samuel éto’o vient liker. Eto’o la légende \n",
      "Sans des sportifs comme Eto'o le sport ne serait plus une passion. Il est juste incroyable.\n",
      "Aurélien Tchouaméni 10/10 . Maitrise parfait des transitions , il donne la parole au invité avec une élégance .... j’adore ... futur bon journaliste sportif après le foot \n",
      "Mr Samuel Eto'o est tellement respectueux qu'il s'est levé pour accueillir Mr Mike Maignan ........Il y a pas deux personnes comme Mr Samuel\n",
      "Samuel etoo  le joueur qui a fait le meilleur interview de l’histoire sur beinsport ,je t’apprécie depuis dakar\n"
     ]
    }
   ],
   "source": [
    "for i in range(10):\n",
    "    print(comments_list[i])"
   ]
  },
  {
   "cell_type": "code",
   "execution_count": 25,
   "metadata": {},
   "outputs": [
    {
     "data": {
      "text/plain": [
       "220"
      ]
     },
     "execution_count": 25,
     "metadata": {},
     "output_type": "execute_result"
    }
   ],
   "source": [
    "len(comments_list)"
   ]
  },
  {
   "cell_type": "code",
   "execution_count": 13,
   "metadata": {},
   "outputs": [],
   "source": [
    "driver.quit()"
   ]
  },
  {
   "cell_type": "code",
   "execution_count": 14,
   "metadata": {},
   "outputs": [],
   "source": [
    "import pandas as pd\n",
    "pd.DataFrame(comments_list).to_csv('comments.csv', index=False)"
   ]
  }
 ],
 "metadata": {
  "kernelspec": {
   "display_name": "nkobo",
   "language": "python",
   "name": "python3"
  },
  "language_info": {
   "codemirror_mode": {
    "name": "ipython",
    "version": 3
   },
   "file_extension": ".py",
   "mimetype": "text/x-python",
   "name": "python",
   "nbconvert_exporter": "python",
   "pygments_lexer": "ipython3",
   "version": "3.12.5"
  }
 },
 "nbformat": 4,
 "nbformat_minor": 2
}
