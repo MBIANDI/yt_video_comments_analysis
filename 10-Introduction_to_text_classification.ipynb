{
  "cells": [
    {
      "cell_type": "markdown",
      "metadata": {
        "id": "TjgRAOyOEl5Q"
      },
      "source": [
        "# <font color=\"chillipepper\">Introduction au deep learning</font>"
      ]
    },
    {
      "cell_type": "markdown",
      "metadata": {
        "id": "IweYRBblDbnb"
      },
      "source": [
        "Nous utiliserons le corpus pour ce TD `imdb`.\n",
        "\n",
        "## Description\n",
        "Le jeu de données IMDb disponible via `load_dataset('imdb')` de la bibliothèque Hugging Face Datasets contient des critiques de films provenant d'IMDb.\n",
        "\n",
        "## Contenu\n",
        "- **Nombre total de critiques** : 50 000\n",
        "  - **Entraînement** : 25 000 critiques\n",
        "  - **Test** : 25 000 critiques\n",
        "\n",
        "## Étiquettes\n",
        "- Chaque critique est étiquetée comme :\n",
        "  - **Positive**\n",
        "  - **Négative**\n",
        "\n",
        "## Format\n",
        "- Les critiques sont fournies sous forme de texte brut.\n",
        "\n",
        "Nous allons entrainer et comparer 2 modèles de classification de texte en utilisant 2 méthodes différentes."
      ]
    },
    {
      "cell_type": "code",
      "execution_count": null,
      "metadata": {
        "id": "4AvU0fViDmuD"
      },
      "outputs": [],
      "source": [
        "#!pip install datasets\n",
        "#!pip install torchinfo"
      ]
    },
    {
      "cell_type": "markdown",
      "metadata": {
        "id": "xQEvRw9cFiUl"
      },
      "source": [
        "## librairies"
      ]
    },
    {
      "cell_type": "code",
      "execution_count": null,
      "metadata": {
        "id": "QP-uCyIiDXXK"
      },
      "outputs": [],
      "source": [
        "import torch\n",
        "from datasets import load_dataset\n",
        "from tqdm import tqdm\n",
        "import nltk\n",
        "from gensim.models.phrases import Phrases, Phraser\n",
        "from nltk.tokenize import TreebankWordTokenizer, TweetTokenizer\n",
        "import pandas as pd\n",
        "from termcolor import colored\n",
        "from collections import Counter\n",
        "import seaborn as sns\n",
        "import matplotlib.pyplot as plt\n",
        "\n",
        "sns.set_theme(style=\"dark\")"
      ]
    },
    {
      "cell_type": "markdown",
      "metadata": {
        "id": "IEo4KHE7FkOT"
      },
      "source": [
        "## Données"
      ]
    },
    {
      "cell_type": "code",
      "execution_count": null,
      "metadata": {
        "colab": {
          "base_uri": "https://localhost:8080/"
        },
        "id": "SPcgD53SDbN9",
        "outputId": "e6cec50e-cceb-48eb-ab04-4d8b1533e13d"
      },
      "outputs": [
        {
          "name": "stderr",
          "output_type": "stream",
          "text": [
            "/usr/local/lib/python3.10/dist-packages/huggingface_hub/utils/_auth.py:94: UserWarning: \n",
            "The secret `HF_TOKEN` does not exist in your Colab secrets.\n",
            "To authenticate with the Hugging Face Hub, create a token in your settings tab (https://huggingface.co/settings/tokens), set it as secret in your Google Colab and restart your session.\n",
            "You will be able to reuse this secret in all of your notebooks.\n",
            "Please note that authentication is recommended but still optional to access public models or datasets.\n",
            "  warnings.warn(\n"
          ]
        }
      ],
      "source": [
        "data = load_dataset('imdb')"
      ]
    },
    {
      "cell_type": "code",
      "execution_count": null,
      "metadata": {
        "colab": {
          "base_uri": "https://localhost:8080/"
        },
        "id": "zTZSwntzE9pW",
        "outputId": "4b8ba33b-c458-4287-da88-d816b39ea8f1"
      },
      "outputs": [
        {
          "data": {
            "text/plain": [
              "DatasetDict({\n",
              "    train: Dataset({\n",
              "        features: ['text', 'label'],\n",
              "        num_rows: 25000\n",
              "    })\n",
              "    test: Dataset({\n",
              "        features: ['text', 'label'],\n",
              "        num_rows: 25000\n",
              "    })\n",
              "    unsupervised: Dataset({\n",
              "        features: ['text', 'label'],\n",
              "        num_rows: 50000\n",
              "    })\n",
              "})"
            ]
          },
          "execution_count": 5,
          "metadata": {},
          "output_type": "execute_result"
        }
      ],
      "source": [
        "data"
      ]
    },
    {
      "cell_type": "code",
      "execution_count": null,
      "metadata": {
        "colab": {
          "base_uri": "https://localhost:8080/",
          "height": 206
        },
        "id": "9Yf7wnTbGgss",
        "outputId": "f690aec3-f617-4788-a679-08346ab4e1b0"
      },
      "outputs": [
        {
          "data": {
            "application/vnd.google.colaboratory.intrinsic+json": {
              "summary": "{\n  \"name\": \"df\",\n  \"rows\": 25000,\n  \"fields\": [\n    {\n      \"column\": \"text\",\n      \"properties\": {\n        \"dtype\": \"string\",\n        \"num_unique_values\": 24904,\n        \"samples\": [\n          \"Although I didn't like Stanley & Iris tremendously as a film, I did admire the acting. Jane Fonda and Robert De Niro are great in this movie. I haven't always been a fan of Fonda's work but here she is delicate and strong at the same time. De Niro has the ability to make every role he portrays into acting gold. He gives a great performance in this film and there is a great scene where he has to take his father to a home for elderly people because he can't care for him anymore that will break your heart. I wouldn't really recommend this film as a great cinematic entertainment, but I will say you won't see much bette acting anywhere.\",\n          \"Yet again one of the most misunderstood Goddesses of my country has been twisted by \\\"Westerners\\\" who cannot understand the esoteric symbolism of the Mother Goddess in her dark forms. The Mother takes on the frightening form of Kali Mata to destroy our inner demons, and to terrify our egos. And though blood sacrifice is given to Kali and Durga, the events depicted in this film are just absurd. The Mother takes on a wrathful form to be wrathful to our inner demons, limitations, and ego when no other form will suffice. It's also in her wrathful form that she burns away all your Karmas in the \\\"Smashan\\\" fires that you cultivate in your heart for her to dance on if you love her, and she will bring you to reality and truth. Reality and truth has a dark side as well as light, which serves a purpose. The Mother is the embodiment of the physical Universe as well, she is Nature. Nature can be cruel and destructive to maintain balance. You cannot have growth and life without death and destruction. Kali represents the force of destruction for the purpose of new growth and life both mundane and spiritual in the universe. It's very outrageous to me that people who know nothing of India or it's divinity can just take one of our beloved Goddesses and use her like a cheap prostitute to make some low-budget, talentless horror film. How dare they take our beloved Mother and portray her as a horror that makes people chop their eyelids off!? She is only horrific to those who are attached to their ego and who live in delusion , greed, anger, and other inner-demons. It's very clear to me that the person who wrote this movie must have a very serious self-deluding ego, and serious inner-demons to see Kali as so horrible and terrible. When the ego drops away she becomes a form that is enchanting, beautiful, and young, a beauty that is so enchanting to behold that she enchants the entire Universe with it. Kali Maa is an ancient Mother, not to be trifled with for the sake of entertainment, let's just hope that in her endless compassion and mercy that she does not take on wrathful form to those involved with this movie.<br /><br />The audacity that Westerners have in using religions like my own, or the religions of the Caribbean Islands such as Santeria, and Vodou which are actually very positive, and other such religions to twist and exaggerate misunderstood elements that the Western mind cannot comprehend, is totally ridiculous. It's clear that there is no respect for what people live, breathe and believe in when it comes to these kind of flicks.<br /><br />Kali Maa in reality is a caring and compassionate mother, whom we shed tears at her beautiful feet in devotion and love for. And I am happy that my Mother takes on wrathful form sometimes to protect her devotees from themselves and from outside forces.<br /><br />Many Praises to the REAL Kali Maa, who has shown MANY the path of God and realization.\",\n          \"Paris is the place to be to enjoy beautiful art and music, and to fall madly in love - as is the case in this film. Boy meets girl, they fall in love, but something stands in their way of eternal happiness, the classic story.<br /><br />The wonderful music of George Gerschwin complements the great dancing by Gene Kelly and Leslie Caron. \\\"An American in Paris\\\" is a humorous, light-hearted, loving film well worth watching.<br /><br />8/10<br /><br />\"\n        ],\n        \"semantic_type\": \"\",\n        \"description\": \"\"\n      }\n    },\n    {\n      \"column\": \"label\",\n      \"properties\": {\n        \"dtype\": \"number\",\n        \"std\": 0,\n        \"min\": 0,\n        \"max\": 1,\n        \"num_unique_values\": 2,\n        \"samples\": [\n          1,\n          0\n        ],\n        \"semantic_type\": \"\",\n        \"description\": \"\"\n      }\n    }\n  ]\n}",
              "type": "dataframe",
              "variable_name": "df"
            },
            "text/html": [
              "\n",
              "  <div id=\"df-3a4ea01a-0999-432a-adf5-0d07fc3a3e76\" class=\"colab-df-container\">\n",
              "    <div>\n",
              "<style scoped>\n",
              "    .dataframe tbody tr th:only-of-type {\n",
              "        vertical-align: middle;\n",
              "    }\n",
              "\n",
              "    .dataframe tbody tr th {\n",
              "        vertical-align: top;\n",
              "    }\n",
              "\n",
              "    .dataframe thead th {\n",
              "        text-align: right;\n",
              "    }\n",
              "</style>\n",
              "<table border=\"1\" class=\"dataframe\">\n",
              "  <thead>\n",
              "    <tr style=\"text-align: right;\">\n",
              "      <th></th>\n",
              "      <th>text</th>\n",
              "      <th>label</th>\n",
              "    </tr>\n",
              "  </thead>\n",
              "  <tbody>\n",
              "    <tr>\n",
              "      <th>0</th>\n",
              "      <td>I rented I AM CURIOUS-YELLOW from my video sto...</td>\n",
              "      <td>0</td>\n",
              "    </tr>\n",
              "    <tr>\n",
              "      <th>1</th>\n",
              "      <td>\"I Am Curious: Yellow\" is a risible and preten...</td>\n",
              "      <td>0</td>\n",
              "    </tr>\n",
              "    <tr>\n",
              "      <th>2</th>\n",
              "      <td>If only to avoid making this type of film in t...</td>\n",
              "      <td>0</td>\n",
              "    </tr>\n",
              "    <tr>\n",
              "      <th>3</th>\n",
              "      <td>This film was probably inspired by Godard's Ma...</td>\n",
              "      <td>0</td>\n",
              "    </tr>\n",
              "    <tr>\n",
              "      <th>4</th>\n",
              "      <td>Oh, brother...after hearing about this ridicul...</td>\n",
              "      <td>0</td>\n",
              "    </tr>\n",
              "  </tbody>\n",
              "</table>\n",
              "</div>\n",
              "    <div class=\"colab-df-buttons\">\n",
              "\n",
              "  <div class=\"colab-df-container\">\n",
              "    <button class=\"colab-df-convert\" onclick=\"convertToInteractive('df-3a4ea01a-0999-432a-adf5-0d07fc3a3e76')\"\n",
              "            title=\"Convert this dataframe to an interactive table.\"\n",
              "            style=\"display:none;\">\n",
              "\n",
              "  <svg xmlns=\"http://www.w3.org/2000/svg\" height=\"24px\" viewBox=\"0 -960 960 960\">\n",
              "    <path d=\"M120-120v-720h720v720H120Zm60-500h600v-160H180v160Zm220 220h160v-160H400v160Zm0 220h160v-160H400v160ZM180-400h160v-160H180v160Zm440 0h160v-160H620v160ZM180-180h160v-160H180v160Zm440 0h160v-160H620v160Z\"/>\n",
              "  </svg>\n",
              "    </button>\n",
              "\n",
              "  <style>\n",
              "    .colab-df-container {\n",
              "      display:flex;\n",
              "      gap: 12px;\n",
              "    }\n",
              "\n",
              "    .colab-df-convert {\n",
              "      background-color: #E8F0FE;\n",
              "      border: none;\n",
              "      border-radius: 50%;\n",
              "      cursor: pointer;\n",
              "      display: none;\n",
              "      fill: #1967D2;\n",
              "      height: 32px;\n",
              "      padding: 0 0 0 0;\n",
              "      width: 32px;\n",
              "    }\n",
              "\n",
              "    .colab-df-convert:hover {\n",
              "      background-color: #E2EBFA;\n",
              "      box-shadow: 0px 1px 2px rgba(60, 64, 67, 0.3), 0px 1px 3px 1px rgba(60, 64, 67, 0.15);\n",
              "      fill: #174EA6;\n",
              "    }\n",
              "\n",
              "    .colab-df-buttons div {\n",
              "      margin-bottom: 4px;\n",
              "    }\n",
              "\n",
              "    [theme=dark] .colab-df-convert {\n",
              "      background-color: #3B4455;\n",
              "      fill: #D2E3FC;\n",
              "    }\n",
              "\n",
              "    [theme=dark] .colab-df-convert:hover {\n",
              "      background-color: #434B5C;\n",
              "      box-shadow: 0px 1px 3px 1px rgba(0, 0, 0, 0.15);\n",
              "      filter: drop-shadow(0px 1px 2px rgba(0, 0, 0, 0.3));\n",
              "      fill: #FFFFFF;\n",
              "    }\n",
              "  </style>\n",
              "\n",
              "    <script>\n",
              "      const buttonEl =\n",
              "        document.querySelector('#df-3a4ea01a-0999-432a-adf5-0d07fc3a3e76 button.colab-df-convert');\n",
              "      buttonEl.style.display =\n",
              "        google.colab.kernel.accessAllowed ? 'block' : 'none';\n",
              "\n",
              "      async function convertToInteractive(key) {\n",
              "        const element = document.querySelector('#df-3a4ea01a-0999-432a-adf5-0d07fc3a3e76');\n",
              "        const dataTable =\n",
              "          await google.colab.kernel.invokeFunction('convertToInteractive',\n",
              "                                                    [key], {});\n",
              "        if (!dataTable) return;\n",
              "\n",
              "        const docLinkHtml = 'Like what you see? Visit the ' +\n",
              "          '<a target=\"_blank\" href=https://colab.research.google.com/notebooks/data_table.ipynb>data table notebook</a>'\n",
              "          + ' to learn more about interactive tables.';\n",
              "        element.innerHTML = '';\n",
              "        dataTable['output_type'] = 'display_data';\n",
              "        await google.colab.output.renderOutput(dataTable, element);\n",
              "        const docLink = document.createElement('div');\n",
              "        docLink.innerHTML = docLinkHtml;\n",
              "        element.appendChild(docLink);\n",
              "      }\n",
              "    </script>\n",
              "  </div>\n",
              "\n",
              "\n",
              "<div id=\"df-e89ebf85-57ab-4713-9610-0c7e2cc68d92\">\n",
              "  <button class=\"colab-df-quickchart\" onclick=\"quickchart('df-e89ebf85-57ab-4713-9610-0c7e2cc68d92')\"\n",
              "            title=\"Suggest charts\"\n",
              "            style=\"display:none;\">\n",
              "\n",
              "<svg xmlns=\"http://www.w3.org/2000/svg\" height=\"24px\"viewBox=\"0 0 24 24\"\n",
              "     width=\"24px\">\n",
              "    <g>\n",
              "        <path d=\"M19 3H5c-1.1 0-2 .9-2 2v14c0 1.1.9 2 2 2h14c1.1 0 2-.9 2-2V5c0-1.1-.9-2-2-2zM9 17H7v-7h2v7zm4 0h-2V7h2v10zm4 0h-2v-4h2v4z\"/>\n",
              "    </g>\n",
              "</svg>\n",
              "  </button>\n",
              "\n",
              "<style>\n",
              "  .colab-df-quickchart {\n",
              "      --bg-color: #E8F0FE;\n",
              "      --fill-color: #1967D2;\n",
              "      --hover-bg-color: #E2EBFA;\n",
              "      --hover-fill-color: #174EA6;\n",
              "      --disabled-fill-color: #AAA;\n",
              "      --disabled-bg-color: #DDD;\n",
              "  }\n",
              "\n",
              "  [theme=dark] .colab-df-quickchart {\n",
              "      --bg-color: #3B4455;\n",
              "      --fill-color: #D2E3FC;\n",
              "      --hover-bg-color: #434B5C;\n",
              "      --hover-fill-color: #FFFFFF;\n",
              "      --disabled-bg-color: #3B4455;\n",
              "      --disabled-fill-color: #666;\n",
              "  }\n",
              "\n",
              "  .colab-df-quickchart {\n",
              "    background-color: var(--bg-color);\n",
              "    border: none;\n",
              "    border-radius: 50%;\n",
              "    cursor: pointer;\n",
              "    display: none;\n",
              "    fill: var(--fill-color);\n",
              "    height: 32px;\n",
              "    padding: 0;\n",
              "    width: 32px;\n",
              "  }\n",
              "\n",
              "  .colab-df-quickchart:hover {\n",
              "    background-color: var(--hover-bg-color);\n",
              "    box-shadow: 0 1px 2px rgba(60, 64, 67, 0.3), 0 1px 3px 1px rgba(60, 64, 67, 0.15);\n",
              "    fill: var(--button-hover-fill-color);\n",
              "  }\n",
              "\n",
              "  .colab-df-quickchart-complete:disabled,\n",
              "  .colab-df-quickchart-complete:disabled:hover {\n",
              "    background-color: var(--disabled-bg-color);\n",
              "    fill: var(--disabled-fill-color);\n",
              "    box-shadow: none;\n",
              "  }\n",
              "\n",
              "  .colab-df-spinner {\n",
              "    border: 2px solid var(--fill-color);\n",
              "    border-color: transparent;\n",
              "    border-bottom-color: var(--fill-color);\n",
              "    animation:\n",
              "      spin 1s steps(1) infinite;\n",
              "  }\n",
              "\n",
              "  @keyframes spin {\n",
              "    0% {\n",
              "      border-color: transparent;\n",
              "      border-bottom-color: var(--fill-color);\n",
              "      border-left-color: var(--fill-color);\n",
              "    }\n",
              "    20% {\n",
              "      border-color: transparent;\n",
              "      border-left-color: var(--fill-color);\n",
              "      border-top-color: var(--fill-color);\n",
              "    }\n",
              "    30% {\n",
              "      border-color: transparent;\n",
              "      border-left-color: var(--fill-color);\n",
              "      border-top-color: var(--fill-color);\n",
              "      border-right-color: var(--fill-color);\n",
              "    }\n",
              "    40% {\n",
              "      border-color: transparent;\n",
              "      border-right-color: var(--fill-color);\n",
              "      border-top-color: var(--fill-color);\n",
              "    }\n",
              "    60% {\n",
              "      border-color: transparent;\n",
              "      border-right-color: var(--fill-color);\n",
              "    }\n",
              "    80% {\n",
              "      border-color: transparent;\n",
              "      border-right-color: var(--fill-color);\n",
              "      border-bottom-color: var(--fill-color);\n",
              "    }\n",
              "    90% {\n",
              "      border-color: transparent;\n",
              "      border-bottom-color: var(--fill-color);\n",
              "    }\n",
              "  }\n",
              "</style>\n",
              "\n",
              "  <script>\n",
              "    async function quickchart(key) {\n",
              "      const quickchartButtonEl =\n",
              "        document.querySelector('#' + key + ' button');\n",
              "      quickchartButtonEl.disabled = true;  // To prevent multiple clicks.\n",
              "      quickchartButtonEl.classList.add('colab-df-spinner');\n",
              "      try {\n",
              "        const charts = await google.colab.kernel.invokeFunction(\n",
              "            'suggestCharts', [key], {});\n",
              "      } catch (error) {\n",
              "        console.error('Error during call to suggestCharts:', error);\n",
              "      }\n",
              "      quickchartButtonEl.classList.remove('colab-df-spinner');\n",
              "      quickchartButtonEl.classList.add('colab-df-quickchart-complete');\n",
              "    }\n",
              "    (() => {\n",
              "      let quickchartButtonEl =\n",
              "        document.querySelector('#df-e89ebf85-57ab-4713-9610-0c7e2cc68d92 button');\n",
              "      quickchartButtonEl.style.display =\n",
              "        google.colab.kernel.accessAllowed ? 'block' : 'none';\n",
              "    })();\n",
              "  </script>\n",
              "</div>\n",
              "\n",
              "    </div>\n",
              "  </div>\n"
            ],
            "text/plain": [
              "                                                text  label\n",
              "0  I rented I AM CURIOUS-YELLOW from my video sto...      0\n",
              "1  \"I Am Curious: Yellow\" is a risible and preten...      0\n",
              "2  If only to avoid making this type of film in t...      0\n",
              "3  This film was probably inspired by Godard's Ma...      0\n",
              "4  Oh, brother...after hearing about this ridicul...      0"
            ]
          },
          "execution_count": 6,
          "metadata": {},
          "output_type": "execute_result"
        }
      ],
      "source": [
        "data.set_format(type=\"pandas\")\n",
        "df = data[\"train\"][:]\n",
        "df.head()"
      ]
    },
    {
      "cell_type": "code",
      "execution_count": null,
      "metadata": {
        "colab": {
          "base_uri": "https://localhost:8080/",
          "height": 206
        },
        "id": "5yGQxIdUKazo",
        "outputId": "7a503a3b-d871-4ab6-a300-5b4ee5df98fe"
      },
      "outputs": [
        {
          "data": {
            "application/vnd.google.colaboratory.intrinsic+json": {
              "summary": "{\n  \"name\": \"test_df\",\n  \"rows\": 25000,\n  \"fields\": [\n    {\n      \"column\": \"text\",\n      \"properties\": {\n        \"dtype\": \"string\",\n        \"num_unique_values\": 24801,\n        \"samples\": [\n          \"Most movies I can sit through easily, even if I do not particularly like the movie. I am the type of person who recognizes great films even if I do not like the genre. This is the first movie I could not stand to watch. Cat in the Hat is the worst movie I have ever seen--and I've seen a lot of movies. The acting is okay (Myers is good as the cat, it's just that he is REALLY annoying). The silly songs the cat sings were boring and monotonous, even for the children in the audience. The plot drags on and on, and viewers must suffer through poor dialogue. The \\\"witty\\\" parental remarks are disgusting, not funny (I remember some awful comment about a garden hoe being compared to, well, a type of person people call a \\\"ho\\\"). Even though the movie is really short, it seemed to last FOREVER. Do not waste your time. I know small kids who hated this movie. If children can't stand it, I do not know how any adults can. I would like to fume more about this film but I do not even feel like wasting anymore time writing this review about it. I HATED IT! So, in summary, do not spend 90 minutes of your life watching this! See a GOOD movie!<br /><br />1/10 stars--the lowest review I have ever given a movie.\",\n          \"it's the best film that takes the first place at the sickest and an useful films ever made in this poor country. really u people even don't know what the word cinema means and u cast votes for movies, i'm really curious to know how many movies of P.P.P. or L.Bunuel have u seen. The score of this \\\"faield experiment\\\" it reflects a lot of u're way of understanding things and to recognize a good/quality movie when u see it. We the Romanian people have only ONE movie and until this day the status hasn't change & that movie is \\\"Padurea Spanzuratilor\\\". But I don't lose my time thinking how many of you have seen it. That is a movie that respects all the required quality's's of an MOVIE. From the script to the frames and even to the quality/clarity of the picture even are past over him 41 years. I recommend to the voters to search for better movies and then vote. KuDos will See u later .\",\n          \"\\\"Rush in Rio\\\" is, no doubt, one of the most exciting DVDs I have purchased. Although I am a biased Rush fan of almost 20 years, I found this performance to be flawless. The music is heavy and sharp (which sounds great on any surround sound system), the band is energetic, the crowd has a constant smile... it's like they were able to capture every concert I've been to. For any Rush fan, this DVD is a must; if anything, just to see the \\\"Boys in Brazil\\\" documentary (which reveals the travels of this rather isolated, personal band). For any non-Rush fan, this DVD is an enjoyable concert. Rush fans know the talent of these three Canadians. We have rather firmly stood by them for years. I've shown this DVD (or portions of it, anyway) to those who have never heard of Rush, or those who think Rush is less than good because they do not appeal to the pessimistic masses of rock (i.e., sex, drugs, and a drunken frenzy). The bottom line is this DVD is worth every penny and more than worth the time to view it.\"\n        ],\n        \"semantic_type\": \"\",\n        \"description\": \"\"\n      }\n    },\n    {\n      \"column\": \"label\",\n      \"properties\": {\n        \"dtype\": \"number\",\n        \"std\": 0,\n        \"min\": 0,\n        \"max\": 1,\n        \"num_unique_values\": 2,\n        \"samples\": [\n          1,\n          0\n        ],\n        \"semantic_type\": \"\",\n        \"description\": \"\"\n      }\n    }\n  ]\n}",
              "type": "dataframe",
              "variable_name": "test_df"
            },
            "text/html": [
              "\n",
              "  <div id=\"df-c0e09817-e41d-4f72-82de-953d1858a2d7\" class=\"colab-df-container\">\n",
              "    <div>\n",
              "<style scoped>\n",
              "    .dataframe tbody tr th:only-of-type {\n",
              "        vertical-align: middle;\n",
              "    }\n",
              "\n",
              "    .dataframe tbody tr th {\n",
              "        vertical-align: top;\n",
              "    }\n",
              "\n",
              "    .dataframe thead th {\n",
              "        text-align: right;\n",
              "    }\n",
              "</style>\n",
              "<table border=\"1\" class=\"dataframe\">\n",
              "  <thead>\n",
              "    <tr style=\"text-align: right;\">\n",
              "      <th></th>\n",
              "      <th>text</th>\n",
              "      <th>label</th>\n",
              "    </tr>\n",
              "  </thead>\n",
              "  <tbody>\n",
              "    <tr>\n",
              "      <th>0</th>\n",
              "      <td>I love sci-fi and am willing to put up with a ...</td>\n",
              "      <td>0</td>\n",
              "    </tr>\n",
              "    <tr>\n",
              "      <th>1</th>\n",
              "      <td>Worth the entertainment value of a rental, esp...</td>\n",
              "      <td>0</td>\n",
              "    </tr>\n",
              "    <tr>\n",
              "      <th>2</th>\n",
              "      <td>its a totally average film with a few semi-alr...</td>\n",
              "      <td>0</td>\n",
              "    </tr>\n",
              "    <tr>\n",
              "      <th>3</th>\n",
              "      <td>STAR RATING: ***** Saturday Night **** Friday ...</td>\n",
              "      <td>0</td>\n",
              "    </tr>\n",
              "    <tr>\n",
              "      <th>4</th>\n",
              "      <td>First off let me say, If you haven't enjoyed a...</td>\n",
              "      <td>0</td>\n",
              "    </tr>\n",
              "  </tbody>\n",
              "</table>\n",
              "</div>\n",
              "    <div class=\"colab-df-buttons\">\n",
              "\n",
              "  <div class=\"colab-df-container\">\n",
              "    <button class=\"colab-df-convert\" onclick=\"convertToInteractive('df-c0e09817-e41d-4f72-82de-953d1858a2d7')\"\n",
              "            title=\"Convert this dataframe to an interactive table.\"\n",
              "            style=\"display:none;\">\n",
              "\n",
              "  <svg xmlns=\"http://www.w3.org/2000/svg\" height=\"24px\" viewBox=\"0 -960 960 960\">\n",
              "    <path d=\"M120-120v-720h720v720H120Zm60-500h600v-160H180v160Zm220 220h160v-160H400v160Zm0 220h160v-160H400v160ZM180-400h160v-160H180v160Zm440 0h160v-160H620v160ZM180-180h160v-160H180v160Zm440 0h160v-160H620v160Z\"/>\n",
              "  </svg>\n",
              "    </button>\n",
              "\n",
              "  <style>\n",
              "    .colab-df-container {\n",
              "      display:flex;\n",
              "      gap: 12px;\n",
              "    }\n",
              "\n",
              "    .colab-df-convert {\n",
              "      background-color: #E8F0FE;\n",
              "      border: none;\n",
              "      border-radius: 50%;\n",
              "      cursor: pointer;\n",
              "      display: none;\n",
              "      fill: #1967D2;\n",
              "      height: 32px;\n",
              "      padding: 0 0 0 0;\n",
              "      width: 32px;\n",
              "    }\n",
              "\n",
              "    .colab-df-convert:hover {\n",
              "      background-color: #E2EBFA;\n",
              "      box-shadow: 0px 1px 2px rgba(60, 64, 67, 0.3), 0px 1px 3px 1px rgba(60, 64, 67, 0.15);\n",
              "      fill: #174EA6;\n",
              "    }\n",
              "\n",
              "    .colab-df-buttons div {\n",
              "      margin-bottom: 4px;\n",
              "    }\n",
              "\n",
              "    [theme=dark] .colab-df-convert {\n",
              "      background-color: #3B4455;\n",
              "      fill: #D2E3FC;\n",
              "    }\n",
              "\n",
              "    [theme=dark] .colab-df-convert:hover {\n",
              "      background-color: #434B5C;\n",
              "      box-shadow: 0px 1px 3px 1px rgba(0, 0, 0, 0.15);\n",
              "      filter: drop-shadow(0px 1px 2px rgba(0, 0, 0, 0.3));\n",
              "      fill: #FFFFFF;\n",
              "    }\n",
              "  </style>\n",
              "\n",
              "    <script>\n",
              "      const buttonEl =\n",
              "        document.querySelector('#df-c0e09817-e41d-4f72-82de-953d1858a2d7 button.colab-df-convert');\n",
              "      buttonEl.style.display =\n",
              "        google.colab.kernel.accessAllowed ? 'block' : 'none';\n",
              "\n",
              "      async function convertToInteractive(key) {\n",
              "        const element = document.querySelector('#df-c0e09817-e41d-4f72-82de-953d1858a2d7');\n",
              "        const dataTable =\n",
              "          await google.colab.kernel.invokeFunction('convertToInteractive',\n",
              "                                                    [key], {});\n",
              "        if (!dataTable) return;\n",
              "\n",
              "        const docLinkHtml = 'Like what you see? Visit the ' +\n",
              "          '<a target=\"_blank\" href=https://colab.research.google.com/notebooks/data_table.ipynb>data table notebook</a>'\n",
              "          + ' to learn more about interactive tables.';\n",
              "        element.innerHTML = '';\n",
              "        dataTable['output_type'] = 'display_data';\n",
              "        await google.colab.output.renderOutput(dataTable, element);\n",
              "        const docLink = document.createElement('div');\n",
              "        docLink.innerHTML = docLinkHtml;\n",
              "        element.appendChild(docLink);\n",
              "      }\n",
              "    </script>\n",
              "  </div>\n",
              "\n",
              "\n",
              "<div id=\"df-641aefec-23b0-429a-b955-0869c1aadfa9\">\n",
              "  <button class=\"colab-df-quickchart\" onclick=\"quickchart('df-641aefec-23b0-429a-b955-0869c1aadfa9')\"\n",
              "            title=\"Suggest charts\"\n",
              "            style=\"display:none;\">\n",
              "\n",
              "<svg xmlns=\"http://www.w3.org/2000/svg\" height=\"24px\"viewBox=\"0 0 24 24\"\n",
              "     width=\"24px\">\n",
              "    <g>\n",
              "        <path d=\"M19 3H5c-1.1 0-2 .9-2 2v14c0 1.1.9 2 2 2h14c1.1 0 2-.9 2-2V5c0-1.1-.9-2-2-2zM9 17H7v-7h2v7zm4 0h-2V7h2v10zm4 0h-2v-4h2v4z\"/>\n",
              "    </g>\n",
              "</svg>\n",
              "  </button>\n",
              "\n",
              "<style>\n",
              "  .colab-df-quickchart {\n",
              "      --bg-color: #E8F0FE;\n",
              "      --fill-color: #1967D2;\n",
              "      --hover-bg-color: #E2EBFA;\n",
              "      --hover-fill-color: #174EA6;\n",
              "      --disabled-fill-color: #AAA;\n",
              "      --disabled-bg-color: #DDD;\n",
              "  }\n",
              "\n",
              "  [theme=dark] .colab-df-quickchart {\n",
              "      --bg-color: #3B4455;\n",
              "      --fill-color: #D2E3FC;\n",
              "      --hover-bg-color: #434B5C;\n",
              "      --hover-fill-color: #FFFFFF;\n",
              "      --disabled-bg-color: #3B4455;\n",
              "      --disabled-fill-color: #666;\n",
              "  }\n",
              "\n",
              "  .colab-df-quickchart {\n",
              "    background-color: var(--bg-color);\n",
              "    border: none;\n",
              "    border-radius: 50%;\n",
              "    cursor: pointer;\n",
              "    display: none;\n",
              "    fill: var(--fill-color);\n",
              "    height: 32px;\n",
              "    padding: 0;\n",
              "    width: 32px;\n",
              "  }\n",
              "\n",
              "  .colab-df-quickchart:hover {\n",
              "    background-color: var(--hover-bg-color);\n",
              "    box-shadow: 0 1px 2px rgba(60, 64, 67, 0.3), 0 1px 3px 1px rgba(60, 64, 67, 0.15);\n",
              "    fill: var(--button-hover-fill-color);\n",
              "  }\n",
              "\n",
              "  .colab-df-quickchart-complete:disabled,\n",
              "  .colab-df-quickchart-complete:disabled:hover {\n",
              "    background-color: var(--disabled-bg-color);\n",
              "    fill: var(--disabled-fill-color);\n",
              "    box-shadow: none;\n",
              "  }\n",
              "\n",
              "  .colab-df-spinner {\n",
              "    border: 2px solid var(--fill-color);\n",
              "    border-color: transparent;\n",
              "    border-bottom-color: var(--fill-color);\n",
              "    animation:\n",
              "      spin 1s steps(1) infinite;\n",
              "  }\n",
              "\n",
              "  @keyframes spin {\n",
              "    0% {\n",
              "      border-color: transparent;\n",
              "      border-bottom-color: var(--fill-color);\n",
              "      border-left-color: var(--fill-color);\n",
              "    }\n",
              "    20% {\n",
              "      border-color: transparent;\n",
              "      border-left-color: var(--fill-color);\n",
              "      border-top-color: var(--fill-color);\n",
              "    }\n",
              "    30% {\n",
              "      border-color: transparent;\n",
              "      border-left-color: var(--fill-color);\n",
              "      border-top-color: var(--fill-color);\n",
              "      border-right-color: var(--fill-color);\n",
              "    }\n",
              "    40% {\n",
              "      border-color: transparent;\n",
              "      border-right-color: var(--fill-color);\n",
              "      border-top-color: var(--fill-color);\n",
              "    }\n",
              "    60% {\n",
              "      border-color: transparent;\n",
              "      border-right-color: var(--fill-color);\n",
              "    }\n",
              "    80% {\n",
              "      border-color: transparent;\n",
              "      border-right-color: var(--fill-color);\n",
              "      border-bottom-color: var(--fill-color);\n",
              "    }\n",
              "    90% {\n",
              "      border-color: transparent;\n",
              "      border-bottom-color: var(--fill-color);\n",
              "    }\n",
              "  }\n",
              "</style>\n",
              "\n",
              "  <script>\n",
              "    async function quickchart(key) {\n",
              "      const quickchartButtonEl =\n",
              "        document.querySelector('#' + key + ' button');\n",
              "      quickchartButtonEl.disabled = true;  // To prevent multiple clicks.\n",
              "      quickchartButtonEl.classList.add('colab-df-spinner');\n",
              "      try {\n",
              "        const charts = await google.colab.kernel.invokeFunction(\n",
              "            'suggestCharts', [key], {});\n",
              "      } catch (error) {\n",
              "        console.error('Error during call to suggestCharts:', error);\n",
              "      }\n",
              "      quickchartButtonEl.classList.remove('colab-df-spinner');\n",
              "      quickchartButtonEl.classList.add('colab-df-quickchart-complete');\n",
              "    }\n",
              "    (() => {\n",
              "      let quickchartButtonEl =\n",
              "        document.querySelector('#df-641aefec-23b0-429a-b955-0869c1aadfa9 button');\n",
              "      quickchartButtonEl.style.display =\n",
              "        google.colab.kernel.accessAllowed ? 'block' : 'none';\n",
              "    })();\n",
              "  </script>\n",
              "</div>\n",
              "\n",
              "    </div>\n",
              "  </div>\n"
            ],
            "text/plain": [
              "                                                text  label\n",
              "0  I love sci-fi and am willing to put up with a ...      0\n",
              "1  Worth the entertainment value of a rental, esp...      0\n",
              "2  its a totally average film with a few semi-alr...      0\n",
              "3  STAR RATING: ***** Saturday Night **** Friday ...      0\n",
              "4  First off let me say, If you haven't enjoyed a...      0"
            ]
          },
          "execution_count": 7,
          "metadata": {},
          "output_type": "execute_result"
        }
      ],
      "source": [
        "test_df = data[\"test\"][:]\n",
        "test_df.head()"
      ]
    },
    {
      "cell_type": "code",
      "execution_count": null,
      "metadata": {
        "colab": {
          "base_uri": "https://localhost:8080/",
          "height": 550
        },
        "id": "UU0oRmCWGzL0",
        "outputId": "869cc307-fa50-43f2-b59a-dcb5072e9303"
      },
      "outputs": [
        {
          "data": {
            "image/png": "[encoded data removed]",
            "text/plain": [
              "<Figure size 1000x600 with 1 Axes>"
            ]
          },
          "metadata": {},
          "output_type": "display_data"
        }
      ],
      "source": [
        "plt.figure(figsize=(10, 6))\n",
        "sns.countplot(data=df, x=\"label\", order=df[\"label\"].value_counts().index)\n",
        "plt.ylabel(\"Nb comments\")\n",
        "plt.show()"
      ]
    },
    {
      "cell_type": "markdown",
      "metadata": {
        "id": "R9S7r8KGHCvk"
      },
      "source": [
        "Nous avons autant de commentaires positifs que négatifs."
      ]
    },
    {
      "cell_type": "code",
      "execution_count": null,
      "metadata": {
        "id": "cJFtqN7yHgGJ"
      },
      "outputs": [],
      "source": [
        "# Calcul du nombre de mots par commentaire\n",
        "df[\"Words Per comment\"] = df[\"text\"].str.split().apply(len)"
      ]
    },
    {
      "cell_type": "code",
      "execution_count": null,
      "metadata": {
        "colab": {
          "base_uri": "https://localhost:8080/",
          "height": 434
        },
        "id": "LNvvppTeHgDp",
        "outputId": "fd54f6af-5ee2-4ed4-b303-075d497b6750"
      },
      "outputs": [
        {
          "data": {
            "image/png": "[encoded data removed]",
            "text/plain": [
              "<Figure size 640x480 with 1 Axes>"
            ]
          },
          "metadata": {},
          "output_type": "display_data"
        }
      ],
      "source": [
        "sns.boxplot(data=df, x=\"label\", y=\"Words Per comment\", showfliers=False)\n",
        "plt.suptitle(\"\")\n",
        "plt.xlabel(\"\")\n",
        "plt.show()"
      ]
    },
    {
      "cell_type": "markdown",
      "metadata": {
        "id": "IPIlpjSaID-k"
      },
      "source": [
        "Les commentaires ont autour de 180 mots pour chaque type de sentiment. Les plus longs ne pourront pas être pris en compte par le tokenizer car étant supérieurs à la longueur maximale acceptée. Il seront donc coupés."
      ]
    },
    {
      "cell_type": "code",
      "execution_count": null,
      "metadata": {
        "id": "eX8q-NPtIq8B"
      },
      "outputs": [],
      "source": [
        "data.reset_format()"
      ]
    },
    {
      "cell_type": "markdown",
      "metadata": {
        "id": "-xOPmaRPHVfY"
      },
      "source": [
        "## Tokenizer"
      ]
    },
    {
      "cell_type": "code",
      "execution_count": null,
      "metadata": {
        "id": "3RNYzhyjJmou"
      },
      "outputs": [],
      "source": [
        "BATCH_SIZE = 16"
      ]
    },
    {
      "cell_type": "code",
      "execution_count": null,
      "metadata": {
        "id": "4IyEa502ItHl"
      },
      "outputs": [],
      "source": [
        "from transformers import AutoTokenizer"
      ]
    },
    {
      "cell_type": "code",
      "execution_count": null,
      "metadata": {
        "id": "mOJTNNn6G_fy"
      },
      "outputs": [],
      "source": [
        "model_ckpt = \"distilbert-base-uncased\"\n",
        "tokenizer = AutoTokenizer.from_pretrained(model_ckpt)"
      ]
    },
    {
      "cell_type": "code",
      "execution_count": null,
      "metadata": {
        "colab": {
          "base_uri": "https://localhost:8080/"
        },
        "id": "N4CW4G37JKdA",
        "outputId": "fbafaf8c-b411-4bd2-c379-e2a00a1a9962"
      },
      "outputs": [
        {
          "data": {
            "text/plain": [
              "{'input_ids': [[101, 14753, 23099, 2099, 1010, 7615, 12436, 2015, 1011, 10722, 1029, 102]], 'attention_mask': [[1, 1, 1, 1, 1, 1, 1, 1, 1, 1, 1, 1]]}"
            ]
          },
          "execution_count": 15,
          "metadata": {},
          "output_type": "execute_result"
        }
      ],
      "source": [
        "tokenizer([\"Bonjour, comment vas-tu ?\"], )"
      ]
    },
    {
      "cell_type": "markdown",
      "metadata": {
        "id": "LjeX3-KIKr4f"
      },
      "source": [
        "## DataHandler\n",
        "\n",
        "Let's create a datahandler."
      ]
    },
    {
      "cell_type": "code",
      "execution_count": null,
      "metadata": {
        "id": "SaHe2xpZK4-C"
      },
      "outputs": [],
      "source": [
        "from torch.utils.data import Dataset, DataLoader\n",
        "import numpy as np"
      ]
    },
    {
      "cell_type": "code",
      "execution_count": null,
      "metadata": {
        "colab": {
          "base_uri": "https://localhost:8080/",
          "height": 143
        },
        "id": "bpuA_AWKLvbJ",
        "outputId": "400a8171-364a-46b3-a3ac-940563d09ab3"
      },
      "outputs": [
        {
          "data": {
            "application/vnd.google.colaboratory.intrinsic+json": {
              "type": "string"
            },
            "text/plain": [
              "'\"I Am Curious: Yellow\" is a risible and pretentious steaming pile. It doesn\\'t matter what one\\'s political views are because this film can hardly be taken seriously on any level. As for the claim that frontal male nudity is an automatic NC-17, that isn\\'t true. I\\'ve seen R-rated films with male nudity. Granted, they only offer some fleeting views, but where are the R-rated films with gaping vulvas and flapping labia? Nowhere, because they don\\'t exist. The same goes for those crappy cable shows: schlongs swinging in the breeze but not a clitoris in sight. And those pretentious indie movies like The Brown Bunny, in which we\\'re treated to the site of Vincent Gallo\\'s throbbing johnson, but not a trace of pink visible on Chloe Sevigny. Before crying (or implying) \"double-standard\" in matters of nudity, the mentally obtuse should take into account one unavoidably obvious anatomical difference between men and women: there are no genitals on display when actresses appears nude, and the same cannot be said for a man. In fact, you generally won\\'t see female genitals in an American film in anything short of porn or explicit erotica. This alleged double-standard is less a double standard than an admittedly depressing ability to come to terms culturally with the insides of women\\'s bodies.'"
            ]
          },
          "execution_count": 17,
          "metadata": {},
          "output_type": "execute_result"
        }
      ],
      "source": [
        "data['train'][1][\"text\"]"
      ]
    },
    {
      "cell_type": "code",
      "execution_count": null,
      "metadata": {
        "id": "TH0V0OBRLYk4"
      },
      "outputs": [],
      "source": [
        "class IMDbDataset(Dataset):\n",
        "    def __init__(self,data, tokenizer, max_length: int=512):\n",
        "        self.dataset = data\n",
        "        self.tokenizer = tokenizer\n",
        "        self.max_length = max_length\n",
        "\n",
        "    def __len__(self):\n",
        "        return len(self.dataset)\n",
        "\n",
        "    def __getitem__(self, idx):\n",
        "        text = self.dataset[idx]['text']\n",
        "        label = self.dataset[idx]['label']\n",
        "        encoding = self.tokenizer.encode_plus(\n",
        "            text,\n",
        "            add_special_tokens=True,\n",
        "            max_length=self.max_length,\n",
        "            return_token_type_ids=False,\n",
        "            padding='max_length',\n",
        "            truncation=True,\n",
        "            return_attention_mask=True,\n",
        "            return_tensors='pt',\n",
        "        )\n",
        "        return {\n",
        "            'input_ids': encoding['input_ids'].flatten(),\n",
        "            'attention_mask': encoding['attention_mask'].flatten(),\n",
        "            'label': torch.tensor(label, dtype=torch.long)\n",
        "        }"
      ]
    },
    {
      "cell_type": "code",
      "execution_count": null,
      "metadata": {
        "id": "xxqRqyy_MpIe"
      },
      "outputs": [],
      "source": [
        "# Permet de faire des paquets de données et de les rendre sous un format itérable\n",
        "def create_data_loader(dataset, batch_size):\n",
        "    return DataLoader(dataset, batch_size=batch_size, shuffle=True)"
      ]
    },
    {
      "cell_type": "code",
      "execution_count": null,
      "metadata": {
        "id": "o05BLur1MzTl"
      },
      "outputs": [],
      "source": [
        "train_dataset = IMDbDataset(data['train'], tokenizer)\n",
        "test_dataset = IMDbDataset(data['test'], tokenizer)"
      ]
    },
    {
      "cell_type": "code",
      "execution_count": null,
      "metadata": {
        "colab": {
          "base_uri": "https://localhost:8080/"
        },
        "collapsed": true,
        "id": "vsvkdy_KM5uu",
        "outputId": "7652d1f8-58b8-4fdc-eb1f-c410a40c2bec"
      },
      "outputs": [
        {
          "data": {
            "text/plain": [
              "{'input_ids': tensor([  101,  1045, 12524,  1045,  2572,  8025,  1011,  3756,  2013,  2026,\n",
              "          2678,  3573,  2138,  1997,  2035,  1996,  6704,  2008,  5129,  2009,\n",
              "          2043,  2009,  2001,  2034,  2207,  1999,  3476,  1012,  1045,  2036,\n",
              "          2657,  2008,  2012,  2034,  2009,  2001,  8243,  2011,  1057,  1012,\n",
              "          1055,  1012,  8205,  2065,  2009,  2412,  2699,  2000,  4607,  2023,\n",
              "          2406,  1010,  3568,  2108,  1037,  5470,  1997,  3152,  2641,  1000,\n",
              "          6801,  1000,  1045,  2428,  2018,  2000,  2156,  2023,  2005,  2870,\n",
              "          1012,  1026,  7987,  1013,  1028,  1026,  7987,  1013,  1028,  1996,\n",
              "          5436,  2003,  8857,  2105,  1037,  2402,  4467,  3689,  3076,  2315,\n",
              "         14229,  2040,  4122,  2000,  4553,  2673,  2016,  2064,  2055,  2166,\n",
              "          1012,  1999,  3327,  2016,  4122,  2000,  3579,  2014,  3086,  2015,\n",
              "          2000,  2437,  2070,  4066,  1997,  4516,  2006,  2054,  1996,  2779,\n",
              "         25430, 14728,  2245,  2055,  3056,  2576,  3314,  2107,  2004,  1996,\n",
              "          5148,  2162,  1998,  2679,  3314,  1999,  1996,  2142,  2163,  1012,\n",
              "          1999,  2090,  4851,  8801,  1998,  6623,  7939,  4697,  3619,  1997,\n",
              "          8947,  2055,  2037, 10740,  2006,  4331,  1010,  2016,  2038,  3348,\n",
              "          2007,  2014,  3689,  3836,  1010, 19846,  1010,  1998,  2496,  2273,\n",
              "          1012,  1026,  7987,  1013,  1028,  1026,  7987,  1013,  1028,  2054,\n",
              "          8563,  2033,  2055,  1045,  2572,  8025,  1011,  3756,  2003,  2008,\n",
              "          2871,  2086,  3283,  1010,  2023,  2001,  2641, 26932,  1012,  2428,\n",
              "          1010,  1996,  3348,  1998, 16371, 25469,  5019,  2024,  2261,  1998,\n",
              "          2521,  2090,  1010,  2130,  2059,  2009,  1005,  1055,  2025,  2915,\n",
              "          2066,  2070, 10036,  2135,  2081, 22555,  2080,  1012,  2096,  2026,\n",
              "          2406,  3549,  2568,  2424,  2009, 16880,  1010,  1999,  4507,  3348,\n",
              "          1998, 16371, 25469,  2024,  1037,  2350, 18785,  1999,  4467,  5988,\n",
              "          1012,  2130, 13749,  7849, 24544,  1010, 15835,  2037,  3437,  2000,\n",
              "          2204,  2214,  2879,  2198,  4811,  1010,  2018,  3348,  5019,  1999,\n",
              "          2010,  3152,  1012,  1026,  7987,  1013,  1028,  1026,  7987,  1013,\n",
              "          1028,  1045,  2079,  4012,  3549,  2094,  1996, 16587,  2005,  1996,\n",
              "          2755,  2008,  2151,  3348,  3491,  1999,  1996,  2143,  2003,  3491,\n",
              "          2005,  6018,  5682,  2738,  2084,  2074,  2000,  5213,  2111,  1998,\n",
              "          2191,  2769,  2000,  2022,  3491,  1999, 26932, 12370,  1999,  2637,\n",
              "          1012,  1045,  2572,  8025,  1011,  3756,  2003,  1037,  2204,  2143,\n",
              "          2005,  3087,  5782,  2000,  2817,  1996,  6240,  1998, 14629,  1006,\n",
              "          2053, 26136,  3832,  1007,  1997,  4467,  5988,  1012,  2021,  2428,\n",
              "          1010,  2023,  2143,  2987,  1005,  1056,  2031,  2172,  1997,  1037,\n",
              "          5436,  1012,   102,     0,     0,     0,     0,     0,     0,     0,\n",
              "             0,     0,     0,     0,     0,     0,     0,     0,     0,     0,\n",
              "             0,     0,     0,     0,     0,     0,     0,     0,     0,     0,\n",
              "             0,     0,     0,     0,     0,     0,     0,     0,     0,     0,\n",
              "             0,     0,     0,     0,     0,     0,     0,     0,     0,     0,\n",
              "             0,     0,     0,     0,     0,     0,     0,     0,     0,     0,\n",
              "             0,     0,     0,     0,     0,     0,     0,     0,     0,     0,\n",
              "             0,     0,     0,     0,     0,     0,     0,     0,     0,     0,\n",
              "             0,     0,     0,     0,     0,     0,     0,     0,     0,     0,\n",
              "             0,     0,     0,     0,     0,     0,     0,     0,     0,     0,\n",
              "             0,     0,     0,     0,     0,     0,     0,     0,     0,     0,\n",
              "             0,     0,     0,     0,     0,     0,     0,     0,     0,     0,\n",
              "             0,     0,     0,     0,     0,     0,     0,     0,     0,     0,\n",
              "             0,     0,     0,     0,     0,     0,     0,     0,     0,     0,\n",
              "             0,     0,     0,     0,     0,     0,     0,     0,     0,     0,\n",
              "             0,     0]),\n",
              " 'attention_mask': tensor([1, 1, 1, 1, 1, 1, 1, 1, 1, 1, 1, 1, 1, 1, 1, 1, 1, 1, 1, 1, 1, 1, 1, 1,\n",
              "         1, 1, 1, 1, 1, 1, 1, 1, 1, 1, 1, 1, 1, 1, 1, 1, 1, 1, 1, 1, 1, 1, 1, 1,\n",
              "         1, 1, 1, 1, 1, 1, 1, 1, 1, 1, 1, 1, 1, 1, 1, 1, 1, 1, 1, 1, 1, 1, 1, 1,\n",
              "         1, 1, 1, 1, 1, 1, 1, 1, 1, 1, 1, 1, 1, 1, 1, 1, 1, 1, 1, 1, 1, 1, 1, 1,\n",
              "         1, 1, 1, 1, 1, 1, 1, 1, 1, 1, 1, 1, 1, 1, 1, 1, 1, 1, 1, 1, 1, 1, 1, 1,\n",
              "         1, 1, 1, 1, 1, 1, 1, 1, 1, 1, 1, 1, 1, 1, 1, 1, 1, 1, 1, 1, 1, 1, 1, 1,\n",
              "         1, 1, 1, 1, 1, 1, 1, 1, 1, 1, 1, 1, 1, 1, 1, 1, 1, 1, 1, 1, 1, 1, 1, 1,\n",
              "         1, 1, 1, 1, 1, 1, 1, 1, 1, 1, 1, 1, 1, 1, 1, 1, 1, 1, 1, 1, 1, 1, 1, 1,\n",
              "         1, 1, 1, 1, 1, 1, 1, 1, 1, 1, 1, 1, 1, 1, 1, 1, 1, 1, 1, 1, 1, 1, 1, 1,\n",
              "         1, 1, 1, 1, 1, 1, 1, 1, 1, 1, 1, 1, 1, 1, 1, 1, 1, 1, 1, 1, 1, 1, 1, 1,\n",
              "         1, 1, 1, 1, 1, 1, 1, 1, 1, 1, 1, 1, 1, 1, 1, 1, 1, 1, 1, 1, 1, 1, 1, 1,\n",
              "         1, 1, 1, 1, 1, 1, 1, 1, 1, 1, 1, 1, 1, 1, 1, 1, 1, 1, 1, 1, 1, 1, 1, 1,\n",
              "         1, 1, 1, 1, 1, 1, 1, 1, 1, 1, 1, 1, 1, 1, 1, 1, 1, 1, 1, 1, 1, 1, 1, 1,\n",
              "         1, 1, 1, 1, 1, 1, 1, 1, 1, 1, 1, 1, 1, 1, 1, 1, 1, 1, 1, 1, 1, 1, 1, 1,\n",
              "         1, 1, 1, 1, 1, 1, 1, 1, 1, 1, 1, 1, 1, 1, 1, 1, 1, 1, 1, 1, 1, 1, 1, 1,\n",
              "         1, 1, 1, 0, 0, 0, 0, 0, 0, 0, 0, 0, 0, 0, 0, 0, 0, 0, 0, 0, 0, 0, 0, 0,\n",
              "         0, 0, 0, 0, 0, 0, 0, 0, 0, 0, 0, 0, 0, 0, 0, 0, 0, 0, 0, 0, 0, 0, 0, 0,\n",
              "         0, 0, 0, 0, 0, 0, 0, 0, 0, 0, 0, 0, 0, 0, 0, 0, 0, 0, 0, 0, 0, 0, 0, 0,\n",
              "         0, 0, 0, 0, 0, 0, 0, 0, 0, 0, 0, 0, 0, 0, 0, 0, 0, 0, 0, 0, 0, 0, 0, 0,\n",
              "         0, 0, 0, 0, 0, 0, 0, 0, 0, 0, 0, 0, 0, 0, 0, 0, 0, 0, 0, 0, 0, 0, 0, 0,\n",
              "         0, 0, 0, 0, 0, 0, 0, 0, 0, 0, 0, 0, 0, 0, 0, 0, 0, 0, 0, 0, 0, 0, 0, 0,\n",
              "         0, 0, 0, 0, 0, 0, 0, 0]),\n",
              " 'label': tensor(0)}"
            ]
          },
          "execution_count": 21,
          "metadata": {},
          "output_type": "execute_result"
        }
      ],
      "source": [
        "train_dataset[0]"
      ]
    },
    {
      "cell_type": "code",
      "execution_count": null,
      "metadata": {
        "id": "9ahlEj0sJsEI"
      },
      "outputs": [],
      "source": [
        "train_data_loader = create_data_loader(train_dataset, BATCH_SIZE)\n",
        "test_data_loader = create_data_loader(test_dataset, BATCH_SIZE)"
      ]
    },
    {
      "cell_type": "markdown",
      "metadata": {
        "id": "RD97VtPcNdC_"
      },
      "source": [
        "## <font color=\"chillipepper\">Modèle Pytorch </font>"
      ]
    },
    {
      "cell_type": "markdown",
      "metadata": {
        "id": "qF4blpD7N1J8"
      },
      "source": [
        "Notre objectif est de définir un modèle d'apprentissage profond, de l'entraîner, de faire des prédictions avec et de l'évaluer.\n",
        "\n",
        "Avec PyTorch, cela signifie faire les trois \"scripts\" suivants :\n",
        "\n",
        "1. **Définir le modèle**\n",
        "2. **Implémenter la prédiction**\n",
        "3. **Implémenter la boucle d'entraînement**\n",
        "    - Définir une fonction de perte\n",
        "    - Définir un optimiseur\n",
        "    - Boucle :\n",
        "        - Passage avant (forward pass)\n",
        "        - Passage arrière (backward pass)\n",
        "        - Appliquer la règle de mise à jour de l'optimisation\n",
        "4. **Évaluer le modèle / jouer avec**\n",
        "    - Vous pouvez utiliser le critère d'entraînement (perte) comme score d'évaluation\n",
        "    - Vous pouvez utiliser un autre score : précision (accuracy), F1"
      ]
    },
    {
      "cell_type": "markdown",
      "metadata": {
        "id": "mZi8dRk-OLk_"
      },
      "source": [
        "### <font color=\"chillipepper\">1. Definissons le modèle</font>\n",
        "\n",
        "Les modèles PyTorch suivent toujours le même modèle :\n",
        "\n",
        "- une classe\n",
        "- définition de toutes les couches (ou paramètres) dans `__init__()`\n",
        "- définition du passage avant dans `forward()`\n",
        "\n",
        "Voyons à quoi cela ressemble avec un modèle simple à 2 couches.\n",
        "\n",
        "Toutes les couches triviales de réseaux neuronaux peuvent généralement être trouvées dans torch.nn.\n",
        "\n",
        "**Attention** : Tous vos modules paramétrés (couches ou vecteurs entraînables) doivent être définis comme des attributs *directs* de votre classe ```nn.Module``` afin que l'appel à ```.backward()``` puisse correctement propager les gradients à travers tout. Pour définir des couches dans un attribut de liste (resp. attributs de dictionnaire), utilisez ```ModuleList``` (resp. ```ModuleDict```)."
      ]
    },
    {
      "cell_type": "markdown",
      "metadata": {
        "id": "tZv3Ja26Oea3"
      },
      "source": [
        "![image.png](data:image/png;base64,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)\n"
      ]
    },
    {
      "cell_type": "code",
      "execution_count": null,
      "metadata": {
        "id": "yXOig0QMURLp"
      },
      "outputs": [],
      "source": [
        "import torch\n",
        "from torch.optim import AdamW\n",
        "from torch.nn import CrossEntropyLoss\n",
        "from tqdm import tqdm\n",
        "import torch.nn as nn\n",
        "from torchinfo import summary"
      ]
    },
    {
      "cell_type": "code",
      "execution_count": null,
      "metadata": {
        "id": "rHhY1pDsNflV"
      },
      "outputs": [],
      "source": [
        "\n",
        "\n",
        "class MinimalExampleModel(nn.Module):\n",
        "    def __init__(self, D_in, H, D_out):\n",
        "        \"\"\"\n",
        "        Dans le constructeur, nous instancions deux modules nn.Linear et les assignons\n",
        "        comme variables membres.\n",
        "        \"\"\"\n",
        "        super(MinimalExampleModel, self).__init__()\n",
        "        # définir une première couche linéaire avec une dimension d'entrée (D_in) et une dimension cachée (H)\n",
        "        # documentation de la couche linéaire : https://pytorch.org/docs/stable/generated/torch.nn.Linear.html#torch.nn.Linear\n",
        "        self.linear1 = nn.Linear(D_in, H, bias=True)\n",
        "        # définir la couche linéaire finale, souvent appelée couche de classification car la dimension de sortie (D_out) == le nombre de classes cibles\n",
        "        self.linear2 = nn.Linear(H, D_out, bias=True)\n",
        "\n",
        "    def forward(self, x):\n",
        "        \"\"\"\n",
        "        Dans la fonction forward, nous acceptons un tenseur de données d'entrée et nous devons retourner\n",
        "        un tenseur de données de sortie. Nous pouvons utiliser les modules définis dans le constructeur ainsi que des opérateurs arbitraires sur les tenseurs.\n",
        "        \"\"\"\n",
        "        # appliquer d'abord la couche linear1 sur le vecteur et l'encapsuler avec une fonction d'activation pour la non-linéarisation. Cela crée une couche dense.\n",
        "        # documentation de relu : https://pytorch.org/docs/stable/generated/torch.nn.ReLU.html#torch.nn.ReLU\n",
        "        h_relu = torch.relu(self.linear1(x))\n",
        "        y_pred = self.linear2(h_relu)\n",
        "        return y_pred"
      ]
    },
    {
      "cell_type": "markdown",
      "metadata": {
        "id": "W9Rm293TPTCP"
      },
      "source": [
        "### <font color=\"chillipepper\">2. Forward pass</font>\n",
        "1. Initialiser le modèle\n",
        "2. mettre des données en entrée\n",
        "3. calculer la foward pass"
      ]
    },
    {
      "cell_type": "code",
      "execution_count": null,
      "metadata": {
        "colab": {
          "base_uri": "https://localhost:8080/"
        },
        "id": "f87wkcwvPZPF",
        "outputId": "1d9ece8f-526e-4802-bccf-bccb8ed4c76f"
      },
      "outputs": [
        {
          "data": {
            "text/plain": [
              "MinimalExampleModel(\n",
              "  (linear1): Linear(in_features=10, out_features=10, bias=True)\n",
              "  (linear2): Linear(in_features=10, out_features=2, bias=True)\n",
              ")"
            ]
          },
          "execution_count": 25,
          "metadata": {},
          "output_type": "execute_result"
        }
      ],
      "source": [
        "# instanciating the model with\n",
        "# N:      batch size\n",
        "# D_in:   input dimension\n",
        "# H:      hidden dimension\n",
        "# D_out:  output dimension\n",
        "N, D_in, H, D_out = 2, 10, 10, 2\n",
        "\n",
        "\n",
        "# Note: tous les paramètres sont initialisés ici\n",
        "model = MinimalExampleModel(D_in, H, D_out)\n",
        "# visualisons le contenu\n",
        "model"
      ]
    },
    {
      "cell_type": "code",
      "execution_count": null,
      "metadata": {
        "colab": {
          "base_uri": "https://localhost:8080/"
        },
        "id": "IXhsjfOCPoNU",
        "outputId": "eeb0d695-f1ac-44fc-d901-d2d165f7c97d"
      },
      "outputs": [
        {
          "data": {
            "text/plain": [
              "==========================================================================================\n",
              "Layer (type:depth-idx)                   Output Shape              Param #\n",
              "==========================================================================================\n",
              "MinimalExampleModel                      [2, 2]                    --\n",
              "├─Linear: 1-1                            [2, 10]                   110\n",
              "├─Linear: 1-2                            [2, 2]                    22\n",
              "==========================================================================================\n",
              "Total params: 132\n",
              "Trainable params: 132\n",
              "Non-trainable params: 0\n",
              "Total mult-adds (M): 0.00\n",
              "==========================================================================================\n",
              "Input size (MB): 0.00\n",
              "Forward/backward pass size (MB): 0.00\n",
              "Params size (MB): 0.00\n",
              "Estimated Total Size (MB): 0.00\n",
              "=========================================================================================="
            ]
          },
          "execution_count": 26,
          "metadata": {},
          "output_type": "execute_result"
        }
      ],
      "source": [
        "# utilisons torch infos pour mieux comprendre le contenu du modèle: https://github.com/TylerYep/torchinfo\n",
        "\n",
        "dummy_input_size = (1, 10) # (batch_size, D_in)\n",
        "summary(model, (N, D_in))"
      ]
    },
    {
      "cell_type": "code",
      "execution_count": null,
      "metadata": {
        "colab": {
          "base_uri": "https://localhost:8080/"
        },
        "id": "MDXD1UeDQEmj",
        "outputId": "e2c95f41-1c7b-4717-a198-155a65a21a25"
      },
      "outputs": [
        {
          "name": "stdout",
          "output_type": "stream",
          "text": [
            "DEVICE =  CPU\n"
          ]
        },
        {
          "data": {
            "text/plain": [
              "tensor([[ 0.3060, -0.0449],\n",
              "        [ 0.1256,  0.2465]], grad_fn=<AddmmBackward0>)"
            ]
          },
          "execution_count": 27,
          "metadata": {},
          "output_type": "execute_result"
        }
      ],
      "source": [
        "# Avant de passer à l'entrainement, faisons un test rapide de notre modèle\n",
        "x = torch.randn(N, D_in)\n",
        "y = torch.randn(N, D_out)\n",
        "\n",
        "# vérifier si un accélerateur est disponible\n",
        "if torch.cuda.is_available():\n",
        "  device = 'cuda'\n",
        "  print('DEVICE = ', colored(torch.cuda.get_device_name(0), \"green\" ) )\n",
        "else:\n",
        "  device = 'cpu'\n",
        "  print('DEVICE = ', colored('CPU', \"blue\"))\n",
        "model = model.to(device)\n",
        "\n",
        "#model = MyModel(D_in, H, D_out)\n",
        "# forward pass / predict x\n",
        "y_pred = model(x.to(device)) # almost equivalent to model.forward(x)\n",
        "# y_pred\n",
        "y_pred"
      ]
    },
    {
      "cell_type": "markdown",
      "metadata": {
        "id": "J3TsI7F9QrWX"
      },
      "source": [
        "### <font color=\"chillipepper\">3. Notre premier modèle de classification</font>"
      ]
    },
    {
      "cell_type": "code",
      "execution_count": null,
      "metadata": {
        "id": "0lcE8mvzQEiS"
      },
      "outputs": [],
      "source": [
        "class TweetModel(nn.Module):\n",
        "    def __init__(self, vocab_size, hidden_dim, output_dim, embed_dim):\n",
        "        \"\"\"\n",
        "        Dans le constructeur, nous instancions deux modules nn.Linear et les assignons\n",
        "        comme variables membres.\n",
        "        \"\"\"\n",
        "        super(TweetModel, self).__init__()\n",
        "        self.embedding = nn.Embedding(vocab_size, embed_dim)\n",
        "        self.hidden_linear_layer = nn.Linear(embed_dim, hidden_dim, bias=True)\n",
        "        self.classification_layer = nn.Linear(hidden_dim, output_dim, bias=True)\n",
        "        # couche softmax pour calculer les probabilités des classes\n",
        "        # https://pytorch.org/docs/stable/generated/torch.nn.Softmax.html?highlight=softmax#torch.nn.Softmax\n",
        "        self.softmax = nn.Softmax(dim=1)\n",
        "\n",
        "    def forward(self, x):\n",
        "        \"\"\"\n",
        "        Dans la fonction forward, nous acceptons un tenseur de données d'entrée et nous devons retourner\n",
        "        un tenseur de données de sortie. Nous pouvons utiliser les modules définis dans le constructeur ainsi que des opérateurs arbitraires sur les tenseurs.\n",
        "        \"\"\"\n",
        "        # appliquer les embeddings pré-entraînés\n",
        "        x = self.embedding(x)\n",
        "        x = x.mean(1)\n",
        "        h = torch.relu(self.hidden_linear_layer(x))\n",
        "        h = self.classification_layer(h)\n",
        "        logits = self.softmax(h)\n",
        "        return logits"
      ]
    },
    {
      "cell_type": "code",
      "execution_count": null,
      "metadata": {
        "id": "A547KAjIUAwM"
      },
      "outputs": [],
      "source": [
        "vocab_size = tokenizer.vocab_size\n",
        "embed_dim = 128\n",
        "hidden_dim = 128\n",
        "output_dim = 2\n",
        "lr = 2e-5\n",
        "n_epoch = 5\n",
        "\n",
        "model = TweetModel(vocab_size, embed_dim, hidden_dim, output_dim)"
      ]
    },
    {
      "cell_type": "code",
      "execution_count": null,
      "metadata": {
        "id": "kSHdZJkeRTTB"
      },
      "outputs": [],
      "source": [
        "\n",
        "\n",
        "device = torch.device(\"cuda\" if torch.cuda.is_available() else \"cpu\")\n",
        "model = model.to(device)"
      ]
    },
    {
      "cell_type": "code",
      "execution_count": null,
      "metadata": {
        "id": "_gBy9MWERxdS"
      },
      "outputs": [],
      "source": [
        "optimizer = AdamW(model.parameters(), lr=lr)\n",
        "# https://pytorch.org/docs/stable/generated/torch.nn.CrossEntropyLoss.html#torch.nn.CrossEntropyLoss\n",
        "loss_fn = CrossEntropyLoss()\n"
      ]
    },
    {
      "cell_type": "markdown",
      "metadata": {
        "id": "sCs5-N9pWXd3"
      },
      "source": [
        "### <font color=\"chillipepper\">4. Boucle d'entraînement </font>\n",
        "\n",
        "- **Critère** :\n",
        "\n",
        "Un modèle est entraîné par rapport à un _critère d'entraînement_ ou une _perte_.   \n",
        "PyTorch fournit de nombreuses pertes pré-codées différentes :\n",
        "    - Erreur quadratique moyenne (Mean-Square Error)\n",
        "    - Entropie croisée catégorielle (Categorical Cross-Entropy), ...\n",
        "\n",
        "La plupart d'entre elles peuvent être trouvées dans torch.nn.\n",
        "\n",
        "- **Optimiseur** :\n",
        "\n",
        "Dans PyTorch, comme dans tout framework d'apprentissage profond (par exemple TensorFlow), les modèles sont entraînés avec la rétropropagation. La rétropropagation consiste à appliquer la descente de gradient stochastique (SGD) à un réseau de neurones. Il existe une large gamme de variantes autour de la forme simple de la SGD.\n",
        "\n",
        "PyTorch fournit des objets prédéfinis pour de nombreuses formes différentes d'algorithmes de descente de gradient dans torch.optim :\n",
        "- SGD\n",
        "- Adadelta\n",
        "- Adam\n",
        "\n",
        "Dans ce notebook, nous utilisons ce dernier, en raison de sa convergence généralement plus rapide.\n",
        "\n",
        "Votre optimiseur sera instancié avec sa configuration (par exemple, le *step_size* ou *learning_rate* pour SGD), et les paramètres du réseau.\n",
        "\n",
        "Aperçu de tous les algorithmes basés sur la descente de gradient : https://ruder.io/optimizing-gradient-descent/\n",
        "\n",
        "- **Boucle d'entraînement** :\n",
        "    - Passage avant (forward pass) pour obtenir la prédiction et la valeur de la perte\n",
        "    - `zero_grad` : Réinitialiser la valeur du gradient à zéro pour tous les paramètres avant d'ajouter leurs nouvelles valeurs rétropropagées (cette étape est cruciale !)\n",
        "    - Calculer la valeur des gradients avec `loss.backward()`\n",
        "    - Mettre à jour tous les paramètres du modèle avec `optimizer.step()`\n",
        "\n",
        "L'ordre de ces étapes ne doit **PAS** être modifié !"
      ]
    },
    {
      "cell_type": "code",
      "execution_count": null,
      "metadata": {
        "id": "M3k73XQVUfzi"
      },
      "outputs": [],
      "source": [
        "def train_epoch(model, data_loader, loss_fn, optimizer, device, n_examples):\n",
        "    model = model.train()\n",
        "    losses = []\n",
        "    correct_predictions = 0\n",
        "\n",
        "    for d in tqdm(data_loader):\n",
        "        input_ids = d['input_ids'].to(device) # Le modèle et les données doivent être au même accélerateur\n",
        "        attention_mask = d['attention_mask'].to(device)\n",
        "        labels = d['label'].to(device)\n",
        "\n",
        "        outputs = model(input_ids)\n",
        "        _, preds = torch.max(outputs, dim=1)\n",
        "        loss = loss_fn(outputs, labels)\n",
        "\n",
        "        correct_predictions += torch.sum(preds == labels)\n",
        "        losses.append(loss.item())\n",
        "\n",
        "        loss.backward()\n",
        "        optimizer.step()\n",
        "        optimizer.zero_grad()\n",
        "\n",
        "    return correct_predictions.double() / n_examples, np.mean(losses)"
      ]
    },
    {
      "cell_type": "code",
      "execution_count": null,
      "metadata": {
        "colab": {
          "base_uri": "https://localhost:8080/"
        },
        "id": "5Nrj96egUxlf",
        "outputId": "f8991fee-d26c-4ddb-84ea-bd3a973508df"
      },
      "outputs": [
        {
          "name": "stderr",
          "output_type": "stream",
          "text": [
            "100%|██████████| 1563/1563 [01:02<00:00, 25.03it/s]\n"
          ]
        },
        {
          "name": "stdout",
          "output_type": "stream",
          "text": [
            "Epoch 1/5\n",
            "Train loss 4.82103646815929 accuracy 0.41016\n"
          ]
        },
        {
          "name": "stderr",
          "output_type": "stream",
          "text": [
            "100%|██████████| 1563/1563 [01:00<00:00, 25.85it/s]\n"
          ]
        },
        {
          "name": "stdout",
          "output_type": "stream",
          "text": [
            "Epoch 2/5\n",
            "Train loss 4.53238438980288 accuracy 0.49976\n"
          ]
        },
        {
          "name": "stderr",
          "output_type": "stream",
          "text": [
            "100%|██████████| 1563/1563 [00:59<00:00, 26.17it/s]\n"
          ]
        },
        {
          "name": "stdout",
          "output_type": "stream",
          "text": [
            "Epoch 3/5\n",
            "Train loss 4.394180465644548 accuracy 0.49988\n"
          ]
        },
        {
          "name": "stderr",
          "output_type": "stream",
          "text": [
            "100%|██████████| 1563/1563 [00:58<00:00, 26.78it/s]\n"
          ]
        },
        {
          "name": "stdout",
          "output_type": "stream",
          "text": [
            "Epoch 4/5\n",
            "Train loss 4.373527189744106 accuracy 0.50004\n"
          ]
        },
        {
          "name": "stderr",
          "output_type": "stream",
          "text": [
            "100%|██████████| 1563/1563 [00:58<00:00, 26.79it/s]"
          ]
        },
        {
          "name": "stdout",
          "output_type": "stream",
          "text": [
            "Epoch 5/5\n",
            "Train loss 4.367134138474614 accuracy 0.50004\n"
          ]
        },
        {
          "name": "stderr",
          "output_type": "stream",
          "text": [
            "\n"
          ]
        }
      ],
      "source": [
        "for epoch in range(n_epoch):\n",
        "    train_acc, train_loss = train_epoch(\n",
        "        model,\n",
        "        train_data_loader,\n",
        "        loss_fn,\n",
        "        optimizer,\n",
        "        device,\n",
        "        len(train_dataset)\n",
        "    )\n",
        "    print(f'Epoch {epoch + 1}/{n_epoch}')\n",
        "    print(f'Train loss {train_loss} accuracy {train_acc}')"
      ]
    },
    {
      "cell_type": "markdown",
      "metadata": {
        "id": "zvy2TnHIYXGV"
      },
      "source": [
        "### <font color=\"chillipepper\">4. Evaluation du modèle </font>"
      ]
    },
    {
      "cell_type": "code",
      "execution_count": null,
      "metadata": {
        "id": "tuTHFCNIUxiQ"
      },
      "outputs": [],
      "source": [
        "from sklearn.metrics import accuracy_score\n",
        "\n",
        "def evaluate_model(model, data_loader, device):\n",
        "    model = model.eval()\n",
        "    predictions = []\n",
        "    real_values = []\n",
        "\n",
        "    with torch.no_grad():\n",
        "        for d in data_loader:\n",
        "            input_ids = d['input_ids'].to(device)\n",
        "            attention_mask = d['attention_mask'].to(device)\n",
        "            labels = d['label'].to(device)\n",
        "\n",
        "            outputs = model(input_ids)\n",
        "            _, preds = torch.max(outputs, dim=1)\n",
        "\n",
        "            predictions.extend(preds)\n",
        "            real_values.extend(labels)\n",
        "\n",
        "    predictions = torch.stack(predictions).cpu()\n",
        "    real_values = torch.stack(real_values).cpu()\n",
        "    return accuracy_score(real_values, predictions)"
      ]
    },
    {
      "cell_type": "code",
      "execution_count": null,
      "metadata": {
        "colab": {
          "base_uri": "https://localhost:8080/"
        },
        "id": "z2yqUDSVYTp7",
        "outputId": "36b5e4e6-a59f-4cb4-ed3e-fabc074597d5"
      },
      "outputs": [
        {
          "name": "stdout",
          "output_type": "stream",
          "text": [
            "Test Accuracy: 0.49996\n"
          ]
        }
      ],
      "source": [
        "test_accuracy = evaluate_model(model, test_data_loader, device)\n",
        "print(f'Test Accuracy: {test_accuracy}')"
      ]
    },
    {
      "cell_type": "markdown",
      "metadata": {
        "id": "X-xXF7NAaQX4"
      },
      "source": [
        "### <font color=\"chillipepper\">5. Améliorons les résultats </font>\n",
        "\n",
        "Un modèle aléaatoire fait mieux que le modèle précédent. Nous allons utiliser un modèle pré-entrainer pour améliorer ces résultats.\n",
        "\n",
        "Pour ce faire, nous allons utiliser les classes de huggingface pour effectuer l'entrainement."
      ]
    },
    {
      "cell_type": "code",
      "execution_count": null,
      "metadata": {
        "colab": {
          "base_uri": "https://localhost:8080/"
        },
        "id": "4Svk7RK0aKx3",
        "outputId": "fcc28cd6-70d1-4230-ded5-7ab8baa0deab"
      },
      "outputs": [
        {
          "name": "stderr",
          "output_type": "stream",
          "text": [
            "Some weights of DistilBertForSequenceClassification were not initialized from the model checkpoint at distilbert-base-uncased and are newly initialized: ['classifier.bias', 'classifier.weight', 'pre_classifier.bias', 'pre_classifier.weight']\n",
            "You should probably TRAIN this model on a down-stream task to be able to use it for predictions and inference.\n"
          ]
        }
      ],
      "source": [
        "from transformers import AutoModelForSequenceClassification\n",
        "# Initialisation du modèle\n",
        "num_labels = 2\n",
        "model_ckpt = \"distilbert-base-uncased\"\n",
        "model = (AutoModelForSequenceClassification\n",
        "         .from_pretrained(model_ckpt, num_labels=num_labels)\n",
        "         .to(device))"
      ]
    },
    {
      "cell_type": "code",
      "execution_count": null,
      "metadata": {
        "id": "SL3MLgoYaKh2"
      },
      "outputs": [],
      "source": [
        "from sklearn.metrics import accuracy_score, f1_score\n",
        "\n",
        "def compute_metrics(pred):\n",
        "    labels = pred.label_ids\n",
        "    preds = pred.predictions.argmax(-1)\n",
        "    f1 = f1_score(labels, preds, average=\"weighted\")\n",
        "    acc = accuracy_score(labels, preds)\n",
        "    return {\"accuracy\": acc, \"f1\": f1}"
      ]
    },
    {
      "cell_type": "code",
      "execution_count": null,
      "metadata": {
        "colab": {
          "base_uri": "https://localhost:8080/",
          "height": 49,
          "referenced_widgets": [
            "1e9ab7b76b594d7cbd0b400cc4e19a5f",
            "811114bd979c420d995e9fb72ec2e5c7",
            "61c4d211d26d499fb7911c9309b42deb",
            "8c9aac3cd11842348682cfff5b227dcf",
            "8e5b7e8170004705915a5b14bbe3419d",
            "1058c272784d4cc5bcdae9c2e6674193",
            "6c37b01bd1ad430886b0e3d80418757d",
            "4b3ae9fbe6704b749eab9950de7c53ca",
            "85d15e7f7f7e42e6be68714f6aa27680",
            "27e527a11c5f405fae94ea48dca9a13f",
            "8f4881b0887748b1875aab289e265b08"
          ]
        },
        "id": "d9qe5z4HaKcp",
        "outputId": "e2f4f264-ec77-45f5-bd03-798f3e6bea5d"
      },
      "outputs": [
        {
          "data": {
            "application/vnd.jupyter.widget-view+json": {
              "model_id": "1e9ab7b76b594d7cbd0b400cc4e19a5f",
              "version_major": 2,
              "version_minor": 0
            },
            "text/plain": [
              "Map:   0%|          | 0/25000 [00:00<?, ? examples/s]"
            ]
          },
          "metadata": {},
          "output_type": "display_data"
        }
      ],
      "source": [
        "def tokenize(batch):\n",
        "    return tokenizer(batch[\"text\"], padding=True, truncation=True)\n",
        "\n",
        "# Tokenize the dataset\n",
        "tokenized_dataset = data.map(tokenize, batched=True, batch_size=None)"
      ]
    },
    {
      "cell_type": "code",
      "execution_count": null,
      "metadata": {
        "colab": {
          "base_uri": "https://localhost:8080/"
        },
        "id": "fUiJbfuLboqA",
        "outputId": "c87fea37-4ae3-408c-cb03-4a078fc1c174"
      },
      "outputs": [
        {
          "name": "stdout",
          "output_type": "stream",
          "text": [
            "['text', 'label', 'input_ids', 'attention_mask']\n"
          ]
        }
      ],
      "source": [
        "print(tokenized_dataset[\"train\"].column_names)\n"
      ]
    },
    {
      "cell_type": "code",
      "execution_count": null,
      "metadata": {
        "colab": {
          "base_uri": "https://localhost:8080/"
        },
        "id": "RSyZvQjNb2dC",
        "outputId": "82670b15-20dd-4bb2-ab69-82598827ffb9"
      },
      "outputs": [
        {
          "name": "stderr",
          "output_type": "stream",
          "text": [
            "/usr/local/lib/python3.10/dist-packages/transformers/training_args.py:1575: FutureWarning: `evaluation_strategy` is deprecated and will be removed in version 4.46 of 🤗 Transformers. Use `eval_strategy` instead\n",
            "  warnings.warn(\n"
          ]
        }
      ],
      "source": [
        "\n",
        "from transformers import Trainer, TrainingArguments\n",
        "\n",
        "batch_size = 16\n",
        "logging_steps = len(tokenized_dataset[\"train\"]) // batch_size\n",
        "model_name = f\"{model_ckpt}-finetuned-imdb\"\n",
        "training_args = TrainingArguments(\n",
        "                                  output_dir=model_name,\n",
        "                                  num_train_epochs=2,\n",
        "                                  learning_rate=2e-5,\n",
        "                                  per_device_train_batch_size=batch_size,\n",
        "                                  per_device_eval_batch_size=batch_size,\n",
        "                                  weight_decay=0.01,\n",
        "                                  evaluation_strategy=\"epoch\",\n",
        "                                  disable_tqdm=False,\n",
        "                                  logging_steps=logging_steps,\n",
        "                                  push_to_hub=False,\n",
        "                                  log_level=\"error\",\n",
        "                                  save_strategy=\"no\",\n",
        "                                report_to=\"none\")"
      ]
    },
    {
      "cell_type": "code",
      "execution_count": null,
      "metadata": {
        "colab": {
          "base_uri": "https://localhost:8080/"
        },
        "id": "zGyn1b8pb_1H",
        "outputId": "2f6578f7-4b33-41f7-dab6-0dd7f5b27dd6"
      },
      "outputs": [
        {
          "name": "stderr",
          "output_type": "stream",
          "text": [
            "<ipython-input-41-9acbcfa20f0c>:1: FutureWarning: `tokenizer` is deprecated and will be removed in version 5.0.0 for `Trainer.__init__`. Use `processing_class` instead.\n",
            "  trainer = Trainer(model=model, args=training_args,\n"
          ]
        }
      ],
      "source": [
        "trainer = Trainer(model=model, args=training_args,\n",
        "                  compute_metrics=compute_metrics,\n",
        "                  train_dataset=tokenized_dataset[\"train\"],\n",
        "                  eval_dataset=tokenized_dataset[\"test\"],\n",
        "                  tokenizer=tokenizer,\n",
        "                  )"
      ]
    },
    {
      "cell_type": "code",
      "execution_count": null,
      "metadata": {
        "colab": {
          "background_save": true,
          "base_uri": "https://localhost:8080/",
          "height": 133
        },
        "id": "r8zfP9skb_uq",
        "outputId": "4544865b-4639-490b-91c8-5ca0da942482"
      },
      "outputs": [
        {
          "data": {
            "text/html": [
              "\n",
              "    <div>\n",
              "      \n",
              "      <progress value='220' max='3126' style='width:300px; height:20px; vertical-align: middle;'></progress>\n",
              "      [ 220/3126 3:23:40 < 45:15:09, 0.02 it/s, Epoch 0.14/2]\n",
              "    </div>\n",
              "    <table border=\"1\" class=\"dataframe\">\n",
              "  <thead>\n",
              " <tr style=\"text-align: left;\">\n",
              "      <th>Epoch</th>\n",
              "      <th>Training Loss</th>\n",
              "      <th>Validation Loss</th>\n",
              "    </tr>\n",
              "  </thead>\n",
              "  <tbody>\n",
              "  </tbody>\n",
              "</table><p>"
            ],
            "text/plain": [
              "<IPython.core.display.HTML object>"
            ]
          },
          "metadata": {},
          "output_type": "display_data"
        },
        {
          "output_type": "display_data",
          "data": {
            "text/plain": [
              "<IPython.core.display.HTML object>"
            ],
            "text/html": [
              "\n",
              "    <div>\n",
              "      \n",
              "      <progress value='226' max='3126' style='width:300px; height:20px; vertical-align: middle;'></progress>\n",
              "      [ 226/3126 3:29:17 < 45:09:34, 0.02 it/s, Epoch 0.14/2]\n",
              "    </div>\n",
              "    <table border=\"1\" class=\"dataframe\">\n",
              "  <thead>\n",
              " <tr style=\"text-align: left;\">\n",
              "      <th>Epoch</th>\n",
              "      <th>Training Loss</th>\n",
              "      <th>Validation Loss</th>\n",
              "    </tr>\n",
              "  </thead>\n",
              "  <tbody>\n",
              "  </tbody>\n",
              "</table><p>"
            ]
          },
          "metadata": {}
        }
      ],
      "source": [
        "trainer.train();"
      ]
    },
    {
      "cell_type": "code",
      "execution_count": null,
      "metadata": {
        "id": "5DkRJtmOgwMo"
      },
      "outputs": [],
      "source": [
        "preds_output = trainer.predict(tokenized_dataset[\"test\"])\n",
        "\n",
        "preds_output.metrics"
      ]
    }
  ],
  "metadata": {
    "colab": {
      "provenance": []
    },
    "kernelspec": {
      "display_name": "Python 3",
      "name": "python3"
    },
    "language_info": {
      "name": "python"
    },
    "widgets": {
      "application/vnd.jupyter.widget-state+json": {
        "1058c272784d4cc5bcdae9c2e6674193": {
          "model_module": "@jupyter-widgets/base",
          "model_module_version": "1.2.0",
          "model_name": "LayoutModel",
          "state": {
            "_model_module": "@jupyter-widgets/base",
            "_model_module_version": "1.2.0",
            "_model_name": "LayoutModel",
            "_view_count": null,
            "_view_module": "@jupyter-widgets/base",
            "_view_module_version": "1.2.0",
            "_view_name": "LayoutView",
            "align_content": null,
            "align_items": null,
            "align_self": null,
            "border": null,
            "bottom": null,
            "display": null,
            "flex": null,
            "flex_flow": null,
            "grid_area": null,
            "grid_auto_columns": null,
            "grid_auto_flow": null,
            "grid_auto_rows": null,
            "grid_column": null,
            "grid_gap": null,
            "grid_row": null,
            "grid_template_areas": null,
            "grid_template_columns": null,
            "grid_template_rows": null,
            "height": null,
            "justify_content": null,
            "justify_items": null,
            "left": null,
            "margin": null,
            "max_height": null,
            "max_width": null,
            "min_height": null,
            "min_width": null,
            "object_fit": null,
            "object_position": null,
            "order": null,
            "overflow": null,
            "overflow_x": null,
            "overflow_y": null,
            "padding": null,
            "right": null,
            "top": null,
            "visibility": null,
            "width": null
          }
        },
        "1e9ab7b76b594d7cbd0b400cc4e19a5f": {
          "model_module": "@jupyter-widgets/controls",
          "model_module_version": "1.5.0",
          "model_name": "HBoxModel",
          "state": {
            "_dom_classes": [],
            "_model_module": "@jupyter-widgets/controls",
            "_model_module_version": "1.5.0",
            "_model_name": "HBoxModel",
            "_view_count": null,
            "_view_module": "@jupyter-widgets/controls",
            "_view_module_version": "1.5.0",
            "_view_name": "HBoxView",
            "box_style": "",
            "children": [
              "IPY_MODEL_811114bd979c420d995e9fb72ec2e5c7",
              "IPY_MODEL_61c4d211d26d499fb7911c9309b42deb",
              "IPY_MODEL_8c9aac3cd11842348682cfff5b227dcf"
            ],
            "layout": "IPY_MODEL_8e5b7e8170004705915a5b14bbe3419d"
          }
        },
        "27e527a11c5f405fae94ea48dca9a13f": {
          "model_module": "@jupyter-widgets/base",
          "model_module_version": "1.2.0",
          "model_name": "LayoutModel",
          "state": {
            "_model_module": "@jupyter-widgets/base",
            "_model_module_version": "1.2.0",
            "_model_name": "LayoutModel",
            "_view_count": null,
            "_view_module": "@jupyter-widgets/base",
            "_view_module_version": "1.2.0",
            "_view_name": "LayoutView",
            "align_content": null,
            "align_items": null,
            "align_self": null,
            "border": null,
            "bottom": null,
            "display": null,
            "flex": null,
            "flex_flow": null,
            "grid_area": null,
            "grid_auto_columns": null,
            "grid_auto_flow": null,
            "grid_auto_rows": null,
            "grid_column": null,
            "grid_gap": null,
            "grid_row": null,
            "grid_template_areas": null,
            "grid_template_columns": null,
            "grid_template_rows": null,
            "height": null,
            "justify_content": null,
            "justify_items": null,
            "left": null,
            "margin": null,
            "max_height": null,
            "max_width": null,
            "min_height": null,
            "min_width": null,
            "object_fit": null,
            "object_position": null,
            "order": null,
            "overflow": null,
            "overflow_x": null,
            "overflow_y": null,
            "padding": null,
            "right": null,
            "top": null,
            "visibility": null,
            "width": null
          }
        },
        "4b3ae9fbe6704b749eab9950de7c53ca": {
          "model_module": "@jupyter-widgets/base",
          "model_module_version": "1.2.0",
          "model_name": "LayoutModel",
          "state": {
            "_model_module": "@jupyter-widgets/base",
            "_model_module_version": "1.2.0",
            "_model_name": "LayoutModel",
            "_view_count": null,
            "_view_module": "@jupyter-widgets/base",
            "_view_module_version": "1.2.0",
            "_view_name": "LayoutView",
            "align_content": null,
            "align_items": null,
            "align_self": null,
            "border": null,
            "bottom": null,
            "display": null,
            "flex": null,
            "flex_flow": null,
            "grid_area": null,
            "grid_auto_columns": null,
            "grid_auto_flow": null,
            "grid_auto_rows": null,
            "grid_column": null,
            "grid_gap": null,
            "grid_row": null,
            "grid_template_areas": null,
            "grid_template_columns": null,
            "grid_template_rows": null,
            "height": null,
            "justify_content": null,
            "justify_items": null,
            "left": null,
            "margin": null,
            "max_height": null,
            "max_width": null,
            "min_height": null,
            "min_width": null,
            "object_fit": null,
            "object_position": null,
            "order": null,
            "overflow": null,
            "overflow_x": null,
            "overflow_y": null,
            "padding": null,
            "right": null,
            "top": null,
            "visibility": null,
            "width": null
          }
        },
        "61c4d211d26d499fb7911c9309b42deb": {
          "model_module": "@jupyter-widgets/controls",
          "model_module_version": "1.5.0",
          "model_name": "FloatProgressModel",
          "state": {
            "_dom_classes": [],
            "_model_module": "@jupyter-widgets/controls",
            "_model_module_version": "1.5.0",
            "_model_name": "FloatProgressModel",
            "_view_count": null,
            "_view_module": "@jupyter-widgets/controls",
            "_view_module_version": "1.5.0",
            "_view_name": "ProgressView",
            "bar_style": "success",
            "description": "",
            "description_tooltip": null,
            "layout": "IPY_MODEL_4b3ae9fbe6704b749eab9950de7c53ca",
            "max": 25000,
            "min": 0,
            "orientation": "horizontal",
            "style": "IPY_MODEL_85d15e7f7f7e42e6be68714f6aa27680",
            "value": 25000
          }
        },
        "6c37b01bd1ad430886b0e3d80418757d": {
          "model_module": "@jupyter-widgets/controls",
          "model_module_version": "1.5.0",
          "model_name": "DescriptionStyleModel",
          "state": {
            "_model_module": "@jupyter-widgets/controls",
            "_model_module_version": "1.5.0",
            "_model_name": "DescriptionStyleModel",
            "_view_count": null,
            "_view_module": "@jupyter-widgets/base",
            "_view_module_version": "1.2.0",
            "_view_name": "StyleView",
            "description_width": ""
          }
        },
        "811114bd979c420d995e9fb72ec2e5c7": {
          "model_module": "@jupyter-widgets/controls",
          "model_module_version": "1.5.0",
          "model_name": "HTMLModel",
          "state": {
            "_dom_classes": [],
            "_model_module": "@jupyter-widgets/controls",
            "_model_module_version": "1.5.0",
            "_model_name": "HTMLModel",
            "_view_count": null,
            "_view_module": "@jupyter-widgets/controls",
            "_view_module_version": "1.5.0",
            "_view_name": "HTMLView",
            "description": "",
            "description_tooltip": null,
            "layout": "IPY_MODEL_1058c272784d4cc5bcdae9c2e6674193",
            "placeholder": "​",
            "style": "IPY_MODEL_6c37b01bd1ad430886b0e3d80418757d",
            "value": "Map: 100%"
          }
        },
        "85d15e7f7f7e42e6be68714f6aa27680": {
          "model_module": "@jupyter-widgets/controls",
          "model_module_version": "1.5.0",
          "model_name": "ProgressStyleModel",
          "state": {
            "_model_module": "@jupyter-widgets/controls",
            "_model_module_version": "1.5.0",
            "_model_name": "ProgressStyleModel",
            "_view_count": null,
            "_view_module": "@jupyter-widgets/base",
            "_view_module_version": "1.2.0",
            "_view_name": "StyleView",
            "bar_color": null,
            "description_width": ""
          }
        },
        "8c9aac3cd11842348682cfff5b227dcf": {
          "model_module": "@jupyter-widgets/controls",
          "model_module_version": "1.5.0",
          "model_name": "HTMLModel",
          "state": {
            "_dom_classes": [],
            "_model_module": "@jupyter-widgets/controls",
            "_model_module_version": "1.5.0",
            "_model_name": "HTMLModel",
            "_view_count": null,
            "_view_module": "@jupyter-widgets/controls",
            "_view_module_version": "1.5.0",
            "_view_name": "HTMLView",
            "description": "",
            "description_tooltip": null,
            "layout": "IPY_MODEL_27e527a11c5f405fae94ea48dca9a13f",
            "placeholder": "​",
            "style": "IPY_MODEL_8f4881b0887748b1875aab289e265b08",
            "value": " 25000/25000 [00:32&lt;00:00, 780.04 examples/s]"
          }
        },
        "8e5b7e8170004705915a5b14bbe3419d": {
          "model_module": "@jupyter-widgets/base",
          "model_module_version": "1.2.0",
          "model_name": "LayoutModel",
          "state": {
            "_model_module": "@jupyter-widgets/base",
            "_model_module_version": "1.2.0",
            "_model_name": "LayoutModel",
            "_view_count": null,
            "_view_module": "@jupyter-widgets/base",
            "_view_module_version": "1.2.0",
            "_view_name": "LayoutView",
            "align_content": null,
            "align_items": null,
            "align_self": null,
            "border": null,
            "bottom": null,
            "display": null,
            "flex": null,
            "flex_flow": null,
            "grid_area": null,
            "grid_auto_columns": null,
            "grid_auto_flow": null,
            "grid_auto_rows": null,
            "grid_column": null,
            "grid_gap": null,
            "grid_row": null,
            "grid_template_areas": null,
            "grid_template_columns": null,
            "grid_template_rows": null,
            "height": null,
            "justify_content": null,
            "justify_items": null,
            "left": null,
            "margin": null,
            "max_height": null,
            "max_width": null,
            "min_height": null,
            "min_width": null,
            "object_fit": null,
            "object_position": null,
            "order": null,
            "overflow": null,
            "overflow_x": null,
            "overflow_y": null,
            "padding": null,
            "right": null,
            "top": null,
            "visibility": null,
            "width": null
          }
        },
        "8f4881b0887748b1875aab289e265b08": {
          "model_module": "@jupyter-widgets/controls",
          "model_module_version": "1.5.0",
          "model_name": "DescriptionStyleModel",
          "state": {
            "_model_module": "@jupyter-widgets/controls",
            "_model_module_version": "1.5.0",
            "_model_name": "DescriptionStyleModel",
            "_view_count": null,
            "_view_module": "@jupyter-widgets/base",
            "_view_module_version": "1.2.0",
            "_view_name": "StyleView",
            "description_width": ""
          }
        }
      }
    }
  },
  "nbformat": 4,
  "nbformat_minor": 0
}