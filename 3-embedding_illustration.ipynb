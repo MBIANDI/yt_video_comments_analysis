{
  "nbformat": 4,
  "nbformat_minor": 0,
  "metadata": {
    "colab": {
      "provenance": []
    },
    "kernelspec": {
      "name": "python3",
      "display_name": "Python 3"
    },
    "language_info": {
      "name": "python"
    }
  },
  "cells": [
    {
      "cell_type": "markdown",
      "source": [
        "# Wordnet"
      ],
      "metadata": {
        "id": "YblPb_GFIZkK"
      }
    },
    {
      "cell_type": "code",
      "source": [
        "import nltk\n",
        "nltk.download('wordnet')\n",
        "nltk.download('omw-1.4')"
      ],
      "metadata": {
        "colab": {
          "base_uri": "https://localhost:8080/"
        },
        "id": "QPzZKy1eIPab",
        "outputId": "2a8a04e3-725f-46b6-d801-028f6a1d4cd7"
      },
      "execution_count": null,
      "outputs": [
        {
          "output_type": "stream",
          "name": "stderr",
          "text": [
            "[nltk_data] Downloading package wordnet to /root/nltk_data...\n",
            "[nltk_data] Downloading package omw-1.4 to /root/nltk_data...\n"
          ]
        },
        {
          "output_type": "execute_result",
          "data": {
            "text/plain": [
              "True"
            ]
          },
          "metadata": {},
          "execution_count": 1
        }
      ]
    },
    {
      "cell_type": "code",
      "source": [
        "from nltk.corpus import wordnet as wn"
      ],
      "metadata": {
        "id": "mWoTcycMIVNx"
      },
      "execution_count": null,
      "outputs": []
    },
    {
      "cell_type": "code",
      "source": [
        "#liste des synsets pouvant contenir le mot dog\n",
        "wn.synsets('dog')"
      ],
      "metadata": {
        "colab": {
          "base_uri": "https://localhost:8080/"
        },
        "id": "TVaLsAvpIVIc",
        "outputId": "c6e38867-83cf-408a-83ba-6caf34423fb0"
      },
      "execution_count": null,
      "outputs": [
        {
          "output_type": "execute_result",
          "data": {
            "text/plain": [
              "[Synset('dog.n.01'),\n",
              " Synset('frump.n.01'),\n",
              " Synset('dog.n.03'),\n",
              " Synset('cad.n.01'),\n",
              " Synset('frank.n.02'),\n",
              " Synset('pawl.n.01'),\n",
              " Synset('andiron.n.01'),\n",
              " Synset('chase.v.01')]"
            ]
          },
          "metadata": {},
          "execution_count": 5
        }
      ]
    },
    {
      "cell_type": "code",
      "source": [
        "#liste des synsets pouvant contenir le mot cat\n",
        "wn.synsets(\"cat\")"
      ],
      "metadata": {
        "colab": {
          "base_uri": "https://localhost:8080/"
        },
        "id": "LhHu2vCsIkyK",
        "outputId": "5af93bfb-36cd-40cb-f25c-65368fb25523"
      },
      "execution_count": null,
      "outputs": [
        {
          "output_type": "execute_result",
          "data": {
            "text/plain": [
              "[Synset('cat.n.01'),\n",
              " Synset('guy.n.01'),\n",
              " Synset('cat.n.03'),\n",
              " Synset('kat.n.01'),\n",
              " Synset('cat-o'-nine-tails.n.01'),\n",
              " Synset('caterpillar.n.02'),\n",
              " Synset('big_cat.n.01'),\n",
              " Synset('computerized_tomography.n.01'),\n",
              " Synset('cat.v.01'),\n",
              " Synset('vomit.v.01')]"
            ]
          },
          "metadata": {},
          "execution_count": 6
        }
      ]
    },
    {
      "cell_type": "code",
      "source": [
        "#choix des synsets\n",
        "dog = wn.synset('dog.n.01')\n",
        "cat = wn.synset(\"cat.n.01\")"
      ],
      "metadata": {
        "id": "crxYM5ImIk4u"
      },
      "execution_count": null,
      "outputs": []
    },
    {
      "cell_type": "code",
      "source": [
        "# Similarity\n",
        "dog.path_similarity(cat)"
      ],
      "metadata": {
        "colab": {
          "base_uri": "https://localhost:8080/"
        },
        "id": "Rx2bWphXIlZR",
        "outputId": "b3bed6cd-4be7-45b4-bebf-bb38f8f3af1e"
      },
      "execution_count": null,
      "outputs": [
        {
          "output_type": "execute_result",
          "data": {
            "text/plain": [
              "0.07692307692307693"
            ]
          },
          "metadata": {},
          "execution_count": 12
        }
      ]
    },
    {
      "cell_type": "code",
      "source": [
        "print(dog.hypernyms())\n",
        "print(cat.hypernyms())"
      ],
      "metadata": {
        "colab": {
          "base_uri": "https://localhost:8080/"
        },
        "id": "PGbNCntgPQmK",
        "outputId": "6ec7df74-c42b-4954-b0b3-d822c6c0aa26"
      },
      "execution_count": null,
      "outputs": [
        {
          "output_type": "stream",
          "name": "stdout",
          "text": [
            "[Synset('canine.n.02'), Synset('domestic_animal.n.01')]\n",
            "[Synset('feline.n.01')]\n"
          ]
        }
      ]
    },
    {
      "cell_type": "code",
      "source": [
        "canine = wn.synset('canine.n.02')\n",
        "feline = wn.synset('feline.n.01')\n",
        "canine.hypernyms(), feline.hypernyms()"
      ],
      "metadata": {
        "colab": {
          "base_uri": "https://localhost:8080/"
        },
        "id": "FMBgriIjPQiq",
        "outputId": "ae15d5ae-2b57-4bdf-ca4f-b054895b11d5"
      },
      "execution_count": null,
      "outputs": [
        {
          "output_type": "execute_result",
          "data": {
            "text/plain": [
              "([Synset('carnivore.n.01')], [Synset('carnivore.n.01')])"
            ]
          },
          "metadata": {},
          "execution_count": 15
        }
      ]
    },
    {
      "cell_type": "code",
      "source": [
        "canine.path_similarity(feline)"
      ],
      "metadata": {
        "colab": {
          "base_uri": "https://localhost:8080/"
        },
        "id": "rRa4VnhEUzVN",
        "outputId": "a406b20d-ca65-46f8-98be-fa7328dd6890"
      },
      "execution_count": null,
      "outputs": [
        {
          "output_type": "execute_result",
          "data": {
            "text/plain": [
              "0.3333333333333333"
            ]
          },
          "metadata": {},
          "execution_count": 16
        }
      ]
    },
    {
      "cell_type": "markdown",
      "source": [
        "# Count-based representation"
      ],
      "metadata": {
        "id": "MSlDyyhMdIZk"
      }
    },
    {
      "cell_type": "code",
      "source": [
        "import numpy as np\n",
        "from numpy import dot\n",
        "from numpy.linalg import norm\n",
        "\n",
        "# exemple de co occurence\n",
        "dog = [3,  5,   2,   5,     3,   2 ,    9]\n",
        "lion = [0, 3,   2,   0,     1,   0,     5]\n",
        "car = [0,  0,   1,   3,     0,   0,     9]\n",
        "\n",
        "dog = np.array(dog)\n",
        "lion = np.array(lion)\n",
        "car =  np.array(car)\n",
        "\n",
        "def cosine(v1, v2):\n",
        "  \"\"\"\n",
        "  cosine similarity of two vectors\n",
        "  NB: Standard metric to measure similarity between word vectors\n",
        "  \"\"\"\n",
        "  return dot(v1, v2)/(norm(v1)*norm(v2))\n",
        "\n",
        "print(f'Similarité entre dog et lion {cosine(dog, lion)} ')\n",
        "print(f'Similarité entre dog et car {cosine(dog, car)} \\n')\n",
        "\n",
        "\n",
        "# Changeons les vecteurs avec d'autres occurences\n",
        "dog = [3,  5,   2,   5,     3,   2 ,    24]\n",
        "car = [0, 0, 1, 3, 0, 0,0]\n",
        "print(f'Nouvelle similarité dog et lion {cosine(dog, lion)}')\n",
        "print(f'Nouvelle similarité dog et car {cosine(dog, car)} \\n')\n",
        "print(f\"Qu'observez-vous? \\n\")\n"
      ],
      "metadata": {
        "colab": {
          "base_uri": "https://localhost:8080/"
        },
        "id": "iTvx3hrKdAli",
        "outputId": "af5b89e5-b2c7-43b4-96e3-414d61275197"
      },
      "execution_count": null,
      "outputs": [
        {
          "output_type": "stream",
          "name": "stdout",
          "text": [
            "Similarité entre dog et lion 0.8562344018852232 \n",
            "Similarité entre dog et car 0.8198899317865649 \n",
            "\n",
            "Nouvelle similarité dog et lion 0.8904965536163051\n",
            "Nouvelle similarité dog et car 0.21053539696267973 \n",
            "\n",
            "Qu'observez-vous? \n",
            "\n"
          ]
        }
      ]
    },
    {
      "cell_type": "markdown",
      "source": [
        "# Word2vec"
      ],
      "metadata": {
        "id": "IXUt4csfsI5m"
      }
    },
    {
      "cell_type": "code",
      "source": [
        "!git clone https://github.com/facebookresearch/fastText.git\n",
        "!pip install fastText/.\n",
        "# charger le modèle\n",
        "!wget https://dl.fbaipublicfiles.com/fasttext/vectors-wiki/wiki.en.zip\n",
        "!unzip wiki.en.zip\n",
        "import fasttext\n",
        "w2v = fasttext.load_model('wiki.en.bin')\n"
      ],
      "metadata": {
        "colab": {
          "base_uri": "https://localhost:8080/"
        },
        "id": "1kKCJ2TtdB65",
        "outputId": "1e18cf1f-73af-42ea-a5fc-3f9bd65afb19"
      },
      "execution_count": null,
      "outputs": [
        {
          "output_type": "stream",
          "name": "stdout",
          "text": [
            "Cloning into 'fastText'...\n",
            "remote: Enumerating objects: 3930, done.\u001b[K\n",
            "remote: Counting objects: 100% (943/943), done.\u001b[K\n",
            "remote: Compressing objects: 100% (137/137), done.\u001b[K\n",
            "remote: Total 3930 (delta 854), reused 806 (delta 806), pack-reused 2987\u001b[K\n",
            "Receiving objects: 100% (3930/3930), 8.24 MiB | 18.27 MiB/s, done.\n",
            "Resolving deltas: 100% (2505/2505), done.\n",
            "Looking in indexes: https://pypi.org/simple, https://us-python.pkg.dev/colab-wheels/public/simple/\n",
            "Processing ./fastText\n",
            "  Preparing metadata (setup.py) ... \u001b[?25l\u001b[?25hdone\n",
            "Collecting pybind11>=2.2\n",
            "  Using cached pybind11-2.10.3-py3-none-any.whl (222 kB)\n",
            "Requirement already satisfied: setuptools>=0.7.0 in /usr/local/lib/python3.9/dist-packages (from fasttext==0.9.2) (57.4.0)\n",
            "Requirement already satisfied: numpy in /usr/local/lib/python3.9/dist-packages (from fasttext==0.9.2) (1.22.4)\n",
            "Building wheels for collected packages: fasttext\n",
            "  Building wheel for fasttext (setup.py) ... \u001b[?25l\u001b[?25hdone\n",
            "  Created wheel for fasttext: filename=fasttext-0.9.2-cp39-cp39-linux_x86_64.whl size=4382936 sha256=6eab8208d0af5ca19baebf8e0c72b4c4374758fdbd933282f88e0127b165764b\n",
            "  Stored in directory: /tmp/pip-ephem-wheel-cache-adleq79h/wheels/2d/3b/6c/b1dab8ae56dbff3fc7c26103ce1f0646f1a39f6a06db46db46\n",
            "Successfully built fasttext\n",
            "Installing collected packages: pybind11, fasttext\n",
            "Successfully installed fasttext-0.9.2 pybind11-2.10.3\n",
            "--2023-03-10 08:06:43--  https://dl.fbaipublicfiles.com/fasttext/vectors-wiki/wiki.en.zip\n",
            "Resolving dl.fbaipublicfiles.com (dl.fbaipublicfiles.com)... 172.67.9.4, 104.22.75.142, 104.22.74.142, ...\n",
            "Connecting to dl.fbaipublicfiles.com (dl.fbaipublicfiles.com)|172.67.9.4|:443... connected.\n",
            "HTTP request sent, awaiting response... 200 OK\n",
            "Length: 10356881291 (9.6G) [application/zip]\n",
            "Saving to: ‘wiki.en.zip’\n",
            "\n",
            "wiki.en.zip         100%[===================>]   9.65G  38.1MB/s    in 4m 30s  \n",
            "\n",
            "2023-03-10 08:11:14 (36.6 MB/s) - ‘wiki.en.zip’ saved [10356881291/10356881291]\n",
            "\n",
            "Archive:  wiki.en.zip\n",
            "  inflating: wiki.en.vec             \n",
            "  inflating: wiki.en.bin             \n"
          ]
        }
      ]
    },
    {
      "cell_type": "code",
      "source": [
        "import numpy as np\n",
        "vector = w2v.get_word_vector(\"dog\")\n",
        "# Dimensions ?\n",
        "print(vector.shape)\n",
        "# Combien de mot il y'a dans le vocabulaire\n",
        "len(w2v.words)\n",
        "#sample de mots\n",
        "[w2v.words[i] for i in range(10)]\n"
      ],
      "metadata": {
        "colab": {
          "base_uri": "https://localhost:8080/"
        },
        "id": "Y_zUwRtNdB1A",
        "outputId": "e79146d9-abae-4238-d18a-7634ec2ef8fa"
      },
      "execution_count": null,
      "outputs": [
        {
          "output_type": "stream",
          "name": "stdout",
          "text": [
            "(300,)\n"
          ]
        },
        {
          "output_type": "execute_result",
          "data": {
            "text/plain": [
              "[',', '.', 'the', '</s>', 'of', '-', 'in', 'and', \"'\", ')']"
            ]
          },
          "metadata": {},
          "execution_count": 2
        }
      ]
    },
    {
      "cell_type": "code",
      "source": [
        "# Visualization\n",
        "from sklearn.decomposition import PCA\n",
        "#%matplotlib notebook\n",
        "import matplotlib.pyplot as plt\n",
        "#plt.style.use('ggplot')\n",
        "\n",
        "def plot_word2vec_embedding(model: fasttext.FastText._FastText, projection=\"pca\",\n",
        "                            words=None,\n",
        "                            plot_dir=None,\n",
        "                            sample=0):\n",
        "\n",
        "    w2v = np.array([model.get_word_vector(w) for w in words])\n",
        "\n",
        "    if projection == \"pca\":\n",
        "      pca_representations = PCA().fit_transform(w2v)[:,:2]\n",
        "    else:\n",
        "      raise(Exception(f\"{projection} not supported\"))\n",
        "\n",
        "    plt.figure(figsize=(6,6))\n",
        "    plt.scatter(pca_representations[:,0], pca_representations[:,1], edgecolors='k', c='r')\n",
        "    for word, (x,y) in zip(words, pca_representations):\n",
        "        plt.text(x+0.05, y+0.05, word)\n",
        "    if plot_dir:\n",
        "      plt.savefig(plot_dir)"
      ],
      "metadata": {
        "id": "j0Om0_vpdBrr"
      },
      "execution_count": null,
      "outputs": []
    },
    {
      "cell_type": "code",
      "source": [
        "plot_word2vec_embedding(w2v,\n",
        "                        words = ['dog', 'cat', 'animal', 'elephant', 'car', 'queen','king', 'monkey', 'parrot', 'cameroon', 'cameroonian',\n",
        "                         #  'eating', 'barking',\n",
        "                         'man', 'woman',\"uncle\", \"france\",\"espagne\",\"douala\",\"dschang\",\"fomekong\",\"kamdje\",\n",
        "                         'paris', 'madrid', 'london', \"rome\", \"yaoundé\"],\n",
        "                         plot_dir=\"./plot_2.png\",\n",
        "                         )"
      ],
      "metadata": {
        "colab": {
          "base_uri": "https://localhost:8080/",
          "height": 374
        },
        "id": "9uH0AVIUdBhn",
        "outputId": "d8bc1177-ca2a-40d3-c19f-56244fd9a7cb"
      },
      "execution_count": null,
      "outputs": [
        {
          "output_type": "display_data",
          "data": {
            "text/plain": [
              "<Figure size 432x432 with 1 Axes>"
            ],
            "image/png": "[encoded data removed]"
          },
          "metadata": {
            "needs_background": "light"
          }
        }
      ]
    },
    {
      "cell_type": "code",
      "source": [
        "pairs = [(\"blue\", \"red\"),\n",
        "         (\"blue\", \"yellow\"),\n",
        "         (\"blue\", \"green\"),\n",
        "         (\"blue\", \"purple\")\n",
        "         ]"
      ],
      "metadata": {
        "id": "94t5L4KKsrnf"
      },
      "execution_count": null,
      "outputs": []
    },
    {
      "cell_type": "code",
      "source": [
        "from numpy import dot\n",
        "from numpy.linalg import norm\n",
        "\n",
        "for (w1, w2) in pairs:\n",
        "  v1 = w2v.get_word_vector(w1)\n",
        "  v2 = w2v.get_word_vector(w2)\n",
        "  print(f\"Cosine: {w1} vs. {w2} {dot(v1, v2)/(norm(v1)*norm(v2))}\")"
      ],
      "metadata": {
        "colab": {
          "base_uri": "https://localhost:8080/"
        },
        "id": "Nn_BKAsGsreu",
        "outputId": "e02351c6-16e8-4165-ec04-f5bca739bc25"
      },
      "execution_count": null,
      "outputs": [
        {
          "output_type": "stream",
          "name": "stdout",
          "text": [
            "Cosine: blue vs. red 0.6610223054885864\n",
            "Cosine: blue vs. yellow 0.6871858239173889\n",
            "Cosine: blue vs. green 0.6225948333740234\n",
            "Cosine: blue vs. purple 0.6628549695014954\n"
          ]
        }
      ]
    },
    {
      "cell_type": "code",
      "source": [],
      "metadata": {
        "id": "OBtDFyxwwo77"
      },
      "execution_count": null,
      "outputs": []
    }
  ]
}