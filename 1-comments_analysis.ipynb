{
 "cells": [
  {
   "cell_type": "code",
   "execution_count": 1,
   "metadata": {},
   "outputs": [
    {
     "name": "stderr",
     "output_type": "stream",
     "text": [
      "c:\\Users\\mbial\\miniconda3\\envs\\nkobo\\Lib\\site-packages\\tqdm\\auto.py:21: TqdmWarning: IProgress not found. Please update jupyter and ipywidgets. See https://ipywidgets.readthedocs.io/en/stable/user_install.html\n",
      "  from .autonotebook import tqdm as notebook_tqdm\n"
     ]
    }
   ],
   "source": [
    "import pandas as pd\n",
    "import numpy as np\n",
    "from wordcloud import WordCloud\n",
    "import matplotlib.pyplot as plt\n",
    "from transformers import pipeline\n",
    "from textblob import TextBlob\n",
    "from bertopic import BERTopic\n",
    "import nltk\n",
    "from nltk.corpus import stopwords\n",
    "import re\n",
    "import seaborn as sns\n",
    "from tqdm import tqdm\n",
    "# Style use.\n",
    "sns.set_style('darkgrid')\n",
    "\n"
   ]
  },
  {
   "cell_type": "code",
   "execution_count": 2,
   "metadata": {},
   "outputs": [
    {
     "name": "stderr",
     "output_type": "stream",
     "text": [
      "[nltk_data] Downloading package stopwords to\n",
      "[nltk_data]     C:\\Users\\mbial\\AppData\\Roaming\\nltk_data...\n",
      "[nltk_data]   Package stopwords is already up-to-date!\n"
     ]
    }
   ],
   "source": [
    "nltk.download('stopwords')\n",
    "stop_words = set(stopwords.words('french'))"
   ]
  },
  {
   "cell_type": "code",
   "execution_count": 4,
   "metadata": {},
   "outputs": [
    {
     "data": {
      "text/plain": [
       "157"
      ]
     },
     "execution_count": 4,
     "metadata": {},
     "output_type": "execute_result"
    }
   ],
   "source": [
    "len(stop_words)"
   ]
  },
  {
   "cell_type": "code",
   "execution_count": 5,
   "metadata": {},
   "outputs": [],
   "source": [
    "for i in [\"le\", \"mr\", \"eto\", \"qu\", \"est\", \"c'est\",\"qu\", \"juste\", \"master\", \"class\", \"toujours\", \"vraiment\",\"si\", \"quand\", \"jai\",\"j'ai\", \"beaucoup\",\"déjà\", \"deja\", \"nest\",\"n'est\", \"franchement\", \"cet\", \"vois\", \"ceux\",\"ici\", \"mme\",\"quil\", \"qu'il\",\"trs\",\"cette\", \"très\", \"trop\", \"cest\",  \"c'est\",\"comme\", \"tout\", \"plus\", \"bien\", \"faire\", \"aussi\", \"fait\", \"peut\", \"tre\",\"très\",\"quel\", \"sans\", \"autre\", \"donc\", \"tous\", \"faut\", \"peu\", \"dit\", \"avoir\", \"non\", \"fois\", \"ans\", \"alors\", \"sont\", \"peu\", \"peux\", \"peut\", \"cest\",\"c'est\"]:\n",
    "    stop_words.add(i)"
   ]
  },
  {
   "cell_type": "code",
   "execution_count": 6,
   "metadata": {},
   "outputs": [
    {
     "name": "stdout",
     "output_type": "stream",
     "text": [
      "(1183, 1)\n"
     ]
    },
    {
     "data": {
      "text/html": [
       "<div>\n",
       "<style scoped>\n",
       "    .dataframe tbody tr th:only-of-type {\n",
       "        vertical-align: middle;\n",
       "    }\n",
       "\n",
       "    .dataframe tbody tr th {\n",
       "        vertical-align: top;\n",
       "    }\n",
       "\n",
       "    .dataframe thead th {\n",
       "        text-align: right;\n",
       "    }\n",
       "</style>\n",
       "<table border=\"1\" class=\"dataframe\">\n",
       "  <thead>\n",
       "    <tr style=\"text-align: right;\">\n",
       "      <th></th>\n",
       "      <th>0</th>\n",
       "    </tr>\n",
       "  </thead>\n",
       "  <tbody>\n",
       "    <tr>\n",
       "      <th>0</th>\n",
       "      <td>J'ai adoré cette phrase d'Eto'o '' Ce ne sont ...</td>\n",
       "    </tr>\n",
       "    <tr>\n",
       "      <th>1</th>\n",
       "      <td>Aurélien après ta carrière tu feras un bon jou...</td>\n",
       "    </tr>\n",
       "    <tr>\n",
       "      <th>2</th>\n",
       "      <td>Les anecdotes de Eto’o sont trois fois plus lo...</td>\n",
       "    </tr>\n",
       "    <tr>\n",
       "      <th>3</th>\n",
       "      <td>Arrêttons nous un instant pour apprécier la qu...</td>\n",
       "    </tr>\n",
       "    <tr>\n",
       "      <th>4</th>\n",
       "      <td>C’est la première fois de ma vie que je regard...</td>\n",
       "    </tr>\n",
       "  </tbody>\n",
       "</table>\n",
       "</div>"
      ],
      "text/plain": [
       "                                                   0\n",
       "0  J'ai adoré cette phrase d'Eto'o '' Ce ne sont ...\n",
       "1  Aurélien après ta carrière tu feras un bon jou...\n",
       "2  Les anecdotes de Eto’o sont trois fois plus lo...\n",
       "3  Arrêttons nous un instant pour apprécier la qu...\n",
       "4  C’est la première fois de ma vie que je regard..."
      ]
     },
     "execution_count": 6,
     "metadata": {},
     "output_type": "execute_result"
    }
   ],
   "source": [
    "df = pd.read_csv('comments.csv')\n",
    "print(df.shape)\n",
    "df.head()"
   ]
  },
  {
   "cell_type": "code",
   "execution_count": 7,
   "metadata": {},
   "outputs": [],
   "source": [
    "comments = df[df.columns[0]].values\n"
   ]
  },
  {
   "cell_type": "markdown",
   "metadata": {},
   "source": [
    "# 1. preprocessing step"
   ]
  },
  {
   "cell_type": "code",
   "execution_count": 10,
   "metadata": {},
   "outputs": [],
   "source": [
    "from tqdm import tqdm"
   ]
  },
  {
   "cell_type": "code",
   "execution_count": 27,
   "metadata": {},
   "outputs": [],
   "source": [
    "def preprocess_comments(comments):\n",
    "    cleaned_comments = []\n",
    "    new_comments = []\n",
    "    for comment in tqdm(comments):\n",
    "        try:\n",
    "            tmp = comment\n",
    "            comment = re.sub(r'http\\S+', '', comment)  # Remove URLs\n",
    "            #comment = re.sub(r'[^A-Za-z0-9\\s]+', '', comment)  # Remove special characters\n",
    "            comment = comment.lower()  # Convert to lowercase\n",
    "            comment = ' '.join([word for word in comment.split() if word not in stop_words])  # Remove stop words\n",
    "            cleaned_comments.append(comment)\n",
    "            new_comments.append(tmp)\n",
    "        except:\n",
    "            print(comment)\n",
    "    return cleaned_comments, new_comments"
   ]
  },
  {
   "cell_type": "code",
   "execution_count": 28,
   "metadata": {},
   "outputs": [
    {
     "name": "stderr",
     "output_type": "stream",
     "text": [
      "100%|██████████| 1183/1183 [00:00<00:00, 210239.47it/s]"
     ]
    },
    {
     "name": "stdout",
     "output_type": "stream",
     "text": [
      "nan\n",
      "nan\n",
      "nan\n",
      "nan\n",
      "nan\n",
      "nan\n",
      "nan\n",
      "nan\n",
      "nan\n"
     ]
    },
    {
     "name": "stderr",
     "output_type": "stream",
     "text": [
      "\n"
     ]
    }
   ],
   "source": [
    "cleaned_comments, new_comments = preprocess_comments(comments)"
   ]
  },
  {
   "cell_type": "code",
   "execution_count": 29,
   "metadata": {},
   "outputs": [
    {
     "data": {
      "text/plain": [
       "1132"
      ]
     },
     "execution_count": 29,
     "metadata": {},
     "output_type": "execute_result"
    }
   ],
   "source": [
    "len(set(cleaned_comments))"
   ]
  },
  {
   "cell_type": "code",
   "execution_count": 22,
   "metadata": {},
   "outputs": [
    {
     "name": "stdout",
     "output_type": "stream",
     "text": [
      "respect grand frre samuel etoo parce grand frre impressionnant respect chacun sait couter sait couter mission tait captivante expriences projets tire leons\n"
     ]
    }
   ],
   "source": [
    "print(cleaned_comments[24])"
   ]
  },
  {
   "cell_type": "markdown",
   "metadata": {},
   "source": [
    "# 2. Wordcloud"
   ]
  },
  {
   "cell_type": "code",
   "execution_count": 30,
   "metadata": {},
   "outputs": [],
   "source": [
    "def generate_word_cloud(comments):\n",
    "    text = ' '.join(comments)\n",
    "    wordcloud = WordCloud(width=800, height=400, background_color='white', max_words=50, min_word_length=4).generate(text)\n",
    "    plt.figure(figsize=(10, 5))\n",
    "    plt.imshow(wordcloud, interpolation='bilinear')\n",
    "    plt.axis('off')\n",
    "    plt.show()"
   ]
  },
  {
   "cell_type": "code",
   "execution_count": 31,
   "metadata": {},
   "outputs": [
    {
     "data": {
      "image/png": "[encoded data removed]",
      "text/plain": [
       "<Figure size 1000x500 with 1 Axes>"
      ]
     },
     "metadata": {},
     "output_type": "display_data"
    }
   ],
   "source": [
    "generate_word_cloud(cleaned_comments)"
   ]
  },
  {
   "cell_type": "markdown",
   "metadata": {},
   "source": [
    "# 2. Topic modelling"
   ]
  },
  {
   "cell_type": "code",
   "execution_count": 32,
   "metadata": {},
   "outputs": [],
   "source": [
    "from sentence_transformers import SentenceTransformer"
   ]
  },
  {
   "cell_type": "code",
   "execution_count": null,
   "metadata": {},
   "outputs": [],
   "source": [
    "\n",
    "sentence_model = SentenceTransformer(\"dangvantuan/sentence-camembert-base\")\n",
    "\n"
   ]
  },
  {
   "cell_type": "code",
   "execution_count": 35,
   "metadata": {},
   "outputs": [],
   "source": [
    "# Step 6: Extract Main Topics with BERTopic\n",
    "def extract_topics_bertopic(comments, sentence_model=sentence_model):\n",
    "    topic_model = BERTopic( n_gram_range=(1, 3), embedding_model=sentence_model,  min_topic_size=5, language=\"french\")\n",
    "    topics, probs = topic_model.fit_transform(comments)\n",
    "    return topic_model"
   ]
  },
  {
   "cell_type": "code",
   "execution_count": 36,
   "metadata": {},
   "outputs": [],
   "source": [
    "topic_model = extract_topics_bertopic(cleaned_comments)"
   ]
  },
  {
   "cell_type": "code",
   "execution_count": 37,
   "metadata": {},
   "outputs": [
    {
     "data": {
      "text/html": [
       "<div>\n",
       "<style scoped>\n",
       "    .dataframe tbody tr th:only-of-type {\n",
       "        vertical-align: middle;\n",
       "    }\n",
       "\n",
       "    .dataframe tbody tr th {\n",
       "        vertical-align: top;\n",
       "    }\n",
       "\n",
       "    .dataframe thead th {\n",
       "        text-align: right;\n",
       "    }\n",
       "</style>\n",
       "<table border=\"1\" class=\"dataframe\">\n",
       "  <thead>\n",
       "    <tr style=\"text-align: right;\">\n",
       "      <th></th>\n",
       "      <th>Topic</th>\n",
       "      <th>Count</th>\n",
       "      <th>Name</th>\n",
       "      <th>Representation</th>\n",
       "      <th>Representative_Docs</th>\n",
       "    </tr>\n",
       "  </thead>\n",
       "  <tbody>\n",
       "    <tr>\n",
       "      <th>0</th>\n",
       "      <td>-1</td>\n",
       "      <td>371</td>\n",
       "      <td>-1_eto_samuel_qu_grand</td>\n",
       "      <td>[eto, samuel, qu, grand, est, être, samuel eto...</td>\n",
       "      <td>[quelle interview, champions, domaines différe...</td>\n",
       "    </tr>\n",
       "    <tr>\n",
       "      <th>1</th>\n",
       "      <td>0</td>\n",
       "      <td>49</td>\n",
       "      <td>0_samuel eto_samuel_eto_eto samuel</td>\n",
       "      <td>[samuel eto, samuel, eto, eto samuel, samuel e...</td>\n",
       "      <td>[légende samuel eto'o ️, samuel eto'o, légende...</td>\n",
       "    </tr>\n",
       "    <tr>\n",
       "      <th>2</th>\n",
       "      <td>1</td>\n",
       "      <td>39</td>\n",
       "      <td>1_travail_redouane_up_masterclass</td>\n",
       "      <td>[travail, redouane, up, masterclass, fort, 11,...</td>\n",
       "      <td>[49:17 quelle entrée, redouane éclaté sol . ma...</td>\n",
       "    </tr>\n",
       "    <tr>\n",
       "      <th>3</th>\n",
       "      <td>2</td>\n",
       "      <td>39</td>\n",
       "      <td>2_tchouameni_bon présentateur_doumbe tchouamen...</td>\n",
       "      <td>[tchouameni, bon présentateur, doumbe tchouame...</td>\n",
       "      <td>[aurélien tchouameni ️, i dont like the way tc...</td>\n",
       "    </tr>\n",
       "    <tr>\n",
       "      <th>4</th>\n",
       "      <td>3</td>\n",
       "      <td>32</td>\n",
       "      <td>3_inter_jamais_mi_mi temps</td>\n",
       "      <td>[inter, jamais, mi, mi temps, temps, triplé, m...</td>\n",
       "      <td>[eto'o s'invente vie mdr n'a jamais marqué tri...</td>\n",
       "    </tr>\n",
       "    <tr>\n",
       "      <th>5</th>\n",
       "      <td>4</td>\n",
       "      <td>30</td>\n",
       "      <td>4_mort_excellent_merci excellent_pleure</td>\n",
       "      <td>[mort, excellent, merci excellent, pleure, vid...</td>\n",
       "      <td>[vidéo siècle, légende mort, \" arrivé annngles...</td>\n",
       "    </tr>\n",
       "    <tr>\n",
       "      <th>6</th>\n",
       "      <td>5</td>\n",
       "      <td>28</td>\n",
       "      <td>5_mytho_samuel mytho_prédateur_eto mytho</td>\n",
       "      <td>[mytho, samuel mytho, prédateur, eto mytho, gr...</td>\n",
       "      <td>[samuel eto'o mytho ,, etoo gros mytho, samuel...</td>\n",
       "    </tr>\n",
       "    <tr>\n",
       "      <th>7</th>\n",
       "      <td>6</td>\n",
       "      <td>24</td>\n",
       "      <td>6_eto_touche eto_eto eto continent_touche eto eto</td>\n",
       "      <td>[eto, touche eto, eto eto continent, touche et...</td>\n",
       "      <td>[touche eto'o, eto'o continent, touche eto'o, ...</td>\n",
       "    </tr>\n",
       "    <tr>\n",
       "      <th>8</th>\n",
       "      <td>7</td>\n",
       "      <td>24</td>\n",
       "      <td>7_eto eto_eto_eto eto eto_eto power eto</td>\n",
       "      <td>[eto eto, eto, eto eto eto, eto power eto, mei...</td>\n",
       "      <td>[eto'o, eto'o, eto’o sort droit blue lock]</td>\n",
       "    </tr>\n",
       "    <tr>\n",
       "      <th>9</th>\n",
       "      <td>8</td>\n",
       "      <td>23</td>\n",
       "      <td>8_interview_réunion_belle interview_30</td>\n",
       "      <td>[interview, réunion, belle interview, 30, inte...</td>\n",
       "      <td>[eto'o rien debut relancer interview mythique ...</td>\n",
       "    </tr>\n",
       "    <tr>\n",
       "      <th>10</th>\n",
       "      <td>9</td>\n",
       "      <td>22</td>\n",
       "      <td>9_combattant_cédric_meilleur combattant_cedric</td>\n",
       "      <td>[combattant, cédric, meilleur combattant, cedr...</td>\n",
       "      <td>[cédric doumbé meilleur combattant français......</td>\n",
       "    </tr>\n",
       "    <tr>\n",
       "      <th>11</th>\n",
       "      <td>10</td>\n",
       "      <td>21</td>\n",
       "      <td>10_orh samuel_orh_samuel orh_samuel orh samuel</td>\n",
       "      <td>[orh samuel, orh, samuel orh, samuel orh samue...</td>\n",
       "      <td>[orh samuel, orh samuel, orh samuel]</td>\n",
       "    </tr>\n",
       "    <tr>\n",
       "      <th>12</th>\n",
       "      <td>11</td>\n",
       "      <td>20</td>\n",
       "      <td>11_sujets_parler_écouter_vue</td>\n",
       "      <td>[sujets, parler, écouter, vue, personnes, donn...</td>\n",
       "      <td>[tellement vrai gars, lasse d'écouter intervie...</td>\n",
       "    </tr>\n",
       "    <tr>\n",
       "      <th>13</th>\n",
       "      <td>12</td>\n",
       "      <td>20</td>\n",
       "      <td>12_émission_super émission_émission super_super</td>\n",
       "      <td>[émission, super émission, émission super, sup...</td>\n",
       "      <td>[super émission !, super émission, super émiss...</td>\n",
       "    </tr>\n",
       "    <tr>\n",
       "      <th>14</th>\n",
       "      <td>13</td>\n",
       "      <td>19</td>\n",
       "      <td>13_samuel_samuel ohh samuel_ohh samuel_samuel ohh</td>\n",
       "      <td>[samuel, samuel ohh samuel, ohh samuel, samuel...</td>\n",
       "      <td>[trois (03) champions 🇨🇲🇨🇲🇨🇲 merci papa samuel...</td>\n",
       "    </tr>\n",
       "    <tr>\n",
       "      <th>15</th>\n",
       "      <td>14</td>\n",
       "      <td>19</td>\n",
       "      <td>14_02_02 53_53_50</td>\n",
       "      <td>[02, 02 53, 53, 50, 02 53 02, 53 02, 02 50, 50...</td>\n",
       "      <td>[1:02:53, 1:02:53, 1:02:53]</td>\n",
       "    </tr>\n",
       "    <tr>\n",
       "      <th>16</th>\n",
       "      <td>15</td>\n",
       "      <td>19</td>\n",
       "      <td>15_cameroun_coupe_coupe monde_monde</td>\n",
       "      <td>[cameroun, coupe, coupe monde, monde, gagner, ...</td>\n",
       "      <td>[lions indomptables potentiellement capacité g...</td>\n",
       "    </tr>\n",
       "    <tr>\n",
       "      <th>17</th>\n",
       "      <td>16</td>\n",
       "      <td>18</td>\n",
       "      <td>16_aurélien_aurelien_job_bravo aurélien</td>\n",
       "      <td>[aurélien, aurelien, job, bravo aurélien, char...</td>\n",
       "      <td>[honnêtement aurélien d'une intelligence remar...</td>\n",
       "    </tr>\n",
       "    <tr>\n",
       "      <th>18</th>\n",
       "      <td>17</td>\n",
       "      <td>17</td>\n",
       "      <td>17_camerounais_cameroun_fière_camerounais came...</td>\n",
       "      <td>[camerounais, cameroun, fière, camerounais cam...</td>\n",
       "      <td>[3 camerounais fiere d'etre camerounais, fière...</td>\n",
       "    </tr>\n",
       "    <tr>\n",
       "      <th>19</th>\n",
       "      <td>18</td>\n",
       "      <td>17</td>\n",
       "      <td>18_vidéo_afrique_visionnaire_enrichissant</td>\n",
       "      <td>[vidéo, afrique, visionnaire, enrichissant, va...</td>\n",
       "      <td>[incroyable, vidéo ! pris immense plaisir écou...</td>\n",
       "    </tr>\n",
       "    <tr>\n",
       "      <th>20</th>\n",
       "      <td>19</td>\n",
       "      <td>17</td>\n",
       "      <td>19_mike_mike maignan_maignan_est levé</td>\n",
       "      <td>[mike, mike maignan, maignan, est levé, arrivé...</td>\n",
       "      <td>[samuel eto'o tellement respectueux s'est levé...</td>\n",
       "    </tr>\n",
       "    <tr>\n",
       "      <th>21</th>\n",
       "      <td>20</td>\n",
       "      <td>16</td>\n",
       "      <td>20_afrique_samuel eto_samuel_eto afrique</td>\n",
       "      <td>[afrique, samuel eto, samuel, eto afrique, sam...</td>\n",
       "      <td>[voir samuel eto'o clique. best of the best. l...</td>\n",
       "    </tr>\n",
       "    <tr>\n",
       "      <th>22</th>\n",
       "      <td>21</td>\n",
       "      <td>15</td>\n",
       "      <td>21_vidéo_ai_excellent_contenu</td>\n",
       "      <td>[vidéo, ai, excellent, contenu, youtube, avanc...</td>\n",
       "      <td>[1:01:55- 1:03:35 meilleure partie vidéo clair...</td>\n",
       "    </tr>\n",
       "    <tr>\n",
       "      <th>23</th>\n",
       "      <td>22</td>\n",
       "      <td>15</td>\n",
       "      <td>22_oh samuel_oh_samuel oh samuel_samuel oh</td>\n",
       "      <td>[oh samuel, oh, samuel oh samuel, samuel oh, o...</td>\n",
       "      <td>[oh samuel, oh samuel, oh samuel]</td>\n",
       "    </tr>\n",
       "    <tr>\n",
       "      <th>24</th>\n",
       "      <td>23</td>\n",
       "      <td>14</td>\n",
       "      <td>23_02_samuel 02_00_02 52</td>\n",
       "      <td>[02, samuel 02, 00, 02 52, 52, samuel, samuel ...</td>\n",
       "      <td>[cherchent oohhh samuel 1:02:52, \" oorrrhhh sa...</td>\n",
       "    </tr>\n",
       "    <tr>\n",
       "      <th>25</th>\n",
       "      <td>24</td>\n",
       "      <td>13</td>\n",
       "      <td>24_2006_barca_ballon or_équipe</td>\n",
       "      <td>[2006, barca, ballon or, équipe, or, joueurs, ...</td>\n",
       "      <td>[samuel eto’o trop. homme n’as jamais stress n...</td>\n",
       "    </tr>\n",
       "    <tr>\n",
       "      <th>26</th>\n",
       "      <td>25</td>\n",
       "      <td>12</td>\n",
       "      <td>25_joueur_ça_après_cause</td>\n",
       "      <td>[joueur, ça, après, cause, ramener, et oo, jam...</td>\n",
       "      <td>[france sauf marseille saint etienne reuf préc...</td>\n",
       "    </tr>\n",
       "    <tr>\n",
       "      <th>27</th>\n",
       "      <td>26</td>\n",
       "      <td>12</td>\n",
       "      <td>26_ohhhhr_ohhhhr samuel_samuel_vivant samuel fort</td>\n",
       "      <td>[ohhhhr, ohhhhr samuel, samuel, vivant samuel ...</td>\n",
       "      <td>[ohhhhr samuel…, hoooo samuel tchipp jsui mort...</td>\n",
       "    </tr>\n",
       "    <tr>\n",
       "      <th>28</th>\n",
       "      <td>27</td>\n",
       "      <td>12</td>\n",
       "      <td>27_fou_eto fou_sport_etoo</td>\n",
       "      <td>[fou, eto fou, sport, etoo, eto, être fou ça, ...</td>\n",
       "      <td>[camerounais arrêtez hein, eto'o appartient to...</td>\n",
       "    </tr>\n",
       "    <tr>\n",
       "      <th>29</th>\n",
       "      <td>28</td>\n",
       "      <td>11</td>\n",
       "      <td>28_rappelle_raconter_marrant_histoire</td>\n",
       "      <td>[rappelle, raconter, marrant, histoire, voir, ...</td>\n",
       "      <td>[eto'o rappelle façon grand père racontait épo...</td>\n",
       "    </tr>\n",
       "    <tr>\n",
       "      <th>30</th>\n",
       "      <td>29</td>\n",
       "      <td>10</td>\n",
       "      <td>29_légende eto_légende_la légende_la légende eto</td>\n",
       "      <td>[légende eto, légende, la légende, la légende ...</td>\n",
       "      <td>[respecton grand,la légende eto'o., dinguerie ...</td>\n",
       "    </tr>\n",
       "    <tr>\n",
       "      <th>31</th>\n",
       "      <td>30</td>\n",
       "      <td>10</td>\n",
       "      <td>30_aurélien_journaliste_bon_carrière</td>\n",
       "      <td>[aurélien, journaliste, bon, carrière, métier ...</td>\n",
       "      <td>[belle émission. aurelien preuve d'une bonne p...</td>\n",
       "    </tr>\n",
       "    <tr>\n",
       "      <th>32</th>\n",
       "      <td>31</td>\n",
       "      <td>10</td>\n",
       "      <td>31_admirable_blanc_vu_qualité</td>\n",
       "      <td>[admirable, blanc, vu, qualité, aurélien, inte...</td>\n",
       "      <td>[j'aime concept, eto'o légende début solution....</td>\n",
       "    </tr>\n",
       "    <tr>\n",
       "      <th>33</th>\n",
       "      <td>32</td>\n",
       "      <td>9</td>\n",
       "      <td>32_adore_samuel_aurélien_loge</td>\n",
       "      <td>[adore, samuel, aurélien, loge, ohhhhh samuel ...</td>\n",
       "      <td>[là d'après réaction aurelien stories ohhhhh s...</td>\n",
       "    </tr>\n",
       "    <tr>\n",
       "      <th>34</th>\n",
       "      <td>33</td>\n",
       "      <td>9</td>\n",
       "      <td>33_parle_écouter eto sait_parle ecoute_sent ob...</td>\n",
       "      <td>[parle, écouter eto sait, parle ecoute, sent o...</td>\n",
       "      <td>[carnaval suppose ii parle carvajal, bougherab...</td>\n",
       "    </tr>\n",
       "    <tr>\n",
       "      <th>35</th>\n",
       "      <td>34</td>\n",
       "      <td>9</td>\n",
       "      <td>34_fausse_mentir_anecdote_etoo</td>\n",
       "      <td>[fausse, mentir, anecdote, etoo, fausse etoo, ...</td>\n",
       "      <td>[etoo arrête mentir, 9:46 l'anecdote fausse, l...</td>\n",
       "    </tr>\n",
       "    <tr>\n",
       "      <th>36</th>\n",
       "      <td>35</td>\n",
       "      <td>9</td>\n",
       "      <td>35_baki_moins_terrain_veux</td>\n",
       "      <td>[baki, moins, terrain, veux, celui, niveau, so...</td>\n",
       "      <td>[cédric perdu combat face baki , point final.....</td>\n",
       "    </tr>\n",
       "    <tr>\n",
       "      <th>37</th>\n",
       "      <td>36</td>\n",
       "      <td>9</td>\n",
       "      <td>36_encore_ensuite_attends_jusqu fin</td>\n",
       "      <td>[encore, ensuite, attends, jusqu fin, respect,...</td>\n",
       "      <td>[j’attends impatiemment prochains épisodes bri...</td>\n",
       "    </tr>\n",
       "    <tr>\n",
       "      <th>38</th>\n",
       "      <td>37</td>\n",
       "      <td>8</td>\n",
       "      <td>37_ngambé_doumbé_mieux orteil_majuscule ngambé</td>\n",
       "      <td>[ngambé, doumbé, mieux orteil, majuscule ngamb...</td>\n",
       "      <td>[doumbé va mieux orteil??, vient d’où l’ensemb...</td>\n",
       "    </tr>\n",
       "    <tr>\n",
       "      <th>39</th>\n",
       "      <td>38</td>\n",
       "      <td>8</td>\n",
       "      <td>38_masterclass_charisme_eto émission_mastercla...</td>\n",
       "      <td>[masterclass, charisme, eto émission, mastercl...</td>\n",
       "      <td>[chapeau bas aurélien a masterclass!, eto'o ém...</td>\n",
       "    </tr>\n",
       "    <tr>\n",
       "      <th>40</th>\n",
       "      <td>39</td>\n",
       "      <td>8</td>\n",
       "      <td>39_the bridge_bridge_the_henry</td>\n",
       "      <td>[the bridge, bridge, the, henry, média, voulai...</td>\n",
       "      <td>[arrêtez the bridge anglais ! regardez states ...</td>\n",
       "    </tr>\n",
       "    <tr>\n",
       "      <th>41</th>\n",
       "      <td>40</td>\n",
       "      <td>8</td>\n",
       "      <td>40_afrique_africains_mentalité etoo_vive afrique</td>\n",
       "      <td>[afrique, africains, mentalité etoo, vive afri...</td>\n",
       "      <td>[plupart africains avail mentalité d’etoo, big...</td>\n",
       "    </tr>\n",
       "    <tr>\n",
       "      <th>42</th>\n",
       "      <td>41</td>\n",
       "      <td>8</td>\n",
       "      <td>41_samuellll_ohhhh_orrrrrrrrrrrhhhhhhhhhhhh_sa...</td>\n",
       "      <td>[samuellll, ohhhh, orrrrrrrrrrrhhhhhhhhhhhh, s...</td>\n",
       "      <td>[aaaaaarghr , samuellll, ohhhh samuellll, 1:02...</td>\n",
       "    </tr>\n",
       "    <tr>\n",
       "      <th>43</th>\n",
       "      <td>42</td>\n",
       "      <td>8</td>\n",
       "      <td>42_francais_humoriste_meilleur combattant_dieu</td>\n",
       "      <td>[francais, humoriste, meilleur combattant, die...</td>\n",
       "      <td>[c’est dieu dieu do légende l’humour, meilleur...</td>\n",
       "    </tr>\n",
       "    <tr>\n",
       "      <th>44</th>\n",
       "      <td>43</td>\n",
       "      <td>7</td>\n",
       "      <td>43_erreurs_font erreurs_meilleurs font erreurs...</td>\n",
       "      <td>[erreurs, font erreurs, meilleurs font erreurs...</td>\n",
       "      <td>[meilleurs font erreurs . parce n'es meilleur ...</td>\n",
       "    </tr>\n",
       "    <tr>\n",
       "      <th>45</th>\n",
       "      <td>44</td>\n",
       "      <td>7</td>\n",
       "      <td>44_merci_stars_merci rien_production</td>\n",
       "      <td>[merci, stars, merci rien, production, merci m...</td>\n",
       "      <td>[magnifique. merçi production, merci etoo merc...</td>\n",
       "    </tr>\n",
       "    <tr>\n",
       "      <th>46</th>\n",
       "      <td>45</td>\n",
       "      <td>7</td>\n",
       "      <td>45_taff_tchouameni_après_prend camerounais fin</td>\n",
       "      <td>[taff, tchouameni, après, prend camerounais fi...</td>\n",
       "      <td>[tchouameni a trouvé nouveau taff eto'o légend...</td>\n",
       "    </tr>\n",
       "    <tr>\n",
       "      <th>47</th>\n",
       "      <td>46</td>\n",
       "      <td>7</td>\n",
       "      <td>46_eto bonne_samuel eto bonne_bonne_samuel eto</td>\n",
       "      <td>[eto bonne, samuel eto bonne, bonne, samuel et...</td>\n",
       "      <td>[samuel eto’o bonne source d’inspiration, tcho...</td>\n",
       "    </tr>\n",
       "    <tr>\n",
       "      <th>48</th>\n",
       "      <td>47</td>\n",
       "      <td>7</td>\n",
       "      <td>47_samuel etoo_etoo_merci samuel_samuel</td>\n",
       "      <td>[samuel etoo, etoo, merci samuel, samuel, jaim...</td>\n",
       "      <td>[écoutant samuel etoo, confiance soi. merci sa...</td>\n",
       "    </tr>\n",
       "    <tr>\n",
       "      <th>49</th>\n",
       "      <td>48</td>\n",
       "      <td>7</td>\n",
       "      <td>48_redouane_vidéo quoi montre_replacer mèche r...</td>\n",
       "      <td>[redouane, vidéo quoi montre, replacer mèche r...</td>\n",
       "      <td>[j’ai envie replacer mèche rédouane, mdrr redo...</td>\n",
       "    </tr>\n",
       "    <tr>\n",
       "      <th>50</th>\n",
       "      <td>49</td>\n",
       "      <td>6</td>\n",
       "      <td>49_تشاد___</td>\n",
       "      <td>[تشاد, , , , , , , , , ]</td>\n",
       "      <td>[️️️, 🇨🇲🇨🇲🇫🇷🇫🇷, تشاد 🇹🇩]</td>\n",
       "    </tr>\n",
       "    <tr>\n",
       "      <th>51</th>\n",
       "      <td>50</td>\n",
       "      <td>5</td>\n",
       "      <td>50_régal_compte_était_était sketch est</td>\n",
       "      <td>[régal, compte, était, était sketch est, regar...</td>\n",
       "      <td>[interview qualité, rendu compte c’était fin t...</td>\n",
       "    </tr>\n",
       "    <tr>\n",
       "      <th>52</th>\n",
       "      <td>51</td>\n",
       "      <td>5</td>\n",
       "      <td>51_papa eto_we love_we_merci papa eto</td>\n",
       "      <td>[papa eto, we love, we, merci papa eto, love, ...</td>\n",
       "      <td>[pris plaisir regarder émission surtout père e...</td>\n",
       "    </tr>\n",
       "    <tr>\n",
       "      <th>53</th>\n",
       "      <td>52</td>\n",
       "      <td>5</td>\n",
       "      <td>52_confiance_assurance_intelligence_mental</td>\n",
       "      <td>[confiance, assurance, intelligence, mental, m...</td>\n",
       "      <td>[samuel eto'o seul sait levé salué gradient. v...</td>\n",
       "    </tr>\n",
       "  </tbody>\n",
       "</table>\n",
       "</div>"
      ],
      "text/plain": [
       "    Topic  Count                                               Name  \\\n",
       "0      -1    371                             -1_eto_samuel_qu_grand   \n",
       "1       0     49                 0_samuel eto_samuel_eto_eto samuel   \n",
       "2       1     39                  1_travail_redouane_up_masterclass   \n",
       "3       2     39  2_tchouameni_bon présentateur_doumbe tchouamen...   \n",
       "4       3     32                         3_inter_jamais_mi_mi temps   \n",
       "5       4     30            4_mort_excellent_merci excellent_pleure   \n",
       "6       5     28           5_mytho_samuel mytho_prédateur_eto mytho   \n",
       "7       6     24  6_eto_touche eto_eto eto continent_touche eto eto   \n",
       "8       7     24            7_eto eto_eto_eto eto eto_eto power eto   \n",
       "9       8     23             8_interview_réunion_belle interview_30   \n",
       "10      9     22     9_combattant_cédric_meilleur combattant_cedric   \n",
       "11     10     21     10_orh samuel_orh_samuel orh_samuel orh samuel   \n",
       "12     11     20                       11_sujets_parler_écouter_vue   \n",
       "13     12     20    12_émission_super émission_émission super_super   \n",
       "14     13     19  13_samuel_samuel ohh samuel_ohh samuel_samuel ohh   \n",
       "15     14     19                                  14_02_02 53_53_50   \n",
       "16     15     19                15_cameroun_coupe_coupe monde_monde   \n",
       "17     16     18            16_aurélien_aurelien_job_bravo aurélien   \n",
       "18     17     17  17_camerounais_cameroun_fière_camerounais came...   \n",
       "19     18     17          18_vidéo_afrique_visionnaire_enrichissant   \n",
       "20     19     17              19_mike_mike maignan_maignan_est levé   \n",
       "21     20     16           20_afrique_samuel eto_samuel_eto afrique   \n",
       "22     21     15                      21_vidéo_ai_excellent_contenu   \n",
       "23     22     15         22_oh samuel_oh_samuel oh samuel_samuel oh   \n",
       "24     23     14                           23_02_samuel 02_00_02 52   \n",
       "25     24     13                     24_2006_barca_ballon or_équipe   \n",
       "26     25     12                           25_joueur_ça_après_cause   \n",
       "27     26     12  26_ohhhhr_ohhhhr samuel_samuel_vivant samuel fort   \n",
       "28     27     12                          27_fou_eto fou_sport_etoo   \n",
       "29     28     11              28_rappelle_raconter_marrant_histoire   \n",
       "30     29     10   29_légende eto_légende_la légende_la légende eto   \n",
       "31     30     10               30_aurélien_journaliste_bon_carrière   \n",
       "32     31     10                      31_admirable_blanc_vu_qualité   \n",
       "33     32      9                      32_adore_samuel_aurélien_loge   \n",
       "34     33      9  33_parle_écouter eto sait_parle ecoute_sent ob...   \n",
       "35     34      9                     34_fausse_mentir_anecdote_etoo   \n",
       "36     35      9                         35_baki_moins_terrain_veux   \n",
       "37     36      9                36_encore_ensuite_attends_jusqu fin   \n",
       "38     37      8     37_ngambé_doumbé_mieux orteil_majuscule ngambé   \n",
       "39     38      8  38_masterclass_charisme_eto émission_mastercla...   \n",
       "40     39      8                     39_the bridge_bridge_the_henry   \n",
       "41     40      8   40_afrique_africains_mentalité etoo_vive afrique   \n",
       "42     41      8  41_samuellll_ohhhh_orrrrrrrrrrrhhhhhhhhhhhh_sa...   \n",
       "43     42      8     42_francais_humoriste_meilleur combattant_dieu   \n",
       "44     43      7  43_erreurs_font erreurs_meilleurs font erreurs...   \n",
       "45     44      7               44_merci_stars_merci rien_production   \n",
       "46     45      7     45_taff_tchouameni_après_prend camerounais fin   \n",
       "47     46      7     46_eto bonne_samuel eto bonne_bonne_samuel eto   \n",
       "48     47      7            47_samuel etoo_etoo_merci samuel_samuel   \n",
       "49     48      7  48_redouane_vidéo quoi montre_replacer mèche r...   \n",
       "50     49      6                                         49_تشاد___   \n",
       "51     50      5             50_régal_compte_était_était sketch est   \n",
       "52     51      5              51_papa eto_we love_we_merci papa eto   \n",
       "53     52      5         52_confiance_assurance_intelligence_mental   \n",
       "\n",
       "                                       Representation  \\\n",
       "0   [eto, samuel, qu, grand, est, être, samuel eto...   \n",
       "1   [samuel eto, samuel, eto, eto samuel, samuel e...   \n",
       "2   [travail, redouane, up, masterclass, fort, 11,...   \n",
       "3   [tchouameni, bon présentateur, doumbe tchouame...   \n",
       "4   [inter, jamais, mi, mi temps, temps, triplé, m...   \n",
       "5   [mort, excellent, merci excellent, pleure, vid...   \n",
       "6   [mytho, samuel mytho, prédateur, eto mytho, gr...   \n",
       "7   [eto, touche eto, eto eto continent, touche et...   \n",
       "8   [eto eto, eto, eto eto eto, eto power eto, mei...   \n",
       "9   [interview, réunion, belle interview, 30, inte...   \n",
       "10  [combattant, cédric, meilleur combattant, cedr...   \n",
       "11  [orh samuel, orh, samuel orh, samuel orh samue...   \n",
       "12  [sujets, parler, écouter, vue, personnes, donn...   \n",
       "13  [émission, super émission, émission super, sup...   \n",
       "14  [samuel, samuel ohh samuel, ohh samuel, samuel...   \n",
       "15  [02, 02 53, 53, 50, 02 53 02, 53 02, 02 50, 50...   \n",
       "16  [cameroun, coupe, coupe monde, monde, gagner, ...   \n",
       "17  [aurélien, aurelien, job, bravo aurélien, char...   \n",
       "18  [camerounais, cameroun, fière, camerounais cam...   \n",
       "19  [vidéo, afrique, visionnaire, enrichissant, va...   \n",
       "20  [mike, mike maignan, maignan, est levé, arrivé...   \n",
       "21  [afrique, samuel eto, samuel, eto afrique, sam...   \n",
       "22  [vidéo, ai, excellent, contenu, youtube, avanc...   \n",
       "23  [oh samuel, oh, samuel oh samuel, samuel oh, o...   \n",
       "24  [02, samuel 02, 00, 02 52, 52, samuel, samuel ...   \n",
       "25  [2006, barca, ballon or, équipe, or, joueurs, ...   \n",
       "26  [joueur, ça, après, cause, ramener, et oo, jam...   \n",
       "27  [ohhhhr, ohhhhr samuel, samuel, vivant samuel ...   \n",
       "28  [fou, eto fou, sport, etoo, eto, être fou ça, ...   \n",
       "29  [rappelle, raconter, marrant, histoire, voir, ...   \n",
       "30  [légende eto, légende, la légende, la légende ...   \n",
       "31  [aurélien, journaliste, bon, carrière, métier ...   \n",
       "32  [admirable, blanc, vu, qualité, aurélien, inte...   \n",
       "33  [adore, samuel, aurélien, loge, ohhhhh samuel ...   \n",
       "34  [parle, écouter eto sait, parle ecoute, sent o...   \n",
       "35  [fausse, mentir, anecdote, etoo, fausse etoo, ...   \n",
       "36  [baki, moins, terrain, veux, celui, niveau, so...   \n",
       "37  [encore, ensuite, attends, jusqu fin, respect,...   \n",
       "38  [ngambé, doumbé, mieux orteil, majuscule ngamb...   \n",
       "39  [masterclass, charisme, eto émission, mastercl...   \n",
       "40  [the bridge, bridge, the, henry, média, voulai...   \n",
       "41  [afrique, africains, mentalité etoo, vive afri...   \n",
       "42  [samuellll, ohhhh, orrrrrrrrrrrhhhhhhhhhhhh, s...   \n",
       "43  [francais, humoriste, meilleur combattant, die...   \n",
       "44  [erreurs, font erreurs, meilleurs font erreurs...   \n",
       "45  [merci, stars, merci rien, production, merci m...   \n",
       "46  [taff, tchouameni, après, prend camerounais fi...   \n",
       "47  [eto bonne, samuel eto bonne, bonne, samuel et...   \n",
       "48  [samuel etoo, etoo, merci samuel, samuel, jaim...   \n",
       "49  [redouane, vidéo quoi montre, replacer mèche r...   \n",
       "50                           [تشاد, , , , , , , , , ]   \n",
       "51  [régal, compte, était, était sketch est, regar...   \n",
       "52  [papa eto, we love, we, merci papa eto, love, ...   \n",
       "53  [confiance, assurance, intelligence, mental, m...   \n",
       "\n",
       "                                  Representative_Docs  \n",
       "0   [quelle interview, champions, domaines différe...  \n",
       "1   [légende samuel eto'o ️, samuel eto'o, légende...  \n",
       "2   [49:17 quelle entrée, redouane éclaté sol . ma...  \n",
       "3   [aurélien tchouameni ️, i dont like the way tc...  \n",
       "4   [eto'o s'invente vie mdr n'a jamais marqué tri...  \n",
       "5   [vidéo siècle, légende mort, \" arrivé annngles...  \n",
       "6   [samuel eto'o mytho ,, etoo gros mytho, samuel...  \n",
       "7   [touche eto'o, eto'o continent, touche eto'o, ...  \n",
       "8          [eto'o, eto'o, eto’o sort droit blue lock]  \n",
       "9   [eto'o rien debut relancer interview mythique ...  \n",
       "10  [cédric doumbé meilleur combattant français......  \n",
       "11               [orh samuel, orh samuel, orh samuel]  \n",
       "12  [tellement vrai gars, lasse d'écouter intervie...  \n",
       "13  [super émission !, super émission, super émiss...  \n",
       "14  [trois (03) champions 🇨🇲🇨🇲🇨🇲 merci papa samuel...  \n",
       "15                        [1:02:53, 1:02:53, 1:02:53]  \n",
       "16  [lions indomptables potentiellement capacité g...  \n",
       "17  [honnêtement aurélien d'une intelligence remar...  \n",
       "18  [3 camerounais fiere d'etre camerounais, fière...  \n",
       "19  [incroyable, vidéo ! pris immense plaisir écou...  \n",
       "20  [samuel eto'o tellement respectueux s'est levé...  \n",
       "21  [voir samuel eto'o clique. best of the best. l...  \n",
       "22  [1:01:55- 1:03:35 meilleure partie vidéo clair...  \n",
       "23                  [oh samuel, oh samuel, oh samuel]  \n",
       "24  [cherchent oohhh samuel 1:02:52, \" oorrrhhh sa...  \n",
       "25  [samuel eto’o trop. homme n’as jamais stress n...  \n",
       "26  [france sauf marseille saint etienne reuf préc...  \n",
       "27  [ohhhhr samuel…, hoooo samuel tchipp jsui mort...  \n",
       "28  [camerounais arrêtez hein, eto'o appartient to...  \n",
       "29  [eto'o rappelle façon grand père racontait épo...  \n",
       "30  [respecton grand,la légende eto'o., dinguerie ...  \n",
       "31  [belle émission. aurelien preuve d'une bonne p...  \n",
       "32  [j'aime concept, eto'o légende début solution....  \n",
       "33  [là d'après réaction aurelien stories ohhhhh s...  \n",
       "34  [carnaval suppose ii parle carvajal, bougherab...  \n",
       "35  [etoo arrête mentir, 9:46 l'anecdote fausse, l...  \n",
       "36  [cédric perdu combat face baki , point final.....  \n",
       "37  [j’attends impatiemment prochains épisodes bri...  \n",
       "38  [doumbé va mieux orteil??, vient d’où l’ensemb...  \n",
       "39  [chapeau bas aurélien a masterclass!, eto'o ém...  \n",
       "40  [arrêtez the bridge anglais ! regardez states ...  \n",
       "41  [plupart africains avail mentalité d’etoo, big...  \n",
       "42  [aaaaaarghr , samuellll, ohhhh samuellll, 1:02...  \n",
       "43  [c’est dieu dieu do légende l’humour, meilleur...  \n",
       "44  [meilleurs font erreurs . parce n'es meilleur ...  \n",
       "45  [magnifique. merçi production, merci etoo merc...  \n",
       "46  [tchouameni a trouvé nouveau taff eto'o légend...  \n",
       "47  [samuel eto’o bonne source d’inspiration, tcho...  \n",
       "48  [écoutant samuel etoo, confiance soi. merci sa...  \n",
       "49  [j’ai envie replacer mèche rédouane, mdrr redo...  \n",
       "50                           [️️️, 🇨🇲🇨🇲🇫🇷🇫🇷, تشاد 🇹🇩]  \n",
       "51  [interview qualité, rendu compte c’était fin t...  \n",
       "52  [pris plaisir regarder émission surtout père e...  \n",
       "53  [samuel eto'o seul sait levé salué gradient. v...  "
      ]
     },
     "execution_count": 37,
     "metadata": {},
     "output_type": "execute_result"
    }
   ],
   "source": [
    "topic_model.get_topic_info()"
   ]
  },
  {
   "cell_type": "code",
   "execution_count": 39,
   "metadata": {},
   "outputs": [
    {
     "data": {
      "application/vnd.plotly.v1+json": {
       "config": {
        "plotlyServerURL": "https://plot.ly"
       },
       "data": [
        {
         "marker": {
          "color": "#D55E00"
         },
         "orientation": "h",
         "type": "bar",
         "x": [
          0.02637934127918096,
          0.02637934127918096,
          0.02637934127918096,
          0.02637934127918096,
          0.02637934127918096,
          0.029105935888943377,
          0.030130558844418856,
          0.03643449884840768,
          0.03677313804159316,
          0.03771925919909694
         ],
         "xaxis": "x",
         "y": [
          "mountains redouane  ",
          "rencontrer un  ",
          "mito celui là  ",
          "plié top  ",
          "11  ",
          "fort  ",
          "masterclass  ",
          "up  ",
          "redouane  ",
          "travail  "
         ],
         "yaxis": "y"
        },
        {
         "marker": {
          "color": "#0072B2"
         },
         "orientation": "h",
         "type": "bar",
         "x": [
          0.017843857973489922,
          0.018890614480165775,
          0.02036879718320706,
          0.02036879718320706,
          0.02036879718320706,
          0.02036879718320706,
          0.02036879718320706,
          0.02036879718320706,
          0.02036879718320706,
          0.13252724908218885
         ],
         "xaxis": "x2",
         "y": [
          "présentateur  ",
          "is  ",
          "etoo tchouameni  ",
          "éloquence  ",
          "such  ",
          "tchouameni tchouameni  ",
          "tchouameni meilleur  ",
          "doumbe tchouameni  ",
          "bon présentateur  ",
          "tchouameni  "
         ],
         "yaxis": "y2"
        },
        {
         "marker": {
          "color": "#CC79A7"
         },
         "orientation": "h",
         "type": "bar",
         "x": [
          0.019089259243147878,
          0.019089259243147878,
          0.02061999837959544,
          0.023892191525296456,
          0.025919757020101575,
          0.02802150123573192,
          0.031099920827242753,
          0.033504055255816435,
          0.03557373006374003,
          0.035665245073441314
         ],
         "xaxis": "x3",
         "y": [
          "première mi temps  ",
          "première mi  ",
          "menteur  ",
          "match  ",
          "triplé  ",
          "temps  ",
          "mi temps  ",
          "mi  ",
          "jamais  ",
          "inter  "
         ],
         "yaxis": "y3"
        },
        {
         "marker": {
          "color": "#E69F00"
         },
         "orientation": "h",
         "type": "bar",
         "x": [
          0.06315054427440292,
          0.06315054427440292,
          0.06315054427440292,
          0.06315054427440292,
          0.06315054427440292,
          0.06315054427440292,
          0.06315054427440292,
          0.06315054427440292,
          0.07494571037940206,
          0.07494571037940206
         ],
         "xaxis": "x4",
         "y": [
          "valzero rebondir arrogant  ",
          "valzero  ",
          "rate  ",
          "vie bravo  ",
          "vie bravo aimé  ",
          "vidéo siècle incroyable  ",
          "pleure  ",
          "merci excellent  ",
          "excellent  ",
          "mort  "
         ],
         "yaxis": "y4"
        },
        {
         "marker": {
          "color": "#56B4E9"
         },
         "orientation": "h",
         "type": "bar",
         "x": [
          0.04261058721084695,
          0.04261058721084695,
          0.04261058721084695,
          0.04261058721084695,
          0.04391644164680234,
          0.04678133300235797,
          0.059277445437761575,
          0.059277445437761575,
          0.059277445437761575,
          0.15603505301952356
         ],
         "xaxis": "x5",
         "y": [
          "mythoman eto  ",
          "mytho eto  ",
          "mytho eto mytho  ",
          "gros mytho  ",
          "etoo  ",
          "gros  ",
          "eto mytho  ",
          "prédateur  ",
          "samuel mytho  ",
          "mytho  "
         ],
         "yaxis": "y5"
        }
       ],
       "layout": {
        "annotations": [
         {
          "font": {
           "size": 16
          },
          "showarrow": false,
          "text": "Topic 1",
          "x": 0.0875,
          "xanchor": "center",
          "xref": "paper",
          "y": 1,
          "yanchor": "bottom",
          "yref": "paper"
         },
         {
          "font": {
           "size": 16
          },
          "showarrow": false,
          "text": "Topic 2",
          "x": 0.36250000000000004,
          "xanchor": "center",
          "xref": "paper",
          "y": 1,
          "yanchor": "bottom",
          "yref": "paper"
         },
         {
          "font": {
           "size": 16
          },
          "showarrow": false,
          "text": "Topic 3",
          "x": 0.6375000000000001,
          "xanchor": "center",
          "xref": "paper",
          "y": 1,
          "yanchor": "bottom",
          "yref": "paper"
         },
         {
          "font": {
           "size": 16
          },
          "showarrow": false,
          "text": "Topic 4",
          "x": 0.9125,
          "xanchor": "center",
          "xref": "paper",
          "y": 1,
          "yanchor": "bottom",
          "yref": "paper"
         },
         {
          "font": {
           "size": 16
          },
          "showarrow": false,
          "text": "Topic 5",
          "x": 0.0875,
          "xanchor": "center",
          "xref": "paper",
          "y": 0.4,
          "yanchor": "bottom",
          "yref": "paper"
         }
        ],
        "height": 600,
        "hoverlabel": {
         "bgcolor": "white",
         "font": {
          "family": "Rockwell",
          "size": 16
         }
        },
        "showlegend": false,
        "template": {
         "data": {
          "bar": [
           {
            "error_x": {
             "color": "#2a3f5f"
            },
            "error_y": {
             "color": "#2a3f5f"
            },
            "marker": {
             "line": {
              "color": "white",
              "width": 0.5
             },
             "pattern": {
              "fillmode": "overlay",
              "size": 10,
              "solidity": 0.2
             }
            },
            "type": "bar"
           }
          ],
          "barpolar": [
           {
            "marker": {
             "line": {
              "color": "white",
              "width": 0.5
             },
             "pattern": {
              "fillmode": "overlay",
              "size": 10,
              "solidity": 0.2
             }
            },
            "type": "barpolar"
           }
          ],
          "carpet": [
           {
            "aaxis": {
             "endlinecolor": "#2a3f5f",
             "gridcolor": "#C8D4E3",
             "linecolor": "#C8D4E3",
             "minorgridcolor": "#C8D4E3",
             "startlinecolor": "#2a3f5f"
            },
            "baxis": {
             "endlinecolor": "#2a3f5f",
             "gridcolor": "#C8D4E3",
             "linecolor": "#C8D4E3",
             "minorgridcolor": "#C8D4E3",
             "startlinecolor": "#2a3f5f"
            },
            "type": "carpet"
           }
          ],
          "choropleth": [
           {
            "colorbar": {
             "outlinewidth": 0,
             "ticks": ""
            },
            "type": "choropleth"
           }
          ],
          "contour": [
           {
            "colorbar": {
             "outlinewidth": 0,
             "ticks": ""
            },
            "colorscale": [
             [
              0,
              "#0d0887"
             ],
             [
              0.1111111111111111,
              "#46039f"
             ],
             [
              0.2222222222222222,
              "#7201a8"
             ],
             [
              0.3333333333333333,
              "#9c179e"
             ],
             [
              0.4444444444444444,
              "#bd3786"
             ],
             [
              0.5555555555555556,
              "#d8576b"
             ],
             [
              0.6666666666666666,
              "#ed7953"
             ],
             [
              0.7777777777777778,
              "#fb9f3a"
             ],
             [
              0.8888888888888888,
              "#fdca26"
             ],
             [
              1,
              "#f0f921"
             ]
            ],
            "type": "contour"
           }
          ],
          "contourcarpet": [
           {
            "colorbar": {
             "outlinewidth": 0,
             "ticks": ""
            },
            "type": "contourcarpet"
           }
          ],
          "heatmap": [
           {
            "colorbar": {
             "outlinewidth": 0,
             "ticks": ""
            },
            "colorscale": [
             [
              0,
              "#0d0887"
             ],
             [
              0.1111111111111111,
              "#46039f"
             ],
             [
              0.2222222222222222,
              "#7201a8"
             ],
             [
              0.3333333333333333,
              "#9c179e"
             ],
             [
              0.4444444444444444,
              "#bd3786"
             ],
             [
              0.5555555555555556,
              "#d8576b"
             ],
             [
              0.6666666666666666,
              "#ed7953"
             ],
             [
              0.7777777777777778,
              "#fb9f3a"
             ],
             [
              0.8888888888888888,
              "#fdca26"
             ],
             [
              1,
              "#f0f921"
             ]
            ],
            "type": "heatmap"
           }
          ],
          "heatmapgl": [
           {
            "colorbar": {
             "outlinewidth": 0,
             "ticks": ""
            },
            "colorscale": [
             [
              0,
              "#0d0887"
             ],
             [
              0.1111111111111111,
              "#46039f"
             ],
             [
              0.2222222222222222,
              "#7201a8"
             ],
             [
              0.3333333333333333,
              "#9c179e"
             ],
             [
              0.4444444444444444,
              "#bd3786"
             ],
             [
              0.5555555555555556,
              "#d8576b"
             ],
             [
              0.6666666666666666,
              "#ed7953"
             ],
             [
              0.7777777777777778,
              "#fb9f3a"
             ],
             [
              0.8888888888888888,
              "#fdca26"
             ],
             [
              1,
              "#f0f921"
             ]
            ],
            "type": "heatmapgl"
           }
          ],
          "histogram": [
           {
            "marker": {
             "pattern": {
              "fillmode": "overlay",
              "size": 10,
              "solidity": 0.2
             }
            },
            "type": "histogram"
           }
          ],
          "histogram2d": [
           {
            "colorbar": {
             "outlinewidth": 0,
             "ticks": ""
            },
            "colorscale": [
             [
              0,
              "#0d0887"
             ],
             [
              0.1111111111111111,
              "#46039f"
             ],
             [
              0.2222222222222222,
              "#7201a8"
             ],
             [
              0.3333333333333333,
              "#9c179e"
             ],
             [
              0.4444444444444444,
              "#bd3786"
             ],
             [
              0.5555555555555556,
              "#d8576b"
             ],
             [
              0.6666666666666666,
              "#ed7953"
             ],
             [
              0.7777777777777778,
              "#fb9f3a"
             ],
             [
              0.8888888888888888,
              "#fdca26"
             ],
             [
              1,
              "#f0f921"
             ]
            ],
            "type": "histogram2d"
           }
          ],
          "histogram2dcontour": [
           {
            "colorbar": {
             "outlinewidth": 0,
             "ticks": ""
            },
            "colorscale": [
             [
              0,
              "#0d0887"
             ],
             [
              0.1111111111111111,
              "#46039f"
             ],
             [
              0.2222222222222222,
              "#7201a8"
             ],
             [
              0.3333333333333333,
              "#9c179e"
             ],
             [
              0.4444444444444444,
              "#bd3786"
             ],
             [
              0.5555555555555556,
              "#d8576b"
             ],
             [
              0.6666666666666666,
              "#ed7953"
             ],
             [
              0.7777777777777778,
              "#fb9f3a"
             ],
             [
              0.8888888888888888,
              "#fdca26"
             ],
             [
              1,
              "#f0f921"
             ]
            ],
            "type": "histogram2dcontour"
           }
          ],
          "mesh3d": [
           {
            "colorbar": {
             "outlinewidth": 0,
             "ticks": ""
            },
            "type": "mesh3d"
           }
          ],
          "parcoords": [
           {
            "line": {
             "colorbar": {
              "outlinewidth": 0,
              "ticks": ""
             }
            },
            "type": "parcoords"
           }
          ],
          "pie": [
           {
            "automargin": true,
            "type": "pie"
           }
          ],
          "scatter": [
           {
            "fillpattern": {
             "fillmode": "overlay",
             "size": 10,
             "solidity": 0.2
            },
            "type": "scatter"
           }
          ],
          "scatter3d": [
           {
            "line": {
             "colorbar": {
              "outlinewidth": 0,
              "ticks": ""
             }
            },
            "marker": {
             "colorbar": {
              "outlinewidth": 0,
              "ticks": ""
             }
            },
            "type": "scatter3d"
           }
          ],
          "scattercarpet": [
           {
            "marker": {
             "colorbar": {
              "outlinewidth": 0,
              "ticks": ""
             }
            },
            "type": "scattercarpet"
           }
          ],
          "scattergeo": [
           {
            "marker": {
             "colorbar": {
              "outlinewidth": 0,
              "ticks": ""
             }
            },
            "type": "scattergeo"
           }
          ],
          "scattergl": [
           {
            "marker": {
             "colorbar": {
              "outlinewidth": 0,
              "ticks": ""
             }
            },
            "type": "scattergl"
           }
          ],
          "scattermapbox": [
           {
            "marker": {
             "colorbar": {
              "outlinewidth": 0,
              "ticks": ""
             }
            },
            "type": "scattermapbox"
           }
          ],
          "scatterpolar": [
           {
            "marker": {
             "colorbar": {
              "outlinewidth": 0,
              "ticks": ""
             }
            },
            "type": "scatterpolar"
           }
          ],
          "scatterpolargl": [
           {
            "marker": {
             "colorbar": {
              "outlinewidth": 0,
              "ticks": ""
             }
            },
            "type": "scatterpolargl"
           }
          ],
          "scatterternary": [
           {
            "marker": {
             "colorbar": {
              "outlinewidth": 0,
              "ticks": ""
             }
            },
            "type": "scatterternary"
           }
          ],
          "surface": [
           {
            "colorbar": {
             "outlinewidth": 0,
             "ticks": ""
            },
            "colorscale": [
             [
              0,
              "#0d0887"
             ],
             [
              0.1111111111111111,
              "#46039f"
             ],
             [
              0.2222222222222222,
              "#7201a8"
             ],
             [
              0.3333333333333333,
              "#9c179e"
             ],
             [
              0.4444444444444444,
              "#bd3786"
             ],
             [
              0.5555555555555556,
              "#d8576b"
             ],
             [
              0.6666666666666666,
              "#ed7953"
             ],
             [
              0.7777777777777778,
              "#fb9f3a"
             ],
             [
              0.8888888888888888,
              "#fdca26"
             ],
             [
              1,
              "#f0f921"
             ]
            ],
            "type": "surface"
           }
          ],
          "table": [
           {
            "cells": {
             "fill": {
              "color": "#EBF0F8"
             },
             "line": {
              "color": "white"
             }
            },
            "header": {
             "fill": {
              "color": "#C8D4E3"
             },
             "line": {
              "color": "white"
             }
            },
            "type": "table"
           }
          ]
         },
         "layout": {
          "annotationdefaults": {
           "arrowcolor": "#2a3f5f",
           "arrowhead": 0,
           "arrowwidth": 1
          },
          "autotypenumbers": "strict",
          "coloraxis": {
           "colorbar": {
            "outlinewidth": 0,
            "ticks": ""
           }
          },
          "colorscale": {
           "diverging": [
            [
             0,
             "#8e0152"
            ],
            [
             0.1,
             "#c51b7d"
            ],
            [
             0.2,
             "#de77ae"
            ],
            [
             0.3,
             "#f1b6da"
            ],
            [
             0.4,
             "#fde0ef"
            ],
            [
             0.5,
             "#f7f7f7"
            ],
            [
             0.6,
             "#e6f5d0"
            ],
            [
             0.7,
             "#b8e186"
            ],
            [
             0.8,
             "#7fbc41"
            ],
            [
             0.9,
             "#4d9221"
            ],
            [
             1,
             "#276419"
            ]
           ],
           "sequential": [
            [
             0,
             "#0d0887"
            ],
            [
             0.1111111111111111,
             "#46039f"
            ],
            [
             0.2222222222222222,
             "#7201a8"
            ],
            [
             0.3333333333333333,
             "#9c179e"
            ],
            [
             0.4444444444444444,
             "#bd3786"
            ],
            [
             0.5555555555555556,
             "#d8576b"
            ],
            [
             0.6666666666666666,
             "#ed7953"
            ],
            [
             0.7777777777777778,
             "#fb9f3a"
            ],
            [
             0.8888888888888888,
             "#fdca26"
            ],
            [
             1,
             "#f0f921"
            ]
           ],
           "sequentialminus": [
            [
             0,
             "#0d0887"
            ],
            [
             0.1111111111111111,
             "#46039f"
            ],
            [
             0.2222222222222222,
             "#7201a8"
            ],
            [
             0.3333333333333333,
             "#9c179e"
            ],
            [
             0.4444444444444444,
             "#bd3786"
            ],
            [
             0.5555555555555556,
             "#d8576b"
            ],
            [
             0.6666666666666666,
             "#ed7953"
            ],
            [
             0.7777777777777778,
             "#fb9f3a"
            ],
            [
             0.8888888888888888,
             "#fdca26"
            ],
            [
             1,
             "#f0f921"
            ]
           ]
          },
          "colorway": [
           "#636efa",
           "#EF553B",
           "#00cc96",
           "#ab63fa",
           "#FFA15A",
           "#19d3f3",
           "#FF6692",
           "#B6E880",
           "#FF97FF",
           "#FECB52"
          ],
          "font": {
           "color": "#2a3f5f"
          },
          "geo": {
           "bgcolor": "white",
           "lakecolor": "white",
           "landcolor": "white",
           "showlakes": true,
           "showland": true,
           "subunitcolor": "#C8D4E3"
          },
          "hoverlabel": {
           "align": "left"
          },
          "hovermode": "closest",
          "mapbox": {
           "style": "light"
          },
          "paper_bgcolor": "white",
          "plot_bgcolor": "white",
          "polar": {
           "angularaxis": {
            "gridcolor": "#EBF0F8",
            "linecolor": "#EBF0F8",
            "ticks": ""
           },
           "bgcolor": "white",
           "radialaxis": {
            "gridcolor": "#EBF0F8",
            "linecolor": "#EBF0F8",
            "ticks": ""
           }
          },
          "scene": {
           "xaxis": {
            "backgroundcolor": "white",
            "gridcolor": "#DFE8F3",
            "gridwidth": 2,
            "linecolor": "#EBF0F8",
            "showbackground": true,
            "ticks": "",
            "zerolinecolor": "#EBF0F8"
           },
           "yaxis": {
            "backgroundcolor": "white",
            "gridcolor": "#DFE8F3",
            "gridwidth": 2,
            "linecolor": "#EBF0F8",
            "showbackground": true,
            "ticks": "",
            "zerolinecolor": "#EBF0F8"
           },
           "zaxis": {
            "backgroundcolor": "white",
            "gridcolor": "#DFE8F3",
            "gridwidth": 2,
            "linecolor": "#EBF0F8",
            "showbackground": true,
            "ticks": "",
            "zerolinecolor": "#EBF0F8"
           }
          },
          "shapedefaults": {
           "line": {
            "color": "#2a3f5f"
           }
          },
          "ternary": {
           "aaxis": {
            "gridcolor": "#DFE8F3",
            "linecolor": "#A2B1C6",
            "ticks": ""
           },
           "baxis": {
            "gridcolor": "#DFE8F3",
            "linecolor": "#A2B1C6",
            "ticks": ""
           },
           "bgcolor": "white",
           "caxis": {
            "gridcolor": "#DFE8F3",
            "linecolor": "#A2B1C6",
            "ticks": ""
           }
          },
          "title": {
           "x": 0.05
          },
          "xaxis": {
           "automargin": true,
           "gridcolor": "#EBF0F8",
           "linecolor": "#EBF0F8",
           "ticks": "",
           "title": {
            "standoff": 15
           },
           "zerolinecolor": "#EBF0F8",
           "zerolinewidth": 2
          },
          "yaxis": {
           "automargin": true,
           "gridcolor": "#EBF0F8",
           "linecolor": "#EBF0F8",
           "ticks": "",
           "title": {
            "standoff": 15
           },
           "zerolinecolor": "#EBF0F8",
           "zerolinewidth": 2
          }
         }
        },
        "title": {
         "font": {
          "color": "Black",
          "size": 22
         },
         "text": "Topic Word Scores",
         "x": 0.5,
         "xanchor": "center",
         "yanchor": "top"
        },
        "width": 1200,
        "xaxis": {
         "anchor": "y",
         "domain": [
          0,
          0.175
         ],
         "showgrid": true
        },
        "xaxis2": {
         "anchor": "y2",
         "domain": [
          0.275,
          0.45
         ],
         "showgrid": true
        },
        "xaxis3": {
         "anchor": "y3",
         "domain": [
          0.55,
          0.7250000000000001
         ],
         "showgrid": true
        },
        "xaxis4": {
         "anchor": "y4",
         "domain": [
          0.825,
          1
         ],
         "showgrid": true
        },
        "xaxis5": {
         "anchor": "y5",
         "domain": [
          0,
          0.175
         ],
         "showgrid": true
        },
        "xaxis6": {
         "anchor": "y6",
         "domain": [
          0.275,
          0.45
         ],
         "showgrid": true
        },
        "xaxis7": {
         "anchor": "y7",
         "domain": [
          0.55,
          0.7250000000000001
         ],
         "showgrid": true
        },
        "xaxis8": {
         "anchor": "y8",
         "domain": [
          0.825,
          1
         ],
         "showgrid": true
        },
        "yaxis": {
         "anchor": "x",
         "domain": [
          0.6000000000000001,
          1
         ],
         "showgrid": true
        },
        "yaxis2": {
         "anchor": "x2",
         "domain": [
          0.6000000000000001,
          1
         ],
         "showgrid": true
        },
        "yaxis3": {
         "anchor": "x3",
         "domain": [
          0.6000000000000001,
          1
         ],
         "showgrid": true
        },
        "yaxis4": {
         "anchor": "x4",
         "domain": [
          0.6000000000000001,
          1
         ],
         "showgrid": true
        },
        "yaxis5": {
         "anchor": "x5",
         "domain": [
          0,
          0.4
         ],
         "showgrid": true
        },
        "yaxis6": {
         "anchor": "x6",
         "domain": [
          0,
          0.4
         ],
         "showgrid": true
        },
        "yaxis7": {
         "anchor": "x7",
         "domain": [
          0,
          0.4
         ],
         "showgrid": true
        },
        "yaxis8": {
         "anchor": "x8",
         "domain": [
          0,
          0.4
         ],
         "showgrid": true
        }
       }
      }
     },
     "metadata": {},
     "output_type": "display_data"
    }
   ],
   "source": [
    "topic_model.visualize_barchart(n_words=10, topics=[1,2,3,4,5, ], height=300, width=300)"
   ]
  },
  {
   "cell_type": "code",
   "execution_count": 40,
   "metadata": {},
   "outputs": [
    {
     "data": {
      "application/vnd.plotly.v1+json": {
       "config": {
        "plotlyServerURL": "https://plot.ly"
       },
       "data": [
        {
         "coloraxis": "coloraxis",
         "hovertemplate": "x: %{x}<br>y: %{y}<br>Similarity Score: %{z}<extra></extra>",
         "name": "0",
         "type": "heatmap",
         "x": [
          "0_samuel eto_samuel_eto",
          "1_travail_redouane_up",
          "2_tchouameni_bon présentate...",
          "3_inter_jamais_mi",
          "4_mort_excellent_merci exce...",
          "5_mytho_samuel mytho_prédat...",
          "6_eto_touche eto_eto eto co...",
          "7_eto eto_eto_eto eto eto",
          "8_interview_réunion_belle i...",
          "9_combattant_cédric_meilleu...",
          "10_orh samuel_orh_samuel orh",
          "11_sujets_parler_écouter",
          "12_émission_super émission_...",
          "13_samuel_samuel ohh samuel...",
          "14_02_02 53_53",
          "15_cameroun_coupe_coupe monde",
          "16_aurélien_aurelien_job",
          "17_camerounais_cameroun_fière",
          "18_vidéo_afrique_visionnaire",
          "19_mike_mike maignan_maignan",
          "20_afrique_samuel eto_samuel",
          "21_vidéo_ai_excellent",
          "22_oh samuel_oh_samuel oh s...",
          "23_02_samuel 02_00",
          "24_2006_barca_ballon or",
          "25_joueur_ça_après",
          "26_ohhhhr_ohhhhr samuel_sam...",
          "27_fou_eto fou_sport",
          "28_rappelle_raconter_marrant",
          "29_légende eto_légende_la l...",
          "30_aurélien_journaliste_bon",
          "31_admirable_blanc_vu",
          "32_adore_samuel_aurélien",
          "33_parle_écouter eto sait_p...",
          "34_fausse_mentir_anecdote",
          "35_baki_moins_terrain",
          "36_encore_ensuite_attends",
          "37_ngambé_doumbé_mieux orteil",
          "38_masterclass_charisme_eto...",
          "39_the bridge_bridge_the",
          "40_afrique_africains_mental...",
          "41_samuellll_ohhhh_orrrrrrr...",
          "42_francais_humoriste_meill...",
          "43_erreurs_font erreurs_mei...",
          "44_merci_stars_merci rien",
          "45_taff_tchouameni_après",
          "46_eto bonne_samuel eto bon...",
          "47_samuel etoo_etoo_merci s...",
          "48_redouane_vidéo quoi mont...",
          "49_تشاد__",
          "50_régal_compte_était",
          "51_papa eto_we love_we",
          "52_confiance_assurance_inte..."
         ],
         "xaxis": "x",
         "y": [
          "0_samuel eto_samuel_eto",
          "1_travail_redouane_up",
          "2_tchouameni_bon présentate...",
          "3_inter_jamais_mi",
          "4_mort_excellent_merci exce...",
          "5_mytho_samuel mytho_prédat...",
          "6_eto_touche eto_eto eto co...",
          "7_eto eto_eto_eto eto eto",
          "8_interview_réunion_belle i...",
          "9_combattant_cédric_meilleu...",
          "10_orh samuel_orh_samuel orh",
          "11_sujets_parler_écouter",
          "12_émission_super émission_...",
          "13_samuel_samuel ohh samuel...",
          "14_02_02 53_53",
          "15_cameroun_coupe_coupe monde",
          "16_aurélien_aurelien_job",
          "17_camerounais_cameroun_fière",
          "18_vidéo_afrique_visionnaire",
          "19_mike_mike maignan_maignan",
          "20_afrique_samuel eto_samuel",
          "21_vidéo_ai_excellent",
          "22_oh samuel_oh_samuel oh s...",
          "23_02_samuel 02_00",
          "24_2006_barca_ballon or",
          "25_joueur_ça_après",
          "26_ohhhhr_ohhhhr samuel_sam...",
          "27_fou_eto fou_sport",
          "28_rappelle_raconter_marrant",
          "29_légende eto_légende_la l...",
          "30_aurélien_journaliste_bon",
          "31_admirable_blanc_vu",
          "32_adore_samuel_aurélien",
          "33_parle_écouter eto sait_p...",
          "34_fausse_mentir_anecdote",
          "35_baki_moins_terrain",
          "36_encore_ensuite_attends",
          "37_ngambé_doumbé_mieux orteil",
          "38_masterclass_charisme_eto...",
          "39_the bridge_bridge_the",
          "40_afrique_africains_mental...",
          "41_samuellll_ohhhh_orrrrrrr...",
          "42_francais_humoriste_meill...",
          "43_erreurs_font erreurs_mei...",
          "44_merci_stars_merci rien",
          "45_taff_tchouameni_après",
          "46_eto bonne_samuel eto bon...",
          "47_samuel etoo_etoo_merci s...",
          "48_redouane_vidéo quoi mont...",
          "49_تشاد__",
          "50_régal_compte_était",
          "51_papa eto_we love_we",
          "52_confiance_assurance_inte..."
         ],
         "yaxis": "y",
         "z": [
          [
           1.000000238418579,
           0.05775843560695648,
           0.25161606073379517,
           0.4488932490348816,
           0.039545007050037384,
           0.4095672369003296,
           0.606493353843689,
           0.5441194772720337,
           0.23724934458732605,
           0.20861589908599854,
           0.7134518623352051,
           0.12994854152202606,
           0.07807905972003937,
           0.7253040671348572,
           0.08861325681209564,
           0.3393152058124542,
           0.31417325139045715,
           0.25455260276794434,
           0.39424562454223633,
           0.38444820046424866,
           0.8365885615348816,
           0.2437305450439453,
           0.6897372007369995,
           0.6900805234909058,
           0.5619645118713379,
           0.27021077275276184,
           0.7297723889350891,
           0.5313665270805359,
           0.12063060700893402,
           0.4901394546031952,
           0.24381205439567566,
           0.3213436007499695,
           0.6691880226135254,
           0.29703718423843384,
           0.08538050949573517,
           0.19688712060451508,
           0.2533981502056122,
           0.2783728837966919,
           0.30925893783569336,
           -0.009224668145179749,
           0.2792980968952179,
           0.3480295240879059,
           0.22676125168800354,
           0.48790237307548523,
           0.1605410873889923,
           0.15393425524234772,
           0.6486893892288208,
           0.8304468989372253,
           0.24612389504909515,
           0.10847114026546478,
           0.15647487342357635,
           0.4736085534095764,
           0.46748217940330505
          ],
          [
           0.05775843560695648,
           0.9999998807907104,
           0.3073696494102478,
           0.15830115973949432,
           0.7838940620422363,
           0.3413333296775818,
           0.35609734058380127,
           0.49852943420410156,
           0.6381772756576538,
           0.21625179052352905,
           0.06403425335884094,
           0.6513429284095764,
           0.47541144490242004,
           0.22369195520877838,
           0.4563025236129761,
           0.04575146734714508,
           0.4310547709465027,
           0.14059822261333466,
           0.46324706077575684,
           0.34708070755004883,
           0.08015002310276031,
           0.5245646834373474,
           0.10844756662845612,
           0.11220179498195648,
           0.1434197723865509,
           0.3743847906589508,
           0.018326323479413986,
           0.3198596239089966,
           0.5218852758407593,
           0.4233095049858093,
           0.43152010440826416,
           0.549195408821106,
           0.12053513526916504,
           0.3231969475746155,
           0.5644980072975159,
           0.4654696583747864,
           0.531341552734375,
           0.3964986801147461,
           0.3600100874900818,
           0.3458840250968933,
           0.38267841935157776,
           0.27396154403686523,
           0.2802267372608185,
           0.10038939863443375,
           0.5364587306976318,
           0.5096893906593323,
           0.3212776184082031,
           0.1459687352180481,
           0.1741015762090683,
           0.5106685161590576,
           0.5107208490371704,
           0.3086048662662506,
           0.46417170763015747
          ],
          [
           0.25161606073379517,
           0.3073696494102478,
           1,
           0.39060139656066895,
           0.19029982388019562,
           0.3226907253265381,
           0.36775729060173035,
           0.42129701375961304,
           0.4030982553958893,
           0.20356635749340057,
           0.12124668806791306,
           0.4309602379798889,
           0.2603151500225067,
           0.15341517329216003,
           0.22981427609920502,
           0.39576685428619385,
           0.3430638611316681,
           0.40791285037994385,
           0.37910252809524536,
           0.4443979859352112,
           0.2551582455635071,
           0.28913357853889465,
           0.0850764811038971,
           0.3093778192996979,
           0.34193098545074463,
           0.39061543345451355,
           0.21702930331230164,
           0.435445636510849,
           0.38605809211730957,
           0.3546482026576996,
           0.4114994704723358,
           0.4568565785884857,
           0.30276283621788025,
           0.43652254343032837,
           0.3681601583957672,
           0.36315810680389404,
           0.4751895070075989,
           0.44713783264160156,
           0.326288640499115,
           0.3430854082107544,
           0.23624610900878906,
           0.3940845727920532,
           0.24347901344299316,
           0.2963765859603882,
           0.34569939970970154,
           0.7382896542549133,
           0.5093753933906555,
           0.352125346660614,
           0.2392062246799469,
           0.1248253732919693,
           0.3551461398601532,
           0.37956804037094116,
           0.35073649883270264
          ],
          [
           0.4488932490348816,
           0.15830115973949432,
           0.39060139656066895,
           1,
           0.04191563278436661,
           0.44099026918411255,
           0.3660051226615906,
           0.3644123375415802,
           0.3912469148635864,
           0.38524219393730164,
           0.24344223737716675,
           0.3447326421737671,
           0.1113797277212143,
           0.31574010848999023,
           0.08948123455047607,
           0.5546277761459351,
           0.2866215705871582,
           0.19726212322711945,
           0.4940839111804962,
           0.4820721745491028,
           0.4824765920639038,
           0.3272446393966675,
           0.20890367031097412,
           0.4087585210800171,
           0.7062931060791016,
           0.6557974815368652,
           0.34483402967453003,
           0.4742770791053772,
           0.3508055806159973,
           0.44524648785591125,
           0.3812488317489624,
           0.4718804955482483,
           0.4332968592643738,
           0.29185256361961365,
           0.3502162992954254,
           0.51352858543396,
           0.4914093017578125,
           0.3300171494483948,
           0.3702135384082794,
           0.19291695952415466,
           0.2581948935985565,
           0.2505173683166504,
           0.3854691684246063,
           0.46387237310409546,
           0.23393654823303223,
           0.41199609637260437,
           0.5586063861846924,
           0.5066456198692322,
           0.3435195982456207,
           -0.003657158464193344,
           0.3582960069179535,
           0.3342636525630951,
           0.46897125244140625
          ],
          [
           0.039545007050037384,
           0.7838940620422363,
           0.19029982388019562,
           0.04191563278436661,
           0.9999998807907104,
           0.23014643788337708,
           0.2726156711578369,
           0.3613499104976654,
           0.3785040080547333,
           0.13372646272182465,
           0.075104258954525,
           0.2964334785938263,
           0.369244247674942,
           0.14662033319473267,
           0.41001245379447937,
           -0.06022975593805313,
           0.25550639629364014,
           0.1743297278881073,
           0.15912823379039764,
           0.1477736234664917,
           0.03015357069671154,
           0.3315636217594147,
           0.11604812741279602,
           0.07819534093141556,
           -0.016022687777876854,
           0.05768248438835144,
           0.0618622861802578,
           0.2005370408296585,
           0.21325045824050903,
           0.2483062744140625,
           0.15286117792129517,
           0.20009703934192657,
           0.02925676666200161,
           0.1630409061908722,
           0.35777127742767334,
           0.10829147696495056,
           0.18122248351573944,
           0.2772083282470703,
           0.17081177234649658,
           0.14117202162742615,
           0.23385050892829895,
           0.21225637197494507,
           0.15657533705234528,
           -0.028919372707605362,
           0.3827695846557617,
           0.20452070236206055,
           0.12355729192495346,
           0.05735046789050102,
           0.12428059428930283,
           0.589653491973877,
           0.24957893788814545,
           0.17780150473117828,
           0.17453578114509583
          ],
          [
           0.4095672369003296,
           0.3413333296775818,
           0.3226907253265381,
           0.44099026918411255,
           0.23014643788337708,
           0.9999998807907104,
           0.46107017993927,
           0.5175138115882874,
           0.4617612361907959,
           0.30048438906669617,
           0.3140331506729126,
           0.3114266097545624,
           0.20718348026275635,
           0.3339323401451111,
           0.18735484778881073,
           0.2111513465642929,
           0.26361364126205444,
           0.26200994849205017,
           0.36101454496383667,
           0.41258054971694946,
           0.40652036666870117,
           0.3062600791454315,
           0.24794980883598328,
           0.398714542388916,
           0.3522926867008209,
           0.32215139269828796,
           0.3862883448600769,
           0.5813859105110168,
           0.2931002378463745,
           0.38405072689056396,
           0.23940947651863098,
           0.4774641990661621,
           0.40059739351272583,
           0.3194083273410797,
           0.4395505487918854,
           0.3188345432281494,
           0.28396421670913696,
           0.49595826864242554,
           0.3169742524623871,
           0.3099157214164734,
           0.34530237317085266,
           0.3297322392463684,
           0.26368725299835205,
           0.2248205542564392,
           0.2586754560470581,
           0.3775255084037781,
           0.4038097858428955,
           0.46448782086372375,
           0.3276418149471283,
           0.18087700009346008,
           0.34957781434059143,
           0.3055829405784607,
           0.4096829891204834
          ],
          [
           0.606493353843689,
           0.35609734058380127,
           0.36775729060173035,
           0.3660051226615906,
           0.2726156711578369,
           0.46107017993927,
           1,
           0.8346958756446838,
           0.43184295296669006,
           0.14229293167591095,
           0.18829494714736938,
           0.34624364972114563,
           0.27829408645629883,
           0.23735319077968597,
           0.1650591492652893,
           0.28061097860336304,
           0.3355802893638611,
           0.30113548040390015,
           0.4392105042934418,
           0.3741244375705719,
           0.6013854146003723,
           0.3214499354362488,
           0.16447892785072327,
           0.2589778006076813,
           0.4180295467376709,
           0.38250598311424255,
           0.2242002785205841,
           0.7521884441375732,
           0.34443095326423645,
           0.6506901383399963,
           0.3253602385520935,
           0.5132330656051636,
           0.28886401653289795,
           0.37819695472717285,
           0.33029040694236755,
           0.3228670060634613,
           0.348613977432251,
           0.37418681383132935,
           0.3082889914512634,
           0.1512168049812317,
           0.5068395733833313,
           0.38796520233154297,
           0.18624627590179443,
           0.38358163833618164,
           0.4131697714328766,
           0.3947339653968811,
           0.514542818069458,
           0.5025253891944885,
           0.29329004883766174,
           0.27056312561035156,
           0.36740589141845703,
           0.6584545373916626,
           0.46429428458213806
          ],
          [
           0.5441194772720337,
           0.49852943420410156,
           0.42129701375961304,
           0.3644123375415802,
           0.3613499104976654,
           0.5175138115882874,
           0.8346958756446838,
           1.0000004768371582,
           0.5047428011894226,
           0.1442638486623764,
           0.21818958222866058,
           0.41857779026031494,
           0.3214643895626068,
           0.27466917037963867,
           0.2842528223991394,
           0.23782378435134888,
           0.3907727003097534,
           0.27531200647354126,
           0.41524189710617065,
           0.41124147176742554,
           0.48157772421836853,
           0.40721675753593445,
           0.20921938121318817,
           0.29450756311416626,
           0.33840328454971313,
           0.3529261648654938,
           0.24683792889118195,
           0.6779437065124512,
           0.368513286113739,
           0.6177766919136047,
           0.3405799865722656,
           0.5404293537139893,
           0.289935827255249,
           0.4288555979728699,
           0.3892727494239807,
           0.34864237904548645,
           0.3716077208518982,
           0.4040452539920807,
           0.32703897356987,
           0.19268859922885895,
           0.4537721872329712,
           0.36067503690719604,
           0.20649121701717377,
           0.36981192231178284,
           0.41335058212280273,
           0.44267207384109497,
           0.5005620121955872,
           0.4277530610561371,
           0.3052240014076233,
           0.3259428143501282,
           0.4304102063179016,
           0.6253019571304321,
           0.45796364545822144
          ],
          [
           0.23724934458732605,
           0.6381772756576538,
           0.4030982553958893,
           0.3912469148635864,
           0.3785040080547333,
           0.4617612361907959,
           0.43184295296669006,
           0.5047428011894226,
           0.9999998807907104,
           0.27330517768859863,
           0.14172427356243134,
           0.7716829180717468,
           0.5018037557601929,
           0.27407366037368774,
           0.3042280375957489,
           0.2256191223859787,
           0.43788206577301025,
           0.2335091233253479,
           0.5933104753494263,
           0.42686113715171814,
           0.2701336145401001,
           0.6120252013206482,
           0.16566932201385498,
           0.2626614570617676,
           0.3559400141239166,
           0.48150327801704407,
           0.158810555934906,
           0.49567335844039917,
           0.6487977504730225,
           0.5058855414390564,
           0.5368374586105347,
           0.6994580030441284,
           0.33229994773864746,
           0.4612482190132141,
           0.6140377521514893,
           0.5843897461891174,
           0.6429608464241028,
           0.4115636348724365,
           0.4773574769496918,
           0.436890572309494,
           0.4723053574562073,
           0.35807591676712036,
           0.3646957576274872,
           0.2288447618484497,
           0.5352956652641296,
           0.6032601594924927,
           0.540270209312439,
           0.3487696349620819,
           0.3126215934753418,
           0.21483281254768372,
           0.6286725997924805,
           0.3472614288330078,
           0.6174786686897278
          ],
          [
           0.20861589908599854,
           0.21625179052352905,
           0.20356635749340057,
           0.38524219393730164,
           0.13372646272182465,
           0.30048438906669617,
           0.14229293167591095,
           0.1442638486623764,
           0.27330517768859863,
           0.9999997615814209,
           0.24742582440376282,
           0.2747487425804138,
           0.14341898262500763,
           0.2861000895500183,
           0.0941392332315445,
           0.2818160057067871,
           0.2457086741924286,
           0.19495534896850586,
           0.40183138847351074,
           0.347201406955719,
           0.31280481815338135,
           0.23827233910560608,
           0.2053333818912506,
           0.33285680413246155,
           0.4507271647453308,
           0.43799304962158203,
           0.3414779305458069,
           0.22863520681858063,
           0.3111957907676697,
           0.27198606729507446,
           0.2853368818759918,
           0.341787189245224,
           0.432283878326416,
           0.19470252096652985,
           0.19753995537757874,
           0.41704919934272766,
           0.3160487711429596,
           0.4657806158065796,
           0.36636438965797424,
           0.3477229177951813,
           0.2896130681037903,
           0.2286805957555771,
           0.4965662658214569,
           0.20271533727645874,
           0.19696947932243347,
           0.26746100187301636,
           0.4202817678451538,
           0.2957783341407776,
           0.2744053900241852,
           0.07710146903991699,
           0.1935569941997528,
           0.16007179021835327,
           0.33234620094299316
          ],
          [
           0.7134518623352051,
           0.06403425335884094,
           0.12124668806791306,
           0.24344223737716675,
           0.075104258954525,
           0.3140331506729126,
           0.18829494714736938,
           0.21818958222866058,
           0.14172427356243134,
           0.24742582440376282,
           1,
           0.027590911835432053,
           0.020639043301343918,
           0.933034360408783,
           0.0817774087190628,
           0.19573646783828735,
           0.2495667040348053,
           0.11810356378555298,
           0.2569853365421295,
           0.27779248356819153,
           0.5876618027687073,
           0.2254408597946167,
           0.9243823289871216,
           0.77461838722229,
           0.37159156799316406,
           0.11970353126525879,
           0.8987523317337036,
           0.2133501023054123,
           0.031421031802892685,
           0.19465404748916626,
           0.1409400999546051,
           0.15361452102661133,
           0.7724668979644775,
           0.1479860544204712,
           -0.0015400853008031845,
           0.08632742613554001,
           0.14674945175647736,
           0.22793981432914734,
           0.25758635997772217,
           0.03960669785737991,
           0.14726927876472473,
           0.3618156909942627,
           0.19637402892112732,
           0.26492732763290405,
           0.08304545283317566,
           0.02999761328101158,
           0.4584680199623108,
           0.6950709223747253,
           0.17137975990772247,
           0.12105006724596024,
           0.07837364077568054,
           0.195328950881958,
           0.26658257842063904
          ],
          [
           0.12994854152202606,
           0.6513429284095764,
           0.4309602379798889,
           0.3447326421737671,
           0.2964334785938263,
           0.3114266097545624,
           0.34624364972114563,
           0.41857779026031494,
           0.7716829180717468,
           0.2747487425804138,
           0.027590911835432053,
           1,
           0.5089936256408691,
           0.2009454071521759,
           0.2383788824081421,
           0.2942425310611725,
           0.44850367307662964,
           0.10568924248218536,
           0.7373006343841553,
           0.5050845742225647,
           0.17324857413768768,
           0.5756871104240417,
           0.03717659413814545,
           0.14087915420532227,
           0.3775078058242798,
           0.6207866072654724,
           0.00527344923466444,
           0.4130607843399048,
           0.8274731636047363,
           0.5110378265380859,
           0.6054521203041077,
           0.7804942727088928,
           0.20377212762832642,
           0.5003589987754822,
           0.6453403234481812,
           0.7700386643409729,
           0.8238303661346436,
           0.43506669998168945,
           0.46929240226745605,
           0.5130654573440552,
           0.3941386342048645,
           0.16448640823364258,
           0.43471112847328186,
           0.3500846028327942,
           0.5100213885307312,
           0.6973048448562622,
           0.6253365278244019,
           0.2856990396976471,
           0.2429860532283783,
           0.1425907015800476,
           0.6751368045806885,
           0.36794301867485046,
           0.6875782608985901
          ],
          [
           0.07807905972003937,
           0.47541144490242004,
           0.2603151500225067,
           0.1113797277212143,
           0.369244247674942,
           0.20718348026275635,
           0.27829408645629883,
           0.3214643895626068,
           0.5018037557601929,
           0.14341898262500763,
           0.020639043301343918,
           0.5089936256408691,
           0.9999998807907104,
           0.06562528759241104,
           0.22026678919792175,
           0.10353737324476242,
           0.25402551889419556,
           0.09315458685159683,
           0.3289583921432495,
           0.22423312067985535,
           0.0879177525639534,
           0.5338104963302612,
           0.011302581988275051,
           0.04999823495745659,
           0.15499188005924225,
           0.2571043372154236,
           -0.01670156419277191,
           0.2596744894981384,
           0.45095834136009216,
           0.2829996943473816,
           0.3807227909564972,
           0.40281522274017334,
           0.07000195980072021,
           0.2568625807762146,
           0.39807525277137756,
           0.2917764186859131,
           0.3702167272567749,
           0.25359490513801575,
           0.23832951486110687,
           0.31265783309936523,
           0.20461159944534302,
           0.1625240296125412,
           0.22247526049613953,
           0.06387251615524292,
           0.44948410987854004,
           0.3268405497074127,
           0.4017865061759949,
           0.10843487828969955,
           0.16134120523929596,
           0.19989816844463348,
           0.49348726868629456,
           0.2955016791820526,
           0.25858741998672485
          ],
          [
           0.7253040671348572,
           0.22369195520877838,
           0.15341517329216003,
           0.31574010848999023,
           0.14662033319473267,
           0.3339323401451111,
           0.23735319077968597,
           0.27466917037963867,
           0.27407366037368774,
           0.2861000895500183,
           0.933034360408783,
           0.2009454071521759,
           0.06562528759241104,
           0.9999997615814209,
           0.1648997813463211,
           0.2685356140136719,
           0.36656057834625244,
           0.14671647548675537,
           0.3993793725967407,
           0.37940603494644165,
           0.619668185710907,
           0.31239286065101624,
           0.9343925714492798,
           0.7820718288421631,
           0.46817100048065186,
           0.2692878842353821,
           0.841227650642395,
           0.2767859101295471,
           0.17412640154361725,
           0.28265270590782166,
           0.2738703191280365,
           0.2877122461795807,
           0.7869276404380798,
           0.21048767864704132,
           0.14012083411216736,
           0.2593417465686798,
           0.32052090764045715,
           0.2825067341327667,
           0.31713947653770447,
           0.09182923287153244,
           0.21469232439994812,
           0.3714146614074707,
           0.28165990114212036,
           0.34625351428985596,
           0.18093140423297882,
           0.1457061767578125,
           0.5461558699607849,
           0.7327820658683777,
           0.2093445360660553,
           0.13040126860141754,
           0.18501704931259155,
           0.27217742800712585,
           0.422971248626709
          ],
          [
           0.08861325681209564,
           0.4563025236129761,
           0.22981427609920502,
           0.08948123455047607,
           0.41001245379447937,
           0.18735484778881073,
           0.1650591492652893,
           0.2842528223991394,
           0.3042280375957489,
           0.0941392332315445,
           0.0817774087190628,
           0.2383788824081421,
           0.22026678919792175,
           0.1648997813463211,
           0.9999998807907104,
           -0.04053178057074547,
           0.2624050974845886,
           0.16932302713394165,
           0.11571400612592697,
           0.2335401177406311,
           0.03898967057466507,
           0.26702263951301575,
           0.17167915403842926,
           0.413149893283844,
           -0.027553308755159378,
           0.048250894993543625,
           0.09671555459499359,
           0.1338115781545639,
           0.2048310935497284,
           0.158063605427742,
           0.16250254213809967,
           0.1974065601825714,
           0.11739183217287064,
           0.08672498911619186,
           0.29808929562568665,
           0.09114213287830353,
           0.17845305800437927,
           0.22389757633209229,
           0.19479519128799438,
           0.11334599554538727,
           0.15435545146465302,
           0.2920345664024353,
           0.10495652258396149,
           0.010427811183035374,
           0.23122301697731018,
           0.2210027575492859,
           0.14194895327091217,
           0.14563581347465515,
           0.2227213829755783,
           0.2699066400527954,
           0.2909129858016968,
           0.10368283092975616,
           0.15285387635231018
          ],
          [
           0.3393152058124542,
           0.04575146734714508,
           0.39576685428619385,
           0.5546277761459351,
           -0.06022975593805313,
           0.2111513465642929,
           0.28061097860336304,
           0.23782378435134888,
           0.2256191223859787,
           0.2818160057067871,
           0.19573646783828735,
           0.2942425310611725,
           0.10353737324476242,
           0.2685356140136719,
           -0.04053178057074547,
           1.000000238418579,
           0.2639824151992798,
           0.5270158052444458,
           0.564960777759552,
           0.3674911856651306,
           0.4855508804321289,
           0.21537500619888306,
           0.1667821854352951,
           0.277582585811615,
           0.6542121171951294,
           0.6393886804580688,
           0.24811014533042908,
           0.36133328080177307,
           0.3426190912723541,
           0.3430759608745575,
           0.3896952271461487,
           0.42563968896865845,
           0.35907310247421265,
           0.23087403178215027,
           0.22338426113128662,
           0.508605420589447,
           0.48444876074790955,
           0.33057162165641785,
           0.2834089696407318,
           0.17795304954051971,
           0.29472893476486206,
           0.16607365012168884,
           0.38208460807800293,
           0.3935771882534027,
           0.16042836010456085,
           0.41792428493499756,
           0.5133291482925415,
           0.3938295841217041,
           0.2991693913936615,
           -0.026125889271497726,
           0.25080540776252747,
           0.3361507058143616,
           0.42558881640434265
          ],
          [
           0.31417325139045715,
           0.4310547709465027,
           0.3430638611316681,
           0.2866215705871582,
           0.25550639629364014,
           0.26361364126205444,
           0.3355802893638611,
           0.3907727003097534,
           0.43788206577301025,
           0.2457086741924286,
           0.2495667040348053,
           0.44850367307662964,
           0.25402551889419556,
           0.36656057834625244,
           0.2624050974845886,
           0.2639824151992798,
           0.9999998807907104,
           0.1617269068956375,
           0.46436864137649536,
           0.35727736353874207,
           0.34133586287498474,
           0.38857877254486084,
           0.2684222459793091,
           0.33823853731155396,
           0.39851319789886475,
           0.3831058144569397,
           0.2373095154762268,
           0.34564244747161865,
           0.35765641927719116,
           0.371938556432724,
           0.7622868418693542,
           0.5236784815788269,
           0.548486590385437,
           0.3817700147628784,
           0.32830584049224854,
           0.4081699848175049,
           0.48754623532295227,
           0.2382034808397293,
           0.2948269844055176,
           0.2953827977180481,
           0.3329275846481323,
           0.3024490773677826,
           0.23324494063854218,
           0.2490236908197403,
           0.41144245862960815,
           0.40398097038269043,
           0.48426148295402527,
           0.3994881212711334,
           0.32839035987854004,
           0.23151320219039917,
           0.35793134570121765,
           0.3449344038963318,
           0.4812620282173157
          ],
          [
           0.25455260276794434,
           0.14059822261333466,
           0.40791285037994385,
           0.19726212322711945,
           0.1743297278881073,
           0.26200994849205017,
           0.30113548040390015,
           0.27531200647354126,
           0.2335091233253479,
           0.19495534896850586,
           0.11810356378555298,
           0.10568924248218536,
           0.09315458685159683,
           0.14671647548675537,
           0.16932302713394165,
           0.5270158052444458,
           0.1617269068956375,
           1.0000001192092896,
           0.2877076268196106,
           0.18203112483024597,
           0.42067933082580566,
           0.06537891924381256,
           0.12689949572086334,
           0.22817575931549072,
           0.2198297679424286,
           0.1456373929977417,
           0.184554785490036,
           0.2696555554866791,
           0.15408183634281158,
           0.1860712319612503,
           0.13709120452404022,
           0.2155577689409256,
           0.208081915974617,
           0.21636611223220825,
           0.1492651104927063,
           0.12035689502954483,
           0.127236008644104,
           0.4205993115901947,
           0.14448070526123047,
           0.10377083718776703,
           0.42811280488967896,
           0.24313893914222717,
           0.2641279101371765,
           0.16170579195022583,
           0.18881207704544067,
           0.30669575929641724,
           0.25622430443763733,
           0.21286576986312866,
           0.3051171898841858,
           0.16284888982772827,
           0.11331626772880554,
           0.2166285216808319,
           0.1619422286748886
          ],
          [
           0.39424562454223633,
           0.46324706077575684,
           0.37910252809524536,
           0.4940839111804962,
           0.15912823379039764,
           0.36101454496383667,
           0.4392105042934418,
           0.41524189710617065,
           0.5933104753494263,
           0.40183138847351074,
           0.2569853365421295,
           0.7373006343841553,
           0.3289583921432495,
           0.3993793725967407,
           0.11571400612592697,
           0.564960777759552,
           0.46436864137649536,
           0.2877076268196106,
           1.0000001192092896,
           0.5540746450424194,
           0.5798672437667847,
           0.5116441249847412,
           0.23364146053791046,
           0.3171142637729645,
           0.6700700521469116,
           0.7349805235862732,
           0.22718697786331177,
           0.46604102849960327,
           0.634631872177124,
           0.6124275922775269,
           0.6195180416107178,
           0.7401908040046692,
           0.41550660133361816,
           0.4123190641403198,
           0.44903069734573364,
           0.7803332209587097,
           0.8145202398300171,
           0.47708120942115784,
           0.5210603475570679,
           0.4107802212238312,
           0.631195068359375,
           0.22755376994609833,
           0.41467052698135376,
           0.4992782175540924,
           0.45008188486099243,
           0.5857479572296143,
           0.7449597716331482,
           0.5099592208862305,
           0.31010860204696655,
           0.0868067592382431,
           0.489209920167923,
           0.47371378540992737,
           0.7324296832084656
          ],
          [
           0.38444820046424866,
           0.34708070755004883,
           0.4443979859352112,
           0.4820721745491028,
           0.1477736234664917,
           0.41258054971694946,
           0.3741244375705719,
           0.41124147176742554,
           0.42686113715171814,
           0.347201406955719,
           0.27779248356819153,
           0.5050845742225647,
           0.22423312067985535,
           0.37940603494644165,
           0.2335401177406311,
           0.3674911856651306,
           0.35727736353874207,
           0.18203112483024597,
           0.5540746450424194,
           0.9999998807907104,
           0.3762437105178833,
           0.3878229558467865,
           0.24751001596450806,
           0.415069043636322,
           0.4335586130619049,
           0.5630367398262024,
           0.3112592399120331,
           0.49740466475486755,
           0.4804915487766266,
           0.403769314289093,
           0.44261813163757324,
           0.628572940826416,
           0.38210535049438477,
           0.30511608719825745,
           0.3630199432373047,
           0.5643415451049805,
           0.6523954272270203,
           0.42171719670295715,
           0.535973310470581,
           0.3380913734436035,
           0.23712413012981415,
           0.13576535880565643,
           0.3448135554790497,
           0.39248910546302795,
           0.4128395915031433,
           0.5401965379714966,
           0.6271111965179443,
           0.49197661876678467,
           0.40446656942367554,
           0.06585332006216049,
           0.3530842363834381,
           0.4773455262184143,
           0.6034935712814331
          ],
          [
           0.8365885615348816,
           0.08015002310276031,
           0.2551582455635071,
           0.4824765920639038,
           0.03015357069671154,
           0.40652036666870117,
           0.6013854146003723,
           0.48157772421836853,
           0.2701336145401001,
           0.31280481815338135,
           0.5876618027687073,
           0.17324857413768768,
           0.0879177525639534,
           0.619668185710907,
           0.03898967057466507,
           0.4855508804321289,
           0.34133586287498474,
           0.42067933082580566,
           0.5798672437667847,
           0.3762437105178833,
           0.9999998807907104,
           0.24669651687145233,
           0.539318859577179,
           0.588667631149292,
           0.6770909428596497,
           0.409911572933197,
           0.6093931794166565,
           0.5335785150527954,
           0.18346461653709412,
           0.5522658824920654,
           0.3040313720703125,
           0.3747221529483795,
           0.6428373456001282,
           0.2731345593929291,
           0.11201737821102142,
           0.30135220289230347,
           0.32878294587135315,
           0.3459241986274719,
           0.2861073315143585,
           0.021831410005688667,
           0.5455529689788818,
           0.36747437715530396,
           0.3021215796470642,
           0.4422307312488556,
           0.20012910664081573,
           0.23484984040260315,
           0.6556776165962219,
           0.7560535073280334,
           0.3097562789916992,
           0.07772241532802582,
           0.14476746320724487,
           0.48805010318756104,
           0.47510385513305664
          ],
          [
           0.2437305450439453,
           0.5245646834373474,
           0.28913357853889465,
           0.3272446393966675,
           0.3315636217594147,
           0.3062600791454315,
           0.3214499354362488,
           0.40721675753593445,
           0.6120252013206482,
           0.23827233910560608,
           0.2254408597946167,
           0.5756871104240417,
           0.5338104963302612,
           0.31239286065101624,
           0.26702263951301575,
           0.21537500619888306,
           0.38857877254486084,
           0.06537891924381256,
           0.5116441249847412,
           0.3878229558467865,
           0.24669651687145233,
           1.0000003576278687,
           0.20779426395893097,
           0.2816513180732727,
           0.3138798475265503,
           0.40549471974372864,
           0.1855149120092392,
           0.36466431617736816,
           0.5001513957977295,
           0.34994271397590637,
           0.43413102626800537,
           0.5813566446304321,
           0.3182981610298157,
           0.2950863242149353,
           0.41292819380760193,
           0.4427209496498108,
           0.5540564656257629,
           0.33148983120918274,
           0.3664840757846832,
           0.3300580680370331,
           0.3058534264564514,
           0.23843765258789062,
           0.27120673656463623,
           0.22536489367485046,
           0.4534117579460144,
           0.43248888850212097,
           0.5196654200553894,
           0.34595799446105957,
           0.29259318113327026,
           0.2444484680891037,
           0.6499876379966736,
           0.3267521560192108,
           0.47066566348075867
          ],
          [
           0.6897372007369995,
           0.10844756662845612,
           0.0850764811038971,
           0.20890367031097412,
           0.11604812741279602,
           0.24794980883598328,
           0.16447892785072327,
           0.20921938121318817,
           0.16566932201385498,
           0.2053333818912506,
           0.9243823289871216,
           0.03717659413814545,
           0.011302581988275051,
           0.9343925714492798,
           0.17167915403842926,
           0.1667821854352951,
           0.2684222459793091,
           0.12689949572086334,
           0.23364146053791046,
           0.24751001596450806,
           0.539318859577179,
           0.20779426395893097,
           1.0000001192092896,
           0.7525577545166016,
           0.30821022391319275,
           0.08746416866779327,
           0.82790207862854,
           0.1646898090839386,
           0.022605054080486298,
           0.16688703000545502,
           0.13700343668460846,
           0.12814942002296448,
           0.7253369688987732,
           0.12068036198616028,
           0.010782560333609581,
           0.07623684406280518,
           0.1435713768005371,
           0.20870080590248108,
           0.2604178190231323,
           0.023772716522216797,
           0.137345552444458,
           0.3106842637062073,
           0.15736708045005798,
           0.2748410701751709,
           0.10118495672941208,
           0.027723655104637146,
           0.4157559871673584,
           0.656101644039154,
           0.1430256962776184,
           0.13682638108730316,
           0.05971423536539078,
           0.18068300187587738,
           0.2696918845176697
          ],
          [
           0.6900805234909058,
           0.11220179498195648,
           0.3093778192996979,
           0.4087585210800171,
           0.07819534093141556,
           0.398714542388916,
           0.2589778006076813,
           0.29450756311416626,
           0.2626614570617676,
           0.33285680413246155,
           0.77461838722229,
           0.14087915420532227,
           0.04999823495745659,
           0.7820718288421631,
           0.413149893283844,
           0.277582585811615,
           0.33823853731155396,
           0.22817575931549072,
           0.3171142637729645,
           0.415069043636322,
           0.588667631149292,
           0.2816513180732727,
           0.7525577545166016,
           0.9999998807907104,
           0.40904009342193604,
           0.22027526795864105,
           0.8514338731765747,
           0.3718857169151306,
           0.15925472974777222,
           0.28246569633483887,
           0.20322692394256592,
           0.2862626910209656,
           0.8268594741821289,
           0.20678916573524475,
           0.14433488249778748,
           0.19350633025169373,
           0.27944764494895935,
           0.2954619824886322,
           0.3092154264450073,
           0.10518405586481094,
           0.1962844729423523,
           0.5504060387611389,
           0.28724658489227295,
           0.3260546028614044,
           0.20871220529079437,
           0.22030100226402283,
           0.5332670211791992,
           0.7313658595085144,
           0.30026403069496155,
           0.11647307127714157,
           0.27047327160835266,
           0.2713419795036316,
           0.36255136132240295
          ],
          [
           0.5619645118713379,
           0.1434197723865509,
           0.34193098545074463,
           0.7062931060791016,
           -0.016022687777876854,
           0.3522926867008209,
           0.4180295467376709,
           0.33840328454971313,
           0.3559400141239166,
           0.4507271647453308,
           0.37159156799316406,
           0.3775078058242798,
           0.15499188005924225,
           0.46817100048065186,
           -0.027553308755159378,
           0.6542121171951294,
           0.39851319789886475,
           0.2198297679424286,
           0.6700700521469116,
           0.4335586130619049,
           0.6770909428596497,
           0.3138798475265503,
           0.30821022391319275,
           0.40904009342193604,
           0.9999997615814209,
           0.7608503699302673,
           0.4187737703323364,
           0.5324273705482483,
           0.3886456787586212,
           0.5297040939331055,
           0.5354414582252502,
           0.5380933880805969,
           0.5502818822860718,
           0.32863059639930725,
           0.2733696699142456,
           0.6073095798492432,
           0.5788535475730896,
           0.3362206220626831,
           0.33404862880706787,
           0.21241602301597595,
           0.3901607394218445,
           0.30616331100463867,
           0.46334409713745117,
           0.47321024537086487,
           0.2442430555820465,
           0.3882753849029541,
           0.6884841322898865,
           0.6257590651512146,
           0.3168242275714874,
           -0.023704608902335167,
           0.3061051666736603,
           0.4387964606285095,
           0.5841749310493469
          ],
          [
           0.27021077275276184,
           0.3743847906589508,
           0.39061543345451355,
           0.6557974815368652,
           0.05768248438835144,
           0.32215139269828796,
           0.38250598311424255,
           0.3529261648654938,
           0.48150327801704407,
           0.43799304962158203,
           0.11970353126525879,
           0.6207866072654724,
           0.2571043372154236,
           0.2692878842353821,
           0.048250894993543625,
           0.6393886804580688,
           0.3831058144569397,
           0.1456373929977417,
           0.7349805235862732,
           0.5630367398262024,
           0.409911572933197,
           0.40549471974372864,
           0.08746416866779327,
           0.22027526795864105,
           0.7608503699302673,
           1.0000003576278687,
           0.1594819724559784,
           0.5210050344467163,
           0.6106565594673157,
           0.5570828318595886,
           0.593793511390686,
           0.7180375456809998,
           0.35011565685272217,
           0.31223830580711365,
           0.4614599943161011,
           0.8192048072814941,
           0.7749013900756836,
           0.3891139328479767,
           0.42003899812698364,
           0.34354424476623535,
           0.3657151758670807,
           0.20641747117042542,
           0.49799245595932007,
           0.42140993475914,
           0.3368127942085266,
           0.6128273010253906,
           0.649728000164032,
           0.4436928629875183,
           0.33967968821525574,
           -0.028605658560991287,
           0.4795514941215515,
           0.4578820466995239,
           0.6647714376449585
          ],
          [
           0.7297723889350891,
           0.018326323479413986,
           0.21702930331230164,
           0.34483402967453003,
           0.0618622861802578,
           0.3862883448600769,
           0.2242002785205841,
           0.24683792889118195,
           0.158810555934906,
           0.3414779305458069,
           0.8987523317337036,
           0.00527344923466444,
           -0.01670156419277191,
           0.841227650642395,
           0.09671555459499359,
           0.24811014533042908,
           0.2373095154762268,
           0.184554785490036,
           0.22718697786331177,
           0.3112592399120331,
           0.6093931794166565,
           0.1855149120092392,
           0.82790207862854,
           0.8514338731765747,
           0.4187737703323364,
           0.1594819724559784,
           0.9999999403953552,
           0.3423466980457306,
           0.04910901561379433,
           0.2462116777896881,
           0.13949541747570038,
           0.172409787774086,
           0.8459995985031128,
           0.1769402176141739,
           0.028190337121486664,
           0.09515230357646942,
           0.14997462928295135,
           0.23307275772094727,
           0.23160287737846375,
           0.03164434805512428,
           0.15682972967624664,
           0.4945675730705261,
           0.29119497537612915,
           0.29866722226142883,
           0.11336156725883484,
           0.0842355415225029,
           0.4868479371070862,
           0.7291524410247803,
           0.20964905619621277,
           0.08912499994039536,
           0.12502115964889526,
           0.2379675656557083,
           0.2844708561897278
          ],
          [
           0.5313665270805359,
           0.3198596239089966,
           0.435445636510849,
           0.4742770791053772,
           0.2005370408296585,
           0.5813859105110168,
           0.7521884441375732,
           0.6779437065124512,
           0.49567335844039917,
           0.22863520681858063,
           0.2133501023054123,
           0.4130607843399048,
           0.2596744894981384,
           0.2767859101295471,
           0.1338115781545639,
           0.36133328080177307,
           0.34564244747161865,
           0.2696555554866791,
           0.46604102849960327,
           0.49740466475486755,
           0.5335785150527954,
           0.36466431617736816,
           0.1646898090839386,
           0.3718857169151306,
           0.5324273705482483,
           0.5210050344467163,
           0.3423466980457306,
           1,
           0.45716598629951477,
           0.6048186421394348,
           0.3976677358150482,
           0.6169247627258301,
           0.4264676570892334,
           0.3915502727031708,
           0.42565542459487915,
           0.4367116093635559,
           0.4680435061454773,
           0.40176862478256226,
           0.2800747752189636,
           0.19293934106826782,
           0.41326189041137695,
           0.43077486753463745,
           0.3374149203300476,
           0.3959504961967468,
           0.3832697868347168,
           0.49728095531463623,
           0.5599714517593384,
           0.6038813591003418,
           0.3582734763622284,
           0.21867702901363373,
           0.4669312536716461,
           0.6263991594314575,
           0.5498561859130859
          ],
          [
           0.12063060700893402,
           0.5218852758407593,
           0.38605809211730957,
           0.3508055806159973,
           0.21325045824050903,
           0.2931002378463745,
           0.34443095326423645,
           0.368513286113739,
           0.6487977504730225,
           0.3111957907676697,
           0.031421031802892685,
           0.8274731636047363,
           0.45095834136009216,
           0.17412640154361725,
           0.2048310935497284,
           0.3426190912723541,
           0.35765641927719116,
           0.15408183634281158,
           0.634631872177124,
           0.4804915487766266,
           0.18346461653709412,
           0.5001513957977295,
           0.022605054080486298,
           0.15925472974777222,
           0.3886456787586212,
           0.6106565594673157,
           0.04910901561379433,
           0.45716598629951477,
           0.9999997615814209,
           0.537892758846283,
           0.5254643559455872,
           0.737324595451355,
           0.22104988992214203,
           0.4567319452762604,
           0.6602861285209656,
           0.7018018960952759,
           0.7245145440101624,
           0.414431095123291,
           0.3969639241695404,
           0.4182594418525696,
           0.3482676148414612,
           0.15730029344558716,
           0.5727018713951111,
           0.31911855936050415,
           0.47438758611679077,
           0.615337610244751,
           0.5849432349205017,
           0.29231634736061096,
           0.31403857469558716,
           0.14602336287498474,
           0.6618828773498535,
           0.392694890499115,
           0.5857502818107605
          ],
          [
           0.4901394546031952,
           0.4233095049858093,
           0.3546482026576996,
           0.44524648785591125,
           0.2483062744140625,
           0.38405072689056396,
           0.6506901383399963,
           0.6177766919136047,
           0.5058855414390564,
           0.27198606729507446,
           0.19465404748916626,
           0.5110378265380859,
           0.2829996943473816,
           0.28265270590782166,
           0.158063605427742,
           0.3430759608745575,
           0.371938556432724,
           0.1860712319612503,
           0.6124275922775269,
           0.403769314289093,
           0.5522658824920654,
           0.34994271397590637,
           0.16688703000545502,
           0.28246569633483887,
           0.5297040939331055,
           0.5570828318595886,
           0.2462116777896881,
           0.6048186421394348,
           0.537892758846283,
           1,
           0.4258909821510315,
           0.5973957180976868,
           0.3371089994907379,
           0.38822588324546814,
           0.44879385828971863,
           0.5001277327537537,
           0.5596237778663635,
           0.3413507342338562,
           0.36989933252334595,
           0.21897274255752563,
           0.4095061421394348,
           0.2892826199531555,
           0.32477641105651855,
           0.3927859663963318,
           0.42965662479400635,
           0.45246779918670654,
           0.58646160364151,
           0.504228413105011,
           0.27164754271507263,
           0.17008325457572937,
           0.44787946343421936,
           0.4942401647567749,
           0.6261711716651917
          ],
          [
           0.24381205439567566,
           0.43152010440826416,
           0.4114994704723358,
           0.3812488317489624,
           0.15286117792129517,
           0.23940947651863098,
           0.3253602385520935,
           0.3405799865722656,
           0.5368374586105347,
           0.2853368818759918,
           0.1409400999546051,
           0.6054521203041077,
           0.3807227909564972,
           0.2738703191280365,
           0.16250254213809967,
           0.3896952271461487,
           0.7622868418693542,
           0.13709120452404022,
           0.6195180416107178,
           0.44261813163757324,
           0.3040313720703125,
           0.43413102626800537,
           0.13700343668460846,
           0.20322692394256592,
           0.5354414582252502,
           0.593793511390686,
           0.13949541747570038,
           0.3976677358150482,
           0.5254643559455872,
           0.4258909821510315,
           0.9999998807907104,
           0.6540669202804565,
           0.4289891719818115,
           0.3792583644390106,
           0.4193999767303467,
           0.6023128032684326,
           0.6796543598175049,
           0.2504308521747589,
           0.4365917444229126,
           0.3591826558113098,
           0.3237666189670563,
           0.22455193102359772,
           0.3538343906402588,
           0.3166778087615967,
           0.42777860164642334,
           0.56646728515625,
           0.6148183345794678,
           0.3521541357040405,
           0.28650012612342834,
           0.10609287023544312,
           0.4341925382614136,
           0.3942660987377167,
           0.5400435328483582
          ],
          [
           0.3213436007499695,
           0.549195408821106,
           0.4568565785884857,
           0.4718804955482483,
           0.20009703934192657,
           0.4774641990661621,
           0.5132330656051636,
           0.5404293537139893,
           0.6994580030441284,
           0.341787189245224,
           0.15361452102661133,
           0.7804942727088928,
           0.40281522274017334,
           0.2877122461795807,
           0.1974065601825714,
           0.42563968896865845,
           0.5236784815788269,
           0.2155577689409256,
           0.7401908040046692,
           0.628572940826416,
           0.3747221529483795,
           0.5813566446304321,
           0.12814942002296448,
           0.2862626910209656,
           0.5380933880805969,
           0.7180375456809998,
           0.172409787774086,
           0.6169247627258301,
           0.737324595451355,
           0.5973957180976868,
           0.6540669202804565,
           1.0000003576278687,
           0.38637176156044006,
           0.50340336561203,
           0.563005268573761,
           0.7724730372428894,
           0.799895703792572,
           0.5074340105056763,
           0.4818257689476013,
           0.46734818816185,
           0.42474737763404846,
           0.3052586615085602,
           0.4729217290878296,
           0.36726731061935425,
           0.5392025113105774,
           0.7053254246711731,
           0.7265981435775757,
           0.4699445962905884,
           0.3703598976135254,
           0.14870841801166534,
           0.6393532752990723,
           0.5099678635597229,
           0.7334346175193787
          ],
          [
           0.6691880226135254,
           0.12053513526916504,
           0.30276283621788025,
           0.4332968592643738,
           0.02925676666200161,
           0.40059739351272583,
           0.28886401653289795,
           0.289935827255249,
           0.33229994773864746,
           0.432283878326416,
           0.7724668979644775,
           0.20377212762832642,
           0.07000195980072021,
           0.7869276404380798,
           0.11739183217287064,
           0.35907310247421265,
           0.548486590385437,
           0.208081915974617,
           0.41550660133361816,
           0.38210535049438477,
           0.6428373456001282,
           0.3182981610298157,
           0.7253369688987732,
           0.8268594741821289,
           0.5502818822860718,
           0.35011565685272217,
           0.8459995985031128,
           0.4264676570892334,
           0.22104988992214203,
           0.3371089994907379,
           0.4289891719818115,
           0.38637176156044006,
           0.9999998807907104,
           0.2921525239944458,
           0.16318494081497192,
           0.2982884347438812,
           0.3642593324184418,
           0.2952072024345398,
           0.3331618309020996,
           0.19048918783664703,
           0.29444628953933716,
           0.5459181070327759,
           0.32220885157585144,
           0.33802330493927,
           0.26314404606819153,
           0.2771638035774231,
           0.582152783870697,
           0.7416772842407227,
           0.3093518614768982,
           0.09689398109912872,
           0.2789822518825531,
           0.3144444227218628,
           0.4269985854625702
          ],
          [
           0.29703718423843384,
           0.3231969475746155,
           0.43652254343032837,
           0.29185256361961365,
           0.1630409061908722,
           0.3194083273410797,
           0.37819695472717285,
           0.4288555979728699,
           0.4612482190132141,
           0.19470252096652985,
           0.1479860544204712,
           0.5003589987754822,
           0.2568625807762146,
           0.21048767864704132,
           0.08672498911619186,
           0.23087403178215027,
           0.3817700147628784,
           0.21636611223220825,
           0.4123190641403198,
           0.30511608719825745,
           0.2731345593929291,
           0.2950863242149353,
           0.12068036198616028,
           0.20678916573524475,
           0.32863059639930725,
           0.31223830580711365,
           0.1769402176141739,
           0.3915502727031708,
           0.4567319452762604,
           0.38822588324546814,
           0.3792583644390106,
           0.50340336561203,
           0.2921525239944458,
           1,
           0.39213478565216064,
           0.40483611822128296,
           0.46317532658576965,
           0.35079512000083923,
           0.3459707200527191,
           0.3929790258407593,
           0.2921566367149353,
           0.2870311141014099,
           0.36813536286354065,
           0.30076155066490173,
           0.41608551144599915,
           0.410282701253891,
           0.4646225571632385,
           0.3273051381111145,
           0.22955496609210968,
           0.17025232315063477,
           0.33445626497268677,
           0.3035414516925812,
           0.4548899829387665
          ],
          [
           0.08538050949573517,
           0.5644980072975159,
           0.3681601583957672,
           0.3502162992954254,
           0.35777127742767334,
           0.4395505487918854,
           0.33029040694236755,
           0.3892727494239807,
           0.6140377521514893,
           0.19753995537757874,
           -0.0015400853008031845,
           0.6453403234481812,
           0.39807525277137756,
           0.14012083411216736,
           0.29808929562568665,
           0.22338426113128662,
           0.32830584049224854,
           0.1492651104927063,
           0.44903069734573364,
           0.3630199432373047,
           0.11201737821102142,
           0.41292819380760193,
           0.010782560333609581,
           0.14433488249778748,
           0.2733696699142456,
           0.4614599943161011,
           0.028190337121486664,
           0.42565542459487915,
           0.6602861285209656,
           0.44879385828971863,
           0.4193999767303467,
           0.563005268573761,
           0.16318494081497192,
           0.39213478565216064,
           1.0000001192092896,
           0.5640348196029663,
           0.5550546646118164,
           0.4026637077331543,
           0.29214879870414734,
           0.32198092341423035,
           0.31418612599372864,
           0.2578950822353363,
           0.391465425491333,
           0.23490288853645325,
           0.37318840622901917,
           0.5561141967773438,
           0.41059526801109314,
           0.2314305454492569,
           0.33597487211227417,
           0.17741703987121582,
           0.555881917476654,
           0.24181218445301056,
           0.5369260907173157
          ],
          [
           0.19688712060451508,
           0.4654696583747864,
           0.36315810680389404,
           0.51352858543396,
           0.10829147696495056,
           0.3188345432281494,
           0.3228670060634613,
           0.34864237904548645,
           0.5843897461891174,
           0.41704919934272766,
           0.08632742613554001,
           0.7700386643409729,
           0.2917764186859131,
           0.2593417465686798,
           0.09114213287830353,
           0.508605420589447,
           0.4081699848175049,
           0.12035689502954483,
           0.7803332209587097,
           0.5643415451049805,
           0.30135220289230347,
           0.4427209496498108,
           0.07623684406280518,
           0.19350633025169373,
           0.6073095798492432,
           0.8192048072814941,
           0.09515230357646942,
           0.4367116093635559,
           0.7018018960952759,
           0.5001277327537537,
           0.6023128032684326,
           0.7724730372428894,
           0.2982884347438812,
           0.40483611822128296,
           0.5640348196029663,
           0.9999997615814209,
           0.843980073928833,
           0.42203742265701294,
           0.4599829316139221,
           0.4347987771034241,
           0.3776034712791443,
           0.17670415341854095,
           0.47367504239082336,
           0.4180161952972412,
           0.3709014058113098,
           0.6135945320129395,
           0.6348558068275452,
           0.3330545127391815,
           0.29752808809280396,
           0.0009508617222309113,
           0.5498683452606201,
           0.3631933927536011,
           0.758750855922699
          ],
          [
           0.2533981502056122,
           0.531341552734375,
           0.4751895070075989,
           0.4914093017578125,
           0.18122248351573944,
           0.28396421670913696,
           0.348613977432251,
           0.3716077208518982,
           0.6429608464241028,
           0.3160487711429596,
           0.14674945175647736,
           0.8238303661346436,
           0.3702167272567749,
           0.32052090764045715,
           0.17845305800437927,
           0.48444876074790955,
           0.48754623532295227,
           0.127236008644104,
           0.8145202398300171,
           0.6523954272270203,
           0.32878294587135315,
           0.5540564656257629,
           0.1435713768005371,
           0.27944764494895935,
           0.5788535475730896,
           0.7749013900756836,
           0.14997462928295135,
           0.4680435061454773,
           0.7245145440101624,
           0.5596237778663635,
           0.6796543598175049,
           0.799895703792572,
           0.3642593324184418,
           0.46317532658576965,
           0.5550546646118164,
           0.843980073928833,
           0.9999996423721313,
           0.4179587960243225,
           0.5172572135925293,
           0.4803897738456726,
           0.37819913029670715,
           0.21862545609474182,
           0.4193848967552185,
           0.4412182569503784,
           0.5177814960479736,
           0.7238232493400574,
           0.7115929126739502,
           0.4253265857696533,
           0.3055681586265564,
           0.07514243572950363,
           0.6019544005393982,
           0.47150135040283203,
           0.7559292912483215
          ],
          [
           0.2783728837966919,
           0.3964986801147461,
           0.44713783264160156,
           0.3300171494483948,
           0.2772083282470703,
           0.49595826864242554,
           0.37418681383132935,
           0.4040452539920807,
           0.4115636348724365,
           0.4657806158065796,
           0.22793981432914734,
           0.43506669998168945,
           0.25359490513801575,
           0.2825067341327667,
           0.22389757633209229,
           0.33057162165641785,
           0.2382034808397293,
           0.4205993115901947,
           0.47708120942115784,
           0.42171719670295715,
           0.3459241986274719,
           0.33148983120918274,
           0.20870080590248108,
           0.2954619824886322,
           0.3362206220626831,
           0.3891139328479767,
           0.23307275772094727,
           0.40176862478256226,
           0.414431095123291,
           0.3413507342338562,
           0.2504308521747589,
           0.5074340105056763,
           0.2952072024345398,
           0.35079512000083923,
           0.4026637077331543,
           0.42203742265701294,
           0.4179587960243225,
           0.9999997615814209,
           0.3849654793739319,
           0.43955954909324646,
           0.3995653986930847,
           0.2740696370601654,
           0.3343384265899658,
           0.2432260811328888,
           0.302457332611084,
           0.5552272200584412,
           0.4469206929206848,
           0.35004374384880066,
           0.3991532325744629,
           0.2668847143650055,
           0.2875669598579407,
           0.33155345916748047,
           0.3970232605934143
          ],
          [
           0.30925893783569336,
           0.3600100874900818,
           0.326288640499115,
           0.3702135384082794,
           0.17081177234649658,
           0.3169742524623871,
           0.3082889914512634,
           0.32703897356987,
           0.4773574769496918,
           0.36636438965797424,
           0.25758635997772217,
           0.46929240226745605,
           0.23832951486110687,
           0.31713947653770447,
           0.19479519128799438,
           0.2834089696407318,
           0.2948269844055176,
           0.14448070526123047,
           0.5210603475570679,
           0.535973310470581,
           0.2861073315143585,
           0.3664840757846832,
           0.2604178190231323,
           0.3092154264450073,
           0.33404862880706787,
           0.42003899812698364,
           0.23160287737846375,
           0.2800747752189636,
           0.3969639241695404,
           0.36989933252334595,
           0.4365917444229126,
           0.4818257689476013,
           0.3331618309020996,
           0.3459707200527191,
           0.29214879870414734,
           0.4599829316139221,
           0.5172572135925293,
           0.3849654793739319,
           1.000000238418579,
           0.3651096522808075,
           0.2603336274623871,
           0.15506824851036072,
           0.2777303457260132,
           0.24079236388206482,
           0.33859407901763916,
           0.4285147190093994,
           0.4752448499202728,
           0.344652384519577,
           0.3454217314720154,
           0.10532984137535095,
           0.2900155186653137,
           0.3169838786125183,
           0.4594825506210327
          ],
          [
           -0.009224668145179749,
           0.3458840250968933,
           0.3430854082107544,
           0.19291695952415466,
           0.14117202162742615,
           0.3099157214164734,
           0.1512168049812317,
           0.19268859922885895,
           0.436890572309494,
           0.3477229177951813,
           0.03960669785737991,
           0.5130654573440552,
           0.31265783309936523,
           0.09182923287153244,
           0.11334599554538727,
           0.17795304954051971,
           0.2953827977180481,
           0.10377083718776703,
           0.4107802212238312,
           0.3380913734436035,
           0.021831410005688667,
           0.3300580680370331,
           0.023772716522216797,
           0.10518405586481094,
           0.21241602301597595,
           0.34354424476623535,
           0.03164434805512428,
           0.19293934106826782,
           0.4182594418525696,
           0.21897274255752563,
           0.3591826558113098,
           0.46734818816185,
           0.19048918783664703,
           0.3929790258407593,
           0.32198092341423035,
           0.4347987771034241,
           0.4803897738456726,
           0.43955954909324646,
           0.3651096522808075,
           1,
           0.23386067152023315,
           0.07106136530637741,
           0.28293582797050476,
           0.1482386738061905,
           0.36625033617019653,
           0.4519478976726532,
           0.2960871458053589,
           0.07603960484266281,
           0.18244068324565887,
           0.037809811532497406,
           0.3476659953594208,
           0.1995237022638321,
           0.3376675844192505
          ],
          [
           0.2792980968952179,
           0.38267841935157776,
           0.23624610900878906,
           0.2581948935985565,
           0.23385050892829895,
           0.34530237317085266,
           0.5068395733833313,
           0.4537721872329712,
           0.4723053574562073,
           0.2896130681037903,
           0.14726927876472473,
           0.3941386342048645,
           0.20461159944534302,
           0.21469232439994812,
           0.15435545146465302,
           0.29472893476486206,
           0.3329275846481323,
           0.42811280488967896,
           0.631195068359375,
           0.23712413012981415,
           0.5455529689788818,
           0.3058534264564514,
           0.137345552444458,
           0.1962844729423523,
           0.3901607394218445,
           0.3657151758670807,
           0.15682972967624664,
           0.41326189041137695,
           0.3482676148414612,
           0.4095061421394348,
           0.3237666189670563,
           0.42474737763404846,
           0.29444628953933716,
           0.2921566367149353,
           0.31418612599372864,
           0.3776034712791443,
           0.37819913029670715,
           0.3995653986930847,
           0.2603336274623871,
           0.23386067152023315,
           0.9999999403953552,
           0.3218908905982971,
           0.1952618658542633,
           0.26498737931251526,
           0.365908682346344,
           0.35678136348724365,
           0.36733782291412354,
           0.3222949206829071,
           0.24626199901103973,
           0.17811165750026703,
           0.3189007341861725,
           0.33659040927886963,
           0.37694865465164185
          ],
          [
           0.3480295240879059,
           0.27396154403686523,
           0.3940845727920532,
           0.2505173683166504,
           0.21225637197494507,
           0.3297322392463684,
           0.38796520233154297,
           0.36067503690719604,
           0.35807591676712036,
           0.2286805957555771,
           0.3618156909942627,
           0.16448640823364258,
           0.1625240296125412,
           0.3714146614074707,
           0.2920345664024353,
           0.16607365012168884,
           0.3024490773677826,
           0.24313893914222717,
           0.22755376994609833,
           0.13576535880565643,
           0.36747437715530396,
           0.23843765258789062,
           0.3106842637062073,
           0.5504060387611389,
           0.30616331100463867,
           0.20641747117042542,
           0.4945675730705261,
           0.43077486753463745,
           0.15730029344558716,
           0.2892826199531555,
           0.22455193102359772,
           0.3052586615085602,
           0.5459181070327759,
           0.2870311141014099,
           0.2578950822353363,
           0.17670415341854095,
           0.21862545609474182,
           0.2740696370601654,
           0.15506824851036072,
           0.07106136530637741,
           0.3218908905982971,
           0.9999997615814209,
           0.1697208285331726,
           0.13924895226955414,
           0.3305518329143524,
           0.3250541090965271,
           0.3280330300331116,
           0.41779831051826477,
           0.19449925422668457,
           0.2280389368534088,
           0.3725523352622986,
           0.24691830575466156,
           0.2621166706085205
          ],
          [
           0.22676125168800354,
           0.2802267372608185,
           0.24347901344299316,
           0.3854691684246063,
           0.15657533705234528,
           0.26368725299835205,
           0.18624627590179443,
           0.20649121701717377,
           0.3646957576274872,
           0.4965662658214569,
           0.19637402892112732,
           0.43471112847328186,
           0.22247526049613953,
           0.28165990114212036,
           0.10495652258396149,
           0.38208460807800293,
           0.23324494063854218,
           0.2641279101371765,
           0.41467052698135376,
           0.3448135554790497,
           0.3021215796470642,
           0.27120673656463623,
           0.15736708045005798,
           0.28724658489227295,
           0.46334409713745117,
           0.49799245595932007,
           0.29119497537612915,
           0.3374149203300476,
           0.5727018713951111,
           0.32477641105651855,
           0.3538343906402588,
           0.4729217290878296,
           0.32220885157585144,
           0.36813536286354065,
           0.391465425491333,
           0.47367504239082336,
           0.4193848967552185,
           0.3343384265899658,
           0.2777303457260132,
           0.28293582797050476,
           0.1952618658542633,
           0.1697208285331726,
           1.0000001192092896,
           0.29697930812835693,
           0.26825571060180664,
           0.3540734648704529,
           0.5067920684814453,
           0.3528318405151367,
           0.29249972105026245,
           0.0751255676150322,
           0.3222759962081909,
           0.24572356045246124,
           0.40124326944351196
          ],
          [
           0.48790237307548523,
           0.10038939863443375,
           0.2963765859603882,
           0.46387237310409546,
           -0.028919372707605362,
           0.2248205542564392,
           0.38358163833618164,
           0.36981192231178284,
           0.2288447618484497,
           0.20271533727645874,
           0.26492732763290405,
           0.3500846028327942,
           0.06387251615524292,
           0.34625351428985596,
           0.010427811183035374,
           0.3935771882534027,
           0.2490236908197403,
           0.16170579195022583,
           0.4992782175540924,
           0.39248910546302795,
           0.4422307312488556,
           0.22536489367485046,
           0.2748410701751709,
           0.3260546028614044,
           0.47321024537086487,
           0.42140993475914,
           0.29866722226142883,
           0.3959504961967468,
           0.31911855936050415,
           0.3927859663963318,
           0.3166778087615967,
           0.36726731061935425,
           0.33802330493927,
           0.30076155066490173,
           0.23490288853645325,
           0.4180161952972412,
           0.4412182569503784,
           0.2432260811328888,
           0.24079236388206482,
           0.1482386738061905,
           0.26498737931251526,
           0.13924895226955414,
           0.29697930812835693,
           0.9999997019767761,
           0.22908416390419006,
           0.29122281074523926,
           0.5013728141784668,
           0.474446564912796,
           0.14964042603969574,
           0.05398962274193764,
           0.23012405633926392,
           0.3985884189605713,
           0.43923094868659973
          ],
          [
           0.1605410873889923,
           0.5364587306976318,
           0.34569939970970154,
           0.23393654823303223,
           0.3827695846557617,
           0.2586754560470581,
           0.4131697714328766,
           0.41335058212280273,
           0.5352956652641296,
           0.19696947932243347,
           0.08304545283317566,
           0.5100213885307312,
           0.44948410987854004,
           0.18093140423297882,
           0.23122301697731018,
           0.16042836010456085,
           0.41144245862960815,
           0.18881207704544067,
           0.45008188486099243,
           0.4128395915031433,
           0.20012910664081573,
           0.4534117579460144,
           0.10118495672941208,
           0.20871220529079437,
           0.2442430555820465,
           0.3368127942085266,
           0.11336156725883484,
           0.3832697868347168,
           0.47438758611679077,
           0.42965662479400635,
           0.42777860164642334,
           0.5392025113105774,
           0.26314404606819153,
           0.41608551144599915,
           0.37318840622901917,
           0.3709014058113098,
           0.5177814960479736,
           0.302457332611084,
           0.33859407901763916,
           0.36625033617019653,
           0.365908682346344,
           0.3305518329143524,
           0.26825571060180664,
           0.22908416390419006,
           1,
           0.46956515312194824,
           0.449306845664978,
           0.27670085430145264,
           0.18908165395259857,
           0.2824418246746063,
           0.4339412748813629,
           0.4173493981361389,
           0.386699914932251
          ],
          [
           0.15393425524234772,
           0.5096893906593323,
           0.7382896542549133,
           0.41199609637260437,
           0.20452070236206055,
           0.3775255084037781,
           0.3947339653968811,
           0.44267207384109497,
           0.6032601594924927,
           0.26746100187301636,
           0.02999761328101158,
           0.6973048448562622,
           0.3268405497074127,
           0.1457061767578125,
           0.2210027575492859,
           0.41792428493499756,
           0.40398097038269043,
           0.30669575929641724,
           0.5857479572296143,
           0.5401965379714966,
           0.23484984040260315,
           0.43248888850212097,
           0.027723655104637146,
           0.22030100226402283,
           0.3882753849029541,
           0.6128273010253906,
           0.0842355415225029,
           0.49728095531463623,
           0.615337610244751,
           0.45246779918670654,
           0.56646728515625,
           0.7053254246711731,
           0.2771638035774231,
           0.410282701253891,
           0.5561141967773438,
           0.6135945320129395,
           0.7238232493400574,
           0.5552272200584412,
           0.4285147190093994,
           0.4519478976726532,
           0.35678136348724365,
           0.3250541090965271,
           0.3540734648704529,
           0.29122281074523926,
           0.46956515312194824,
           1.0000004768371582,
           0.5687845945358276,
           0.3277769982814789,
           0.3032239079475403,
           0.11318998783826828,
           0.5377521514892578,
           0.4052840769290924,
           0.5580655336380005
          ],
          [
           0.6486893892288208,
           0.3212776184082031,
           0.5093753933906555,
           0.5586063861846924,
           0.12355729192495346,
           0.4038097858428955,
           0.514542818069458,
           0.5005620121955872,
           0.540270209312439,
           0.4202817678451538,
           0.4584680199623108,
           0.6253365278244019,
           0.4017865061759949,
           0.5461558699607849,
           0.14194895327091217,
           0.5133291482925415,
           0.48426148295402527,
           0.25622430443763733,
           0.7449597716331482,
           0.6271111965179443,
           0.6556776165962219,
           0.5196654200553894,
           0.4157559871673584,
           0.5332670211791992,
           0.6884841322898865,
           0.649728000164032,
           0.4868479371070862,
           0.5599714517593384,
           0.5849432349205017,
           0.58646160364151,
           0.6148183345794678,
           0.7265981435775757,
           0.582152783870697,
           0.4646225571632385,
           0.41059526801109314,
           0.6348558068275452,
           0.7115929126739502,
           0.4469206929206848,
           0.4752448499202728,
           0.2960871458053589,
           0.36733782291412354,
           0.3280330300331116,
           0.5067920684814453,
           0.5013728141784668,
           0.449306845664978,
           0.5687845945358276,
           1.0000001192092896,
           0.7210850715637207,
           0.3247065842151642,
           0.10972734540700912,
           0.48788201808929443,
           0.5329781174659729,
           0.6804823279380798
          ],
          [
           0.8304468989372253,
           0.1459687352180481,
           0.352125346660614,
           0.5066456198692322,
           0.05735046789050102,
           0.46448782086372375,
           0.5025253891944885,
           0.4277530610561371,
           0.3487696349620819,
           0.2957783341407776,
           0.6950709223747253,
           0.2856990396976471,
           0.10843487828969955,
           0.7327820658683777,
           0.14563581347465515,
           0.3938295841217041,
           0.3994881212711334,
           0.21286576986312866,
           0.5099592208862305,
           0.49197661876678467,
           0.7560535073280334,
           0.34595799446105957,
           0.656101644039154,
           0.7313658595085144,
           0.6257590651512146,
           0.4436928629875183,
           0.7291524410247803,
           0.6038813591003418,
           0.29231634736061096,
           0.504228413105011,
           0.3521541357040405,
           0.4699445962905884,
           0.7416772842407227,
           0.3273051381111145,
           0.2314305454492569,
           0.3330545127391815,
           0.4253265857696533,
           0.35004374384880066,
           0.344652384519577,
           0.07603960484266281,
           0.3222949206829071,
           0.41779831051826477,
           0.3528318405151367,
           0.474446564912796,
           0.27670085430145264,
           0.3277769982814789,
           0.7210850715637207,
           0.9999997615814209,
           0.33483195304870605,
           0.1238139271736145,
           0.2678613066673279,
           0.4486132264137268,
           0.5762554407119751
          ],
          [
           0.24612389504909515,
           0.1741015762090683,
           0.2392062246799469,
           0.3435195982456207,
           0.12428059428930283,
           0.3276418149471283,
           0.29329004883766174,
           0.3052240014076233,
           0.3126215934753418,
           0.2744053900241852,
           0.17137975990772247,
           0.2429860532283783,
           0.16134120523929596,
           0.2093445360660553,
           0.2227213829755783,
           0.2991693913936615,
           0.32839035987854004,
           0.3051171898841858,
           0.31010860204696655,
           0.40446656942367554,
           0.3097562789916992,
           0.29259318113327026,
           0.1430256962776184,
           0.30026403069496155,
           0.3168242275714874,
           0.33967968821525574,
           0.20964905619621277,
           0.3582734763622284,
           0.31403857469558716,
           0.27164754271507263,
           0.28650012612342834,
           0.3703598976135254,
           0.3093518614768982,
           0.22955496609210968,
           0.33597487211227417,
           0.29752808809280396,
           0.3055681586265564,
           0.3991532325744629,
           0.3454217314720154,
           0.18244068324565887,
           0.24626199901103973,
           0.19449925422668457,
           0.29249972105026245,
           0.14964042603969574,
           0.18908165395259857,
           0.3032239079475403,
           0.3247065842151642,
           0.33483195304870605,
           1,
           0.08035833388566971,
           0.19145336747169495,
           0.296522319316864,
           0.3550874590873718
          ],
          [
           0.10847114026546478,
           0.5106685161590576,
           0.1248253732919693,
           -0.003657158464193344,
           0.589653491973877,
           0.18087700009346008,
           0.27056312561035156,
           0.3259428143501282,
           0.21483281254768372,
           0.07710146903991699,
           0.12105006724596024,
           0.1425907015800476,
           0.19989816844463348,
           0.13040126860141754,
           0.2699066400527954,
           -0.026125889271497726,
           0.23151320219039917,
           0.16284888982772827,
           0.0868067592382431,
           0.06585332006216049,
           0.07772241532802582,
           0.2444484680891037,
           0.13682638108730316,
           0.11647307127714157,
           -0.023704608902335167,
           -0.028605658560991287,
           0.08912499994039536,
           0.21867702901363373,
           0.14602336287498474,
           0.17008325457572937,
           0.10609287023544312,
           0.14870841801166534,
           0.09689398109912872,
           0.17025232315063477,
           0.17741703987121582,
           0.0009508617222309113,
           0.07514243572950363,
           0.2668847143650055,
           0.10532984137535095,
           0.037809811532497406,
           0.17811165750026703,
           0.2280389368534088,
           0.0751255676150322,
           0.05398962274193764,
           0.2824418246746063,
           0.11318998783826828,
           0.10972734540700912,
           0.1238139271736145,
           0.08035833388566971,
           0.9999999403953552,
           0.14375771582126617,
           0.2703688442707062,
           0.06493709236383438
          ],
          [
           0.15647487342357635,
           0.5107208490371704,
           0.3551461398601532,
           0.3582960069179535,
           0.24957893788814545,
           0.34957781434059143,
           0.36740589141845703,
           0.4304102063179016,
           0.6286725997924805,
           0.1935569941997528,
           0.07837364077568054,
           0.6751368045806885,
           0.49348726868629456,
           0.18501704931259155,
           0.2909129858016968,
           0.25080540776252747,
           0.35793134570121765,
           0.11331626772880554,
           0.489209920167923,
           0.3530842363834381,
           0.14476746320724487,
           0.6499876379966736,
           0.05971423536539078,
           0.27047327160835266,
           0.3061051666736603,
           0.4795514941215515,
           0.12502115964889526,
           0.4669312536716461,
           0.6618828773498535,
           0.44787946343421936,
           0.4341925382614136,
           0.6393532752990723,
           0.2789822518825531,
           0.33445626497268677,
           0.555881917476654,
           0.5498683452606201,
           0.6019544005393982,
           0.2875669598579407,
           0.2900155186653137,
           0.3476659953594208,
           0.3189007341861725,
           0.3725523352622986,
           0.3222759962081909,
           0.23012405633926392,
           0.4339412748813629,
           0.5377521514892578,
           0.48788201808929443,
           0.2678613066673279,
           0.19145336747169495,
           0.14375771582126617,
           1,
           0.30199405550956726,
           0.5089452266693115
          ],
          [
           0.4736085534095764,
           0.3086048662662506,
           0.37956804037094116,
           0.3342636525630951,
           0.17780150473117828,
           0.3055829405784607,
           0.6584545373916626,
           0.6253019571304321,
           0.3472614288330078,
           0.16007179021835327,
           0.195328950881958,
           0.36794301867485046,
           0.2955016791820526,
           0.27217742800712585,
           0.10368283092975616,
           0.3361507058143616,
           0.3449344038963318,
           0.2166285216808319,
           0.47371378540992737,
           0.4773455262184143,
           0.48805010318756104,
           0.3267521560192108,
           0.18068300187587738,
           0.2713419795036316,
           0.4387964606285095,
           0.4578820466995239,
           0.2379675656557083,
           0.6263991594314575,
           0.392694890499115,
           0.4942401647567749,
           0.3942660987377167,
           0.5099678635597229,
           0.3144444227218628,
           0.3035414516925812,
           0.24181218445301056,
           0.3631933927536011,
           0.47150135040283203,
           0.33155345916748047,
           0.3169838786125183,
           0.1995237022638321,
           0.33659040927886963,
           0.24691830575466156,
           0.24572356045246124,
           0.3985884189605713,
           0.4173493981361389,
           0.4052840769290924,
           0.5329781174659729,
           0.4486132264137268,
           0.296522319316864,
           0.2703688442707062,
           0.30199405550956726,
           0.9999998211860657,
           0.40213507413864136
          ],
          [
           0.46748217940330505,
           0.46417170763015747,
           0.35073649883270264,
           0.46897125244140625,
           0.17453578114509583,
           0.4096829891204834,
           0.46429428458213806,
           0.45796364545822144,
           0.6174786686897278,
           0.33234620094299316,
           0.26658257842063904,
           0.6875782608985901,
           0.25858741998672485,
           0.422971248626709,
           0.15285387635231018,
           0.42558881640434265,
           0.4812620282173157,
           0.1619422286748886,
           0.7324296832084656,
           0.6034935712814331,
           0.47510385513305664,
           0.47066566348075867,
           0.2696918845176697,
           0.36255136132240295,
           0.5841749310493469,
           0.6647714376449585,
           0.2844708561897278,
           0.5498561859130859,
           0.5857502818107605,
           0.6261711716651917,
           0.5400435328483582,
           0.7334346175193787,
           0.4269985854625702,
           0.4548899829387665,
           0.5369260907173157,
           0.758750855922699,
           0.7559292912483215,
           0.3970232605934143,
           0.4594825506210327,
           0.3376675844192505,
           0.37694865465164185,
           0.2621166706085205,
           0.40124326944351196,
           0.43923094868659973,
           0.386699914932251,
           0.5580655336380005,
           0.6804823279380798,
           0.5762554407119751,
           0.3550874590873718,
           0.06493709236383438,
           0.5089452266693115,
           0.40213507413864136,
           0.9999997019767761
          ]
         ]
        }
       ],
       "layout": {
        "coloraxis": {
         "colorbar": {
          "title": {
           "text": "Similarity Score"
          }
         },
         "colorscale": [
          [
           0,
           "rgb(247,252,240)"
          ],
          [
           0.125,
           "rgb(224,243,219)"
          ],
          [
           0.25,
           "rgb(204,235,197)"
          ],
          [
           0.375,
           "rgb(168,221,181)"
          ],
          [
           0.5,
           "rgb(123,204,196)"
          ],
          [
           0.625,
           "rgb(78,179,211)"
          ],
          [
           0.75,
           "rgb(43,140,190)"
          ],
          [
           0.875,
           "rgb(8,104,172)"
          ],
          [
           1,
           "rgb(8,64,129)"
          ]
         ]
        },
        "height": 800,
        "hoverlabel": {
         "bgcolor": "white",
         "font": {
          "family": "Rockwell",
          "size": 16
         }
        },
        "legend": {
         "title": {
          "text": "Trend"
         }
        },
        "margin": {
         "t": 60
        },
        "showlegend": true,
        "template": {
         "data": {
          "bar": [
           {
            "error_x": {
             "color": "#2a3f5f"
            },
            "error_y": {
             "color": "#2a3f5f"
            },
            "marker": {
             "line": {
              "color": "#E5ECF6",
              "width": 0.5
             },
             "pattern": {
              "fillmode": "overlay",
              "size": 10,
              "solidity": 0.2
             }
            },
            "type": "bar"
           }
          ],
          "barpolar": [
           {
            "marker": {
             "line": {
              "color": "#E5ECF6",
              "width": 0.5
             },
             "pattern": {
              "fillmode": "overlay",
              "size": 10,
              "solidity": 0.2
             }
            },
            "type": "barpolar"
           }
          ],
          "carpet": [
           {
            "aaxis": {
             "endlinecolor": "#2a3f5f",
             "gridcolor": "white",
             "linecolor": "white",
             "minorgridcolor": "white",
             "startlinecolor": "#2a3f5f"
            },
            "baxis": {
             "endlinecolor": "#2a3f5f",
             "gridcolor": "white",
             "linecolor": "white",
             "minorgridcolor": "white",
             "startlinecolor": "#2a3f5f"
            },
            "type": "carpet"
           }
          ],
          "choropleth": [
           {
            "colorbar": {
             "outlinewidth": 0,
             "ticks": ""
            },
            "type": "choropleth"
           }
          ],
          "contour": [
           {
            "colorbar": {
             "outlinewidth": 0,
             "ticks": ""
            },
            "colorscale": [
             [
              0,
              "#0d0887"
             ],
             [
              0.1111111111111111,
              "#46039f"
             ],
             [
              0.2222222222222222,
              "#7201a8"
             ],
             [
              0.3333333333333333,
              "#9c179e"
             ],
             [
              0.4444444444444444,
              "#bd3786"
             ],
             [
              0.5555555555555556,
              "#d8576b"
             ],
             [
              0.6666666666666666,
              "#ed7953"
             ],
             [
              0.7777777777777778,
              "#fb9f3a"
             ],
             [
              0.8888888888888888,
              "#fdca26"
             ],
             [
              1,
              "#f0f921"
             ]
            ],
            "type": "contour"
           }
          ],
          "contourcarpet": [
           {
            "colorbar": {
             "outlinewidth": 0,
             "ticks": ""
            },
            "type": "contourcarpet"
           }
          ],
          "heatmap": [
           {
            "colorbar": {
             "outlinewidth": 0,
             "ticks": ""
            },
            "colorscale": [
             [
              0,
              "#0d0887"
             ],
             [
              0.1111111111111111,
              "#46039f"
             ],
             [
              0.2222222222222222,
              "#7201a8"
             ],
             [
              0.3333333333333333,
              "#9c179e"
             ],
             [
              0.4444444444444444,
              "#bd3786"
             ],
             [
              0.5555555555555556,
              "#d8576b"
             ],
             [
              0.6666666666666666,
              "#ed7953"
             ],
             [
              0.7777777777777778,
              "#fb9f3a"
             ],
             [
              0.8888888888888888,
              "#fdca26"
             ],
             [
              1,
              "#f0f921"
             ]
            ],
            "type": "heatmap"
           }
          ],
          "heatmapgl": [
           {
            "colorbar": {
             "outlinewidth": 0,
             "ticks": ""
            },
            "colorscale": [
             [
              0,
              "#0d0887"
             ],
             [
              0.1111111111111111,
              "#46039f"
             ],
             [
              0.2222222222222222,
              "#7201a8"
             ],
             [
              0.3333333333333333,
              "#9c179e"
             ],
             [
              0.4444444444444444,
              "#bd3786"
             ],
             [
              0.5555555555555556,
              "#d8576b"
             ],
             [
              0.6666666666666666,
              "#ed7953"
             ],
             [
              0.7777777777777778,
              "#fb9f3a"
             ],
             [
              0.8888888888888888,
              "#fdca26"
             ],
             [
              1,
              "#f0f921"
             ]
            ],
            "type": "heatmapgl"
           }
          ],
          "histogram": [
           {
            "marker": {
             "pattern": {
              "fillmode": "overlay",
              "size": 10,
              "solidity": 0.2
             }
            },
            "type": "histogram"
           }
          ],
          "histogram2d": [
           {
            "colorbar": {
             "outlinewidth": 0,
             "ticks": ""
            },
            "colorscale": [
             [
              0,
              "#0d0887"
             ],
             [
              0.1111111111111111,
              "#46039f"
             ],
             [
              0.2222222222222222,
              "#7201a8"
             ],
             [
              0.3333333333333333,
              "#9c179e"
             ],
             [
              0.4444444444444444,
              "#bd3786"
             ],
             [
              0.5555555555555556,
              "#d8576b"
             ],
             [
              0.6666666666666666,
              "#ed7953"
             ],
             [
              0.7777777777777778,
              "#fb9f3a"
             ],
             [
              0.8888888888888888,
              "#fdca26"
             ],
             [
              1,
              "#f0f921"
             ]
            ],
            "type": "histogram2d"
           }
          ],
          "histogram2dcontour": [
           {
            "colorbar": {
             "outlinewidth": 0,
             "ticks": ""
            },
            "colorscale": [
             [
              0,
              "#0d0887"
             ],
             [
              0.1111111111111111,
              "#46039f"
             ],
             [
              0.2222222222222222,
              "#7201a8"
             ],
             [
              0.3333333333333333,
              "#9c179e"
             ],
             [
              0.4444444444444444,
              "#bd3786"
             ],
             [
              0.5555555555555556,
              "#d8576b"
             ],
             [
              0.6666666666666666,
              "#ed7953"
             ],
             [
              0.7777777777777778,
              "#fb9f3a"
             ],
             [
              0.8888888888888888,
              "#fdca26"
             ],
             [
              1,
              "#f0f921"
             ]
            ],
            "type": "histogram2dcontour"
           }
          ],
          "mesh3d": [
           {
            "colorbar": {
             "outlinewidth": 0,
             "ticks": ""
            },
            "type": "mesh3d"
           }
          ],
          "parcoords": [
           {
            "line": {
             "colorbar": {
              "outlinewidth": 0,
              "ticks": ""
             }
            },
            "type": "parcoords"
           }
          ],
          "pie": [
           {
            "automargin": true,
            "type": "pie"
           }
          ],
          "scatter": [
           {
            "fillpattern": {
             "fillmode": "overlay",
             "size": 10,
             "solidity": 0.2
            },
            "type": "scatter"
           }
          ],
          "scatter3d": [
           {
            "line": {
             "colorbar": {
              "outlinewidth": 0,
              "ticks": ""
             }
            },
            "marker": {
             "colorbar": {
              "outlinewidth": 0,
              "ticks": ""
             }
            },
            "type": "scatter3d"
           }
          ],
          "scattercarpet": [
           {
            "marker": {
             "colorbar": {
              "outlinewidth": 0,
              "ticks": ""
             }
            },
            "type": "scattercarpet"
           }
          ],
          "scattergeo": [
           {
            "marker": {
             "colorbar": {
              "outlinewidth": 0,
              "ticks": ""
             }
            },
            "type": "scattergeo"
           }
          ],
          "scattergl": [
           {
            "marker": {
             "colorbar": {
              "outlinewidth": 0,
              "ticks": ""
             }
            },
            "type": "scattergl"
           }
          ],
          "scattermapbox": [
           {
            "marker": {
             "colorbar": {
              "outlinewidth": 0,
              "ticks": ""
             }
            },
            "type": "scattermapbox"
           }
          ],
          "scatterpolar": [
           {
            "marker": {
             "colorbar": {
              "outlinewidth": 0,
              "ticks": ""
             }
            },
            "type": "scatterpolar"
           }
          ],
          "scatterpolargl": [
           {
            "marker": {
             "colorbar": {
              "outlinewidth": 0,
              "ticks": ""
             }
            },
            "type": "scatterpolargl"
           }
          ],
          "scatterternary": [
           {
            "marker": {
             "colorbar": {
              "outlinewidth": 0,
              "ticks": ""
             }
            },
            "type": "scatterternary"
           }
          ],
          "surface": [
           {
            "colorbar": {
             "outlinewidth": 0,
             "ticks": ""
            },
            "colorscale": [
             [
              0,
              "#0d0887"
             ],
             [
              0.1111111111111111,
              "#46039f"
             ],
             [
              0.2222222222222222,
              "#7201a8"
             ],
             [
              0.3333333333333333,
              "#9c179e"
             ],
             [
              0.4444444444444444,
              "#bd3786"
             ],
             [
              0.5555555555555556,
              "#d8576b"
             ],
             [
              0.6666666666666666,
              "#ed7953"
             ],
             [
              0.7777777777777778,
              "#fb9f3a"
             ],
             [
              0.8888888888888888,
              "#fdca26"
             ],
             [
              1,
              "#f0f921"
             ]
            ],
            "type": "surface"
           }
          ],
          "table": [
           {
            "cells": {
             "fill": {
              "color": "#EBF0F8"
             },
             "line": {
              "color": "white"
             }
            },
            "header": {
             "fill": {
              "color": "#C8D4E3"
             },
             "line": {
              "color": "white"
             }
            },
            "type": "table"
           }
          ]
         },
         "layout": {
          "annotationdefaults": {
           "arrowcolor": "#2a3f5f",
           "arrowhead": 0,
           "arrowwidth": 1
          },
          "autotypenumbers": "strict",
          "coloraxis": {
           "colorbar": {
            "outlinewidth": 0,
            "ticks": ""
           }
          },
          "colorscale": {
           "diverging": [
            [
             0,
             "#8e0152"
            ],
            [
             0.1,
             "#c51b7d"
            ],
            [
             0.2,
             "#de77ae"
            ],
            [
             0.3,
             "#f1b6da"
            ],
            [
             0.4,
             "#fde0ef"
            ],
            [
             0.5,
             "#f7f7f7"
            ],
            [
             0.6,
             "#e6f5d0"
            ],
            [
             0.7,
             "#b8e186"
            ],
            [
             0.8,
             "#7fbc41"
            ],
            [
             0.9,
             "#4d9221"
            ],
            [
             1,
             "#276419"
            ]
           ],
           "sequential": [
            [
             0,
             "#0d0887"
            ],
            [
             0.1111111111111111,
             "#46039f"
            ],
            [
             0.2222222222222222,
             "#7201a8"
            ],
            [
             0.3333333333333333,
             "#9c179e"
            ],
            [
             0.4444444444444444,
             "#bd3786"
            ],
            [
             0.5555555555555556,
             "#d8576b"
            ],
            [
             0.6666666666666666,
             "#ed7953"
            ],
            [
             0.7777777777777778,
             "#fb9f3a"
            ],
            [
             0.8888888888888888,
             "#fdca26"
            ],
            [
             1,
             "#f0f921"
            ]
           ],
           "sequentialminus": [
            [
             0,
             "#0d0887"
            ],
            [
             0.1111111111111111,
             "#46039f"
            ],
            [
             0.2222222222222222,
             "#7201a8"
            ],
            [
             0.3333333333333333,
             "#9c179e"
            ],
            [
             0.4444444444444444,
             "#bd3786"
            ],
            [
             0.5555555555555556,
             "#d8576b"
            ],
            [
             0.6666666666666666,
             "#ed7953"
            ],
            [
             0.7777777777777778,
             "#fb9f3a"
            ],
            [
             0.8888888888888888,
             "#fdca26"
            ],
            [
             1,
             "#f0f921"
            ]
           ]
          },
          "colorway": [
           "#636efa",
           "#EF553B",
           "#00cc96",
           "#ab63fa",
           "#FFA15A",
           "#19d3f3",
           "#FF6692",
           "#B6E880",
           "#FF97FF",
           "#FECB52"
          ],
          "font": {
           "color": "#2a3f5f"
          },
          "geo": {
           "bgcolor": "white",
           "lakecolor": "white",
           "landcolor": "#E5ECF6",
           "showlakes": true,
           "showland": true,
           "subunitcolor": "white"
          },
          "hoverlabel": {
           "align": "left"
          },
          "hovermode": "closest",
          "mapbox": {
           "style": "light"
          },
          "paper_bgcolor": "white",
          "plot_bgcolor": "#E5ECF6",
          "polar": {
           "angularaxis": {
            "gridcolor": "white",
            "linecolor": "white",
            "ticks": ""
           },
           "bgcolor": "#E5ECF6",
           "radialaxis": {
            "gridcolor": "white",
            "linecolor": "white",
            "ticks": ""
           }
          },
          "scene": {
           "xaxis": {
            "backgroundcolor": "#E5ECF6",
            "gridcolor": "white",
            "gridwidth": 2,
            "linecolor": "white",
            "showbackground": true,
            "ticks": "",
            "zerolinecolor": "white"
           },
           "yaxis": {
            "backgroundcolor": "#E5ECF6",
            "gridcolor": "white",
            "gridwidth": 2,
            "linecolor": "white",
            "showbackground": true,
            "ticks": "",
            "zerolinecolor": "white"
           },
           "zaxis": {
            "backgroundcolor": "#E5ECF6",
            "gridcolor": "white",
            "gridwidth": 2,
            "linecolor": "white",
            "showbackground": true,
            "ticks": "",
            "zerolinecolor": "white"
           }
          },
          "shapedefaults": {
           "line": {
            "color": "#2a3f5f"
           }
          },
          "ternary": {
           "aaxis": {
            "gridcolor": "white",
            "linecolor": "white",
            "ticks": ""
           },
           "baxis": {
            "gridcolor": "white",
            "linecolor": "white",
            "ticks": ""
           },
           "bgcolor": "#E5ECF6",
           "caxis": {
            "gridcolor": "white",
            "linecolor": "white",
            "ticks": ""
           }
          },
          "title": {
           "x": 0.05
          },
          "xaxis": {
           "automargin": true,
           "gridcolor": "white",
           "linecolor": "white",
           "ticks": "",
           "title": {
            "standoff": 15
           },
           "zerolinecolor": "white",
           "zerolinewidth": 2
          },
          "yaxis": {
           "automargin": true,
           "gridcolor": "white",
           "linecolor": "white",
           "ticks": "",
           "title": {
            "standoff": 15
           },
           "zerolinecolor": "white",
           "zerolinewidth": 2
          }
         }
        },
        "title": {
         "font": {
          "color": "Black",
          "size": 22
         },
         "text": "<b>Similarity Matrix</b>",
         "x": 0.55,
         "xanchor": "center",
         "y": 0.95,
         "yanchor": "top"
        },
        "width": 800,
        "xaxis": {
         "anchor": "y",
         "constrain": "domain",
         "domain": [
          0,
          1
         ],
         "scaleanchor": "y"
        },
        "yaxis": {
         "anchor": "x",
         "autorange": "reversed",
         "constrain": "domain",
         "domain": [
          0,
          1
         ]
        }
       }
      }
     },
     "metadata": {},
     "output_type": "display_data"
    }
   ],
   "source": [
    "topic_model.visualize_heatmap()"
   ]
  },
  {
   "cell_type": "markdown",
   "metadata": {},
   "source": [
    "## Amélioration du BERT Topic"
   ]
  },
  {
   "cell_type": "code",
   "execution_count": 41,
   "metadata": {},
   "outputs": [],
   "source": [
    "from bertopic.vectorizers import ClassTfidfTransformer\n",
    "from hdbscan import HDBSCAN\n",
    "from umap import UMAP"
   ]
  },
  {
   "cell_type": "code",
   "execution_count": 42,
   "metadata": {},
   "outputs": [],
   "source": [
    "dim_reduction_model = UMAP(\n",
    " n_neighbors=10,\n",
    " n_components=50,\n",
    " min_dist=0.0,\n",
    " metric=\"cosine\",\n",
    " random_state=42,\n",
    " )"
   ]
  },
  {
   "cell_type": "code",
   "execution_count": 54,
   "metadata": {},
   "outputs": [],
   "source": [
    "clustering_model = HDBSCAN(\n",
    " min_cluster_size=10,\n",
    " metric=\"euclidean\",\n",
    " cluster_selection_method=\"eom\",\n",
    " prediction_data=True,\n",
    ")"
   ]
  },
  {
   "cell_type": "code",
   "execution_count": 44,
   "metadata": {},
   "outputs": [],
   "source": [
    "from sklearn.feature_extraction.text import CountVectorizer"
   ]
  },
  {
   "cell_type": "code",
   "execution_count": 55,
   "metadata": {},
   "outputs": [],
   "source": [
    "ctfidf_model = ClassTfidfTransformer(\n",
    " bm25_weighting = False,\n",
    " reduce_frequent_words = False,\n",
    " # seed_words = None,\n",
    " # seed_multiplier = 2,\n",
    " )"
   ]
  },
  {
   "cell_type": "code",
   "execution_count": 56,
   "metadata": {},
   "outputs": [],
   "source": [
    "topic_model = BERTopic(\n",
    "    n_gram_range=(1, 3), \n",
    "    embedding_model=sentence_model,  \n",
    "    min_topic_size=5, \n",
    "    language=\"french\",\n",
    "    umap_model=dim_reduction_model,\n",
    "    hdbscan_model=clustering_model,\n",
    "    ctfidf_model=ctfidf_model,\n",
    "    \n",
    ")\n"
   ]
  },
  {
   "cell_type": "code",
   "execution_count": 57,
   "metadata": {},
   "outputs": [],
   "source": [
    "topics, probs = topic_model.fit_transform(cleaned_comments)"
   ]
  },
  {
   "cell_type": "code",
   "execution_count": 58,
   "metadata": {},
   "outputs": [
    {
     "data": {
      "application/vnd.plotly.v1+json": {
       "config": {
        "plotlyServerURL": "https://plot.ly"
       },
       "data": [
        {
         "marker": {
          "color": "#D55E00"
         },
         "orientation": "h",
         "type": "bar",
         "x": [
          0.015548836281908842,
          0.015548836281908842,
          0.01729734634126277,
          0.018078411877568954,
          0.02388463848471518,
          0.026074332407611846,
          0.028101972845407608,
          0.07574244635277501,
          0.0960512164872821,
          0.10712930733872547
         ],
         "xaxis": "x",
         "y": [
          "samuel eto samuel  ",
          "merci samuel  ",
          "etoo  ",
          "légende samuel  ",
          "légende  ",
          "eto samuel  ",
          "samuel etoo  ",
          "eto  ",
          "samuel  ",
          "samuel eto  "
         ],
         "yaxis": "y"
        },
        {
         "marker": {
          "color": "#0072B2"
         },
         "orientation": "h",
         "type": "bar",
         "x": [
          0.016013789513604278,
          0.016013789513604278,
          0.016013789513604278,
          0.016013789513604278,
          0.016013789513604278,
          0.016718567266154064,
          0.01790590794743948,
          0.020533959364658242,
          0.021382132904120995,
          0.14600496329723334
         ],
         "xaxis": "x2",
         "y": [
          "tchouameni tchouameni  ",
          "bon présentateur  ",
          "air  ",
          "etoo tchouameni  ",
          "éloquence  ",
          "bon  ",
          "tchouaméni  ",
          "animateur  ",
          "tchouameni bon  ",
          "tchouameni  "
         ],
         "yaxis": "y2"
        },
        {
         "marker": {
          "color": "#CC79A7"
         },
         "orientation": "h",
         "type": "bar",
         "x": [
          0.013608462287357485,
          0.013660127523950719,
          0.01385909381010484,
          0.016098019033671904,
          0.021295629933582833,
          0.021465914680493987,
          0.022908335443991387,
          0.024552532580138512,
          0.0330365473753114,
          0.03372063968341148
         ],
         "xaxis": "x3",
         "y": [
          "menteur  ",
          "histoire  ",
          "eto  ",
          "match  ",
          "temps  ",
          "triplé  ",
          "mi temps  ",
          "mi  ",
          "jamais  ",
          "inter  "
         ],
         "yaxis": "y3"
        },
        {
         "marker": {
          "color": "#E69F00"
         },
         "orientation": "h",
         "type": "bar",
         "x": [
          0.006722063844256011,
          0.006844653121552748,
          0.007227003811039198,
          0.007310678614877067,
          0.007310678614877067,
          0.00781274631955479,
          0.00968359553983277,
          0.009742090067402278,
          0.010676301088366025,
          0.012240709527366098
         ],
         "xaxis": "x4",
         "y": [
          "encore  ",
          "pas  ",
          "grand  ",
          "moins  ",
          "fin  ",
          "celui  ",
          "qu  ",
          "parole  ",
          "respect  ",
          "ça  "
         ],
         "yaxis": "y4"
        },
        {
         "marker": {
          "color": "#56B4E9"
         },
         "orientation": "h",
         "type": "bar",
         "x": [
          0.018906871093773307,
          0.02030061167492993,
          0.020748588225480376,
          0.021523647670946507,
          0.021810659104936594,
          0.023150670642350605,
          0.028390604042709766,
          0.02960364534318976,
          0.050751529187324826,
          0.09762621618962548
         ],
         "xaxis": "x5",
         "y": [
          "parole  ",
          "après  ",
          "journalisme  ",
          "une  ",
          "job  ",
          "bravo  ",
          "bon  ",
          "journaliste  ",
          "aurelien  ",
          "aurélien  "
         ],
         "yaxis": "y5"
        }
       ],
       "layout": {
        "annotations": [
         {
          "font": {
           "size": 16
          },
          "showarrow": false,
          "text": "Topic 1",
          "x": 0.0875,
          "xanchor": "center",
          "xref": "paper",
          "y": 1,
          "yanchor": "bottom",
          "yref": "paper"
         },
         {
          "font": {
           "size": 16
          },
          "showarrow": false,
          "text": "Topic 2",
          "x": 0.36250000000000004,
          "xanchor": "center",
          "xref": "paper",
          "y": 1,
          "yanchor": "bottom",
          "yref": "paper"
         },
         {
          "font": {
           "size": 16
          },
          "showarrow": false,
          "text": "Topic 3",
          "x": 0.6375000000000001,
          "xanchor": "center",
          "xref": "paper",
          "y": 1,
          "yanchor": "bottom",
          "yref": "paper"
         },
         {
          "font": {
           "size": 16
          },
          "showarrow": false,
          "text": "Topic 4",
          "x": 0.9125,
          "xanchor": "center",
          "xref": "paper",
          "y": 1,
          "yanchor": "bottom",
          "yref": "paper"
         },
         {
          "font": {
           "size": 16
          },
          "showarrow": false,
          "text": "Topic 5",
          "x": 0.0875,
          "xanchor": "center",
          "xref": "paper",
          "y": 0.4,
          "yanchor": "bottom",
          "yref": "paper"
         }
        ],
        "height": 600,
        "hoverlabel": {
         "bgcolor": "white",
         "font": {
          "family": "Rockwell",
          "size": 16
         }
        },
        "showlegend": false,
        "template": {
         "data": {
          "bar": [
           {
            "error_x": {
             "color": "#2a3f5f"
            },
            "error_y": {
             "color": "#2a3f5f"
            },
            "marker": {
             "line": {
              "color": "white",
              "width": 0.5
             },
             "pattern": {
              "fillmode": "overlay",
              "size": 10,
              "solidity": 0.2
             }
            },
            "type": "bar"
           }
          ],
          "barpolar": [
           {
            "marker": {
             "line": {
              "color": "white",
              "width": 0.5
             },
             "pattern": {
              "fillmode": "overlay",
              "size": 10,
              "solidity": 0.2
             }
            },
            "type": "barpolar"
           }
          ],
          "carpet": [
           {
            "aaxis": {
             "endlinecolor": "#2a3f5f",
             "gridcolor": "#C8D4E3",
             "linecolor": "#C8D4E3",
             "minorgridcolor": "#C8D4E3",
             "startlinecolor": "#2a3f5f"
            },
            "baxis": {
             "endlinecolor": "#2a3f5f",
             "gridcolor": "#C8D4E3",
             "linecolor": "#C8D4E3",
             "minorgridcolor": "#C8D4E3",
             "startlinecolor": "#2a3f5f"
            },
            "type": "carpet"
           }
          ],
          "choropleth": [
           {
            "colorbar": {
             "outlinewidth": 0,
             "ticks": ""
            },
            "type": "choropleth"
           }
          ],
          "contour": [
           {
            "colorbar": {
             "outlinewidth": 0,
             "ticks": ""
            },
            "colorscale": [
             [
              0,
              "#0d0887"
             ],
             [
              0.1111111111111111,
              "#46039f"
             ],
             [
              0.2222222222222222,
              "#7201a8"
             ],
             [
              0.3333333333333333,
              "#9c179e"
             ],
             [
              0.4444444444444444,
              "#bd3786"
             ],
             [
              0.5555555555555556,
              "#d8576b"
             ],
             [
              0.6666666666666666,
              "#ed7953"
             ],
             [
              0.7777777777777778,
              "#fb9f3a"
             ],
             [
              0.8888888888888888,
              "#fdca26"
             ],
             [
              1,
              "#f0f921"
             ]
            ],
            "type": "contour"
           }
          ],
          "contourcarpet": [
           {
            "colorbar": {
             "outlinewidth": 0,
             "ticks": ""
            },
            "type": "contourcarpet"
           }
          ],
          "heatmap": [
           {
            "colorbar": {
             "outlinewidth": 0,
             "ticks": ""
            },
            "colorscale": [
             [
              0,
              "#0d0887"
             ],
             [
              0.1111111111111111,
              "#46039f"
             ],
             [
              0.2222222222222222,
              "#7201a8"
             ],
             [
              0.3333333333333333,
              "#9c179e"
             ],
             [
              0.4444444444444444,
              "#bd3786"
             ],
             [
              0.5555555555555556,
              "#d8576b"
             ],
             [
              0.6666666666666666,
              "#ed7953"
             ],
             [
              0.7777777777777778,
              "#fb9f3a"
             ],
             [
              0.8888888888888888,
              "#fdca26"
             ],
             [
              1,
              "#f0f921"
             ]
            ],
            "type": "heatmap"
           }
          ],
          "heatmapgl": [
           {
            "colorbar": {
             "outlinewidth": 0,
             "ticks": ""
            },
            "colorscale": [
             [
              0,
              "#0d0887"
             ],
             [
              0.1111111111111111,
              "#46039f"
             ],
             [
              0.2222222222222222,
              "#7201a8"
             ],
             [
              0.3333333333333333,
              "#9c179e"
             ],
             [
              0.4444444444444444,
              "#bd3786"
             ],
             [
              0.5555555555555556,
              "#d8576b"
             ],
             [
              0.6666666666666666,
              "#ed7953"
             ],
             [
              0.7777777777777778,
              "#fb9f3a"
             ],
             [
              0.8888888888888888,
              "#fdca26"
             ],
             [
              1,
              "#f0f921"
             ]
            ],
            "type": "heatmapgl"
           }
          ],
          "histogram": [
           {
            "marker": {
             "pattern": {
              "fillmode": "overlay",
              "size": 10,
              "solidity": 0.2
             }
            },
            "type": "histogram"
           }
          ],
          "histogram2d": [
           {
            "colorbar": {
             "outlinewidth": 0,
             "ticks": ""
            },
            "colorscale": [
             [
              0,
              "#0d0887"
             ],
             [
              0.1111111111111111,
              "#46039f"
             ],
             [
              0.2222222222222222,
              "#7201a8"
             ],
             [
              0.3333333333333333,
              "#9c179e"
             ],
             [
              0.4444444444444444,
              "#bd3786"
             ],
             [
              0.5555555555555556,
              "#d8576b"
             ],
             [
              0.6666666666666666,
              "#ed7953"
             ],
             [
              0.7777777777777778,
              "#fb9f3a"
             ],
             [
              0.8888888888888888,
              "#fdca26"
             ],
             [
              1,
              "#f0f921"
             ]
            ],
            "type": "histogram2d"
           }
          ],
          "histogram2dcontour": [
           {
            "colorbar": {
             "outlinewidth": 0,
             "ticks": ""
            },
            "colorscale": [
             [
              0,
              "#0d0887"
             ],
             [
              0.1111111111111111,
              "#46039f"
             ],
             [
              0.2222222222222222,
              "#7201a8"
             ],
             [
              0.3333333333333333,
              "#9c179e"
             ],
             [
              0.4444444444444444,
              "#bd3786"
             ],
             [
              0.5555555555555556,
              "#d8576b"
             ],
             [
              0.6666666666666666,
              "#ed7953"
             ],
             [
              0.7777777777777778,
              "#fb9f3a"
             ],
             [
              0.8888888888888888,
              "#fdca26"
             ],
             [
              1,
              "#f0f921"
             ]
            ],
            "type": "histogram2dcontour"
           }
          ],
          "mesh3d": [
           {
            "colorbar": {
             "outlinewidth": 0,
             "ticks": ""
            },
            "type": "mesh3d"
           }
          ],
          "parcoords": [
           {
            "line": {
             "colorbar": {
              "outlinewidth": 0,
              "ticks": ""
             }
            },
            "type": "parcoords"
           }
          ],
          "pie": [
           {
            "automargin": true,
            "type": "pie"
           }
          ],
          "scatter": [
           {
            "fillpattern": {
             "fillmode": "overlay",
             "size": 10,
             "solidity": 0.2
            },
            "type": "scatter"
           }
          ],
          "scatter3d": [
           {
            "line": {
             "colorbar": {
              "outlinewidth": 0,
              "ticks": ""
             }
            },
            "marker": {
             "colorbar": {
              "outlinewidth": 0,
              "ticks": ""
             }
            },
            "type": "scatter3d"
           }
          ],
          "scattercarpet": [
           {
            "marker": {
             "colorbar": {
              "outlinewidth": 0,
              "ticks": ""
             }
            },
            "type": "scattercarpet"
           }
          ],
          "scattergeo": [
           {
            "marker": {
             "colorbar": {
              "outlinewidth": 0,
              "ticks": ""
             }
            },
            "type": "scattergeo"
           }
          ],
          "scattergl": [
           {
            "marker": {
             "colorbar": {
              "outlinewidth": 0,
              "ticks": ""
             }
            },
            "type": "scattergl"
           }
          ],
          "scattermapbox": [
           {
            "marker": {
             "colorbar": {
              "outlinewidth": 0,
              "ticks": ""
             }
            },
            "type": "scattermapbox"
           }
          ],
          "scatterpolar": [
           {
            "marker": {
             "colorbar": {
              "outlinewidth": 0,
              "ticks": ""
             }
            },
            "type": "scatterpolar"
           }
          ],
          "scatterpolargl": [
           {
            "marker": {
             "colorbar": {
              "outlinewidth": 0,
              "ticks": ""
             }
            },
            "type": "scatterpolargl"
           }
          ],
          "scatterternary": [
           {
            "marker": {
             "colorbar": {
              "outlinewidth": 0,
              "ticks": ""
             }
            },
            "type": "scatterternary"
           }
          ],
          "surface": [
           {
            "colorbar": {
             "outlinewidth": 0,
             "ticks": ""
            },
            "colorscale": [
             [
              0,
              "#0d0887"
             ],
             [
              0.1111111111111111,
              "#46039f"
             ],
             [
              0.2222222222222222,
              "#7201a8"
             ],
             [
              0.3333333333333333,
              "#9c179e"
             ],
             [
              0.4444444444444444,
              "#bd3786"
             ],
             [
              0.5555555555555556,
              "#d8576b"
             ],
             [
              0.6666666666666666,
              "#ed7953"
             ],
             [
              0.7777777777777778,
              "#fb9f3a"
             ],
             [
              0.8888888888888888,
              "#fdca26"
             ],
             [
              1,
              "#f0f921"
             ]
            ],
            "type": "surface"
           }
          ],
          "table": [
           {
            "cells": {
             "fill": {
              "color": "#EBF0F8"
             },
             "line": {
              "color": "white"
             }
            },
            "header": {
             "fill": {
              "color": "#C8D4E3"
             },
             "line": {
              "color": "white"
             }
            },
            "type": "table"
           }
          ]
         },
         "layout": {
          "annotationdefaults": {
           "arrowcolor": "#2a3f5f",
           "arrowhead": 0,
           "arrowwidth": 1
          },
          "autotypenumbers": "strict",
          "coloraxis": {
           "colorbar": {
            "outlinewidth": 0,
            "ticks": ""
           }
          },
          "colorscale": {
           "diverging": [
            [
             0,
             "#8e0152"
            ],
            [
             0.1,
             "#c51b7d"
            ],
            [
             0.2,
             "#de77ae"
            ],
            [
             0.3,
             "#f1b6da"
            ],
            [
             0.4,
             "#fde0ef"
            ],
            [
             0.5,
             "#f7f7f7"
            ],
            [
             0.6,
             "#e6f5d0"
            ],
            [
             0.7,
             "#b8e186"
            ],
            [
             0.8,
             "#7fbc41"
            ],
            [
             0.9,
             "#4d9221"
            ],
            [
             1,
             "#276419"
            ]
           ],
           "sequential": [
            [
             0,
             "#0d0887"
            ],
            [
             0.1111111111111111,
             "#46039f"
            ],
            [
             0.2222222222222222,
             "#7201a8"
            ],
            [
             0.3333333333333333,
             "#9c179e"
            ],
            [
             0.4444444444444444,
             "#bd3786"
            ],
            [
             0.5555555555555556,
             "#d8576b"
            ],
            [
             0.6666666666666666,
             "#ed7953"
            ],
            [
             0.7777777777777778,
             "#fb9f3a"
            ],
            [
             0.8888888888888888,
             "#fdca26"
            ],
            [
             1,
             "#f0f921"
            ]
           ],
           "sequentialminus": [
            [
             0,
             "#0d0887"
            ],
            [
             0.1111111111111111,
             "#46039f"
            ],
            [
             0.2222222222222222,
             "#7201a8"
            ],
            [
             0.3333333333333333,
             "#9c179e"
            ],
            [
             0.4444444444444444,
             "#bd3786"
            ],
            [
             0.5555555555555556,
             "#d8576b"
            ],
            [
             0.6666666666666666,
             "#ed7953"
            ],
            [
             0.7777777777777778,
             "#fb9f3a"
            ],
            [
             0.8888888888888888,
             "#fdca26"
            ],
            [
             1,
             "#f0f921"
            ]
           ]
          },
          "colorway": [
           "#636efa",
           "#EF553B",
           "#00cc96",
           "#ab63fa",
           "#FFA15A",
           "#19d3f3",
           "#FF6692",
           "#B6E880",
           "#FF97FF",
           "#FECB52"
          ],
          "font": {
           "color": "#2a3f5f"
          },
          "geo": {
           "bgcolor": "white",
           "lakecolor": "white",
           "landcolor": "white",
           "showlakes": true,
           "showland": true,
           "subunitcolor": "#C8D4E3"
          },
          "hoverlabel": {
           "align": "left"
          },
          "hovermode": "closest",
          "mapbox": {
           "style": "light"
          },
          "paper_bgcolor": "white",
          "plot_bgcolor": "white",
          "polar": {
           "angularaxis": {
            "gridcolor": "#EBF0F8",
            "linecolor": "#EBF0F8",
            "ticks": ""
           },
           "bgcolor": "white",
           "radialaxis": {
            "gridcolor": "#EBF0F8",
            "linecolor": "#EBF0F8",
            "ticks": ""
           }
          },
          "scene": {
           "xaxis": {
            "backgroundcolor": "white",
            "gridcolor": "#DFE8F3",
            "gridwidth": 2,
            "linecolor": "#EBF0F8",
            "showbackground": true,
            "ticks": "",
            "zerolinecolor": "#EBF0F8"
           },
           "yaxis": {
            "backgroundcolor": "white",
            "gridcolor": "#DFE8F3",
            "gridwidth": 2,
            "linecolor": "#EBF0F8",
            "showbackground": true,
            "ticks": "",
            "zerolinecolor": "#EBF0F8"
           },
           "zaxis": {
            "backgroundcolor": "white",
            "gridcolor": "#DFE8F3",
            "gridwidth": 2,
            "linecolor": "#EBF0F8",
            "showbackground": true,
            "ticks": "",
            "zerolinecolor": "#EBF0F8"
           }
          },
          "shapedefaults": {
           "line": {
            "color": "#2a3f5f"
           }
          },
          "ternary": {
           "aaxis": {
            "gridcolor": "#DFE8F3",
            "linecolor": "#A2B1C6",
            "ticks": ""
           },
           "baxis": {
            "gridcolor": "#DFE8F3",
            "linecolor": "#A2B1C6",
            "ticks": ""
           },
           "bgcolor": "white",
           "caxis": {
            "gridcolor": "#DFE8F3",
            "linecolor": "#A2B1C6",
            "ticks": ""
           }
          },
          "title": {
           "x": 0.05
          },
          "xaxis": {
           "automargin": true,
           "gridcolor": "#EBF0F8",
           "linecolor": "#EBF0F8",
           "ticks": "",
           "title": {
            "standoff": 15
           },
           "zerolinecolor": "#EBF0F8",
           "zerolinewidth": 2
          },
          "yaxis": {
           "automargin": true,
           "gridcolor": "#EBF0F8",
           "linecolor": "#EBF0F8",
           "ticks": "",
           "title": {
            "standoff": 15
           },
           "zerolinecolor": "#EBF0F8",
           "zerolinewidth": 2
          }
         }
        },
        "title": {
         "font": {
          "color": "Black",
          "size": 22
         },
         "text": "Topic Word Scores",
         "x": 0.5,
         "xanchor": "center",
         "yanchor": "top"
        },
        "width": 1200,
        "xaxis": {
         "anchor": "y",
         "domain": [
          0,
          0.175
         ],
         "showgrid": true
        },
        "xaxis2": {
         "anchor": "y2",
         "domain": [
          0.275,
          0.45
         ],
         "showgrid": true
        },
        "xaxis3": {
         "anchor": "y3",
         "domain": [
          0.55,
          0.7250000000000001
         ],
         "showgrid": true
        },
        "xaxis4": {
         "anchor": "y4",
         "domain": [
          0.825,
          1
         ],
         "showgrid": true
        },
        "xaxis5": {
         "anchor": "y5",
         "domain": [
          0,
          0.175
         ],
         "showgrid": true
        },
        "xaxis6": {
         "anchor": "y6",
         "domain": [
          0.275,
          0.45
         ],
         "showgrid": true
        },
        "xaxis7": {
         "anchor": "y7",
         "domain": [
          0.55,
          0.7250000000000001
         ],
         "showgrid": true
        },
        "xaxis8": {
         "anchor": "y8",
         "domain": [
          0.825,
          1
         ],
         "showgrid": true
        },
        "yaxis": {
         "anchor": "x",
         "domain": [
          0.6000000000000001,
          1
         ],
         "showgrid": true
        },
        "yaxis2": {
         "anchor": "x2",
         "domain": [
          0.6000000000000001,
          1
         ],
         "showgrid": true
        },
        "yaxis3": {
         "anchor": "x3",
         "domain": [
          0.6000000000000001,
          1
         ],
         "showgrid": true
        },
        "yaxis4": {
         "anchor": "x4",
         "domain": [
          0.6000000000000001,
          1
         ],
         "showgrid": true
        },
        "yaxis5": {
         "anchor": "x5",
         "domain": [
          0,
          0.4
         ],
         "showgrid": true
        },
        "yaxis6": {
         "anchor": "x6",
         "domain": [
          0,
          0.4
         ],
         "showgrid": true
        },
        "yaxis7": {
         "anchor": "x7",
         "domain": [
          0,
          0.4
         ],
         "showgrid": true
        },
        "yaxis8": {
         "anchor": "x8",
         "domain": [
          0,
          0.4
         ],
         "showgrid": true
        }
       }
      }
     },
     "metadata": {},
     "output_type": "display_data"
    }
   ],
   "source": [
    "topic_model.visualize_barchart(n_words=10, topics=[1,2,3,4,5, ], height=300, width=300)"
   ]
  },
  {
   "cell_type": "code",
   "execution_count": 59,
   "metadata": {},
   "outputs": [
    {
     "data": {
      "application/vnd.plotly.v1+json": {
       "config": {
        "plotlyServerURL": "https://plot.ly"
       },
       "data": [
        {
         "coloraxis": "coloraxis",
         "hovertemplate": "x: %{x}<br>y: %{y}<br>Similarity Score: %{z}<extra></extra>",
         "name": "0",
         "type": "heatmap",
         "x": [
          "0_samuel_orh_orh samuel",
          "1_samuel eto_samuel_eto",
          "2_tchouameni_tchouameni bon...",
          "3_inter_jamais_mi",
          "4_ça_respect_parole",
          "5_aurélien_aurelien_journal...",
          "6_redouane_travail_etoo",
          "7_eto_eto eto_touche eto",
          "8_mort_excellent_vie",
          "9_combattant_meilleur comba...",
          "10_mytho_prédateur_eto mytho",
          "11_eto eto_eto_eto eto eto",
          "12_personnes_invités_parler",
          "13_02_02 53_53",
          "14_interview_belle intervie...",
          "15_samuel eto_afrique_samuel",
          "16_émission_super émission_...",
          "17_coupe_cameroun_monde",
          "18_vidéo_connaissance_autres",
          "19_camerounais_cameroun_cam...",
          "20_mike_mike maignan_maignan",
          "21_eto_samuel eto_samuel",
          "22_vidéo_ai_excellent",
          "23_merci_émission merci_émi...",
          "24_latin_parle_écouter"
         ],
         "xaxis": "x",
         "y": [
          "0_samuel_orh_orh samuel",
          "1_samuel eto_samuel_eto",
          "2_tchouameni_tchouameni bon...",
          "3_inter_jamais_mi",
          "4_ça_respect_parole",
          "5_aurélien_aurelien_journal...",
          "6_redouane_travail_etoo",
          "7_eto_eto eto_touche eto",
          "8_mort_excellent_vie",
          "9_combattant_meilleur comba...",
          "10_mytho_prédateur_eto mytho",
          "11_eto eto_eto_eto eto eto",
          "12_personnes_invités_parler",
          "13_02_02 53_53",
          "14_interview_belle intervie...",
          "15_samuel eto_afrique_samuel",
          "16_émission_super émission_...",
          "17_coupe_cameroun_monde",
          "18_vidéo_connaissance_autres",
          "19_camerounais_cameroun_cam...",
          "20_mike_mike maignan_maignan",
          "21_eto_samuel eto_samuel",
          "22_vidéo_ai_excellent",
          "23_merci_émission merci_émi...",
          "24_latin_parle_écouter"
         ],
         "yaxis": "y",
         "z": [
          [
           1,
           0.8007363677024841,
           0.254788875579834,
           0.4071316719055176,
           0.24105092883110046,
           0.3444017171859741,
           0.14501897990703583,
           0.31214869022369385,
           0.11518018692731857,
           0.3612137734889984,
           0.38120242953300476,
           0.3029610216617584,
           0.15551383793354034,
           0.20569737255573273,
           0.265389084815979,
           0.6548566818237305,
           0.04981055110692978,
           0.2490178942680359,
           0.3563113808631897,
           0.19875474274158478,
           0.37383657693862915,
           0.6120734214782715,
           0.28850215673446655,
           0.15664848685264587,
           0.22585289180278778
          ],
          [
           0.8007363677024841,
           0.9999998211860657,
           0.28122490644454956,
           0.5327052474021912,
           0.2898043394088745,
           0.34174230694770813,
           0.06558366119861603,
           0.6141484975814819,
           0.03546667844057083,
           0.3063717782497406,
           0.4349130690097809,
           0.5249676704406738,
           0.15196825563907623,
           0.09086805582046509,
           0.275355726480484,
           0.8427955508232117,
           0.07017754763364792,
           0.3485107421875,
           0.44028234481811523,
           0.27114608883857727,
           0.41469061374664307,
           0.7531478404998779,
           0.2628515362739563,
           0.14880764484405518,
           0.300495445728302
          ],
          [
           0.254788875579834,
           0.28122490644454956,
           1.000000238418579,
           0.47330400347709656,
           0.5479836463928223,
           0.4797380566596985,
           0.38906383514404297,
           0.43542465567588806,
           0.20777501165866852,
           0.3131493031978607,
           0.3584382236003876,
           0.46264728903770447,
           0.5354101061820984,
           0.27076828479766846,
           0.46040576696395874,
           0.31679344177246094,
           0.29281091690063477,
           0.4162897765636444,
           0.46505048871040344,
           0.38382282853126526,
           0.5044359564781189,
           0.56992506980896,
           0.37292975187301636,
           0.45571374893188477,
           0.4489600956439972
          ],
          [
           0.4071316719055176,
           0.5327052474021912,
           0.47330400347709656,
           1.0000001192092896,
           0.6365494728088379,
           0.46531757712364197,
           0.1904686689376831,
           0.4454083740711212,
           0.03353406488895416,
           0.5015296936035156,
           0.45241162180900574,
           0.4119270145893097,
           0.4087386727333069,
           0.08717771619558334,
           0.4130064845085144,
           0.5639055371284485,
           0.15289978682994843,
           0.6197482943534851,
           0.5946379899978638,
           0.19119936227798462,
           0.5148417353630066,
           0.7270292043685913,
           0.38200581073760986,
           0.26220086216926575,
           0.32185477018356323
          ],
          [
           0.24105092883110046,
           0.2898043394088745,
           0.5479836463928223,
           0.6365494728088379,
           0.9999993443489075,
           0.6425289511680603,
           0.5449768304824829,
           0.44590166211128235,
           0.1577029824256897,
           0.49253690242767334,
           0.31684476137161255,
           0.4507722854614258,
           0.8393633961677551,
           0.16709604859352112,
           0.6160086989402771,
           0.394520103931427,
           0.3955782651901245,
           0.515568196773529,
           0.8346537947654724,
           0.1090390756726265,
           0.6318037509918213,
           0.7282019853591919,
           0.5777430534362793,
           0.56459641456604,
           0.44287440180778503
          ],
          [
           0.3444017171859741,
           0.34174230694770813,
           0.4797380566596985,
           0.46531757712364197,
           0.6425289511680603,
           0.9999998807907104,
           0.49247944355010986,
           0.41081544756889343,
           0.2381504625082016,
           0.3383414149284363,
           0.28944462537765503,
           0.43542665243148804,
           0.5925336480140686,
           0.2777283191680908,
           0.5458282828330994,
           0.3805729150772095,
           0.326518714427948,
           0.34505897760391235,
           0.5904554128646851,
           0.14507469534873962,
           0.4520590305328369,
           0.5953816771507263,
           0.4875943064689636,
           0.5001300573348999,
           0.4175040125846863
          ],
          [
           0.14501897990703583,
           0.06558366119861603,
           0.38906383514404297,
           0.1904686689376831,
           0.5449768304824829,
           0.49247944355010986,
           1,
           0.3827908933162689,
           0.780715823173523,
           0.2612571120262146,
           0.3366039991378784,
           0.506575345993042,
           0.6433681845664978,
           0.46696990728378296,
           0.6229785680770874,
           0.1090150773525238,
           0.4813684821128845,
           0.06826972961425781,
           0.44653627276420593,
           0.13751167058944702,
           0.34923291206359863,
           0.29890409111976624,
           0.5380093455314636,
           0.6068168878555298,
           0.32907915115356445
          ],
          [
           0.31214869022369385,
           0.6141484975814819,
           0.43542465567588806,
           0.4454083740711212,
           0.44590166211128235,
           0.41081544756889343,
           0.3827908933162689,
           0.9999995231628418,
           0.27551358938217163,
           0.21738819777965546,
           0.49453747272491455,
           0.8358455896377563,
           0.36920294165611267,
           0.1939290463924408,
           0.4708481431007385,
           0.6314933896064758,
           0.2780259847640991,
           0.31032082438468933,
           0.47632235288619995,
           0.31483685970306396,
           0.43205976486206055,
           0.6266798377037048,
           0.35812726616859436,
           0.4462411105632782,
           0.3949025869369507
          ],
          [
           0.11518018692731857,
           0.03546667844057083,
           0.20777501165866852,
           0.03353406488895416,
           0.1577029824256897,
           0.2381504625082016,
           0.780715823173523,
           0.27551358938217163,
           0.9999997615814209,
           0.1446147859096527,
           0.22647005319595337,
           0.3490246534347534,
           0.2951534390449524,
           0.4246703088283539,
           0.3983808159828186,
           0.033932775259017944,
           0.3653044104576111,
           -0.06221400201320648,
           0.15611383318901062,
           0.17081406712532043,
           0.14598482847213745,
           0.10182961821556091,
           0.3432978689670563,
           0.42191609740257263,
           0.17516878247261047
          ],
          [
           0.3612137734889984,
           0.3063717782497406,
           0.3131493031978607,
           0.5015296936035156,
           0.49253690242767334,
           0.3383414149284363,
           0.2612571120262146,
           0.21738819777965546,
           0.1446147859096527,
           0.9999999403953552,
           0.342528760433197,
           0.21026407182216644,
           0.3464758098125458,
           0.1268366575241089,
           0.32017165422439575,
           0.4086100459098816,
           0.19470088183879852,
           0.3755919337272644,
           0.4604228138923645,
           0.25915396213531494,
           0.4026789665222168,
           0.48369842767715454,
           0.28683632612228394,
           0.26473402976989746,
           0.2931358814239502
          ],
          [
           0.38120242953300476,
           0.4349130690097809,
           0.3584382236003876,
           0.45241162180900574,
           0.31684476137161255,
           0.28944462537765503,
           0.3366039991378784,
           0.49453747272491455,
           0.22647005319595337,
           0.342528760433197,
           0.9999998807907104,
           0.5158209204673767,
           0.29886913299560547,
           0.20852352678775787,
           0.4369323253631592,
           0.4125857949256897,
           0.20289692282676697,
           0.2189681977033615,
           0.3282938301563263,
           0.26330724358558655,
           0.41258054971694946,
           0.445331871509552,
           0.3125500977039337,
           0.2545105218887329,
           0.3054983615875244
          ],
          [
           0.3029610216617584,
           0.5249676704406738,
           0.46264728903770447,
           0.4119270145893097,
           0.4507722854614258,
           0.43542665243148804,
           0.506575345993042,
           0.8358455896377563,
           0.3490246534347534,
           0.21026407182216644,
           0.5158209204673767,
           1,
           0.41210758686065674,
           0.29868364334106445,
           0.5249208807945251,
           0.4906333088874817,
           0.31130656599998474,
           0.2523155212402344,
           0.4345082640647888,
           0.2711532413959503,
           0.41205716133117676,
           0.5628642439842224,
           0.42467036843299866,
           0.4226442575454712,
           0.4193670153617859
          ],
          [
           0.15551383793354034,
           0.15196825563907623,
           0.5354101061820984,
           0.4087386727333069,
           0.8393633961677551,
           0.5925336480140686,
           0.6433681845664978,
           0.36920294165611267,
           0.2951534390449524,
           0.3464758098125458,
           0.29886913299560547,
           0.41210758686065674,
           1.0000003576278687,
           0.27975985407829285,
           0.758832573890686,
           0.2150420844554901,
           0.5099059343338013,
           0.28161582350730896,
           0.7171950936317444,
           0.08481240272521973,
           0.4966862201690674,
           0.584477424621582,
           0.5858696699142456,
           0.6392514109611511,
           0.4824301302433014
          ],
          [
           0.20569737255573273,
           0.09086805582046509,
           0.27076828479766846,
           0.08717771619558334,
           0.16709604859352112,
           0.2777283191680908,
           0.46696990728378296,
           0.1939290463924408,
           0.4246703088283539,
           0.1268366575241089,
           0.20852352678775787,
           0.29868364334106445,
           0.27975985407829285,
           1,
           0.3466358482837677,
           0.057946041226387024,
           0.2229517549276352,
           -0.019599828869104385,
           0.12258829921483994,
           0.19896456599235535,
           0.24424180388450623,
           0.14808069169521332,
           0.28833624720573425,
           0.26645076274871826,
           0.10982292145490646
          ],
          [
           0.265389084815979,
           0.275355726480484,
           0.46040576696395874,
           0.4130064845085144,
           0.6160086989402771,
           0.5458282828330994,
           0.6229785680770874,
           0.4708481431007385,
           0.3983808159828186,
           0.32017165422439575,
           0.4369323253631592,
           0.5249208807945251,
           0.758832573890686,
           0.3466358482837677,
           0.9999997615814209,
           0.2971757650375366,
           0.4718315601348877,
           0.192505344748497,
           0.5327136516571045,
           0.20552004873752594,
           0.3979657292366028,
           0.5386725664138794,
           0.580256462097168,
           0.5910840034484863,
           0.46847298741340637
          ],
          [
           0.6548566818237305,
           0.8427955508232117,
           0.31679344177246094,
           0.5639055371284485,
           0.394520103931427,
           0.3805729150772095,
           0.1090150773525238,
           0.6314933896064758,
           0.033932775259017944,
           0.4086100459098816,
           0.4125857949256897,
           0.4906333088874817,
           0.2150420844554901,
           0.057946041226387024,
           0.2971757650375366,
           1.0000001192092896,
           0.11146621406078339,
           0.5140985250473022,
           0.6187533140182495,
           0.4355366826057434,
           0.40445613861083984,
           0.7432270050048828,
           0.269848495721817,
           0.2163170427083969,
           0.2889833450317383
          ],
          [
           0.04981055110692978,
           0.07017754763364792,
           0.29281091690063477,
           0.15289978682994843,
           0.3955782651901245,
           0.326518714427948,
           0.4813684821128845,
           0.2780259847640991,
           0.3653044104576111,
           0.19470088183879852,
           0.20289692282676697,
           0.31130656599998474,
           0.5099059343338013,
           0.2229517549276352,
           0.4718315601348877,
           0.11146621406078339,
           0.9999998211860657,
           0.09739014506340027,
           0.3113342225551605,
           0.08761167526245117,
           0.214043527841568,
           0.3324539363384247,
           0.522869884967804,
           0.6005091667175293,
           0.2514834403991699
          ],
          [
           0.2490178942680359,
           0.3485107421875,
           0.4162897765636444,
           0.6197482943534851,
           0.515568196773529,
           0.34505897760391235,
           0.06826972961425781,
           0.31032082438468933,
           -0.06221400201320648,
           0.3755919337272644,
           0.2189681977033615,
           0.2523155212402344,
           0.28161582350730896,
           -0.019599828869104385,
           0.192505344748497,
           0.5140985250473022,
           0.09739014506340027,
           1.000000238418579,
           0.5555137991905212,
           0.5036510825157166,
           0.35321688652038574,
           0.5276523232460022,
           0.22676122188568115,
           0.16730180382728577,
           0.19643749296665192
          ],
          [
           0.3563113808631897,
           0.44028234481811523,
           0.46505048871040344,
           0.5946379899978638,
           0.8346537947654724,
           0.5904554128646851,
           0.44653627276420593,
           0.47632235288619995,
           0.15611383318901062,
           0.4604228138923645,
           0.3282938301563263,
           0.4345082640647888,
           0.7171950936317444,
           0.12258829921483994,
           0.5327136516571045,
           0.6187533140182495,
           0.3113342225551605,
           0.5555137991905212,
           1.0000001192092896,
           0.21891362965106964,
           0.5454384684562683,
           0.750361442565918,
           0.5119060277938843,
           0.49454885721206665,
           0.40005481243133545
          ],
          [
           0.19875474274158478,
           0.27114608883857727,
           0.38382282853126526,
           0.19119936227798462,
           0.1090390756726265,
           0.14507469534873962,
           0.13751167058944702,
           0.31483685970306396,
           0.17081406712532043,
           0.25915396213531494,
           0.26330724358558655,
           0.2711532413959503,
           0.08481240272521973,
           0.19896456599235535,
           0.20552004873752594,
           0.4355366826057434,
           0.08761167526245117,
           0.5036510825157166,
           0.21891362965106964,
           0.9999996423721313,
           0.16606998443603516,
           0.23690888285636902,
           0.053989216685295105,
           0.1781558394432068,
           0.19893310964107513
          ],
          [
           0.37383657693862915,
           0.41469061374664307,
           0.5044359564781189,
           0.5148417353630066,
           0.6318037509918213,
           0.4520590305328369,
           0.34923291206359863,
           0.43205976486206055,
           0.14598482847213745,
           0.4026789665222168,
           0.41258054971694946,
           0.41205716133117676,
           0.4966862201690674,
           0.24424180388450623,
           0.3979657292366028,
           0.40445613861083984,
           0.214043527841568,
           0.35321688652038574,
           0.5454384684562683,
           0.16606998443603516,
           0.9999998807907104,
           0.6054898500442505,
           0.39872315526008606,
           0.41239336133003235,
           0.2703186571598053
          ],
          [
           0.6120734214782715,
           0.7531478404998779,
           0.56992506980896,
           0.7270292043685913,
           0.7282019853591919,
           0.5953816771507263,
           0.29890409111976624,
           0.6266798377037048,
           0.10182961821556091,
           0.48369842767715454,
           0.445331871509552,
           0.5628642439842224,
           0.584477424621582,
           0.14808069169521332,
           0.5386725664138794,
           0.7432270050048828,
           0.3324539363384247,
           0.5276523232460022,
           0.750361442565918,
           0.23690888285636902,
           0.6054898500442505,
           1.000000238418579,
           0.5456546545028687,
           0.44897761940956116,
           0.4225490689277649
          ],
          [
           0.28850215673446655,
           0.2628515362739563,
           0.37292975187301636,
           0.38200581073760986,
           0.5777430534362793,
           0.4875943064689636,
           0.5380093455314636,
           0.35812726616859436,
           0.3432978689670563,
           0.28683632612228394,
           0.3125500977039337,
           0.42467036843299866,
           0.5858696699142456,
           0.28833624720573425,
           0.580256462097168,
           0.269848495721817,
           0.522869884967804,
           0.22676122188568115,
           0.5119060277938843,
           0.053989216685295105,
           0.39872315526008606,
           0.5456546545028687,
           1.0000001192092896,
           0.5558708906173706,
           0.3066823482513428
          ],
          [
           0.15664848685264587,
           0.14880764484405518,
           0.45571374893188477,
           0.26220086216926575,
           0.56459641456604,
           0.5001300573348999,
           0.6068168878555298,
           0.4462411105632782,
           0.42191609740257263,
           0.26473402976989746,
           0.2545105218887329,
           0.4226442575454712,
           0.6392514109611511,
           0.26645076274871826,
           0.5910840034484863,
           0.2163170427083969,
           0.6005091667175293,
           0.16730180382728577,
           0.49454885721206665,
           0.1781558394432068,
           0.41239336133003235,
           0.44897761940956116,
           0.5558708906173706,
           1.000000238418579,
           0.42616769671440125
          ],
          [
           0.22585289180278778,
           0.300495445728302,
           0.4489600956439972,
           0.32185477018356323,
           0.44287440180778503,
           0.4175040125846863,
           0.32907915115356445,
           0.3949025869369507,
           0.17516878247261047,
           0.2931358814239502,
           0.3054983615875244,
           0.4193670153617859,
           0.4824301302433014,
           0.10982292145490646,
           0.46847298741340637,
           0.2889833450317383,
           0.2514834403991699,
           0.19643749296665192,
           0.40005481243133545,
           0.19893310964107513,
           0.2703186571598053,
           0.4225490689277649,
           0.3066823482513428,
           0.42616769671440125,
           1
          ]
         ]
        }
       ],
       "layout": {
        "coloraxis": {
         "colorbar": {
          "title": {
           "text": "Similarity Score"
          }
         },
         "colorscale": [
          [
           0,
           "rgb(247,252,240)"
          ],
          [
           0.125,
           "rgb(224,243,219)"
          ],
          [
           0.25,
           "rgb(204,235,197)"
          ],
          [
           0.375,
           "rgb(168,221,181)"
          ],
          [
           0.5,
           "rgb(123,204,196)"
          ],
          [
           0.625,
           "rgb(78,179,211)"
          ],
          [
           0.75,
           "rgb(43,140,190)"
          ],
          [
           0.875,
           "rgb(8,104,172)"
          ],
          [
           1,
           "rgb(8,64,129)"
          ]
         ]
        },
        "height": 800,
        "hoverlabel": {
         "bgcolor": "white",
         "font": {
          "family": "Rockwell",
          "size": 16
         }
        },
        "legend": {
         "title": {
          "text": "Trend"
         }
        },
        "margin": {
         "t": 60
        },
        "showlegend": true,
        "template": {
         "data": {
          "bar": [
           {
            "error_x": {
             "color": "#2a3f5f"
            },
            "error_y": {
             "color": "#2a3f5f"
            },
            "marker": {
             "line": {
              "color": "#E5ECF6",
              "width": 0.5
             },
             "pattern": {
              "fillmode": "overlay",
              "size": 10,
              "solidity": 0.2
             }
            },
            "type": "bar"
           }
          ],
          "barpolar": [
           {
            "marker": {
             "line": {
              "color": "#E5ECF6",
              "width": 0.5
             },
             "pattern": {
              "fillmode": "overlay",
              "size": 10,
              "solidity": 0.2
             }
            },
            "type": "barpolar"
           }
          ],
          "carpet": [
           {
            "aaxis": {
             "endlinecolor": "#2a3f5f",
             "gridcolor": "white",
             "linecolor": "white",
             "minorgridcolor": "white",
             "startlinecolor": "#2a3f5f"
            },
            "baxis": {
             "endlinecolor": "#2a3f5f",
             "gridcolor": "white",
             "linecolor": "white",
             "minorgridcolor": "white",
             "startlinecolor": "#2a3f5f"
            },
            "type": "carpet"
           }
          ],
          "choropleth": [
           {
            "colorbar": {
             "outlinewidth": 0,
             "ticks": ""
            },
            "type": "choropleth"
           }
          ],
          "contour": [
           {
            "colorbar": {
             "outlinewidth": 0,
             "ticks": ""
            },
            "colorscale": [
             [
              0,
              "#0d0887"
             ],
             [
              0.1111111111111111,
              "#46039f"
             ],
             [
              0.2222222222222222,
              "#7201a8"
             ],
             [
              0.3333333333333333,
              "#9c179e"
             ],
             [
              0.4444444444444444,
              "#bd3786"
             ],
             [
              0.5555555555555556,
              "#d8576b"
             ],
             [
              0.6666666666666666,
              "#ed7953"
             ],
             [
              0.7777777777777778,
              "#fb9f3a"
             ],
             [
              0.8888888888888888,
              "#fdca26"
             ],
             [
              1,
              "#f0f921"
             ]
            ],
            "type": "contour"
           }
          ],
          "contourcarpet": [
           {
            "colorbar": {
             "outlinewidth": 0,
             "ticks": ""
            },
            "type": "contourcarpet"
           }
          ],
          "heatmap": [
           {
            "colorbar": {
             "outlinewidth": 0,
             "ticks": ""
            },
            "colorscale": [
             [
              0,
              "#0d0887"
             ],
             [
              0.1111111111111111,
              "#46039f"
             ],
             [
              0.2222222222222222,
              "#7201a8"
             ],
             [
              0.3333333333333333,
              "#9c179e"
             ],
             [
              0.4444444444444444,
              "#bd3786"
             ],
             [
              0.5555555555555556,
              "#d8576b"
             ],
             [
              0.6666666666666666,
              "#ed7953"
             ],
             [
              0.7777777777777778,
              "#fb9f3a"
             ],
             [
              0.8888888888888888,
              "#fdca26"
             ],
             [
              1,
              "#f0f921"
             ]
            ],
            "type": "heatmap"
           }
          ],
          "heatmapgl": [
           {
            "colorbar": {
             "outlinewidth": 0,
             "ticks": ""
            },
            "colorscale": [
             [
              0,
              "#0d0887"
             ],
             [
              0.1111111111111111,
              "#46039f"
             ],
             [
              0.2222222222222222,
              "#7201a8"
             ],
             [
              0.3333333333333333,
              "#9c179e"
             ],
             [
              0.4444444444444444,
              "#bd3786"
             ],
             [
              0.5555555555555556,
              "#d8576b"
             ],
             [
              0.6666666666666666,
              "#ed7953"
             ],
             [
              0.7777777777777778,
              "#fb9f3a"
             ],
             [
              0.8888888888888888,
              "#fdca26"
             ],
             [
              1,
              "#f0f921"
             ]
            ],
            "type": "heatmapgl"
           }
          ],
          "histogram": [
           {
            "marker": {
             "pattern": {
              "fillmode": "overlay",
              "size": 10,
              "solidity": 0.2
             }
            },
            "type": "histogram"
           }
          ],
          "histogram2d": [
           {
            "colorbar": {
             "outlinewidth": 0,
             "ticks": ""
            },
            "colorscale": [
             [
              0,
              "#0d0887"
             ],
             [
              0.1111111111111111,
              "#46039f"
             ],
             [
              0.2222222222222222,
              "#7201a8"
             ],
             [
              0.3333333333333333,
              "#9c179e"
             ],
             [
              0.4444444444444444,
              "#bd3786"
             ],
             [
              0.5555555555555556,
              "#d8576b"
             ],
             [
              0.6666666666666666,
              "#ed7953"
             ],
             [
              0.7777777777777778,
              "#fb9f3a"
             ],
             [
              0.8888888888888888,
              "#fdca26"
             ],
             [
              1,
              "#f0f921"
             ]
            ],
            "type": "histogram2d"
           }
          ],
          "histogram2dcontour": [
           {
            "colorbar": {
             "outlinewidth": 0,
             "ticks": ""
            },
            "colorscale": [
             [
              0,
              "#0d0887"
             ],
             [
              0.1111111111111111,
              "#46039f"
             ],
             [
              0.2222222222222222,
              "#7201a8"
             ],
             [
              0.3333333333333333,
              "#9c179e"
             ],
             [
              0.4444444444444444,
              "#bd3786"
             ],
             [
              0.5555555555555556,
              "#d8576b"
             ],
             [
              0.6666666666666666,
              "#ed7953"
             ],
             [
              0.7777777777777778,
              "#fb9f3a"
             ],
             [
              0.8888888888888888,
              "#fdca26"
             ],
             [
              1,
              "#f0f921"
             ]
            ],
            "type": "histogram2dcontour"
           }
          ],
          "mesh3d": [
           {
            "colorbar": {
             "outlinewidth": 0,
             "ticks": ""
            },
            "type": "mesh3d"
           }
          ],
          "parcoords": [
           {
            "line": {
             "colorbar": {
              "outlinewidth": 0,
              "ticks": ""
             }
            },
            "type": "parcoords"
           }
          ],
          "pie": [
           {
            "automargin": true,
            "type": "pie"
           }
          ],
          "scatter": [
           {
            "fillpattern": {
             "fillmode": "overlay",
             "size": 10,
             "solidity": 0.2
            },
            "type": "scatter"
           }
          ],
          "scatter3d": [
           {
            "line": {
             "colorbar": {
              "outlinewidth": 0,
              "ticks": ""
             }
            },
            "marker": {
             "colorbar": {
              "outlinewidth": 0,
              "ticks": ""
             }
            },
            "type": "scatter3d"
           }
          ],
          "scattercarpet": [
           {
            "marker": {
             "colorbar": {
              "outlinewidth": 0,
              "ticks": ""
             }
            },
            "type": "scattercarpet"
           }
          ],
          "scattergeo": [
           {
            "marker": {
             "colorbar": {
              "outlinewidth": 0,
              "ticks": ""
             }
            },
            "type": "scattergeo"
           }
          ],
          "scattergl": [
           {
            "marker": {
             "colorbar": {
              "outlinewidth": 0,
              "ticks": ""
             }
            },
            "type": "scattergl"
           }
          ],
          "scattermapbox": [
           {
            "marker": {
             "colorbar": {
              "outlinewidth": 0,
              "ticks": ""
             }
            },
            "type": "scattermapbox"
           }
          ],
          "scatterpolar": [
           {
            "marker": {
             "colorbar": {
              "outlinewidth": 0,
              "ticks": ""
             }
            },
            "type": "scatterpolar"
           }
          ],
          "scatterpolargl": [
           {
            "marker": {
             "colorbar": {
              "outlinewidth": 0,
              "ticks": ""
             }
            },
            "type": "scatterpolargl"
           }
          ],
          "scatterternary": [
           {
            "marker": {
             "colorbar": {
              "outlinewidth": 0,
              "ticks": ""
             }
            },
            "type": "scatterternary"
           }
          ],
          "surface": [
           {
            "colorbar": {
             "outlinewidth": 0,
             "ticks": ""
            },
            "colorscale": [
             [
              0,
              "#0d0887"
             ],
             [
              0.1111111111111111,
              "#46039f"
             ],
             [
              0.2222222222222222,
              "#7201a8"
             ],
             [
              0.3333333333333333,
              "#9c179e"
             ],
             [
              0.4444444444444444,
              "#bd3786"
             ],
             [
              0.5555555555555556,
              "#d8576b"
             ],
             [
              0.6666666666666666,
              "#ed7953"
             ],
             [
              0.7777777777777778,
              "#fb9f3a"
             ],
             [
              0.8888888888888888,
              "#fdca26"
             ],
             [
              1,
              "#f0f921"
             ]
            ],
            "type": "surface"
           }
          ],
          "table": [
           {
            "cells": {
             "fill": {
              "color": "#EBF0F8"
             },
             "line": {
              "color": "white"
             }
            },
            "header": {
             "fill": {
              "color": "#C8D4E3"
             },
             "line": {
              "color": "white"
             }
            },
            "type": "table"
           }
          ]
         },
         "layout": {
          "annotationdefaults": {
           "arrowcolor": "#2a3f5f",
           "arrowhead": 0,
           "arrowwidth": 1
          },
          "autotypenumbers": "strict",
          "coloraxis": {
           "colorbar": {
            "outlinewidth": 0,
            "ticks": ""
           }
          },
          "colorscale": {
           "diverging": [
            [
             0,
             "#8e0152"
            ],
            [
             0.1,
             "#c51b7d"
            ],
            [
             0.2,
             "#de77ae"
            ],
            [
             0.3,
             "#f1b6da"
            ],
            [
             0.4,
             "#fde0ef"
            ],
            [
             0.5,
             "#f7f7f7"
            ],
            [
             0.6,
             "#e6f5d0"
            ],
            [
             0.7,
             "#b8e186"
            ],
            [
             0.8,
             "#7fbc41"
            ],
            [
             0.9,
             "#4d9221"
            ],
            [
             1,
             "#276419"
            ]
           ],
           "sequential": [
            [
             0,
             "#0d0887"
            ],
            [
             0.1111111111111111,
             "#46039f"
            ],
            [
             0.2222222222222222,
             "#7201a8"
            ],
            [
             0.3333333333333333,
             "#9c179e"
            ],
            [
             0.4444444444444444,
             "#bd3786"
            ],
            [
             0.5555555555555556,
             "#d8576b"
            ],
            [
             0.6666666666666666,
             "#ed7953"
            ],
            [
             0.7777777777777778,
             "#fb9f3a"
            ],
            [
             0.8888888888888888,
             "#fdca26"
            ],
            [
             1,
             "#f0f921"
            ]
           ],
           "sequentialminus": [
            [
             0,
             "#0d0887"
            ],
            [
             0.1111111111111111,
             "#46039f"
            ],
            [
             0.2222222222222222,
             "#7201a8"
            ],
            [
             0.3333333333333333,
             "#9c179e"
            ],
            [
             0.4444444444444444,
             "#bd3786"
            ],
            [
             0.5555555555555556,
             "#d8576b"
            ],
            [
             0.6666666666666666,
             "#ed7953"
            ],
            [
             0.7777777777777778,
             "#fb9f3a"
            ],
            [
             0.8888888888888888,
             "#fdca26"
            ],
            [
             1,
             "#f0f921"
            ]
           ]
          },
          "colorway": [
           "#636efa",
           "#EF553B",
           "#00cc96",
           "#ab63fa",
           "#FFA15A",
           "#19d3f3",
           "#FF6692",
           "#B6E880",
           "#FF97FF",
           "#FECB52"
          ],
          "font": {
           "color": "#2a3f5f"
          },
          "geo": {
           "bgcolor": "white",
           "lakecolor": "white",
           "landcolor": "#E5ECF6",
           "showlakes": true,
           "showland": true,
           "subunitcolor": "white"
          },
          "hoverlabel": {
           "align": "left"
          },
          "hovermode": "closest",
          "mapbox": {
           "style": "light"
          },
          "paper_bgcolor": "white",
          "plot_bgcolor": "#E5ECF6",
          "polar": {
           "angularaxis": {
            "gridcolor": "white",
            "linecolor": "white",
            "ticks": ""
           },
           "bgcolor": "#E5ECF6",
           "radialaxis": {
            "gridcolor": "white",
            "linecolor": "white",
            "ticks": ""
           }
          },
          "scene": {
           "xaxis": {
            "backgroundcolor": "#E5ECF6",
            "gridcolor": "white",
            "gridwidth": 2,
            "linecolor": "white",
            "showbackground": true,
            "ticks": "",
            "zerolinecolor": "white"
           },
           "yaxis": {
            "backgroundcolor": "#E5ECF6",
            "gridcolor": "white",
            "gridwidth": 2,
            "linecolor": "white",
            "showbackground": true,
            "ticks": "",
            "zerolinecolor": "white"
           },
           "zaxis": {
            "backgroundcolor": "#E5ECF6",
            "gridcolor": "white",
            "gridwidth": 2,
            "linecolor": "white",
            "showbackground": true,
            "ticks": "",
            "zerolinecolor": "white"
           }
          },
          "shapedefaults": {
           "line": {
            "color": "#2a3f5f"
           }
          },
          "ternary": {
           "aaxis": {
            "gridcolor": "white",
            "linecolor": "white",
            "ticks": ""
           },
           "baxis": {
            "gridcolor": "white",
            "linecolor": "white",
            "ticks": ""
           },
           "bgcolor": "#E5ECF6",
           "caxis": {
            "gridcolor": "white",
            "linecolor": "white",
            "ticks": ""
           }
          },
          "title": {
           "x": 0.05
          },
          "xaxis": {
           "automargin": true,
           "gridcolor": "white",
           "linecolor": "white",
           "ticks": "",
           "title": {
            "standoff": 15
           },
           "zerolinecolor": "white",
           "zerolinewidth": 2
          },
          "yaxis": {
           "automargin": true,
           "gridcolor": "white",
           "linecolor": "white",
           "ticks": "",
           "title": {
            "standoff": 15
           },
           "zerolinecolor": "white",
           "zerolinewidth": 2
          }
         }
        },
        "title": {
         "font": {
          "color": "Black",
          "size": 22
         },
         "text": "<b>Similarity Matrix</b>",
         "x": 0.55,
         "xanchor": "center",
         "y": 0.95,
         "yanchor": "top"
        },
        "width": 800,
        "xaxis": {
         "anchor": "y",
         "constrain": "domain",
         "domain": [
          0,
          1
         ],
         "scaleanchor": "y"
        },
        "yaxis": {
         "anchor": "x",
         "autorange": "reversed",
         "constrain": "domain",
         "domain": [
          0,
          1
         ]
        }
       }
      }
     },
     "metadata": {},
     "output_type": "display_data"
    }
   ],
   "source": [
    "topic_model.visualize_heatmap()"
   ]
  },
  {
   "cell_type": "code",
   "execution_count": 66,
   "metadata": {},
   "outputs": [
    {
     "data": {
      "text/plain": [
       "array([0.15716368, 0.67439515, 0.76006356, ..., 0.5897419 , 0.6732139 ,\n",
       "       0.        ])"
      ]
     },
     "execution_count": 66,
     "metadata": {},
     "output_type": "execute_result"
    }
   ],
   "source": [
    "probs"
   ]
  },
  {
   "cell_type": "code",
   "execution_count": 62,
   "metadata": {},
   "outputs": [
    {
     "data": {
      "text/html": [
       "<div>\n",
       "<style scoped>\n",
       "    .dataframe tbody tr th:only-of-type {\n",
       "        vertical-align: middle;\n",
       "    }\n",
       "\n",
       "    .dataframe tbody tr th {\n",
       "        vertical-align: top;\n",
       "    }\n",
       "\n",
       "    .dataframe thead th {\n",
       "        text-align: right;\n",
       "    }\n",
       "</style>\n",
       "<table border=\"1\" class=\"dataframe\">\n",
       "  <thead>\n",
       "    <tr style=\"text-align: right;\">\n",
       "      <th></th>\n",
       "      <th>Topic</th>\n",
       "      <th>Count</th>\n",
       "      <th>Name</th>\n",
       "      <th>Representation</th>\n",
       "      <th>Representative_Docs</th>\n",
       "    </tr>\n",
       "  </thead>\n",
       "  <tbody>\n",
       "    <tr>\n",
       "      <th>0</th>\n",
       "      <td>-1</td>\n",
       "      <td>389</td>\n",
       "      <td>-1_eto_etoo_est_être</td>\n",
       "      <td>[eto, etoo, est, être, samuel, ça, grand, qu, ...</td>\n",
       "      <td>[samiel grand monsieur icône, fecafoot penses ...</td>\n",
       "    </tr>\n",
       "    <tr>\n",
       "      <th>1</th>\n",
       "      <td>0</td>\n",
       "      <td>127</td>\n",
       "      <td>0_samuel_orh_orh samuel_oh samuel</td>\n",
       "      <td>[samuel, orh, orh samuel, oh samuel, oh, samue...</td>\n",
       "      <td>[orh samuel, orh samuel, samuel]</td>\n",
       "    </tr>\n",
       "    <tr>\n",
       "      <th>2</th>\n",
       "      <td>1</td>\n",
       "      <td>66</td>\n",
       "      <td>1_samuel eto_samuel_eto_samuel etoo</td>\n",
       "      <td>[samuel eto, samuel, eto, samuel etoo, eto sam...</td>\n",
       "      <td>[légende samuel eto'o ️, légende samuel eto'o ...</td>\n",
       "    </tr>\n",
       "    <tr>\n",
       "      <th>3</th>\n",
       "      <td>2</td>\n",
       "      <td>52</td>\n",
       "      <td>2_tchouameni_tchouameni bon_animateur_tchouaméni</td>\n",
       "      <td>[tchouameni, tchouameni bon, animateur, tchoua...</td>\n",
       "      <td>[aurélien tchouameni ️, i dont like the way tc...</td>\n",
       "    </tr>\n",
       "    <tr>\n",
       "      <th>4</th>\n",
       "      <td>3</td>\n",
       "      <td>48</td>\n",
       "      <td>3_inter_jamais_mi_mi temps</td>\n",
       "      <td>[inter, jamais, mi, mi temps, triplé, temps, m...</td>\n",
       "      <td>[eto'o s'invente vie mdr n'a jamais marqué tri...</td>\n",
       "    </tr>\n",
       "  </tbody>\n",
       "</table>\n",
       "</div>"
      ],
      "text/plain": [
       "   Topic  Count                                              Name  \\\n",
       "0     -1    389                              -1_eto_etoo_est_être   \n",
       "1      0    127                 0_samuel_orh_orh samuel_oh samuel   \n",
       "2      1     66               1_samuel eto_samuel_eto_samuel etoo   \n",
       "3      2     52  2_tchouameni_tchouameni bon_animateur_tchouaméni   \n",
       "4      3     48                        3_inter_jamais_mi_mi temps   \n",
       "\n",
       "                                      Representation  \\\n",
       "0  [eto, etoo, est, être, samuel, ça, grand, qu, ...   \n",
       "1  [samuel, orh, orh samuel, oh samuel, oh, samue...   \n",
       "2  [samuel eto, samuel, eto, samuel etoo, eto sam...   \n",
       "3  [tchouameni, tchouameni bon, animateur, tchoua...   \n",
       "4  [inter, jamais, mi, mi temps, triplé, temps, m...   \n",
       "\n",
       "                                 Representative_Docs  \n",
       "0  [samiel grand monsieur icône, fecafoot penses ...  \n",
       "1                   [orh samuel, orh samuel, samuel]  \n",
       "2  [légende samuel eto'o ️, légende samuel eto'o ...  \n",
       "3  [aurélien tchouameni ️, i dont like the way tc...  \n",
       "4  [eto'o s'invente vie mdr n'a jamais marqué tri...  "
      ]
     },
     "execution_count": 62,
     "metadata": {},
     "output_type": "execute_result"
    }
   ],
   "source": [
    "infos_topics = topic_model.get_topic_info()\n",
    "infos_topics.head()"
   ]
  },
  {
   "cell_type": "code",
   "execution_count": 69,
   "metadata": {},
   "outputs": [
    {
     "name": "stdout",
     "output_type": "stream",
     "text": [
      "['mytho', 'prédateur', 'eto mytho', 'samuel mytho', 'etoo', 'gros', 'parce', 'parce prédateur', 'prédateur mdr', 'mythoman eto']\n"
     ]
    }
   ],
   "source": [
    "print(infos_topics['Representation'].iloc[11])"
   ]
  },
  {
   "cell_type": "code",
   "execution_count": 72,
   "metadata": {},
   "outputs": [],
   "source": [
    "from langchain.prompts.chat import (\n",
    "    ChatPromptTemplate,\n",
    ")"
   ]
  },
  {
   "cell_type": "code",
   "execution_count": 88,
   "metadata": {},
   "outputs": [],
   "source": [
    "prompt = \"\"\"\n",
    "<|système|>\n",
    "Tu es un agent qui permet de donner un titre à un ensemble de topic que l'utilisateur te donnera. Donne uniquement le titre comme réponse.\n",
    "\n",
    "<|utilisateur|>\n",
    "Topics :\n",
    "{topics}\n",
    "\n",
    "\n",
    "\"\"\""
   ]
  },
  {
   "cell_type": "code",
   "execution_count": 77,
   "metadata": {},
   "outputs": [],
   "source": [
    "from langchain.chat_models import ChatOpenAI"
   ]
  },
  {
   "cell_type": "code",
   "execution_count": 76,
   "metadata": {},
   "outputs": [],
   "source": [
    "#!pip install langchain_community"
   ]
  },
  {
   "cell_type": "code",
   "execution_count": 80,
   "metadata": {},
   "outputs": [],
   "source": [
    "#!pip install openai"
   ]
  },
  {
   "cell_type": "code",
   "execution_count": null,
   "metadata": {},
   "outputs": [],
   "source": [
    "OPENAI_API_KEY = \"\"\n",
    "\n",
    "eval_chat_model = ChatOpenAI(model=\"gpt-4-1106-preview\", temperature=0, openai_api_key=OPENAI_API_KEY)\n",
    "evaluator_name = \"GPT4\""
   ]
  },
  {
   "cell_type": "code",
   "execution_count": 82,
   "metadata": {},
   "outputs": [
    {
     "data": {
      "text/plain": [
       "'mytho prédateur eto mytho samuel mytho etoo gros parce parce prédateur prédateur mdr mythoman eto'"
      ]
     },
     "execution_count": 82,
     "metadata": {},
     "output_type": "execute_result"
    }
   ],
   "source": [
    "\" \".join(infos_topics['Representation'].iloc[11])"
   ]
  },
  {
   "cell_type": "code",
   "execution_count": 83,
   "metadata": {},
   "outputs": [
    {
     "name": "stdout",
     "output_type": "stream",
     "text": [
      "\n",
      "<|système|>\n",
      "Tu es un agent qui permet de donner un titre à un ensemble de topic que l'utilisateur te donnera.\n",
      "\n",
      "<|utilisateur|>\n",
      "Topics :\n",
      "mytho prédateur eto mytho samuel mytho etoo gros parce parce prédateur prédateur mdr mythoman eto\n",
      "\n",
      "Voici quelques exemples de réponse : \n",
      "1. Eloquence\n",
      "2. Talent de Samuel Etoo\n",
      "3. Aurelien bon présentateur \n",
      "\n",
      "\n",
      "\n",
      "\n"
     ]
    }
   ],
   "source": [
    "final_prompt = prompt.format(topics = \" \".join(infos_topics['Representation'].iloc[11])\n",
    "                             )\n",
    "print(final_prompt)"
   ]
  },
  {
   "cell_type": "code",
   "execution_count": 92,
   "metadata": {},
   "outputs": [
    {
     "data": {
      "text/html": [
       "<div>\n",
       "<style scoped>\n",
       "    .dataframe tbody tr th:only-of-type {\n",
       "        vertical-align: middle;\n",
       "    }\n",
       "\n",
       "    .dataframe tbody tr th {\n",
       "        vertical-align: top;\n",
       "    }\n",
       "\n",
       "    .dataframe thead th {\n",
       "        text-align: right;\n",
       "    }\n",
       "</style>\n",
       "<table border=\"1\" class=\"dataframe\">\n",
       "  <thead>\n",
       "    <tr style=\"text-align: right;\">\n",
       "      <th></th>\n",
       "      <th>Topic</th>\n",
       "      <th>Count</th>\n",
       "      <th>Name</th>\n",
       "      <th>Representation</th>\n",
       "      <th>Representative_Docs</th>\n",
       "    </tr>\n",
       "  </thead>\n",
       "  <tbody>\n",
       "    <tr>\n",
       "      <th>0</th>\n",
       "      <td>-1</td>\n",
       "      <td>389</td>\n",
       "      <td>-1_eto_etoo_est_être</td>\n",
       "      <td>[eto, etoo, est, être, samuel, ça, grand, qu, ...</td>\n",
       "      <td>[samiel grand monsieur icône, fecafoot penses ...</td>\n",
       "    </tr>\n",
       "    <tr>\n",
       "      <th>1</th>\n",
       "      <td>0</td>\n",
       "      <td>127</td>\n",
       "      <td>0_samuel_orh_orh samuel_oh samuel</td>\n",
       "      <td>[samuel, orh, orh samuel, oh samuel, oh, samue...</td>\n",
       "      <td>[orh samuel, orh samuel, samuel]</td>\n",
       "    </tr>\n",
       "    <tr>\n",
       "      <th>2</th>\n",
       "      <td>1</td>\n",
       "      <td>66</td>\n",
       "      <td>1_samuel eto_samuel_eto_samuel etoo</td>\n",
       "      <td>[samuel eto, samuel, eto, samuel etoo, eto sam...</td>\n",
       "      <td>[légende samuel eto'o ️, légende samuel eto'o ...</td>\n",
       "    </tr>\n",
       "    <tr>\n",
       "      <th>3</th>\n",
       "      <td>2</td>\n",
       "      <td>52</td>\n",
       "      <td>2_tchouameni_tchouameni bon_animateur_tchouaméni</td>\n",
       "      <td>[tchouameni, tchouameni bon, animateur, tchoua...</td>\n",
       "      <td>[aurélien tchouameni ️, i dont like the way tc...</td>\n",
       "    </tr>\n",
       "    <tr>\n",
       "      <th>4</th>\n",
       "      <td>3</td>\n",
       "      <td>48</td>\n",
       "      <td>3_inter_jamais_mi_mi temps</td>\n",
       "      <td>[inter, jamais, mi, mi temps, triplé, temps, m...</td>\n",
       "      <td>[eto'o s'invente vie mdr n'a jamais marqué tri...</td>\n",
       "    </tr>\n",
       "    <tr>\n",
       "      <th>5</th>\n",
       "      <td>4</td>\n",
       "      <td>41</td>\n",
       "      <td>4_ça_respect_parole_qu</td>\n",
       "      <td>[ça, respect, parole, qu, celui, fin, moins, g...</td>\n",
       "      <td>[\" veux joueur caractère, importe m'insulte, d...</td>\n",
       "    </tr>\n",
       "    <tr>\n",
       "      <th>6</th>\n",
       "      <td>5</td>\n",
       "      <td>38</td>\n",
       "      <td>5_aurélien_aurelien_journaliste_bon</td>\n",
       "      <td>[aurélien, aurelien, journaliste, bon, bravo, ...</td>\n",
       "      <td>[possible, aurélien reconvertis journalisme ap...</td>\n",
       "    </tr>\n",
       "    <tr>\n",
       "      <th>7</th>\n",
       "      <td>6</td>\n",
       "      <td>38</td>\n",
       "      <td>6_redouane_travail_etoo_up</td>\n",
       "      <td>[redouane, travail, etoo, up, plateau, masterc...</td>\n",
       "      <td>[redouane éclaté sol . marrant., etoo meilleur...</td>\n",
       "    </tr>\n",
       "    <tr>\n",
       "      <th>8</th>\n",
       "      <td>7</td>\n",
       "      <td>33</td>\n",
       "      <td>7_eto_eto eto_touche eto_eto eto continent</td>\n",
       "      <td>[eto, eto eto, touche eto, eto eto continent, ...</td>\n",
       "      <td>[touche eto'o, eto'o continent, touche eto'o, ...</td>\n",
       "    </tr>\n",
       "    <tr>\n",
       "      <th>9</th>\n",
       "      <td>8</td>\n",
       "      <td>30</td>\n",
       "      <td>8_mort_excellent_vie_incroyable</td>\n",
       "      <td>[mort, excellent, vie, incroyable, mort est vr...</td>\n",
       "      <td>[légende mort, jesus transformer vie, \" arrivé...</td>\n",
       "    </tr>\n",
       "  </tbody>\n",
       "</table>\n",
       "</div>"
      ],
      "text/plain": [
       "   Topic  Count                                              Name  \\\n",
       "0     -1    389                              -1_eto_etoo_est_être   \n",
       "1      0    127                 0_samuel_orh_orh samuel_oh samuel   \n",
       "2      1     66               1_samuel eto_samuel_eto_samuel etoo   \n",
       "3      2     52  2_tchouameni_tchouameni bon_animateur_tchouaméni   \n",
       "4      3     48                        3_inter_jamais_mi_mi temps   \n",
       "5      4     41                            4_ça_respect_parole_qu   \n",
       "6      5     38               5_aurélien_aurelien_journaliste_bon   \n",
       "7      6     38                        6_redouane_travail_etoo_up   \n",
       "8      7     33        7_eto_eto eto_touche eto_eto eto continent   \n",
       "9      8     30                   8_mort_excellent_vie_incroyable   \n",
       "\n",
       "                                      Representation  \\\n",
       "0  [eto, etoo, est, être, samuel, ça, grand, qu, ...   \n",
       "1  [samuel, orh, orh samuel, oh samuel, oh, samue...   \n",
       "2  [samuel eto, samuel, eto, samuel etoo, eto sam...   \n",
       "3  [tchouameni, tchouameni bon, animateur, tchoua...   \n",
       "4  [inter, jamais, mi, mi temps, triplé, temps, m...   \n",
       "5  [ça, respect, parole, qu, celui, fin, moins, g...   \n",
       "6  [aurélien, aurelien, journaliste, bon, bravo, ...   \n",
       "7  [redouane, travail, etoo, up, plateau, masterc...   \n",
       "8  [eto, eto eto, touche eto, eto eto continent, ...   \n",
       "9  [mort, excellent, vie, incroyable, mort est vr...   \n",
       "\n",
       "                                 Representative_Docs  \n",
       "0  [samiel grand monsieur icône, fecafoot penses ...  \n",
       "1                   [orh samuel, orh samuel, samuel]  \n",
       "2  [légende samuel eto'o ️, légende samuel eto'o ...  \n",
       "3  [aurélien tchouameni ️, i dont like the way tc...  \n",
       "4  [eto'o s'invente vie mdr n'a jamais marqué tri...  \n",
       "5  [\" veux joueur caractère, importe m'insulte, d...  \n",
       "6  [possible, aurélien reconvertis journalisme ap...  \n",
       "7  [redouane éclaté sol . marrant., etoo meilleur...  \n",
       "8  [touche eto'o, eto'o continent, touche eto'o, ...  \n",
       "9  [légende mort, jesus transformer vie, \" arrivé...  "
      ]
     },
     "execution_count": 92,
     "metadata": {},
     "output_type": "execute_result"
    }
   ],
   "source": [
    "infos_topics.head(10)"
   ]
  },
  {
   "cell_type": "code",
   "execution_count": 91,
   "metadata": {},
   "outputs": [
    {
     "name": "stdout",
     "output_type": "stream",
     "text": [
      "\"Echoes of Samuel: A Repetitive Ode\"\n",
      "\"Samuel Eto'o: Hommage à une Légende du Football\"\n",
      "\"Tchouaméni et Eto'o : Éloquence et Présentation dans le Monde du Sport\"\n",
      "\"Triomphe et Controverse: L'histoire d'un Match Mémorable\"\n",
      "\"La Valeur de la Parole et l'Importance de la Fidélité aux Engagements\"\n",
      "\"Le Parcours d'Aurélien : Du Journalisme à la Reconnaissance Professionnelle\"\n",
      "\"Masterclass d'Eto'o: Travail, Développement et Excellence\"\n",
      "\"Exploration des Thèmes Récurrents: Eto, Touche, et Continent\"\n",
      "\"Le Cycle de la Vie et de la Mort: Excellence, Échecs et Résilience\"\n",
      "\"Le Parcours de Cédric Doumbé : Le Meilleur Combattant Français\"\n",
      "\"Les Variations Mythomanes de Samuel Eto'o\"\n",
      "\"Les Multiples Facettes d'Eto: De l'Homme Libre au Maître Accompli\"\n",
      "\"Des Conversations Captivantes : Écoute et Partage de Points de Vue Intéressants\"\n",
      "Cryptogramme Numérique : Séquence et Répétitions\n",
      "\"Stratégies et Impressions: Maîtriser l'Art de l'Interview\"\n",
      "\"Samuel Eto'o: Légende Africaine et Symbole de Fierté\"\n",
      "\"Superbes et Belles Émissions\"\n",
      "\"Triomphe de la France à la Coupe du Monde 2002\"\n",
      "\"Opportunités de Connaissance: Émissions Vidéo pour Grandir et Apprendre\"\n",
      "\"Identité et Fierté : Explorer l'Être Camerounais\"\n",
      "\"La Détermination et l'Humilité de Mike Maignan\"\n",
      "\"La Légende de Samuel Eto'o et son Impact sur l'Audience\"\n",
      "\"Création de Contenu Vidéo Avancé avec l'IA pour une Chaîne YouTube Innovante\"\n",
      "\"Merci Stars: Une Émission de Remerciements aux Célébrités\"\n",
      "\"La Dynamique du Latin et de l'Éloquence dans les Discours de Bougheraba et Eto\"\n"
     ]
    }
   ],
   "source": [
    "for i in range(1, len(infos_topics)):\n",
    "    final_prompt = prompt.format(topics = \" \".join(infos_topics['Representation'].iloc[i]))\n",
    "    answer = eval_chat_model.invoke(final_prompt)\n",
    "    print(answer.content)\n"
   ]
  },
  {
   "cell_type": "code",
   "execution_count": null,
   "metadata": {},
   "outputs": [],
   "source": []
  },
  {
   "cell_type": "code",
   "execution_count": null,
   "metadata": {},
   "outputs": [],
   "source": []
  },
  {
   "cell_type": "markdown",
   "metadata": {},
   "source": [
    "# 4. sentiment analysis"
   ]
  },
  {
   "cell_type": "code",
   "execution_count": 93,
   "metadata": {},
   "outputs": [],
   "source": [
    "def classify_comments(comments):\n",
    "    classifier = pipeline('zero-shot-classification', model='facebook/bart-large-mnli')\n",
    "    categories = ['positive', 'negative']\n",
    "    classified_comments = []\n",
    "    scores = []\n",
    "    for comment in tqdm(comments):\n",
    "        result = classifier(comment, candidate_labels=categories)\n",
    "        classified_comments.append(result['labels'][0])\n",
    "        scores.append(result['scores'][0])\n",
    "    return classified_comments, scores"
   ]
  },
  {
   "cell_type": "code",
   "execution_count": null,
   "metadata": {},
   "outputs": [
    {
     "name": "stderr",
     "output_type": "stream",
     "text": [
      "  5%|▍         | 58/1174 [00:42<11:04,  1.68it/s]"
     ]
    }
   ],
   "source": [
    "classified_comments, scores = classify_comments(cleaned_comments)"
   ]
  },
  {
   "cell_type": "code",
   "execution_count": 172,
   "metadata": {},
   "outputs": [
    {
     "data": {
      "text/html": [
       "<div>\n",
       "<style scoped>\n",
       "    .dataframe tbody tr th:only-of-type {\n",
       "        vertical-align: middle;\n",
       "    }\n",
       "\n",
       "    .dataframe tbody tr th {\n",
       "        vertical-align: top;\n",
       "    }\n",
       "\n",
       "    .dataframe thead th {\n",
       "        text-align: right;\n",
       "    }\n",
       "</style>\n",
       "<table border=\"1\" class=\"dataframe\">\n",
       "  <thead>\n",
       "    <tr style=\"text-align: right;\">\n",
       "      <th></th>\n",
       "      <th>0</th>\n",
       "      <th>sentiment</th>\n",
       "      <th>cleaned_comments</th>\n",
       "      <th>scores</th>\n",
       "    </tr>\n",
       "  </thead>\n",
       "  <tbody>\n",
       "    <tr>\n",
       "      <th>0</th>\n",
       "      <td>J'ai adoré cette phrase d'Eto'o '' Ce ne sont ...</td>\n",
       "      <td>negative</td>\n",
       "      <td>ador phrase detoo meilleurs font erreurs parce...</td>\n",
       "      <td>0.852327</td>\n",
       "    </tr>\n",
       "    <tr>\n",
       "      <th>1</th>\n",
       "      <td>Mr Eto'o fils samuel vous êtes une vraie Legen...</td>\n",
       "      <td>positive</td>\n",
       "      <td>etoo fils samuel vraie legende forever camerou...</td>\n",
       "      <td>0.890573</td>\n",
       "    </tr>\n",
       "    <tr>\n",
       "      <th>2</th>\n",
       "      <td>Aurélien après ta carrière tu feras un bon jou...</td>\n",
       "      <td>positive</td>\n",
       "      <td>aurlien aprs carrire feras bon journaliste mat...</td>\n",
       "      <td>0.816347</td>\n",
       "    </tr>\n",
       "    <tr>\n",
       "      <th>3</th>\n",
       "      <td>Impressionné par Aurelien dans son rôle qui ma...</td>\n",
       "      <td>positive</td>\n",
       "      <td>impressionn aurelien rle matrise sens dune mai...</td>\n",
       "      <td>0.996912</td>\n",
       "    </tr>\n",
       "    <tr>\n",
       "      <th>4</th>\n",
       "      <td>Sans des sportifs comme Eto'o le sport ne sera...</td>\n",
       "      <td>negative</td>\n",
       "      <td>sportifs etoo sport passion incroyable</td>\n",
       "      <td>0.994974</td>\n",
       "    </tr>\n",
       "  </tbody>\n",
       "</table>\n",
       "</div>"
      ],
      "text/plain": [
       "                                                   0 sentiment  \\\n",
       "0  J'ai adoré cette phrase d'Eto'o '' Ce ne sont ...  negative   \n",
       "1  Mr Eto'o fils samuel vous êtes une vraie Legen...  positive   \n",
       "2  Aurélien après ta carrière tu feras un bon jou...  positive   \n",
       "3  Impressionné par Aurelien dans son rôle qui ma...  positive   \n",
       "4  Sans des sportifs comme Eto'o le sport ne sera...  negative   \n",
       "\n",
       "                                    cleaned_comments    scores  \n",
       "0  ador phrase detoo meilleurs font erreurs parce...  0.852327  \n",
       "1  etoo fils samuel vraie legende forever camerou...  0.890573  \n",
       "2  aurlien aprs carrire feras bon journaliste mat...  0.816347  \n",
       "3  impressionn aurelien rle matrise sens dune mai...  0.996912  \n",
       "4             sportifs etoo sport passion incroyable  0.994974  "
      ]
     },
     "execution_count": 172,
     "metadata": {},
     "output_type": "execute_result"
    }
   ],
   "source": [
    "df['sentiment'] = classified_comments\n",
    "df[\"cleaned_comments\"] = cleaned_comments\n",
    "df[\"scores\"] = scores\n",
    "df.head()"
   ]
  },
  {
   "cell_type": "code",
   "execution_count": 179,
   "metadata": {},
   "outputs": [],
   "source": []
  },
  {
   "cell_type": "code",
   "execution_count": 223,
   "metadata": {},
   "outputs": [
    {
     "data": {
      "image/png": "[encoded data removed]",
      "text/plain": [
       "<Figure size 800x500 with 1 Axes>"
      ]
     },
     "metadata": {},
     "output_type": "display_data"
    }
   ],
   "source": [
    "plt.figure(figsize=(8, 5))\n",
    "plt.rcParams.update({'legend.fontsize': 10})\n",
    "sns.histplot(df[\"scores\"])\n",
    "#add a line plot x=1\n",
    "plt.axvline(x=0.5, color='r', linestyle='--')\n",
    "plt.title(\"Distribution des sentiments associés aux commentaires\", weight=\"bold\", size=12);"
   ]
  },
  {
   "cell_type": "code",
   "execution_count": 212,
   "metadata": {},
   "outputs": [
    {
     "name": "stdout",
     "output_type": "stream",
     "text": [
      "Qui est ici grâce à facebook comme moi .\n",
      "Bravo SAMUEL GAROUA.\n",
      "Qui est ici grâce à facebook. \n",
      "Est ce que les hiboux voyent le fauteuil de SAMUEL ETO'O. \n",
      "TOUS À GAROUA\n"
     ]
    }
   ],
   "source": [
    "for c in df[ df[\"cleaned_comments\"].str.contains(\"garoua\") ][df.columns[0]].values:\n",
    "    print(c)"
   ]
  },
  {
   "cell_type": "code",
   "execution_count": 220,
   "metadata": {},
   "outputs": [],
   "source": [
    "for c in df[df.columns[0]]:\n",
    "    u = c.split('Pasteur')\n",
    "    if len(u) > 1:\n",
    "        print(c)"
   ]
  },
  {
   "cell_type": "code",
   "execution_count": 216,
   "metadata": {},
   "outputs": [
    {
     "data": {
      "text/plain": [
       "False"
      ]
     },
     "execution_count": 216,
     "metadata": {},
     "output_type": "execute_result"
    }
   ],
   "source": []
  },
  {
   "cell_type": "code",
   "execution_count": 211,
   "metadata": {},
   "outputs": [],
   "source": [
    "for c in df[ df[df.columns[0]].str.contains(\"Garoua\") ][df.columns[0]].values:\n",
    "    print(c)"
   ]
  },
  {
   "cell_type": "code",
   "execution_count": 181,
   "metadata": {},
   "outputs": [
    {
     "name": "stdout",
     "output_type": "stream",
     "text": [
      "Impressionné par Aurelien dans son rôle qui maîtrise à mon sens d’une main de maître… excellente émission\n",
      "Sans des sportifs comme Eto'o le sport ne serait plus une passion. Il est juste incroyable.\n",
      "Quand tu vois une vidéo pareille, tu as juste envie de te surpasser pour atteindre tes objectifs.\n",
      "Masterclass messieurs !!\n",
      "Fier d'être africain, trop fière d'être Camerounais 🇨🇲\n",
      "Tchaouameni masterclass, verve, intelligence, un très bon animateur ! Quel classe et charisme.\n",
      "Eto’o peut paraître arrogant parfois mais il était très fort, une légende africaine respect 🫡 depuis le Mali 🇲🇱 \n",
      "Tchouameni  TRÈS TRÈS BON calme, posé, bravo !!!\n",
      "Chapeau bas pour Aurélien qui a vraiment fait une masterclass!\n",
      "Bravo Aurélien, je te découvre sous un autre angle. Tu gères tes intervenants avec la précision d'un match de football : un excellent timing pour distribuer la parole, tout en affichant un charisme impressionnant. Félicitations !\n",
      "Vrmt respect à vie à etoo très agréable qd il parle il explique énormément bien sa façon de s’exprimer et un très bon état d’esprit\n",
      "Mr Eto'o est un exemple pour la société, incroyable interview !\n",
      "Respectons ceux qui ont impacté.  Comme tout le monde, ils ont leurs bon et mauvais caractères.  Mais comme  souligné dans la vidéos,  Le champions n'est pas seulement celui qui dit, mais assume ses dires et réalise. \n",
      "\n",
      "Merci de l'inspiration partagée et bon courage à vous dans vos différentes carrière.\n",
      "Les interviews d'Eto'o sont trop sensationnels\n",
      "Cette interview m'a vraiment touché merci a vous mes stars 🇨🇲🇨🇲🇨🇲\n",
      "Samuel, quel grand HOMME ! Respect \n",
      "Tchouameni il est trop charismatique sa voix\n",
      "C’est la première fois que je regarde c’est super sympa je trouve\n",
      "Et lorsque je vois les gens mal parler d'un Samuel Eto'o vraiment c'est incroyable!\n",
      "Aurelien, tu ferais un excellent journaliste après l'aire de jeu.\n",
      "   Quant à Éto'o, quel Masterclass!\n",
      "C'est un gars comme ça que le Cameroun sabote.  Inadmissible incroyable...\n",
      "N'oubliez pas que vos expérience aideront bcp d'Africains et autres\n",
      "merci pour l'interview\n",
      "notre légende THE N'9\n",
      "Les hors sujet de Eto'o me régale. Quel être incroyable\n",
      "doumbé guez par contre\n",
      "Je suis profondément impressionné par l'intelligence et la sérénité d'Aurélien Tchouaméni. Ses questions, à la fois concises et pertinentes, révèlent une sagesse rare. Au-delà de ses talents de footballeur, il incarne une forme de réflexion que j'apprécie particulièrement. Samuel Eto'o, quant à lui, dégage une magnificence indéniable ; son assurance et son intelligence sont souvent perçues comme de l'arrogance, mais c'est cette même confiance qui le rend fascinant.\n",
      "Franchement Eto'o est une personne incroyable avec beaucoup de qualités\n",
      "Beau partage ! \n",
      "\n",
      "Un coup de chapeau à Aurelien TCHOUAMENI ! Je suis un passionné et ce que je le vois faire avec un calme olympien... MAGNIFIQUE\n",
      "Une dinguerie comment nous noire nous sommes limités dans nos ambitions . Eto’o c’est vraiment l’étoile par excellence\n",
      "Merci Sébastien Abdelhamid et Aurélien Tchouaméni de mettre en lumière tous ses parcours de vie majestueux et respectables.\n",
      "En espérant que cela puisse en inspirer d'autres. \n",
      "Excellente interveiw, un pur regal. Tchouameni excellent dans son role, la reconversion d'apres carriere est deja toute trouvee :)\n",
      "\n",
      "Le grand 9  Etoo, un narrateur hors pair, il est tellement marrant mais ca rend fier de voir des camerounais aussi successfull parler de leur reussite comme ca !\n",
      "ETO\"O LE PLUS GRAND!!!!!!\n",
      "La prestance et le charisme de Tchouameni entouré de ces grands messieurs wow!\n",
      "Des gens intéressants font forcement une interview interessante, chapeau à Aurélien qui est un vrai caméléon, footballeur, pianiste et maintenant presentateur !\n"
     ]
    }
   ],
   "source": [
    "# select comments with a score greater than 0.5\n",
    "for c in df[df[\"scores\"] > 0.99][df.columns[0]].values:\n",
    "    print(c)"
   ]
  },
  {
   "cell_type": "code",
   "execution_count": null,
   "metadata": {},
   "outputs": [],
   "source": []
  }
 ],
 "metadata": {
  "kernelspec": {
   "display_name": "nkobo",
   "language": "python",
   "name": "python3"
  },
  "language_info": {
   "codemirror_mode": {
    "name": "ipython",
    "version": 3
   },
   "file_extension": ".py",
   "mimetype": "text/x-python",
   "name": "python",
   "nbconvert_exporter": "python",
   "pygments_lexer": "ipython3",
   "version": "3.12.5"
  }
 },
 "nbformat": 4,
 "nbformat_minor": 2
}
