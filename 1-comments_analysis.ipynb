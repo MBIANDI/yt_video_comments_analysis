{
 "cells": [
  {
   "cell_type": "code",
   "execution_count": 1,
   "metadata": {},
   "outputs": [
    {
     "name": "stderr",
     "output_type": "stream",
     "text": [
      "c:\\Users\\mbial\\miniconda3\\envs\\nkobo\\Lib\\site-packages\\tqdm\\auto.py:21: TqdmWarning: IProgress not found. Please update jupyter and ipywidgets. See https://ipywidgets.readthedocs.io/en/stable/user_install.html\n",
      "  from .autonotebook import tqdm as notebook_tqdm\n"
     ]
    }
   ],
   "source": [
    "import pandas as pd\n",
    "import numpy as np\n",
    "from wordcloud import WordCloud\n",
    "import matplotlib.pyplot as plt\n",
    "from transformers import pipeline\n",
    "from textblob import TextBlob\n",
    "from bertopic import BERTopic\n",
    "import nltk\n",
    "from nltk.corpus import stopwords\n",
    "import re\n",
    "import seaborn as sns\n",
    "from tqdm import tqdm\n",
    "# Style use.\n",
    "sns.set_style('darkgrid')\n",
    "\n"
   ]
  },
  {
   "cell_type": "code",
   "execution_count": 2,
   "metadata": {},
   "outputs": [
    {
     "name": "stderr",
     "output_type": "stream",
     "text": [
      "[nltk_data] Downloading package stopwords to\n",
      "[nltk_data]     C:\\Users\\mbial\\AppData\\Roaming\\nltk_data...\n",
      "[nltk_data]   Package stopwords is already up-to-date!\n"
     ]
    }
   ],
   "source": [
    "nltk.download('stopwords')\n",
    "stop_words = set(stopwords.words('french'))"
   ]
  },
  {
   "cell_type": "code",
   "execution_count": 3,
   "metadata": {},
   "outputs": [
    {
     "data": {
      "text/plain": [
       "157"
      ]
     },
     "execution_count": 3,
     "metadata": {},
     "output_type": "execute_result"
    }
   ],
   "source": [
    "len(stop_words)"
   ]
  },
  {
   "cell_type": "code",
   "execution_count": 4,
   "metadata": {},
   "outputs": [
    {
     "data": {
      "text/plain": [
       "{'ai',\n",
       " 'aie',\n",
       " 'aient',\n",
       " 'aies',\n",
       " 'ait',\n",
       " 'as',\n",
       " 'au',\n",
       " 'aura',\n",
       " 'aurai',\n",
       " 'auraient',\n",
       " 'aurais',\n",
       " 'aurait',\n",
       " 'auras',\n",
       " 'aurez',\n",
       " 'auriez',\n",
       " 'aurions',\n",
       " 'aurons',\n",
       " 'auront',\n",
       " 'aux',\n",
       " 'avaient',\n",
       " 'avais',\n",
       " 'avait',\n",
       " 'avec',\n",
       " 'avez',\n",
       " 'aviez',\n",
       " 'avions',\n",
       " 'avons',\n",
       " 'ayant',\n",
       " 'ayante',\n",
       " 'ayantes',\n",
       " 'ayants',\n",
       " 'ayez',\n",
       " 'ayons',\n",
       " 'c',\n",
       " 'ce',\n",
       " 'ces',\n",
       " 'd',\n",
       " 'dans',\n",
       " 'de',\n",
       " 'des',\n",
       " 'du',\n",
       " 'elle',\n",
       " 'en',\n",
       " 'es',\n",
       " 'est',\n",
       " 'et',\n",
       " 'eu',\n",
       " 'eue',\n",
       " 'eues',\n",
       " 'eurent',\n",
       " 'eus',\n",
       " 'eusse',\n",
       " 'eussent',\n",
       " 'eusses',\n",
       " 'eussiez',\n",
       " 'eussions',\n",
       " 'eut',\n",
       " 'eux',\n",
       " 'eûmes',\n",
       " 'eût',\n",
       " 'eûtes',\n",
       " 'furent',\n",
       " 'fus',\n",
       " 'fusse',\n",
       " 'fussent',\n",
       " 'fusses',\n",
       " 'fussiez',\n",
       " 'fussions',\n",
       " 'fut',\n",
       " 'fûmes',\n",
       " 'fût',\n",
       " 'fûtes',\n",
       " 'il',\n",
       " 'ils',\n",
       " 'j',\n",
       " 'je',\n",
       " 'l',\n",
       " 'la',\n",
       " 'le',\n",
       " 'les',\n",
       " 'leur',\n",
       " 'lui',\n",
       " 'm',\n",
       " 'ma',\n",
       " 'mais',\n",
       " 'me',\n",
       " 'mes',\n",
       " 'moi',\n",
       " 'mon',\n",
       " 'même',\n",
       " 'n',\n",
       " 'ne',\n",
       " 'nos',\n",
       " 'notre',\n",
       " 'nous',\n",
       " 'on',\n",
       " 'ont',\n",
       " 'ou',\n",
       " 'par',\n",
       " 'pas',\n",
       " 'pour',\n",
       " 'qu',\n",
       " 'que',\n",
       " 'qui',\n",
       " 's',\n",
       " 'sa',\n",
       " 'se',\n",
       " 'sera',\n",
       " 'serai',\n",
       " 'seraient',\n",
       " 'serais',\n",
       " 'serait',\n",
       " 'seras',\n",
       " 'serez',\n",
       " 'seriez',\n",
       " 'serions',\n",
       " 'serons',\n",
       " 'seront',\n",
       " 'ses',\n",
       " 'soient',\n",
       " 'sois',\n",
       " 'soit',\n",
       " 'sommes',\n",
       " 'son',\n",
       " 'sont',\n",
       " 'soyez',\n",
       " 'soyons',\n",
       " 'suis',\n",
       " 'sur',\n",
       " 't',\n",
       " 'ta',\n",
       " 'te',\n",
       " 'tes',\n",
       " 'toi',\n",
       " 'ton',\n",
       " 'tu',\n",
       " 'un',\n",
       " 'une',\n",
       " 'vos',\n",
       " 'votre',\n",
       " 'vous',\n",
       " 'y',\n",
       " 'à',\n",
       " 'étaient',\n",
       " 'étais',\n",
       " 'était',\n",
       " 'étant',\n",
       " 'étante',\n",
       " 'étantes',\n",
       " 'étants',\n",
       " 'étiez',\n",
       " 'étions',\n",
       " 'été',\n",
       " 'étée',\n",
       " 'étées',\n",
       " 'étés',\n",
       " 'êtes'}"
      ]
     },
     "execution_count": 4,
     "metadata": {},
     "output_type": "execute_result"
    }
   ],
   "source": [
    "stop_words"
   ]
  },
  {
   "cell_type": "code",
   "execution_count": 5,
   "metadata": {},
   "outputs": [],
   "source": [
    "for i in [\"le\", \"mr\", \"eto\", \"qu\", \"est\", \"c'est\",\"qu\", \"juste\", \"master\", \"class\", \"toujours\", \"vraiment\",\"si\", \"quand\", \"jai\",\"j'ai\", \"beaucoup\",\"déjà\", \"deja\", \"nest\",\"n'est\", \"franchement\", \"cet\", \"vois\", \"ceux\",\"ici\", \"mme\",\"quil\", \"qu'il\",\"trs\",\"cette\", \"très\", \"trop\", \"cest\",  \"c'est\",\"comme\", \"tout\", \"plus\", \"bien\", \"faire\", \"aussi\", \"fait\", \"peut\", \"tre\",\"très\",\"quel\", \"sans\", \"autre\", \"donc\", \"tous\", \"faut\", \"peu\", \"dit\", \"avoir\", \"non\", \"fois\", \"ans\", \"alors\", \"sont\", \"peu\", \"peux\", \"peut\", \"cest\",\"c'est\"]:\n",
    "    stop_words.add(i)"
   ]
  },
  {
   "cell_type": "code",
   "execution_count": 6,
   "metadata": {},
   "outputs": [
    {
     "name": "stdout",
     "output_type": "stream",
     "text": [
      "(1183, 1)\n"
     ]
    },
    {
     "data": {
      "text/html": [
       "<div>\n",
       "<style scoped>\n",
       "    .dataframe tbody tr th:only-of-type {\n",
       "        vertical-align: middle;\n",
       "    }\n",
       "\n",
       "    .dataframe tbody tr th {\n",
       "        vertical-align: top;\n",
       "    }\n",
       "\n",
       "    .dataframe thead th {\n",
       "        text-align: right;\n",
       "    }\n",
       "</style>\n",
       "<table border=\"1\" class=\"dataframe\">\n",
       "  <thead>\n",
       "    <tr style=\"text-align: right;\">\n",
       "      <th></th>\n",
       "      <th>0</th>\n",
       "    </tr>\n",
       "  </thead>\n",
       "  <tbody>\n",
       "    <tr>\n",
       "      <th>0</th>\n",
       "      <td>J'ai adoré cette phrase d'Eto'o '' Ce ne sont ...</td>\n",
       "    </tr>\n",
       "    <tr>\n",
       "      <th>1</th>\n",
       "      <td>Aurélien après ta carrière tu feras un bon jou...</td>\n",
       "    </tr>\n",
       "    <tr>\n",
       "      <th>2</th>\n",
       "      <td>Les anecdotes de Eto’o sont trois fois plus lo...</td>\n",
       "    </tr>\n",
       "    <tr>\n",
       "      <th>3</th>\n",
       "      <td>Arrêttons nous un instant pour apprécier la qu...</td>\n",
       "    </tr>\n",
       "    <tr>\n",
       "      <th>4</th>\n",
       "      <td>C’est la première fois de ma vie que je regard...</td>\n",
       "    </tr>\n",
       "  </tbody>\n",
       "</table>\n",
       "</div>"
      ],
      "text/plain": [
       "                                                   0\n",
       "0  J'ai adoré cette phrase d'Eto'o '' Ce ne sont ...\n",
       "1  Aurélien après ta carrière tu feras un bon jou...\n",
       "2  Les anecdotes de Eto’o sont trois fois plus lo...\n",
       "3  Arrêttons nous un instant pour apprécier la qu...\n",
       "4  C’est la première fois de ma vie que je regard..."
      ]
     },
     "execution_count": 6,
     "metadata": {},
     "output_type": "execute_result"
    }
   ],
   "source": [
    "df = pd.read_csv('comments.csv')\n",
    "print(df.shape)\n",
    "df.head()"
   ]
  },
  {
   "cell_type": "code",
   "execution_count": 7,
   "metadata": {},
   "outputs": [],
   "source": [
    "comments = df[df.columns[0]].values\n"
   ]
  },
  {
   "cell_type": "markdown",
   "metadata": {},
   "source": [
    "# 1. preprocessing step"
   ]
  },
  {
   "cell_type": "code",
   "execution_count": 8,
   "metadata": {},
   "outputs": [],
   "source": [
    "from tqdm import tqdm"
   ]
  },
  {
   "cell_type": "code",
   "execution_count": 93,
   "metadata": {},
   "outputs": [],
   "source": [
    "def preprocess_comments(comments):\n",
    "    cleaned_comments = []\n",
    "    new_comments = []\n",
    "    for comment in tqdm(comments):\n",
    "        try:\n",
    "            tmp = comment\n",
    "            comment = re.sub(r'http\\S+', '', comment)  # Remove URLs\n",
    "            #comment = re.sub(r'[^A-Za-z0-9\\s]+', '', comment)  # Remove special characters\n",
    "            comment = comment.lower()  # Convert to lowercase\n",
    "            comment = ' '.join([word for word in comment.split() if word not in stop_words])  # Remove stop words\n",
    "            if len(comment.split(\" \"))>=3:\n",
    "                cleaned_comments.append(comment)\n",
    "                new_comments.append(tmp)\n",
    "        except:\n",
    "            print(comment)\n",
    "    return cleaned_comments, new_comments"
   ]
  },
  {
   "cell_type": "code",
   "execution_count": 94,
   "metadata": {},
   "outputs": [
    {
     "name": "stderr",
     "output_type": "stream",
     "text": [
      "100%|██████████| 1183/1183 [00:00<00:00, 131443.53it/s]"
     ]
    },
    {
     "name": "stdout",
     "output_type": "stream",
     "text": [
      "nan\n",
      "nan\n",
      "nan\n",
      "nan\n",
      "nan\n",
      "nan\n",
      "nan\n",
      "nan\n",
      "nan\n"
     ]
    },
    {
     "name": "stderr",
     "output_type": "stream",
     "text": [
      "\n"
     ]
    }
   ],
   "source": [
    "cleaned_comments, new_comments = preprocess_comments(comments)"
   ]
  },
  {
   "cell_type": "code",
   "execution_count": 95,
   "metadata": {},
   "outputs": [
    {
     "data": {
      "text/plain": [
       "956"
      ]
     },
     "execution_count": 95,
     "metadata": {},
     "output_type": "execute_result"
    }
   ],
   "source": [
    "len(set(cleaned_comments))"
   ]
  },
  {
   "cell_type": "code",
   "execution_count": 96,
   "metadata": {},
   "outputs": [
    {
     "name": "stdout",
     "output_type": "stream",
     "text": [
      "respect grand frère samuel eto'o parce grand frère impressionnant, respect chacun sait écouter sait écouter émission captivante expériences projets tire leçons\n"
     ]
    }
   ],
   "source": [
    "print(cleaned_comments[24])"
   ]
  },
  {
   "cell_type": "markdown",
   "metadata": {},
   "source": [
    "# 2. Wordcloud"
   ]
  },
  {
   "cell_type": "code",
   "execution_count": 65,
   "metadata": {},
   "outputs": [],
   "source": [
    "def generate_word_cloud(comments):\n",
    "    text = ' '.join(comments)\n",
    "    wordcloud = WordCloud(width=800, height=400, background_color='white', max_words=50, min_word_length=4).generate(text)\n",
    "    plt.figure(figsize=(10, 5))\n",
    "    plt.imshow(wordcloud, interpolation='bilinear')\n",
    "    plt.axis('off')\n",
    "    plt.show()"
   ]
  },
  {
   "cell_type": "code",
   "execution_count": 21,
   "metadata": {},
   "outputs": [
    {
     "data": {
      "image/png": "[encoded data removed]",
      "text/plain": [
       "<Figure size 1000x500 with 1 Axes>"
      ]
     },
     "metadata": {},
     "output_type": "display_data"
    }
   ],
   "source": [
    "generate_word_cloud(new_comments)"
   ]
  },
  {
   "cell_type": "code",
   "execution_count": 66,
   "metadata": {},
   "outputs": [
    {
     "data": {
      "image/png": "[encoded data removed]",
      "text/plain": [
       "<Figure size 1000x500 with 1 Axes>"
      ]
     },
     "metadata": {},
     "output_type": "display_data"
    }
   ],
   "source": [
    "generate_word_cloud(cleaned_comments)"
   ]
  },
  {
   "cell_type": "markdown",
   "metadata": {},
   "source": [
    "# 2. Topic modelling"
   ]
  },
  {
   "cell_type": "code",
   "execution_count": 22,
   "metadata": {},
   "outputs": [],
   "source": [
    "from sentence_transformers import SentenceTransformer"
   ]
  },
  {
   "cell_type": "code",
   "execution_count": 23,
   "metadata": {},
   "outputs": [],
   "source": [
    "\n",
    "sentence_model = SentenceTransformer(\"dangvantuan/sentence-camembert-base\")\n",
    "\n"
   ]
  },
  {
   "cell_type": "code",
   "execution_count": 97,
   "metadata": {},
   "outputs": [],
   "source": [
    "# Step 6: Extract Main Topics with BERTopic\n",
    "def extract_topics_bertopic(comments, sentence_model=sentence_model):\n",
    "    topic_model = BERTopic( n_gram_range=(1, 3), embedding_model=sentence_model,  min_topic_size=5, language=\"french\")\n",
    "    topics, probs = topic_model.fit_transform(comments)\n",
    "    return topic_model"
   ]
  },
  {
   "cell_type": "code",
   "execution_count": 98,
   "metadata": {},
   "outputs": [],
   "source": [
    "topic_model = extract_topics_bertopic(cleaned_comments)"
   ]
  },
  {
   "cell_type": "code",
   "execution_count": 99,
   "metadata": {},
   "outputs": [
    {
     "data": {
      "text/html": [
       "<div>\n",
       "<style scoped>\n",
       "    .dataframe tbody tr th:only-of-type {\n",
       "        vertical-align: middle;\n",
       "    }\n",
       "\n",
       "    .dataframe tbody tr th {\n",
       "        vertical-align: top;\n",
       "    }\n",
       "\n",
       "    .dataframe thead th {\n",
       "        text-align: right;\n",
       "    }\n",
       "</style>\n",
       "<table border=\"1\" class=\"dataframe\">\n",
       "  <thead>\n",
       "    <tr style=\"text-align: right;\">\n",
       "      <th></th>\n",
       "      <th>Topic</th>\n",
       "      <th>Count</th>\n",
       "      <th>Name</th>\n",
       "      <th>Representation</th>\n",
       "      <th>Representative_Docs</th>\n",
       "    </tr>\n",
       "  </thead>\n",
       "  <tbody>\n",
       "    <tr>\n",
       "      <th>0</th>\n",
       "      <td>-1</td>\n",
       "      <td>320</td>\n",
       "      <td>-1_eto_samuel_qu_est</td>\n",
       "      <td>[eto, samuel, qu, est, etoo, doumbé, être, gra...</td>\n",
       "      <td>[cédric perdu combat face baki , point final.....</td>\n",
       "    </tr>\n",
       "    <tr>\n",
       "      <th>1</th>\n",
       "      <td>0</td>\n",
       "      <td>72</td>\n",
       "      <td>0_samuel_02_samuel samuel_oh</td>\n",
       "      <td>[samuel, 02, samuel samuel, oh, samuel 02, oh ...</td>\n",
       "      <td>[1:02:54 ça tue samuel abuse bail, oh samuel ,...</td>\n",
       "    </tr>\n",
       "    <tr>\n",
       "      <th>2</th>\n",
       "      <td>1</td>\n",
       "      <td>57</td>\n",
       "      <td>1_eto_eto eto_papa_papa eto</td>\n",
       "      <td>[eto, eto eto, papa, papa eto, etooo, monsieur...</td>\n",
       "      <td>[touche eto'o, eto'o continent, touche eto'o, ...</td>\n",
       "    </tr>\n",
       "    <tr>\n",
       "      <th>3</th>\n",
       "      <td>2</td>\n",
       "      <td>47</td>\n",
       "      <td>2_samuel eto_samuel_eto_eto samuel</td>\n",
       "      <td>[samuel eto, samuel, eto, eto samuel, eto samu...</td>\n",
       "      <td>[samuel eto'o meilleur, légende samuel eto'o ️...</td>\n",
       "    </tr>\n",
       "    <tr>\n",
       "      <th>4</th>\n",
       "      <td>3</td>\n",
       "      <td>42</td>\n",
       "      <td>3_tchouameni_tchouaméni_tchouameni bon_tchouam...</td>\n",
       "      <td>[tchouameni, tchouaméni, tchouameni bon, tchou...</td>\n",
       "      <td>[tchouameni, bon présentateur, aurélien tchoua...</td>\n",
       "    </tr>\n",
       "    <tr>\n",
       "      <th>5</th>\n",
       "      <td>4</td>\n",
       "      <td>34</td>\n",
       "      <td>4_parole_etoo_grand_encore</td>\n",
       "      <td>[parole, etoo, grand, encore, respect, raconte...</td>\n",
       "      <td>[raconte eto'o bête simpliste. parle qatar exe...</td>\n",
       "    </tr>\n",
       "    <tr>\n",
       "      <th>6</th>\n",
       "      <td>5</td>\n",
       "      <td>29</td>\n",
       "      <td>5_inter_jamais_mi_mi temps</td>\n",
       "      <td>[inter, jamais, mi, mi temps, temps, match, tr...</td>\n",
       "      <td>[truc gole-ri samuel eto'o n'a jamais marqué 3...</td>\n",
       "    </tr>\n",
       "    <tr>\n",
       "      <th>7</th>\n",
       "      <td>6</td>\n",
       "      <td>22</td>\n",
       "      <td>6_interview_épisode_réunion_1h30</td>\n",
       "      <td>[interview, épisode, réunion, 1h30, régal, 30,...</td>\n",
       "      <td>[c’est première vie regarde 1h30 d’interview l...</td>\n",
       "    </tr>\n",
       "    <tr>\n",
       "      <th>8</th>\n",
       "      <td>7</td>\n",
       "      <td>19</td>\n",
       "      <td>7_vidéo_connaissance_afrique_être</td>\n",
       "      <td>[vidéo, connaissance, afrique, être, opportuni...</td>\n",
       "      <td>[incroyable, vidéo ! pris immense plaisir écou...</td>\n",
       "    </tr>\n",
       "    <tr>\n",
       "      <th>9</th>\n",
       "      <td>8</td>\n",
       "      <td>19</td>\n",
       "      <td>8_personnes_sujets_parler_intéressant</td>\n",
       "      <td>[personnes, sujets, parler, intéressant, laiss...</td>\n",
       "      <td>[tellement vrai gars, lasse d'écouter intervie...</td>\n",
       "    </tr>\n",
       "    <tr>\n",
       "      <th>10</th>\n",
       "      <td>9</td>\n",
       "      <td>19</td>\n",
       "      <td>9_afrique_samuel eto_samuel_eto</td>\n",
       "      <td>[afrique, samuel eto, samuel, eto, samuel eto ...</td>\n",
       "      <td>[nul prophète chez soi. comment compatriotes t...</td>\n",
       "    </tr>\n",
       "    <tr>\n",
       "      <th>11</th>\n",
       "      <td>10</td>\n",
       "      <td>18</td>\n",
       "      <td>10_cameroun_coupe_coupe monde_monde</td>\n",
       "      <td>[cameroun, coupe, coupe monde, monde, gagner, ...</td>\n",
       "      <td>[lions indomptables potentiellement capacité g...</td>\n",
       "    </tr>\n",
       "    <tr>\n",
       "      <th>12</th>\n",
       "      <td>11</td>\n",
       "      <td>17</td>\n",
       "      <td>11_légende_meilleur_eto_la légende</td>\n",
       "      <td>[légende, meilleur, eto, la légende, légende e...</td>\n",
       "      <td>[meilleur souvenir encore arrivé, eto'o présid...</td>\n",
       "    </tr>\n",
       "    <tr>\n",
       "      <th>13</th>\n",
       "      <td>12</td>\n",
       "      <td>17</td>\n",
       "      <td>12_mike_mike maignan_maignan_est levé</td>\n",
       "      <td>[mike, mike maignan, maignan, est levé, arrivé...</td>\n",
       "      <td>[samuel eto'o tellement respectueux s'est levé...</td>\n",
       "    </tr>\n",
       "    <tr>\n",
       "      <th>14</th>\n",
       "      <td>13</td>\n",
       "      <td>16</td>\n",
       "      <td>13_cédric_meilleur combattant_combattant_meill...</td>\n",
       "      <td>[cédric, meilleur combattant, combattant, meil...</td>\n",
       "      <td>[cédric doumbé meilleur combattant français......</td>\n",
       "    </tr>\n",
       "    <tr>\n",
       "      <th>15</th>\n",
       "      <td>14</td>\n",
       "      <td>16</td>\n",
       "      <td>14_mytho_eto mytho_gros_samuel mytho</td>\n",
       "      <td>[mytho, eto mytho, gros, samuel mytho, gros my...</td>\n",
       "      <td>[ahah gros mytho, samuel eto'o mytho ,, etoo g...</td>\n",
       "    </tr>\n",
       "    <tr>\n",
       "      <th>16</th>\n",
       "      <td>15</td>\n",
       "      <td>15</td>\n",
       "      <td>15_camerounais_fière_cameroun_etre camerounais</td>\n",
       "      <td>[camerounais, fière, cameroun, etre camerounai...</td>\n",
       "      <td>[3 camerounais fiere d'etre camerounais, fière...</td>\n",
       "    </tr>\n",
       "    <tr>\n",
       "      <th>17</th>\n",
       "      <td>16</td>\n",
       "      <td>15</td>\n",
       "      <td>16_aurélien_aurelien_charisme_qualité</td>\n",
       "      <td>[aurélien, aurelien, charisme, qualité, une, 2...</td>\n",
       "      <td>[super interview bienveillante intervenants qu...</td>\n",
       "    </tr>\n",
       "    <tr>\n",
       "      <th>18</th>\n",
       "      <td>17</td>\n",
       "      <td>14</td>\n",
       "      <td>17_vidéo_ai_excellent_contenu</td>\n",
       "      <td>[vidéo, ai, excellent, contenu, youtube, avanc...</td>\n",
       "      <td>[1:01:55- 1:03:35 meilleure partie vidéo clair...</td>\n",
       "    </tr>\n",
       "    <tr>\n",
       "      <th>19</th>\n",
       "      <td>18</td>\n",
       "      <td>12</td>\n",
       "      <td>18_samuel eto_samuel_eto_samuel eto bonne</td>\n",
       "      <td>[samuel eto, samuel, eto, samuel eto bonne, et...</td>\n",
       "      <td>[sais communauté ; regardé interview samuel et...</td>\n",
       "    </tr>\n",
       "    <tr>\n",
       "      <th>20</th>\n",
       "      <td>19</td>\n",
       "      <td>12</td>\n",
       "      <td>19_émission_super émission_super_émission super</td>\n",
       "      <td>[émission, super émission, super, émission sup...</td>\n",
       "      <td>[émission passe quelle chaîne ? date prochaine...</td>\n",
       "    </tr>\n",
       "    <tr>\n",
       "      <th>21</th>\n",
       "      <td>20</td>\n",
       "      <td>12</td>\n",
       "      <td>20_morte_latin_langue morte_langue</td>\n",
       "      <td>[morte, latin, langue morte, langue, latin lan...</td>\n",
       "      <td>[aime bougheraba coup langue morte, latin lang...</td>\n",
       "    </tr>\n",
       "    <tr>\n",
       "      <th>22</th>\n",
       "      <td>21</td>\n",
       "      <td>11</td>\n",
       "      <td>21_barca_joueurs français_faisait_histoire</td>\n",
       "      <td>[barca, joueurs français, faisait, histoire, r...</td>\n",
       "      <td>[samuel eto’o trop. homme n’as jamais stress n...</td>\n",
       "    </tr>\n",
       "    <tr>\n",
       "      <th>23</th>\n",
       "      <td>22</td>\n",
       "      <td>10</td>\n",
       "      <td>22_redouane_marseille_ça marseille_om</td>\n",
       "      <td>[redouane, marseille, ça marseille, om, bravo,...</td>\n",
       "      <td>[redouane surcoté, arreter l'inviter partout, ...</td>\n",
       "    </tr>\n",
       "    <tr>\n",
       "      <th>24</th>\n",
       "      <td>23</td>\n",
       "      <td>9</td>\n",
       "      <td>23_aurélien_journaliste_carrière_foot aurélien</td>\n",
       "      <td>[aurélien, journaliste, carrière, foot aurélie...</td>\n",
       "      <td>[belle émission aurélien tshuameni a magistral...</td>\n",
       "    </tr>\n",
       "    <tr>\n",
       "      <th>25</th>\n",
       "      <td>24</td>\n",
       "      <td>9</td>\n",
       "      <td>24_the bridge_bridge_the_henry</td>\n",
       "      <td>[the bridge, bridge, the, henry, média, voulai...</td>\n",
       "      <td>[arrêtez the bridge anglais ! regardez states ...</td>\n",
       "    </tr>\n",
       "    <tr>\n",
       "      <th>26</th>\n",
       "      <td>25</td>\n",
       "      <td>9</td>\n",
       "      <td>25_francais_humoriste_meilleur combattant_meil...</td>\n",
       "      <td>[francais, humoriste, meilleur combattant, mei...</td>\n",
       "      <td>[meilleurs combattants français c’est salahdin...</td>\n",
       "    </tr>\n",
       "    <tr>\n",
       "      <th>27</th>\n",
       "      <td>26</td>\n",
       "      <td>8</td>\n",
       "      <td>26_fausse_mentir_obligé_anecdote</td>\n",
       "      <td>[fausse, mentir, obligé, anecdote, etoo, quoi ...</td>\n",
       "      <td>[9:46 l'anecdote fausse, camers obligé fala c’...</td>\n",
       "    </tr>\n",
       "    <tr>\n",
       "      <th>28</th>\n",
       "      <td>27</td>\n",
       "      <td>8</td>\n",
       "      <td>27_samuel etoo_etoo_samuel_merci samuel</td>\n",
       "      <td>[samuel etoo, etoo, samuel, merci samuel, futu...</td>\n",
       "      <td>[samuel eto’o personnage futuriste tellement a...</td>\n",
       "    </tr>\n",
       "    <tr>\n",
       "      <th>29</th>\n",
       "      <td>28</td>\n",
       "      <td>7</td>\n",
       "      <td>28_erreurs_font erreurs_meilleurs font erreurs...</td>\n",
       "      <td>[erreurs, font erreurs, meilleurs font erreurs...</td>\n",
       "      <td>[meilleurs font erreurs . parce n'es meilleur ...</td>\n",
       "    </tr>\n",
       "    <tr>\n",
       "      <th>30</th>\n",
       "      <td>29</td>\n",
       "      <td>7</td>\n",
       "      <td>29_joueur_terrain_ça_veux</td>\n",
       "      <td>[joueur, terrain, ça, veux, donnes, caractère,...</td>\n",
       "      <td>[c’est fou eto’o inventer anecdotes n’a lucidi...</td>\n",
       "    </tr>\n",
       "    <tr>\n",
       "      <th>31</th>\n",
       "      <td>30</td>\n",
       "      <td>6</td>\n",
       "      <td>30_compte_était_passionnant arrêtent_rebondir ...</td>\n",
       "      <td>[compte, était, passionnant arrêtent, rebondir...</td>\n",
       "      <td>[interview qualité, rendu compte c’était fin t...</td>\n",
       "    </tr>\n",
       "    <tr>\n",
       "      <th>32</th>\n",
       "      <td>31</td>\n",
       "      <td>6</td>\n",
       "      <td>31_samuel eto_merci_accordé_remercie travaux</td>\n",
       "      <td>[samuel eto, merci, accordé, remercie travaux,...</td>\n",
       "      <td>[samuel eto'o goat, supporter l'inter remercie...</td>\n",
       "    </tr>\n",
       "    <tr>\n",
       "      <th>33</th>\n",
       "      <td>32</td>\n",
       "      <td>6</td>\n",
       "      <td>32_masterclass_interview samuel etoo_mastercla...</td>\n",
       "      <td>[masterclass, interview samuel etoo, mastercla...</td>\n",
       "      <td>[chapeau bas aurélien a masterclass!, eto'o ém...</td>\n",
       "    </tr>\n",
       "    <tr>\n",
       "      <th>34</th>\n",
       "      <td>33</td>\n",
       "      <td>6</td>\n",
       "      <td>33_mane_koffi_sadio_sadio mane</td>\n",
       "      <td>[mane, koffi, sadio, sadio mane, salah, invité...</td>\n",
       "      <td>[neuer lobbe sadio mane, prochaine invité invi...</td>\n",
       "    </tr>\n",
       "    <tr>\n",
       "      <th>35</th>\n",
       "      <td>34</td>\n",
       "      <td>5</td>\n",
       "      <td>34_merci_émission merci_magnifique merçi produ...</td>\n",
       "      <td>[merci, émission merci, magnifique merçi produ...</td>\n",
       "      <td>[magnifique. merçi production, aimé l'émission...</td>\n",
       "    </tr>\n",
       "    <tr>\n",
       "      <th>36</th>\n",
       "      <td>35</td>\n",
       "      <td>5</td>\n",
       "      <td>35_afrique_besoin_besoin toi_afrique besoin</td>\n",
       "      <td>[afrique, besoin, besoin toi, afrique besoin, ...</td>\n",
       "      <td>[big samu l'afrique vrai! vachement kiffant in...</td>\n",
       "    </tr>\n",
       "    <tr>\n",
       "      <th>37</th>\n",
       "      <td>36</td>\n",
       "      <td>5</td>\n",
       "      <td>36_est_jaime_peur_mature</td>\n",
       "      <td>[est, jaime, peur, mature, jamais complexé dev...</td>\n",
       "      <td>[cédric mec vraie plaie ... connaît l'art rire...</td>\n",
       "    </tr>\n",
       "  </tbody>\n",
       "</table>\n",
       "</div>"
      ],
      "text/plain": [
       "    Topic  Count                                               Name  \\\n",
       "0      -1    320                               -1_eto_samuel_qu_est   \n",
       "1       0     72                       0_samuel_02_samuel samuel_oh   \n",
       "2       1     57                        1_eto_eto eto_papa_papa eto   \n",
       "3       2     47                 2_samuel eto_samuel_eto_eto samuel   \n",
       "4       3     42  3_tchouameni_tchouaméni_tchouameni bon_tchouam...   \n",
       "5       4     34                         4_parole_etoo_grand_encore   \n",
       "6       5     29                         5_inter_jamais_mi_mi temps   \n",
       "7       6     22                   6_interview_épisode_réunion_1h30   \n",
       "8       7     19                  7_vidéo_connaissance_afrique_être   \n",
       "9       8     19              8_personnes_sujets_parler_intéressant   \n",
       "10      9     19                    9_afrique_samuel eto_samuel_eto   \n",
       "11     10     18                10_cameroun_coupe_coupe monde_monde   \n",
       "12     11     17                 11_légende_meilleur_eto_la légende   \n",
       "13     12     17              12_mike_mike maignan_maignan_est levé   \n",
       "14     13     16  13_cédric_meilleur combattant_combattant_meill...   \n",
       "15     14     16               14_mytho_eto mytho_gros_samuel mytho   \n",
       "16     15     15     15_camerounais_fière_cameroun_etre camerounais   \n",
       "17     16     15              16_aurélien_aurelien_charisme_qualité   \n",
       "18     17     14                      17_vidéo_ai_excellent_contenu   \n",
       "19     18     12          18_samuel eto_samuel_eto_samuel eto bonne   \n",
       "20     19     12    19_émission_super émission_super_émission super   \n",
       "21     20     12                 20_morte_latin_langue morte_langue   \n",
       "22     21     11         21_barca_joueurs français_faisait_histoire   \n",
       "23     22     10              22_redouane_marseille_ça marseille_om   \n",
       "24     23      9     23_aurélien_journaliste_carrière_foot aurélien   \n",
       "25     24      9                     24_the bridge_bridge_the_henry   \n",
       "26     25      9  25_francais_humoriste_meilleur combattant_meil...   \n",
       "27     26      8                   26_fausse_mentir_obligé_anecdote   \n",
       "28     27      8            27_samuel etoo_etoo_samuel_merci samuel   \n",
       "29     28      7  28_erreurs_font erreurs_meilleurs font erreurs...   \n",
       "30     29      7                          29_joueur_terrain_ça_veux   \n",
       "31     30      6  30_compte_était_passionnant arrêtent_rebondir ...   \n",
       "32     31      6       31_samuel eto_merci_accordé_remercie travaux   \n",
       "33     32      6  32_masterclass_interview samuel etoo_mastercla...   \n",
       "34     33      6                     33_mane_koffi_sadio_sadio mane   \n",
       "35     34      5  34_merci_émission merci_magnifique merçi produ...   \n",
       "36     35      5        35_afrique_besoin_besoin toi_afrique besoin   \n",
       "37     36      5                           36_est_jaime_peur_mature   \n",
       "\n",
       "                                       Representation  \\\n",
       "0   [eto, samuel, qu, est, etoo, doumbé, être, gra...   \n",
       "1   [samuel, 02, samuel samuel, oh, samuel 02, oh ...   \n",
       "2   [eto, eto eto, papa, papa eto, etooo, monsieur...   \n",
       "3   [samuel eto, samuel, eto, eto samuel, eto samu...   \n",
       "4   [tchouameni, tchouaméni, tchouameni bon, tchou...   \n",
       "5   [parole, etoo, grand, encore, respect, raconte...   \n",
       "6   [inter, jamais, mi, mi temps, temps, match, tr...   \n",
       "7   [interview, épisode, réunion, 1h30, régal, 30,...   \n",
       "8   [vidéo, connaissance, afrique, être, opportuni...   \n",
       "9   [personnes, sujets, parler, intéressant, laiss...   \n",
       "10  [afrique, samuel eto, samuel, eto, samuel eto ...   \n",
       "11  [cameroun, coupe, coupe monde, monde, gagner, ...   \n",
       "12  [légende, meilleur, eto, la légende, légende e...   \n",
       "13  [mike, mike maignan, maignan, est levé, arrivé...   \n",
       "14  [cédric, meilleur combattant, combattant, meil...   \n",
       "15  [mytho, eto mytho, gros, samuel mytho, gros my...   \n",
       "16  [camerounais, fière, cameroun, etre camerounai...   \n",
       "17  [aurélien, aurelien, charisme, qualité, une, 2...   \n",
       "18  [vidéo, ai, excellent, contenu, youtube, avanc...   \n",
       "19  [samuel eto, samuel, eto, samuel eto bonne, et...   \n",
       "20  [émission, super émission, super, émission sup...   \n",
       "21  [morte, latin, langue morte, langue, latin lan...   \n",
       "22  [barca, joueurs français, faisait, histoire, r...   \n",
       "23  [redouane, marseille, ça marseille, om, bravo,...   \n",
       "24  [aurélien, journaliste, carrière, foot aurélie...   \n",
       "25  [the bridge, bridge, the, henry, média, voulai...   \n",
       "26  [francais, humoriste, meilleur combattant, mei...   \n",
       "27  [fausse, mentir, obligé, anecdote, etoo, quoi ...   \n",
       "28  [samuel etoo, etoo, samuel, merci samuel, futu...   \n",
       "29  [erreurs, font erreurs, meilleurs font erreurs...   \n",
       "30  [joueur, terrain, ça, veux, donnes, caractère,...   \n",
       "31  [compte, était, passionnant arrêtent, rebondir...   \n",
       "32  [samuel eto, merci, accordé, remercie travaux,...   \n",
       "33  [masterclass, interview samuel etoo, mastercla...   \n",
       "34  [mane, koffi, sadio, sadio mane, salah, invité...   \n",
       "35  [merci, émission merci, magnifique merçi produ...   \n",
       "36  [afrique, besoin, besoin toi, afrique besoin, ...   \n",
       "37  [est, jaime, peur, mature, jamais complexé dev...   \n",
       "\n",
       "                                  Representative_Docs  \n",
       "0   [cédric perdu combat face baki , point final.....  \n",
       "1   [1:02:54 ça tue samuel abuse bail, oh samuel ,...  \n",
       "2   [touche eto'o, eto'o continent, touche eto'o, ...  \n",
       "3   [samuel eto'o meilleur, légende samuel eto'o ️...  \n",
       "4   [tchouameni, bon présentateur, aurélien tchoua...  \n",
       "5   [raconte eto'o bête simpliste. parle qatar exe...  \n",
       "6   [truc gole-ri samuel eto'o n'a jamais marqué 3...  \n",
       "7   [c’est première vie regarde 1h30 d’interview l...  \n",
       "8   [incroyable, vidéo ! pris immense plaisir écou...  \n",
       "9   [tellement vrai gars, lasse d'écouter intervie...  \n",
       "10  [nul prophète chez soi. comment compatriotes t...  \n",
       "11  [lions indomptables potentiellement capacité g...  \n",
       "12  [meilleur souvenir encore arrivé, eto'o présid...  \n",
       "13  [samuel eto'o tellement respectueux s'est levé...  \n",
       "14  [cédric doumbé meilleur combattant français......  \n",
       "15  [ahah gros mytho, samuel eto'o mytho ,, etoo g...  \n",
       "16  [3 camerounais fiere d'etre camerounais, fière...  \n",
       "17  [super interview bienveillante intervenants qu...  \n",
       "18  [1:01:55- 1:03:35 meilleure partie vidéo clair...  \n",
       "19  [sais communauté ; regardé interview samuel et...  \n",
       "20  [émission passe quelle chaîne ? date prochaine...  \n",
       "21  [aime bougheraba coup langue morte, latin lang...  \n",
       "22  [samuel eto’o trop. homme n’as jamais stress n...  \n",
       "23  [redouane surcoté, arreter l'inviter partout, ...  \n",
       "24  [belle émission aurélien tshuameni a magistral...  \n",
       "25  [arrêtez the bridge anglais ! regardez states ...  \n",
       "26  [meilleurs combattants français c’est salahdin...  \n",
       "27  [9:46 l'anecdote fausse, camers obligé fala c’...  \n",
       "28  [samuel eto’o personnage futuriste tellement a...  \n",
       "29  [meilleurs font erreurs . parce n'es meilleur ...  \n",
       "30  [c’est fou eto’o inventer anecdotes n’a lucidi...  \n",
       "31  [interview qualité, rendu compte c’était fin t...  \n",
       "32  [samuel eto'o goat, supporter l'inter remercie...  \n",
       "33  [chapeau bas aurélien a masterclass!, eto'o ém...  \n",
       "34  [neuer lobbe sadio mane, prochaine invité invi...  \n",
       "35  [magnifique. merçi production, aimé l'émission...  \n",
       "36  [big samu l'afrique vrai! vachement kiffant in...  \n",
       "37  [cédric mec vraie plaie ... connaît l'art rire...  "
      ]
     },
     "execution_count": 99,
     "metadata": {},
     "output_type": "execute_result"
    }
   ],
   "source": [
    "topic_model.get_topic_info()"
   ]
  },
  {
   "cell_type": "code",
   "execution_count": 73,
   "metadata": {},
   "outputs": [
    {
     "data": {
      "application/vnd.plotly.v1+json": {
       "config": {
        "plotlyServerURL": "https://plot.ly"
       },
       "data": [
        {
         "marker": {
          "color": "#D55E00"
         },
         "orientation": "h",
         "type": "bar",
         "x": [
          0.021097778799160225,
          0.021097778799160225,
          0.024441668880510567,
          0.027185556032456964,
          0.03621606183627249,
          0.038726796731345645,
          0.038813465489671455,
          0.04148420944280028,
          0.04215838549138638,
          0.04798830475310132
         ],
         "xaxis": "x",
         "y": [
          "première mi temps  ",
          "première mi  ",
          "menteur  ",
          "match  ",
          "triplé  ",
          "mi temps  ",
          "temps  ",
          "mi  ",
          "jamais  ",
          "inter  "
         ],
         "yaxis": "y"
        },
        {
         "marker": {
          "color": "#0072B2"
         },
         "orientation": "h",
         "type": "bar",
         "x": [
          0.02051265319675145,
          0.02051265319675145,
          0.02051265319675145,
          0.021468078386649145,
          0.026203441268557004,
          0.027313859607567836,
          0.028746964929541267,
          0.028746964929541267,
          0.03643839510631158,
          0.09434060609593174
         ],
         "xaxis": "x2",
         "y": [
          "abuse  ",
          "tue  ",
          "samuel abuse  ",
          "samuel etoo  ",
          "00  ",
          "samuel samuel  ",
          "oh samuel  ",
          "oh  ",
          "02  ",
          "samuel  "
         ],
         "yaxis": "y2"
        },
        {
         "marker": {
          "color": "#CC79A7"
         },
         "orientation": "h",
         "type": "bar",
         "x": [
          0.013082052074233234,
          0.013861432604206607,
          0.013906883523221322,
          0.013906883523221322,
          0.014554629414677384,
          0.015786881101419667,
          0.016687003757966917,
          0.01755039257756444,
          0.01821263082031722,
          0.01950773590795555
         ],
         "xaxis": "x3",
         "y": [
          "grand  ",
          "était  ",
          "finit  ",
          "rappelle  ",
          "quelle  ",
          "compte  ",
          "redouane  ",
          "émission  ",
          "tellement  ",
          "ça  "
         ],
         "yaxis": "y3"
        },
        {
         "marker": {
          "color": "#E69F00"
         },
         "orientation": "h",
         "type": "bar",
         "x": [
          0.01991210791859497,
          0.02014363709659721,
          0.021191635378969544,
          0.021851087686054267,
          0.022899283612425752,
          0.022997571943633013,
          0.026167106239981676,
          0.029723778078641443,
          0.03243396081546704,
          0.08645914392862444
         ],
         "xaxis": "x4",
         "y": [
          "parole  ",
          "bravo  ",
          "après  ",
          "journalisme  ",
          "une  ",
          "job  ",
          "journaliste  ",
          "aurelien  ",
          "bon  ",
          "aurélien  "
         ],
         "yaxis": "y4"
        },
        {
         "marker": {
          "color": "#56B4E9"
         },
         "orientation": "h",
         "type": "bar",
         "x": [
          0.014267979295729519,
          0.021013558600874463,
          0.022195976714504517,
          0.022195976714504517,
          0.023714900910390888,
          0.025369627073124894,
          0.027469547312321464,
          0.02767595680704534,
          0.030559629564925136,
          0.03689953100577178
         ],
         "xaxis": "x5",
         "y": [
          "2000  ",
          "2002  ",
          "gagner coupe  ",
          "gagner coupe monde  ",
          "équipe  ",
          "gagner  ",
          "monde  ",
          "coupe monde  ",
          "coupe  ",
          "cameroun  "
         ],
         "yaxis": "y5"
        }
       ],
       "layout": {
        "annotations": [
         {
          "font": {
           "size": 16
          },
          "showarrow": false,
          "text": "Topic 1",
          "x": 0.0875,
          "xanchor": "center",
          "xref": "paper",
          "y": 1,
          "yanchor": "bottom",
          "yref": "paper"
         },
         {
          "font": {
           "size": 16
          },
          "showarrow": false,
          "text": "Topic 2",
          "x": 0.36250000000000004,
          "xanchor": "center",
          "xref": "paper",
          "y": 1,
          "yanchor": "bottom",
          "yref": "paper"
         },
         {
          "font": {
           "size": 16
          },
          "showarrow": false,
          "text": "Topic 3",
          "x": 0.6375000000000001,
          "xanchor": "center",
          "xref": "paper",
          "y": 1,
          "yanchor": "bottom",
          "yref": "paper"
         },
         {
          "font": {
           "size": 16
          },
          "showarrow": false,
          "text": "Topic 4",
          "x": 0.9125,
          "xanchor": "center",
          "xref": "paper",
          "y": 1,
          "yanchor": "bottom",
          "yref": "paper"
         },
         {
          "font": {
           "size": 16
          },
          "showarrow": false,
          "text": "Topic 5",
          "x": 0.0875,
          "xanchor": "center",
          "xref": "paper",
          "y": 0.4,
          "yanchor": "bottom",
          "yref": "paper"
         }
        ],
        "height": 600,
        "hoverlabel": {
         "bgcolor": "white",
         "font": {
          "family": "Rockwell",
          "size": 16
         }
        },
        "showlegend": false,
        "template": {
         "data": {
          "bar": [
           {
            "error_x": {
             "color": "#2a3f5f"
            },
            "error_y": {
             "color": "#2a3f5f"
            },
            "marker": {
             "line": {
              "color": "white",
              "width": 0.5
             },
             "pattern": {
              "fillmode": "overlay",
              "size": 10,
              "solidity": 0.2
             }
            },
            "type": "bar"
           }
          ],
          "barpolar": [
           {
            "marker": {
             "line": {
              "color": "white",
              "width": 0.5
             },
             "pattern": {
              "fillmode": "overlay",
              "size": 10,
              "solidity": 0.2
             }
            },
            "type": "barpolar"
           }
          ],
          "carpet": [
           {
            "aaxis": {
             "endlinecolor": "#2a3f5f",
             "gridcolor": "#C8D4E3",
             "linecolor": "#C8D4E3",
             "minorgridcolor": "#C8D4E3",
             "startlinecolor": "#2a3f5f"
            },
            "baxis": {
             "endlinecolor": "#2a3f5f",
             "gridcolor": "#C8D4E3",
             "linecolor": "#C8D4E3",
             "minorgridcolor": "#C8D4E3",
             "startlinecolor": "#2a3f5f"
            },
            "type": "carpet"
           }
          ],
          "choropleth": [
           {
            "colorbar": {
             "outlinewidth": 0,
             "ticks": ""
            },
            "type": "choropleth"
           }
          ],
          "contour": [
           {
            "colorbar": {
             "outlinewidth": 0,
             "ticks": ""
            },
            "colorscale": [
             [
              0,
              "#0d0887"
             ],
             [
              0.1111111111111111,
              "#46039f"
             ],
             [
              0.2222222222222222,
              "#7201a8"
             ],
             [
              0.3333333333333333,
              "#9c179e"
             ],
             [
              0.4444444444444444,
              "#bd3786"
             ],
             [
              0.5555555555555556,
              "#d8576b"
             ],
             [
              0.6666666666666666,
              "#ed7953"
             ],
             [
              0.7777777777777778,
              "#fb9f3a"
             ],
             [
              0.8888888888888888,
              "#fdca26"
             ],
             [
              1,
              "#f0f921"
             ]
            ],
            "type": "contour"
           }
          ],
          "contourcarpet": [
           {
            "colorbar": {
             "outlinewidth": 0,
             "ticks": ""
            },
            "type": "contourcarpet"
           }
          ],
          "heatmap": [
           {
            "colorbar": {
             "outlinewidth": 0,
             "ticks": ""
            },
            "colorscale": [
             [
              0,
              "#0d0887"
             ],
             [
              0.1111111111111111,
              "#46039f"
             ],
             [
              0.2222222222222222,
              "#7201a8"
             ],
             [
              0.3333333333333333,
              "#9c179e"
             ],
             [
              0.4444444444444444,
              "#bd3786"
             ],
             [
              0.5555555555555556,
              "#d8576b"
             ],
             [
              0.6666666666666666,
              "#ed7953"
             ],
             [
              0.7777777777777778,
              "#fb9f3a"
             ],
             [
              0.8888888888888888,
              "#fdca26"
             ],
             [
              1,
              "#f0f921"
             ]
            ],
            "type": "heatmap"
           }
          ],
          "heatmapgl": [
           {
            "colorbar": {
             "outlinewidth": 0,
             "ticks": ""
            },
            "colorscale": [
             [
              0,
              "#0d0887"
             ],
             [
              0.1111111111111111,
              "#46039f"
             ],
             [
              0.2222222222222222,
              "#7201a8"
             ],
             [
              0.3333333333333333,
              "#9c179e"
             ],
             [
              0.4444444444444444,
              "#bd3786"
             ],
             [
              0.5555555555555556,
              "#d8576b"
             ],
             [
              0.6666666666666666,
              "#ed7953"
             ],
             [
              0.7777777777777778,
              "#fb9f3a"
             ],
             [
              0.8888888888888888,
              "#fdca26"
             ],
             [
              1,
              "#f0f921"
             ]
            ],
            "type": "heatmapgl"
           }
          ],
          "histogram": [
           {
            "marker": {
             "pattern": {
              "fillmode": "overlay",
              "size": 10,
              "solidity": 0.2
             }
            },
            "type": "histogram"
           }
          ],
          "histogram2d": [
           {
            "colorbar": {
             "outlinewidth": 0,
             "ticks": ""
            },
            "colorscale": [
             [
              0,
              "#0d0887"
             ],
             [
              0.1111111111111111,
              "#46039f"
             ],
             [
              0.2222222222222222,
              "#7201a8"
             ],
             [
              0.3333333333333333,
              "#9c179e"
             ],
             [
              0.4444444444444444,
              "#bd3786"
             ],
             [
              0.5555555555555556,
              "#d8576b"
             ],
             [
              0.6666666666666666,
              "#ed7953"
             ],
             [
              0.7777777777777778,
              "#fb9f3a"
             ],
             [
              0.8888888888888888,
              "#fdca26"
             ],
             [
              1,
              "#f0f921"
             ]
            ],
            "type": "histogram2d"
           }
          ],
          "histogram2dcontour": [
           {
            "colorbar": {
             "outlinewidth": 0,
             "ticks": ""
            },
            "colorscale": [
             [
              0,
              "#0d0887"
             ],
             [
              0.1111111111111111,
              "#46039f"
             ],
             [
              0.2222222222222222,
              "#7201a8"
             ],
             [
              0.3333333333333333,
              "#9c179e"
             ],
             [
              0.4444444444444444,
              "#bd3786"
             ],
             [
              0.5555555555555556,
              "#d8576b"
             ],
             [
              0.6666666666666666,
              "#ed7953"
             ],
             [
              0.7777777777777778,
              "#fb9f3a"
             ],
             [
              0.8888888888888888,
              "#fdca26"
             ],
             [
              1,
              "#f0f921"
             ]
            ],
            "type": "histogram2dcontour"
           }
          ],
          "mesh3d": [
           {
            "colorbar": {
             "outlinewidth": 0,
             "ticks": ""
            },
            "type": "mesh3d"
           }
          ],
          "parcoords": [
           {
            "line": {
             "colorbar": {
              "outlinewidth": 0,
              "ticks": ""
             }
            },
            "type": "parcoords"
           }
          ],
          "pie": [
           {
            "automargin": true,
            "type": "pie"
           }
          ],
          "scatter": [
           {
            "fillpattern": {
             "fillmode": "overlay",
             "size": 10,
             "solidity": 0.2
            },
            "type": "scatter"
           }
          ],
          "scatter3d": [
           {
            "line": {
             "colorbar": {
              "outlinewidth": 0,
              "ticks": ""
             }
            },
            "marker": {
             "colorbar": {
              "outlinewidth": 0,
              "ticks": ""
             }
            },
            "type": "scatter3d"
           }
          ],
          "scattercarpet": [
           {
            "marker": {
             "colorbar": {
              "outlinewidth": 0,
              "ticks": ""
             }
            },
            "type": "scattercarpet"
           }
          ],
          "scattergeo": [
           {
            "marker": {
             "colorbar": {
              "outlinewidth": 0,
              "ticks": ""
             }
            },
            "type": "scattergeo"
           }
          ],
          "scattergl": [
           {
            "marker": {
             "colorbar": {
              "outlinewidth": 0,
              "ticks": ""
             }
            },
            "type": "scattergl"
           }
          ],
          "scattermapbox": [
           {
            "marker": {
             "colorbar": {
              "outlinewidth": 0,
              "ticks": ""
             }
            },
            "type": "scattermapbox"
           }
          ],
          "scatterpolar": [
           {
            "marker": {
             "colorbar": {
              "outlinewidth": 0,
              "ticks": ""
             }
            },
            "type": "scatterpolar"
           }
          ],
          "scatterpolargl": [
           {
            "marker": {
             "colorbar": {
              "outlinewidth": 0,
              "ticks": ""
             }
            },
            "type": "scatterpolargl"
           }
          ],
          "scatterternary": [
           {
            "marker": {
             "colorbar": {
              "outlinewidth": 0,
              "ticks": ""
             }
            },
            "type": "scatterternary"
           }
          ],
          "surface": [
           {
            "colorbar": {
             "outlinewidth": 0,
             "ticks": ""
            },
            "colorscale": [
             [
              0,
              "#0d0887"
             ],
             [
              0.1111111111111111,
              "#46039f"
             ],
             [
              0.2222222222222222,
              "#7201a8"
             ],
             [
              0.3333333333333333,
              "#9c179e"
             ],
             [
              0.4444444444444444,
              "#bd3786"
             ],
             [
              0.5555555555555556,
              "#d8576b"
             ],
             [
              0.6666666666666666,
              "#ed7953"
             ],
             [
              0.7777777777777778,
              "#fb9f3a"
             ],
             [
              0.8888888888888888,
              "#fdca26"
             ],
             [
              1,
              "#f0f921"
             ]
            ],
            "type": "surface"
           }
          ],
          "table": [
           {
            "cells": {
             "fill": {
              "color": "#EBF0F8"
             },
             "line": {
              "color": "white"
             }
            },
            "header": {
             "fill": {
              "color": "#C8D4E3"
             },
             "line": {
              "color": "white"
             }
            },
            "type": "table"
           }
          ]
         },
         "layout": {
          "annotationdefaults": {
           "arrowcolor": "#2a3f5f",
           "arrowhead": 0,
           "arrowwidth": 1
          },
          "autotypenumbers": "strict",
          "coloraxis": {
           "colorbar": {
            "outlinewidth": 0,
            "ticks": ""
           }
          },
          "colorscale": {
           "diverging": [
            [
             0,
             "#8e0152"
            ],
            [
             0.1,
             "#c51b7d"
            ],
            [
             0.2,
             "#de77ae"
            ],
            [
             0.3,
             "#f1b6da"
            ],
            [
             0.4,
             "#fde0ef"
            ],
            [
             0.5,
             "#f7f7f7"
            ],
            [
             0.6,
             "#e6f5d0"
            ],
            [
             0.7,
             "#b8e186"
            ],
            [
             0.8,
             "#7fbc41"
            ],
            [
             0.9,
             "#4d9221"
            ],
            [
             1,
             "#276419"
            ]
           ],
           "sequential": [
            [
             0,
             "#0d0887"
            ],
            [
             0.1111111111111111,
             "#46039f"
            ],
            [
             0.2222222222222222,
             "#7201a8"
            ],
            [
             0.3333333333333333,
             "#9c179e"
            ],
            [
             0.4444444444444444,
             "#bd3786"
            ],
            [
             0.5555555555555556,
             "#d8576b"
            ],
            [
             0.6666666666666666,
             "#ed7953"
            ],
            [
             0.7777777777777778,
             "#fb9f3a"
            ],
            [
             0.8888888888888888,
             "#fdca26"
            ],
            [
             1,
             "#f0f921"
            ]
           ],
           "sequentialminus": [
            [
             0,
             "#0d0887"
            ],
            [
             0.1111111111111111,
             "#46039f"
            ],
            [
             0.2222222222222222,
             "#7201a8"
            ],
            [
             0.3333333333333333,
             "#9c179e"
            ],
            [
             0.4444444444444444,
             "#bd3786"
            ],
            [
             0.5555555555555556,
             "#d8576b"
            ],
            [
             0.6666666666666666,
             "#ed7953"
            ],
            [
             0.7777777777777778,
             "#fb9f3a"
            ],
            [
             0.8888888888888888,
             "#fdca26"
            ],
            [
             1,
             "#f0f921"
            ]
           ]
          },
          "colorway": [
           "#636efa",
           "#EF553B",
           "#00cc96",
           "#ab63fa",
           "#FFA15A",
           "#19d3f3",
           "#FF6692",
           "#B6E880",
           "#FF97FF",
           "#FECB52"
          ],
          "font": {
           "color": "#2a3f5f"
          },
          "geo": {
           "bgcolor": "white",
           "lakecolor": "white",
           "landcolor": "white",
           "showlakes": true,
           "showland": true,
           "subunitcolor": "#C8D4E3"
          },
          "hoverlabel": {
           "align": "left"
          },
          "hovermode": "closest",
          "mapbox": {
           "style": "light"
          },
          "paper_bgcolor": "white",
          "plot_bgcolor": "white",
          "polar": {
           "angularaxis": {
            "gridcolor": "#EBF0F8",
            "linecolor": "#EBF0F8",
            "ticks": ""
           },
           "bgcolor": "white",
           "radialaxis": {
            "gridcolor": "#EBF0F8",
            "linecolor": "#EBF0F8",
            "ticks": ""
           }
          },
          "scene": {
           "xaxis": {
            "backgroundcolor": "white",
            "gridcolor": "#DFE8F3",
            "gridwidth": 2,
            "linecolor": "#EBF0F8",
            "showbackground": true,
            "ticks": "",
            "zerolinecolor": "#EBF0F8"
           },
           "yaxis": {
            "backgroundcolor": "white",
            "gridcolor": "#DFE8F3",
            "gridwidth": 2,
            "linecolor": "#EBF0F8",
            "showbackground": true,
            "ticks": "",
            "zerolinecolor": "#EBF0F8"
           },
           "zaxis": {
            "backgroundcolor": "white",
            "gridcolor": "#DFE8F3",
            "gridwidth": 2,
            "linecolor": "#EBF0F8",
            "showbackground": true,
            "ticks": "",
            "zerolinecolor": "#EBF0F8"
           }
          },
          "shapedefaults": {
           "line": {
            "color": "#2a3f5f"
           }
          },
          "ternary": {
           "aaxis": {
            "gridcolor": "#DFE8F3",
            "linecolor": "#A2B1C6",
            "ticks": ""
           },
           "baxis": {
            "gridcolor": "#DFE8F3",
            "linecolor": "#A2B1C6",
            "ticks": ""
           },
           "bgcolor": "white",
           "caxis": {
            "gridcolor": "#DFE8F3",
            "linecolor": "#A2B1C6",
            "ticks": ""
           }
          },
          "title": {
           "x": 0.05
          },
          "xaxis": {
           "automargin": true,
           "gridcolor": "#EBF0F8",
           "linecolor": "#EBF0F8",
           "ticks": "",
           "title": {
            "standoff": 15
           },
           "zerolinecolor": "#EBF0F8",
           "zerolinewidth": 2
          },
          "yaxis": {
           "automargin": true,
           "gridcolor": "#EBF0F8",
           "linecolor": "#EBF0F8",
           "ticks": "",
           "title": {
            "standoff": 15
           },
           "zerolinecolor": "#EBF0F8",
           "zerolinewidth": 2
          }
         }
        },
        "title": {
         "font": {
          "color": "Black",
          "size": 22
         },
         "text": "Topic Word Scores",
         "x": 0.5,
         "xanchor": "center",
         "yanchor": "top"
        },
        "width": 1200,
        "xaxis": {
         "anchor": "y",
         "domain": [
          0,
          0.175
         ],
         "showgrid": true
        },
        "xaxis2": {
         "anchor": "y2",
         "domain": [
          0.275,
          0.45
         ],
         "showgrid": true
        },
        "xaxis3": {
         "anchor": "y3",
         "domain": [
          0.55,
          0.7250000000000001
         ],
         "showgrid": true
        },
        "xaxis4": {
         "anchor": "y4",
         "domain": [
          0.825,
          1
         ],
         "showgrid": true
        },
        "xaxis5": {
         "anchor": "y5",
         "domain": [
          0,
          0.175
         ],
         "showgrid": true
        },
        "xaxis6": {
         "anchor": "y6",
         "domain": [
          0.275,
          0.45
         ],
         "showgrid": true
        },
        "xaxis7": {
         "anchor": "y7",
         "domain": [
          0.55,
          0.7250000000000001
         ],
         "showgrid": true
        },
        "xaxis8": {
         "anchor": "y8",
         "domain": [
          0.825,
          1
         ],
         "showgrid": true
        },
        "yaxis": {
         "anchor": "x",
         "domain": [
          0.6000000000000001,
          1
         ],
         "showgrid": true
        },
        "yaxis2": {
         "anchor": "x2",
         "domain": [
          0.6000000000000001,
          1
         ],
         "showgrid": true
        },
        "yaxis3": {
         "anchor": "x3",
         "domain": [
          0.6000000000000001,
          1
         ],
         "showgrid": true
        },
        "yaxis4": {
         "anchor": "x4",
         "domain": [
          0.6000000000000001,
          1
         ],
         "showgrid": true
        },
        "yaxis5": {
         "anchor": "x5",
         "domain": [
          0,
          0.4
         ],
         "showgrid": true
        },
        "yaxis6": {
         "anchor": "x6",
         "domain": [
          0,
          0.4
         ],
         "showgrid": true
        },
        "yaxis7": {
         "anchor": "x7",
         "domain": [
          0,
          0.4
         ],
         "showgrid": true
        },
        "yaxis8": {
         "anchor": "x8",
         "domain": [
          0,
          0.4
         ],
         "showgrid": true
        }
       }
      }
     },
     "metadata": {},
     "output_type": "display_data"
    }
   ],
   "source": [
    "topic_model.visualize_barchart(n_words=10, topics=[1,2,3,4,5, ], height=300, width=300)"
   ]
  },
  {
   "cell_type": "code",
   "execution_count": 74,
   "metadata": {},
   "outputs": [
    {
     "data": {
      "text/plain": [
       "array([0.        , 0.94156988, 0.71052478, ..., 1.        , 0.71416397,\n",
       "       0.        ])"
      ]
     },
     "execution_count": 74,
     "metadata": {},
     "output_type": "execute_result"
    }
   ],
   "source": [
    "probs"
   ]
  },
  {
   "cell_type": "code",
   "execution_count": 40,
   "metadata": {},
   "outputs": [
    {
     "data": {
      "application/vnd.plotly.v1+json": {
       "config": {
        "plotlyServerURL": "https://plot.ly"
       },
       "data": [
        {
         "coloraxis": "coloraxis",
         "hovertemplate": "x: %{x}<br>y: %{y}<br>Similarity Score: %{z}<extra></extra>",
         "name": "0",
         "type": "heatmap",
         "x": [
          "0_samuel eto_samuel_eto",
          "1_travail_redouane_up",
          "2_tchouameni_bon présentate...",
          "3_inter_jamais_mi",
          "4_mort_excellent_merci exce...",
          "5_mytho_samuel mytho_prédat...",
          "6_eto_touche eto_eto eto co...",
          "7_eto eto_eto_eto eto eto",
          "8_interview_réunion_belle i...",
          "9_combattant_cédric_meilleu...",
          "10_orh samuel_orh_samuel orh",
          "11_sujets_parler_écouter",
          "12_émission_super émission_...",
          "13_samuel_samuel ohh samuel...",
          "14_02_02 53_53",
          "15_cameroun_coupe_coupe monde",
          "16_aurélien_aurelien_job",
          "17_camerounais_cameroun_fière",
          "18_vidéo_afrique_visionnaire",
          "19_mike_mike maignan_maignan",
          "20_afrique_samuel eto_samuel",
          "21_vidéo_ai_excellent",
          "22_oh samuel_oh_samuel oh s...",
          "23_02_samuel 02_00",
          "24_2006_barca_ballon or",
          "25_joueur_ça_après",
          "26_ohhhhr_ohhhhr samuel_sam...",
          "27_fou_eto fou_sport",
          "28_rappelle_raconter_marrant",
          "29_légende eto_légende_la l...",
          "30_aurélien_journaliste_bon",
          "31_admirable_blanc_vu",
          "32_adore_samuel_aurélien",
          "33_parle_écouter eto sait_p...",
          "34_fausse_mentir_anecdote",
          "35_baki_moins_terrain",
          "36_encore_ensuite_attends",
          "37_ngambé_doumbé_mieux orteil",
          "38_masterclass_charisme_eto...",
          "39_the bridge_bridge_the",
          "40_afrique_africains_mental...",
          "41_samuellll_ohhhh_orrrrrrr...",
          "42_francais_humoriste_meill...",
          "43_erreurs_font erreurs_mei...",
          "44_merci_stars_merci rien",
          "45_taff_tchouameni_après",
          "46_eto bonne_samuel eto bon...",
          "47_samuel etoo_etoo_merci s...",
          "48_redouane_vidéo quoi mont...",
          "49_تشاد__",
          "50_régal_compte_était",
          "51_papa eto_we love_we",
          "52_confiance_assurance_inte..."
         ],
         "xaxis": "x",
         "y": [
          "0_samuel eto_samuel_eto",
          "1_travail_redouane_up",
          "2_tchouameni_bon présentate...",
          "3_inter_jamais_mi",
          "4_mort_excellent_merci exce...",
          "5_mytho_samuel mytho_prédat...",
          "6_eto_touche eto_eto eto co...",
          "7_eto eto_eto_eto eto eto",
          "8_interview_réunion_belle i...",
          "9_combattant_cédric_meilleu...",
          "10_orh samuel_orh_samuel orh",
          "11_sujets_parler_écouter",
          "12_émission_super émission_...",
          "13_samuel_samuel ohh samuel...",
          "14_02_02 53_53",
          "15_cameroun_coupe_coupe monde",
          "16_aurélien_aurelien_job",
          "17_camerounais_cameroun_fière",
          "18_vidéo_afrique_visionnaire",
          "19_mike_mike maignan_maignan",
          "20_afrique_samuel eto_samuel",
          "21_vidéo_ai_excellent",
          "22_oh samuel_oh_samuel oh s...",
          "23_02_samuel 02_00",
          "24_2006_barca_ballon or",
          "25_joueur_ça_après",
          "26_ohhhhr_ohhhhr samuel_sam...",
          "27_fou_eto fou_sport",
          "28_rappelle_raconter_marrant",
          "29_légende eto_légende_la l...",
          "30_aurélien_journaliste_bon",
          "31_admirable_blanc_vu",
          "32_adore_samuel_aurélien",
          "33_parle_écouter eto sait_p...",
          "34_fausse_mentir_anecdote",
          "35_baki_moins_terrain",
          "36_encore_ensuite_attends",
          "37_ngambé_doumbé_mieux orteil",
          "38_masterclass_charisme_eto...",
          "39_the bridge_bridge_the",
          "40_afrique_africains_mental...",
          "41_samuellll_ohhhh_orrrrrrr...",
          "42_francais_humoriste_meill...",
          "43_erreurs_font erreurs_mei...",
          "44_merci_stars_merci rien",
          "45_taff_tchouameni_après",
          "46_eto bonne_samuel eto bon...",
          "47_samuel etoo_etoo_merci s...",
          "48_redouane_vidéo quoi mont...",
          "49_تشاد__",
          "50_régal_compte_était",
          "51_papa eto_we love_we",
          "52_confiance_assurance_inte..."
         ],
         "yaxis": "y",
         "z": [
          [
           1.000000238418579,
           0.05775843560695648,
           0.25161606073379517,
           0.4488932490348816,
           0.039545007050037384,
           0.4095672369003296,
           0.606493353843689,
           0.5441194772720337,
           0.23724934458732605,
           0.20861589908599854,
           0.7134518623352051,
           0.12994854152202606,
           0.07807905972003937,
           0.7253040671348572,
           0.08861325681209564,
           0.3393152058124542,
           0.31417325139045715,
           0.25455260276794434,
           0.39424562454223633,
           0.38444820046424866,
           0.8365885615348816,
           0.2437305450439453,
           0.6897372007369995,
           0.6900805234909058,
           0.5619645118713379,
           0.27021077275276184,
           0.7297723889350891,
           0.5313665270805359,
           0.12063060700893402,
           0.4901394546031952,
           0.24381205439567566,
           0.3213436007499695,
           0.6691880226135254,
           0.29703718423843384,
           0.08538050949573517,
           0.19688712060451508,
           0.2533981502056122,
           0.2783728837966919,
           0.30925893783569336,
           -0.009224668145179749,
           0.2792980968952179,
           0.3480295240879059,
           0.22676125168800354,
           0.48790237307548523,
           0.1605410873889923,
           0.15393425524234772,
           0.6486893892288208,
           0.8304468989372253,
           0.24612389504909515,
           0.10847114026546478,
           0.15647487342357635,
           0.4736085534095764,
           0.46748217940330505
          ],
          [
           0.05775843560695648,
           0.9999998807907104,
           0.3073696494102478,
           0.15830115973949432,
           0.7838940620422363,
           0.3413333296775818,
           0.35609734058380127,
           0.49852943420410156,
           0.6381772756576538,
           0.21625179052352905,
           0.06403425335884094,
           0.6513429284095764,
           0.47541144490242004,
           0.22369195520877838,
           0.4563025236129761,
           0.04575146734714508,
           0.4310547709465027,
           0.14059822261333466,
           0.46324706077575684,
           0.34708070755004883,
           0.08015002310276031,
           0.5245646834373474,
           0.10844756662845612,
           0.11220179498195648,
           0.1434197723865509,
           0.3743847906589508,
           0.018326323479413986,
           0.3198596239089966,
           0.5218852758407593,
           0.4233095049858093,
           0.43152010440826416,
           0.549195408821106,
           0.12053513526916504,
           0.3231969475746155,
           0.5644980072975159,
           0.4654696583747864,
           0.531341552734375,
           0.3964986801147461,
           0.3600100874900818,
           0.3458840250968933,
           0.38267841935157776,
           0.27396154403686523,
           0.2802267372608185,
           0.10038939863443375,
           0.5364587306976318,
           0.5096893906593323,
           0.3212776184082031,
           0.1459687352180481,
           0.1741015762090683,
           0.5106685161590576,
           0.5107208490371704,
           0.3086048662662506,
           0.46417170763015747
          ],
          [
           0.25161606073379517,
           0.3073696494102478,
           1,
           0.39060139656066895,
           0.19029982388019562,
           0.3226907253265381,
           0.36775729060173035,
           0.42129701375961304,
           0.4030982553958893,
           0.20356635749340057,
           0.12124668806791306,
           0.4309602379798889,
           0.2603151500225067,
           0.15341517329216003,
           0.22981427609920502,
           0.39576685428619385,
           0.3430638611316681,
           0.40791285037994385,
           0.37910252809524536,
           0.4443979859352112,
           0.2551582455635071,
           0.28913357853889465,
           0.0850764811038971,
           0.3093778192996979,
           0.34193098545074463,
           0.39061543345451355,
           0.21702930331230164,
           0.435445636510849,
           0.38605809211730957,
           0.3546482026576996,
           0.4114994704723358,
           0.4568565785884857,
           0.30276283621788025,
           0.43652254343032837,
           0.3681601583957672,
           0.36315810680389404,
           0.4751895070075989,
           0.44713783264160156,
           0.326288640499115,
           0.3430854082107544,
           0.23624610900878906,
           0.3940845727920532,
           0.24347901344299316,
           0.2963765859603882,
           0.34569939970970154,
           0.7382896542549133,
           0.5093753933906555,
           0.352125346660614,
           0.2392062246799469,
           0.1248253732919693,
           0.3551461398601532,
           0.37956804037094116,
           0.35073649883270264
          ],
          [
           0.4488932490348816,
           0.15830115973949432,
           0.39060139656066895,
           1,
           0.04191563278436661,
           0.44099026918411255,
           0.3660051226615906,
           0.3644123375415802,
           0.3912469148635864,
           0.38524219393730164,
           0.24344223737716675,
           0.3447326421737671,
           0.1113797277212143,
           0.31574010848999023,
           0.08948123455047607,
           0.5546277761459351,
           0.2866215705871582,
           0.19726212322711945,
           0.4940839111804962,
           0.4820721745491028,
           0.4824765920639038,
           0.3272446393966675,
           0.20890367031097412,
           0.4087585210800171,
           0.7062931060791016,
           0.6557974815368652,
           0.34483402967453003,
           0.4742770791053772,
           0.3508055806159973,
           0.44524648785591125,
           0.3812488317489624,
           0.4718804955482483,
           0.4332968592643738,
           0.29185256361961365,
           0.3502162992954254,
           0.51352858543396,
           0.4914093017578125,
           0.3300171494483948,
           0.3702135384082794,
           0.19291695952415466,
           0.2581948935985565,
           0.2505173683166504,
           0.3854691684246063,
           0.46387237310409546,
           0.23393654823303223,
           0.41199609637260437,
           0.5586063861846924,
           0.5066456198692322,
           0.3435195982456207,
           -0.003657158464193344,
           0.3582960069179535,
           0.3342636525630951,
           0.46897125244140625
          ],
          [
           0.039545007050037384,
           0.7838940620422363,
           0.19029982388019562,
           0.04191563278436661,
           0.9999998807907104,
           0.23014643788337708,
           0.2726156711578369,
           0.3613499104976654,
           0.3785040080547333,
           0.13372646272182465,
           0.075104258954525,
           0.2964334785938263,
           0.369244247674942,
           0.14662033319473267,
           0.41001245379447937,
           -0.06022975593805313,
           0.25550639629364014,
           0.1743297278881073,
           0.15912823379039764,
           0.1477736234664917,
           0.03015357069671154,
           0.3315636217594147,
           0.11604812741279602,
           0.07819534093141556,
           -0.016022687777876854,
           0.05768248438835144,
           0.0618622861802578,
           0.2005370408296585,
           0.21325045824050903,
           0.2483062744140625,
           0.15286117792129517,
           0.20009703934192657,
           0.02925676666200161,
           0.1630409061908722,
           0.35777127742767334,
           0.10829147696495056,
           0.18122248351573944,
           0.2772083282470703,
           0.17081177234649658,
           0.14117202162742615,
           0.23385050892829895,
           0.21225637197494507,
           0.15657533705234528,
           -0.028919372707605362,
           0.3827695846557617,
           0.20452070236206055,
           0.12355729192495346,
           0.05735046789050102,
           0.12428059428930283,
           0.589653491973877,
           0.24957893788814545,
           0.17780150473117828,
           0.17453578114509583
          ],
          [
           0.4095672369003296,
           0.3413333296775818,
           0.3226907253265381,
           0.44099026918411255,
           0.23014643788337708,
           0.9999998807907104,
           0.46107017993927,
           0.5175138115882874,
           0.4617612361907959,
           0.30048438906669617,
           0.3140331506729126,
           0.3114266097545624,
           0.20718348026275635,
           0.3339323401451111,
           0.18735484778881073,
           0.2111513465642929,
           0.26361364126205444,
           0.26200994849205017,
           0.36101454496383667,
           0.41258054971694946,
           0.40652036666870117,
           0.3062600791454315,
           0.24794980883598328,
           0.398714542388916,
           0.3522926867008209,
           0.32215139269828796,
           0.3862883448600769,
           0.5813859105110168,
           0.2931002378463745,
           0.38405072689056396,
           0.23940947651863098,
           0.4774641990661621,
           0.40059739351272583,
           0.3194083273410797,
           0.4395505487918854,
           0.3188345432281494,
           0.28396421670913696,
           0.49595826864242554,
           0.3169742524623871,
           0.3099157214164734,
           0.34530237317085266,
           0.3297322392463684,
           0.26368725299835205,
           0.2248205542564392,
           0.2586754560470581,
           0.3775255084037781,
           0.4038097858428955,
           0.46448782086372375,
           0.3276418149471283,
           0.18087700009346008,
           0.34957781434059143,
           0.3055829405784607,
           0.4096829891204834
          ],
          [
           0.606493353843689,
           0.35609734058380127,
           0.36775729060173035,
           0.3660051226615906,
           0.2726156711578369,
           0.46107017993927,
           1,
           0.8346958756446838,
           0.43184295296669006,
           0.14229293167591095,
           0.18829494714736938,
           0.34624364972114563,
           0.27829408645629883,
           0.23735319077968597,
           0.1650591492652893,
           0.28061097860336304,
           0.3355802893638611,
           0.30113548040390015,
           0.4392105042934418,
           0.3741244375705719,
           0.6013854146003723,
           0.3214499354362488,
           0.16447892785072327,
           0.2589778006076813,
           0.4180295467376709,
           0.38250598311424255,
           0.2242002785205841,
           0.7521884441375732,
           0.34443095326423645,
           0.6506901383399963,
           0.3253602385520935,
           0.5132330656051636,
           0.28886401653289795,
           0.37819695472717285,
           0.33029040694236755,
           0.3228670060634613,
           0.348613977432251,
           0.37418681383132935,
           0.3082889914512634,
           0.1512168049812317,
           0.5068395733833313,
           0.38796520233154297,
           0.18624627590179443,
           0.38358163833618164,
           0.4131697714328766,
           0.3947339653968811,
           0.514542818069458,
           0.5025253891944885,
           0.29329004883766174,
           0.27056312561035156,
           0.36740589141845703,
           0.6584545373916626,
           0.46429428458213806
          ],
          [
           0.5441194772720337,
           0.49852943420410156,
           0.42129701375961304,
           0.3644123375415802,
           0.3613499104976654,
           0.5175138115882874,
           0.8346958756446838,
           1.0000004768371582,
           0.5047428011894226,
           0.1442638486623764,
           0.21818958222866058,
           0.41857779026031494,
           0.3214643895626068,
           0.27466917037963867,
           0.2842528223991394,
           0.23782378435134888,
           0.3907727003097534,
           0.27531200647354126,
           0.41524189710617065,
           0.41124147176742554,
           0.48157772421836853,
           0.40721675753593445,
           0.20921938121318817,
           0.29450756311416626,
           0.33840328454971313,
           0.3529261648654938,
           0.24683792889118195,
           0.6779437065124512,
           0.368513286113739,
           0.6177766919136047,
           0.3405799865722656,
           0.5404293537139893,
           0.289935827255249,
           0.4288555979728699,
           0.3892727494239807,
           0.34864237904548645,
           0.3716077208518982,
           0.4040452539920807,
           0.32703897356987,
           0.19268859922885895,
           0.4537721872329712,
           0.36067503690719604,
           0.20649121701717377,
           0.36981192231178284,
           0.41335058212280273,
           0.44267207384109497,
           0.5005620121955872,
           0.4277530610561371,
           0.3052240014076233,
           0.3259428143501282,
           0.4304102063179016,
           0.6253019571304321,
           0.45796364545822144
          ],
          [
           0.23724934458732605,
           0.6381772756576538,
           0.4030982553958893,
           0.3912469148635864,
           0.3785040080547333,
           0.4617612361907959,
           0.43184295296669006,
           0.5047428011894226,
           0.9999998807907104,
           0.27330517768859863,
           0.14172427356243134,
           0.7716829180717468,
           0.5018037557601929,
           0.27407366037368774,
           0.3042280375957489,
           0.2256191223859787,
           0.43788206577301025,
           0.2335091233253479,
           0.5933104753494263,
           0.42686113715171814,
           0.2701336145401001,
           0.6120252013206482,
           0.16566932201385498,
           0.2626614570617676,
           0.3559400141239166,
           0.48150327801704407,
           0.158810555934906,
           0.49567335844039917,
           0.6487977504730225,
           0.5058855414390564,
           0.5368374586105347,
           0.6994580030441284,
           0.33229994773864746,
           0.4612482190132141,
           0.6140377521514893,
           0.5843897461891174,
           0.6429608464241028,
           0.4115636348724365,
           0.4773574769496918,
           0.436890572309494,
           0.4723053574562073,
           0.35807591676712036,
           0.3646957576274872,
           0.2288447618484497,
           0.5352956652641296,
           0.6032601594924927,
           0.540270209312439,
           0.3487696349620819,
           0.3126215934753418,
           0.21483281254768372,
           0.6286725997924805,
           0.3472614288330078,
           0.6174786686897278
          ],
          [
           0.20861589908599854,
           0.21625179052352905,
           0.20356635749340057,
           0.38524219393730164,
           0.13372646272182465,
           0.30048438906669617,
           0.14229293167591095,
           0.1442638486623764,
           0.27330517768859863,
           0.9999997615814209,
           0.24742582440376282,
           0.2747487425804138,
           0.14341898262500763,
           0.2861000895500183,
           0.0941392332315445,
           0.2818160057067871,
           0.2457086741924286,
           0.19495534896850586,
           0.40183138847351074,
           0.347201406955719,
           0.31280481815338135,
           0.23827233910560608,
           0.2053333818912506,
           0.33285680413246155,
           0.4507271647453308,
           0.43799304962158203,
           0.3414779305458069,
           0.22863520681858063,
           0.3111957907676697,
           0.27198606729507446,
           0.2853368818759918,
           0.341787189245224,
           0.432283878326416,
           0.19470252096652985,
           0.19753995537757874,
           0.41704919934272766,
           0.3160487711429596,
           0.4657806158065796,
           0.36636438965797424,
           0.3477229177951813,
           0.2896130681037903,
           0.2286805957555771,
           0.4965662658214569,
           0.20271533727645874,
           0.19696947932243347,
           0.26746100187301636,
           0.4202817678451538,
           0.2957783341407776,
           0.2744053900241852,
           0.07710146903991699,
           0.1935569941997528,
           0.16007179021835327,
           0.33234620094299316
          ],
          [
           0.7134518623352051,
           0.06403425335884094,
           0.12124668806791306,
           0.24344223737716675,
           0.075104258954525,
           0.3140331506729126,
           0.18829494714736938,
           0.21818958222866058,
           0.14172427356243134,
           0.24742582440376282,
           1,
           0.027590911835432053,
           0.020639043301343918,
           0.933034360408783,
           0.0817774087190628,
           0.19573646783828735,
           0.2495667040348053,
           0.11810356378555298,
           0.2569853365421295,
           0.27779248356819153,
           0.5876618027687073,
           0.2254408597946167,
           0.9243823289871216,
           0.77461838722229,
           0.37159156799316406,
           0.11970353126525879,
           0.8987523317337036,
           0.2133501023054123,
           0.031421031802892685,
           0.19465404748916626,
           0.1409400999546051,
           0.15361452102661133,
           0.7724668979644775,
           0.1479860544204712,
           -0.0015400853008031845,
           0.08632742613554001,
           0.14674945175647736,
           0.22793981432914734,
           0.25758635997772217,
           0.03960669785737991,
           0.14726927876472473,
           0.3618156909942627,
           0.19637402892112732,
           0.26492732763290405,
           0.08304545283317566,
           0.02999761328101158,
           0.4584680199623108,
           0.6950709223747253,
           0.17137975990772247,
           0.12105006724596024,
           0.07837364077568054,
           0.195328950881958,
           0.26658257842063904
          ],
          [
           0.12994854152202606,
           0.6513429284095764,
           0.4309602379798889,
           0.3447326421737671,
           0.2964334785938263,
           0.3114266097545624,
           0.34624364972114563,
           0.41857779026031494,
           0.7716829180717468,
           0.2747487425804138,
           0.027590911835432053,
           1,
           0.5089936256408691,
           0.2009454071521759,
           0.2383788824081421,
           0.2942425310611725,
           0.44850367307662964,
           0.10568924248218536,
           0.7373006343841553,
           0.5050845742225647,
           0.17324857413768768,
           0.5756871104240417,
           0.03717659413814545,
           0.14087915420532227,
           0.3775078058242798,
           0.6207866072654724,
           0.00527344923466444,
           0.4130607843399048,
           0.8274731636047363,
           0.5110378265380859,
           0.6054521203041077,
           0.7804942727088928,
           0.20377212762832642,
           0.5003589987754822,
           0.6453403234481812,
           0.7700386643409729,
           0.8238303661346436,
           0.43506669998168945,
           0.46929240226745605,
           0.5130654573440552,
           0.3941386342048645,
           0.16448640823364258,
           0.43471112847328186,
           0.3500846028327942,
           0.5100213885307312,
           0.6973048448562622,
           0.6253365278244019,
           0.2856990396976471,
           0.2429860532283783,
           0.1425907015800476,
           0.6751368045806885,
           0.36794301867485046,
           0.6875782608985901
          ],
          [
           0.07807905972003937,
           0.47541144490242004,
           0.2603151500225067,
           0.1113797277212143,
           0.369244247674942,
           0.20718348026275635,
           0.27829408645629883,
           0.3214643895626068,
           0.5018037557601929,
           0.14341898262500763,
           0.020639043301343918,
           0.5089936256408691,
           0.9999998807907104,
           0.06562528759241104,
           0.22026678919792175,
           0.10353737324476242,
           0.25402551889419556,
           0.09315458685159683,
           0.3289583921432495,
           0.22423312067985535,
           0.0879177525639534,
           0.5338104963302612,
           0.011302581988275051,
           0.04999823495745659,
           0.15499188005924225,
           0.2571043372154236,
           -0.01670156419277191,
           0.2596744894981384,
           0.45095834136009216,
           0.2829996943473816,
           0.3807227909564972,
           0.40281522274017334,
           0.07000195980072021,
           0.2568625807762146,
           0.39807525277137756,
           0.2917764186859131,
           0.3702167272567749,
           0.25359490513801575,
           0.23832951486110687,
           0.31265783309936523,
           0.20461159944534302,
           0.1625240296125412,
           0.22247526049613953,
           0.06387251615524292,
           0.44948410987854004,
           0.3268405497074127,
           0.4017865061759949,
           0.10843487828969955,
           0.16134120523929596,
           0.19989816844463348,
           0.49348726868629456,
           0.2955016791820526,
           0.25858741998672485
          ],
          [
           0.7253040671348572,
           0.22369195520877838,
           0.15341517329216003,
           0.31574010848999023,
           0.14662033319473267,
           0.3339323401451111,
           0.23735319077968597,
           0.27466917037963867,
           0.27407366037368774,
           0.2861000895500183,
           0.933034360408783,
           0.2009454071521759,
           0.06562528759241104,
           0.9999997615814209,
           0.1648997813463211,
           0.2685356140136719,
           0.36656057834625244,
           0.14671647548675537,
           0.3993793725967407,
           0.37940603494644165,
           0.619668185710907,
           0.31239286065101624,
           0.9343925714492798,
           0.7820718288421631,
           0.46817100048065186,
           0.2692878842353821,
           0.841227650642395,
           0.2767859101295471,
           0.17412640154361725,
           0.28265270590782166,
           0.2738703191280365,
           0.2877122461795807,
           0.7869276404380798,
           0.21048767864704132,
           0.14012083411216736,
           0.2593417465686798,
           0.32052090764045715,
           0.2825067341327667,
           0.31713947653770447,
           0.09182923287153244,
           0.21469232439994812,
           0.3714146614074707,
           0.28165990114212036,
           0.34625351428985596,
           0.18093140423297882,
           0.1457061767578125,
           0.5461558699607849,
           0.7327820658683777,
           0.2093445360660553,
           0.13040126860141754,
           0.18501704931259155,
           0.27217742800712585,
           0.422971248626709
          ],
          [
           0.08861325681209564,
           0.4563025236129761,
           0.22981427609920502,
           0.08948123455047607,
           0.41001245379447937,
           0.18735484778881073,
           0.1650591492652893,
           0.2842528223991394,
           0.3042280375957489,
           0.0941392332315445,
           0.0817774087190628,
           0.2383788824081421,
           0.22026678919792175,
           0.1648997813463211,
           0.9999998807907104,
           -0.04053178057074547,
           0.2624050974845886,
           0.16932302713394165,
           0.11571400612592697,
           0.2335401177406311,
           0.03898967057466507,
           0.26702263951301575,
           0.17167915403842926,
           0.413149893283844,
           -0.027553308755159378,
           0.048250894993543625,
           0.09671555459499359,
           0.1338115781545639,
           0.2048310935497284,
           0.158063605427742,
           0.16250254213809967,
           0.1974065601825714,
           0.11739183217287064,
           0.08672498911619186,
           0.29808929562568665,
           0.09114213287830353,
           0.17845305800437927,
           0.22389757633209229,
           0.19479519128799438,
           0.11334599554538727,
           0.15435545146465302,
           0.2920345664024353,
           0.10495652258396149,
           0.010427811183035374,
           0.23122301697731018,
           0.2210027575492859,
           0.14194895327091217,
           0.14563581347465515,
           0.2227213829755783,
           0.2699066400527954,
           0.2909129858016968,
           0.10368283092975616,
           0.15285387635231018
          ],
          [
           0.3393152058124542,
           0.04575146734714508,
           0.39576685428619385,
           0.5546277761459351,
           -0.06022975593805313,
           0.2111513465642929,
           0.28061097860336304,
           0.23782378435134888,
           0.2256191223859787,
           0.2818160057067871,
           0.19573646783828735,
           0.2942425310611725,
           0.10353737324476242,
           0.2685356140136719,
           -0.04053178057074547,
           1.000000238418579,
           0.2639824151992798,
           0.5270158052444458,
           0.564960777759552,
           0.3674911856651306,
           0.4855508804321289,
           0.21537500619888306,
           0.1667821854352951,
           0.277582585811615,
           0.6542121171951294,
           0.6393886804580688,
           0.24811014533042908,
           0.36133328080177307,
           0.3426190912723541,
           0.3430759608745575,
           0.3896952271461487,
           0.42563968896865845,
           0.35907310247421265,
           0.23087403178215027,
           0.22338426113128662,
           0.508605420589447,
           0.48444876074790955,
           0.33057162165641785,
           0.2834089696407318,
           0.17795304954051971,
           0.29472893476486206,
           0.16607365012168884,
           0.38208460807800293,
           0.3935771882534027,
           0.16042836010456085,
           0.41792428493499756,
           0.5133291482925415,
           0.3938295841217041,
           0.2991693913936615,
           -0.026125889271497726,
           0.25080540776252747,
           0.3361507058143616,
           0.42558881640434265
          ],
          [
           0.31417325139045715,
           0.4310547709465027,
           0.3430638611316681,
           0.2866215705871582,
           0.25550639629364014,
           0.26361364126205444,
           0.3355802893638611,
           0.3907727003097534,
           0.43788206577301025,
           0.2457086741924286,
           0.2495667040348053,
           0.44850367307662964,
           0.25402551889419556,
           0.36656057834625244,
           0.2624050974845886,
           0.2639824151992798,
           0.9999998807907104,
           0.1617269068956375,
           0.46436864137649536,
           0.35727736353874207,
           0.34133586287498474,
           0.38857877254486084,
           0.2684222459793091,
           0.33823853731155396,
           0.39851319789886475,
           0.3831058144569397,
           0.2373095154762268,
           0.34564244747161865,
           0.35765641927719116,
           0.371938556432724,
           0.7622868418693542,
           0.5236784815788269,
           0.548486590385437,
           0.3817700147628784,
           0.32830584049224854,
           0.4081699848175049,
           0.48754623532295227,
           0.2382034808397293,
           0.2948269844055176,
           0.2953827977180481,
           0.3329275846481323,
           0.3024490773677826,
           0.23324494063854218,
           0.2490236908197403,
           0.41144245862960815,
           0.40398097038269043,
           0.48426148295402527,
           0.3994881212711334,
           0.32839035987854004,
           0.23151320219039917,
           0.35793134570121765,
           0.3449344038963318,
           0.4812620282173157
          ],
          [
           0.25455260276794434,
           0.14059822261333466,
           0.40791285037994385,
           0.19726212322711945,
           0.1743297278881073,
           0.26200994849205017,
           0.30113548040390015,
           0.27531200647354126,
           0.2335091233253479,
           0.19495534896850586,
           0.11810356378555298,
           0.10568924248218536,
           0.09315458685159683,
           0.14671647548675537,
           0.16932302713394165,
           0.5270158052444458,
           0.1617269068956375,
           1.0000001192092896,
           0.2877076268196106,
           0.18203112483024597,
           0.42067933082580566,
           0.06537891924381256,
           0.12689949572086334,
           0.22817575931549072,
           0.2198297679424286,
           0.1456373929977417,
           0.184554785490036,
           0.2696555554866791,
           0.15408183634281158,
           0.1860712319612503,
           0.13709120452404022,
           0.2155577689409256,
           0.208081915974617,
           0.21636611223220825,
           0.1492651104927063,
           0.12035689502954483,
           0.127236008644104,
           0.4205993115901947,
           0.14448070526123047,
           0.10377083718776703,
           0.42811280488967896,
           0.24313893914222717,
           0.2641279101371765,
           0.16170579195022583,
           0.18881207704544067,
           0.30669575929641724,
           0.25622430443763733,
           0.21286576986312866,
           0.3051171898841858,
           0.16284888982772827,
           0.11331626772880554,
           0.2166285216808319,
           0.1619422286748886
          ],
          [
           0.39424562454223633,
           0.46324706077575684,
           0.37910252809524536,
           0.4940839111804962,
           0.15912823379039764,
           0.36101454496383667,
           0.4392105042934418,
           0.41524189710617065,
           0.5933104753494263,
           0.40183138847351074,
           0.2569853365421295,
           0.7373006343841553,
           0.3289583921432495,
           0.3993793725967407,
           0.11571400612592697,
           0.564960777759552,
           0.46436864137649536,
           0.2877076268196106,
           1.0000001192092896,
           0.5540746450424194,
           0.5798672437667847,
           0.5116441249847412,
           0.23364146053791046,
           0.3171142637729645,
           0.6700700521469116,
           0.7349805235862732,
           0.22718697786331177,
           0.46604102849960327,
           0.634631872177124,
           0.6124275922775269,
           0.6195180416107178,
           0.7401908040046692,
           0.41550660133361816,
           0.4123190641403198,
           0.44903069734573364,
           0.7803332209587097,
           0.8145202398300171,
           0.47708120942115784,
           0.5210603475570679,
           0.4107802212238312,
           0.631195068359375,
           0.22755376994609833,
           0.41467052698135376,
           0.4992782175540924,
           0.45008188486099243,
           0.5857479572296143,
           0.7449597716331482,
           0.5099592208862305,
           0.31010860204696655,
           0.0868067592382431,
           0.489209920167923,
           0.47371378540992737,
           0.7324296832084656
          ],
          [
           0.38444820046424866,
           0.34708070755004883,
           0.4443979859352112,
           0.4820721745491028,
           0.1477736234664917,
           0.41258054971694946,
           0.3741244375705719,
           0.41124147176742554,
           0.42686113715171814,
           0.347201406955719,
           0.27779248356819153,
           0.5050845742225647,
           0.22423312067985535,
           0.37940603494644165,
           0.2335401177406311,
           0.3674911856651306,
           0.35727736353874207,
           0.18203112483024597,
           0.5540746450424194,
           0.9999998807907104,
           0.3762437105178833,
           0.3878229558467865,
           0.24751001596450806,
           0.415069043636322,
           0.4335586130619049,
           0.5630367398262024,
           0.3112592399120331,
           0.49740466475486755,
           0.4804915487766266,
           0.403769314289093,
           0.44261813163757324,
           0.628572940826416,
           0.38210535049438477,
           0.30511608719825745,
           0.3630199432373047,
           0.5643415451049805,
           0.6523954272270203,
           0.42171719670295715,
           0.535973310470581,
           0.3380913734436035,
           0.23712413012981415,
           0.13576535880565643,
           0.3448135554790497,
           0.39248910546302795,
           0.4128395915031433,
           0.5401965379714966,
           0.6271111965179443,
           0.49197661876678467,
           0.40446656942367554,
           0.06585332006216049,
           0.3530842363834381,
           0.4773455262184143,
           0.6034935712814331
          ],
          [
           0.8365885615348816,
           0.08015002310276031,
           0.2551582455635071,
           0.4824765920639038,
           0.03015357069671154,
           0.40652036666870117,
           0.6013854146003723,
           0.48157772421836853,
           0.2701336145401001,
           0.31280481815338135,
           0.5876618027687073,
           0.17324857413768768,
           0.0879177525639534,
           0.619668185710907,
           0.03898967057466507,
           0.4855508804321289,
           0.34133586287498474,
           0.42067933082580566,
           0.5798672437667847,
           0.3762437105178833,
           0.9999998807907104,
           0.24669651687145233,
           0.539318859577179,
           0.588667631149292,
           0.6770909428596497,
           0.409911572933197,
           0.6093931794166565,
           0.5335785150527954,
           0.18346461653709412,
           0.5522658824920654,
           0.3040313720703125,
           0.3747221529483795,
           0.6428373456001282,
           0.2731345593929291,
           0.11201737821102142,
           0.30135220289230347,
           0.32878294587135315,
           0.3459241986274719,
           0.2861073315143585,
           0.021831410005688667,
           0.5455529689788818,
           0.36747437715530396,
           0.3021215796470642,
           0.4422307312488556,
           0.20012910664081573,
           0.23484984040260315,
           0.6556776165962219,
           0.7560535073280334,
           0.3097562789916992,
           0.07772241532802582,
           0.14476746320724487,
           0.48805010318756104,
           0.47510385513305664
          ],
          [
           0.2437305450439453,
           0.5245646834373474,
           0.28913357853889465,
           0.3272446393966675,
           0.3315636217594147,
           0.3062600791454315,
           0.3214499354362488,
           0.40721675753593445,
           0.6120252013206482,
           0.23827233910560608,
           0.2254408597946167,
           0.5756871104240417,
           0.5338104963302612,
           0.31239286065101624,
           0.26702263951301575,
           0.21537500619888306,
           0.38857877254486084,
           0.06537891924381256,
           0.5116441249847412,
           0.3878229558467865,
           0.24669651687145233,
           1.0000003576278687,
           0.20779426395893097,
           0.2816513180732727,
           0.3138798475265503,
           0.40549471974372864,
           0.1855149120092392,
           0.36466431617736816,
           0.5001513957977295,
           0.34994271397590637,
           0.43413102626800537,
           0.5813566446304321,
           0.3182981610298157,
           0.2950863242149353,
           0.41292819380760193,
           0.4427209496498108,
           0.5540564656257629,
           0.33148983120918274,
           0.3664840757846832,
           0.3300580680370331,
           0.3058534264564514,
           0.23843765258789062,
           0.27120673656463623,
           0.22536489367485046,
           0.4534117579460144,
           0.43248888850212097,
           0.5196654200553894,
           0.34595799446105957,
           0.29259318113327026,
           0.2444484680891037,
           0.6499876379966736,
           0.3267521560192108,
           0.47066566348075867
          ],
          [
           0.6897372007369995,
           0.10844756662845612,
           0.0850764811038971,
           0.20890367031097412,
           0.11604812741279602,
           0.24794980883598328,
           0.16447892785072327,
           0.20921938121318817,
           0.16566932201385498,
           0.2053333818912506,
           0.9243823289871216,
           0.03717659413814545,
           0.011302581988275051,
           0.9343925714492798,
           0.17167915403842926,
           0.1667821854352951,
           0.2684222459793091,
           0.12689949572086334,
           0.23364146053791046,
           0.24751001596450806,
           0.539318859577179,
           0.20779426395893097,
           1.0000001192092896,
           0.7525577545166016,
           0.30821022391319275,
           0.08746416866779327,
           0.82790207862854,
           0.1646898090839386,
           0.022605054080486298,
           0.16688703000545502,
           0.13700343668460846,
           0.12814942002296448,
           0.7253369688987732,
           0.12068036198616028,
           0.010782560333609581,
           0.07623684406280518,
           0.1435713768005371,
           0.20870080590248108,
           0.2604178190231323,
           0.023772716522216797,
           0.137345552444458,
           0.3106842637062073,
           0.15736708045005798,
           0.2748410701751709,
           0.10118495672941208,
           0.027723655104637146,
           0.4157559871673584,
           0.656101644039154,
           0.1430256962776184,
           0.13682638108730316,
           0.05971423536539078,
           0.18068300187587738,
           0.2696918845176697
          ],
          [
           0.6900805234909058,
           0.11220179498195648,
           0.3093778192996979,
           0.4087585210800171,
           0.07819534093141556,
           0.398714542388916,
           0.2589778006076813,
           0.29450756311416626,
           0.2626614570617676,
           0.33285680413246155,
           0.77461838722229,
           0.14087915420532227,
           0.04999823495745659,
           0.7820718288421631,
           0.413149893283844,
           0.277582585811615,
           0.33823853731155396,
           0.22817575931549072,
           0.3171142637729645,
           0.415069043636322,
           0.588667631149292,
           0.2816513180732727,
           0.7525577545166016,
           0.9999998807907104,
           0.40904009342193604,
           0.22027526795864105,
           0.8514338731765747,
           0.3718857169151306,
           0.15925472974777222,
           0.28246569633483887,
           0.20322692394256592,
           0.2862626910209656,
           0.8268594741821289,
           0.20678916573524475,
           0.14433488249778748,
           0.19350633025169373,
           0.27944764494895935,
           0.2954619824886322,
           0.3092154264450073,
           0.10518405586481094,
           0.1962844729423523,
           0.5504060387611389,
           0.28724658489227295,
           0.3260546028614044,
           0.20871220529079437,
           0.22030100226402283,
           0.5332670211791992,
           0.7313658595085144,
           0.30026403069496155,
           0.11647307127714157,
           0.27047327160835266,
           0.2713419795036316,
           0.36255136132240295
          ],
          [
           0.5619645118713379,
           0.1434197723865509,
           0.34193098545074463,
           0.7062931060791016,
           -0.016022687777876854,
           0.3522926867008209,
           0.4180295467376709,
           0.33840328454971313,
           0.3559400141239166,
           0.4507271647453308,
           0.37159156799316406,
           0.3775078058242798,
           0.15499188005924225,
           0.46817100048065186,
           -0.027553308755159378,
           0.6542121171951294,
           0.39851319789886475,
           0.2198297679424286,
           0.6700700521469116,
           0.4335586130619049,
           0.6770909428596497,
           0.3138798475265503,
           0.30821022391319275,
           0.40904009342193604,
           0.9999997615814209,
           0.7608503699302673,
           0.4187737703323364,
           0.5324273705482483,
           0.3886456787586212,
           0.5297040939331055,
           0.5354414582252502,
           0.5380933880805969,
           0.5502818822860718,
           0.32863059639930725,
           0.2733696699142456,
           0.6073095798492432,
           0.5788535475730896,
           0.3362206220626831,
           0.33404862880706787,
           0.21241602301597595,
           0.3901607394218445,
           0.30616331100463867,
           0.46334409713745117,
           0.47321024537086487,
           0.2442430555820465,
           0.3882753849029541,
           0.6884841322898865,
           0.6257590651512146,
           0.3168242275714874,
           -0.023704608902335167,
           0.3061051666736603,
           0.4387964606285095,
           0.5841749310493469
          ],
          [
           0.27021077275276184,
           0.3743847906589508,
           0.39061543345451355,
           0.6557974815368652,
           0.05768248438835144,
           0.32215139269828796,
           0.38250598311424255,
           0.3529261648654938,
           0.48150327801704407,
           0.43799304962158203,
           0.11970353126525879,
           0.6207866072654724,
           0.2571043372154236,
           0.2692878842353821,
           0.048250894993543625,
           0.6393886804580688,
           0.3831058144569397,
           0.1456373929977417,
           0.7349805235862732,
           0.5630367398262024,
           0.409911572933197,
           0.40549471974372864,
           0.08746416866779327,
           0.22027526795864105,
           0.7608503699302673,
           1.0000003576278687,
           0.1594819724559784,
           0.5210050344467163,
           0.6106565594673157,
           0.5570828318595886,
           0.593793511390686,
           0.7180375456809998,
           0.35011565685272217,
           0.31223830580711365,
           0.4614599943161011,
           0.8192048072814941,
           0.7749013900756836,
           0.3891139328479767,
           0.42003899812698364,
           0.34354424476623535,
           0.3657151758670807,
           0.20641747117042542,
           0.49799245595932007,
           0.42140993475914,
           0.3368127942085266,
           0.6128273010253906,
           0.649728000164032,
           0.4436928629875183,
           0.33967968821525574,
           -0.028605658560991287,
           0.4795514941215515,
           0.4578820466995239,
           0.6647714376449585
          ],
          [
           0.7297723889350891,
           0.018326323479413986,
           0.21702930331230164,
           0.34483402967453003,
           0.0618622861802578,
           0.3862883448600769,
           0.2242002785205841,
           0.24683792889118195,
           0.158810555934906,
           0.3414779305458069,
           0.8987523317337036,
           0.00527344923466444,
           -0.01670156419277191,
           0.841227650642395,
           0.09671555459499359,
           0.24811014533042908,
           0.2373095154762268,
           0.184554785490036,
           0.22718697786331177,
           0.3112592399120331,
           0.6093931794166565,
           0.1855149120092392,
           0.82790207862854,
           0.8514338731765747,
           0.4187737703323364,
           0.1594819724559784,
           0.9999999403953552,
           0.3423466980457306,
           0.04910901561379433,
           0.2462116777896881,
           0.13949541747570038,
           0.172409787774086,
           0.8459995985031128,
           0.1769402176141739,
           0.028190337121486664,
           0.09515230357646942,
           0.14997462928295135,
           0.23307275772094727,
           0.23160287737846375,
           0.03164434805512428,
           0.15682972967624664,
           0.4945675730705261,
           0.29119497537612915,
           0.29866722226142883,
           0.11336156725883484,
           0.0842355415225029,
           0.4868479371070862,
           0.7291524410247803,
           0.20964905619621277,
           0.08912499994039536,
           0.12502115964889526,
           0.2379675656557083,
           0.2844708561897278
          ],
          [
           0.5313665270805359,
           0.3198596239089966,
           0.435445636510849,
           0.4742770791053772,
           0.2005370408296585,
           0.5813859105110168,
           0.7521884441375732,
           0.6779437065124512,
           0.49567335844039917,
           0.22863520681858063,
           0.2133501023054123,
           0.4130607843399048,
           0.2596744894981384,
           0.2767859101295471,
           0.1338115781545639,
           0.36133328080177307,
           0.34564244747161865,
           0.2696555554866791,
           0.46604102849960327,
           0.49740466475486755,
           0.5335785150527954,
           0.36466431617736816,
           0.1646898090839386,
           0.3718857169151306,
           0.5324273705482483,
           0.5210050344467163,
           0.3423466980457306,
           1,
           0.45716598629951477,
           0.6048186421394348,
           0.3976677358150482,
           0.6169247627258301,
           0.4264676570892334,
           0.3915502727031708,
           0.42565542459487915,
           0.4367116093635559,
           0.4680435061454773,
           0.40176862478256226,
           0.2800747752189636,
           0.19293934106826782,
           0.41326189041137695,
           0.43077486753463745,
           0.3374149203300476,
           0.3959504961967468,
           0.3832697868347168,
           0.49728095531463623,
           0.5599714517593384,
           0.6038813591003418,
           0.3582734763622284,
           0.21867702901363373,
           0.4669312536716461,
           0.6263991594314575,
           0.5498561859130859
          ],
          [
           0.12063060700893402,
           0.5218852758407593,
           0.38605809211730957,
           0.3508055806159973,
           0.21325045824050903,
           0.2931002378463745,
           0.34443095326423645,
           0.368513286113739,
           0.6487977504730225,
           0.3111957907676697,
           0.031421031802892685,
           0.8274731636047363,
           0.45095834136009216,
           0.17412640154361725,
           0.2048310935497284,
           0.3426190912723541,
           0.35765641927719116,
           0.15408183634281158,
           0.634631872177124,
           0.4804915487766266,
           0.18346461653709412,
           0.5001513957977295,
           0.022605054080486298,
           0.15925472974777222,
           0.3886456787586212,
           0.6106565594673157,
           0.04910901561379433,
           0.45716598629951477,
           0.9999997615814209,
           0.537892758846283,
           0.5254643559455872,
           0.737324595451355,
           0.22104988992214203,
           0.4567319452762604,
           0.6602861285209656,
           0.7018018960952759,
           0.7245145440101624,
           0.414431095123291,
           0.3969639241695404,
           0.4182594418525696,
           0.3482676148414612,
           0.15730029344558716,
           0.5727018713951111,
           0.31911855936050415,
           0.47438758611679077,
           0.615337610244751,
           0.5849432349205017,
           0.29231634736061096,
           0.31403857469558716,
           0.14602336287498474,
           0.6618828773498535,
           0.392694890499115,
           0.5857502818107605
          ],
          [
           0.4901394546031952,
           0.4233095049858093,
           0.3546482026576996,
           0.44524648785591125,
           0.2483062744140625,
           0.38405072689056396,
           0.6506901383399963,
           0.6177766919136047,
           0.5058855414390564,
           0.27198606729507446,
           0.19465404748916626,
           0.5110378265380859,
           0.2829996943473816,
           0.28265270590782166,
           0.158063605427742,
           0.3430759608745575,
           0.371938556432724,
           0.1860712319612503,
           0.6124275922775269,
           0.403769314289093,
           0.5522658824920654,
           0.34994271397590637,
           0.16688703000545502,
           0.28246569633483887,
           0.5297040939331055,
           0.5570828318595886,
           0.2462116777896881,
           0.6048186421394348,
           0.537892758846283,
           1,
           0.4258909821510315,
           0.5973957180976868,
           0.3371089994907379,
           0.38822588324546814,
           0.44879385828971863,
           0.5001277327537537,
           0.5596237778663635,
           0.3413507342338562,
           0.36989933252334595,
           0.21897274255752563,
           0.4095061421394348,
           0.2892826199531555,
           0.32477641105651855,
           0.3927859663963318,
           0.42965662479400635,
           0.45246779918670654,
           0.58646160364151,
           0.504228413105011,
           0.27164754271507263,
           0.17008325457572937,
           0.44787946343421936,
           0.4942401647567749,
           0.6261711716651917
          ],
          [
           0.24381205439567566,
           0.43152010440826416,
           0.4114994704723358,
           0.3812488317489624,
           0.15286117792129517,
           0.23940947651863098,
           0.3253602385520935,
           0.3405799865722656,
           0.5368374586105347,
           0.2853368818759918,
           0.1409400999546051,
           0.6054521203041077,
           0.3807227909564972,
           0.2738703191280365,
           0.16250254213809967,
           0.3896952271461487,
           0.7622868418693542,
           0.13709120452404022,
           0.6195180416107178,
           0.44261813163757324,
           0.3040313720703125,
           0.43413102626800537,
           0.13700343668460846,
           0.20322692394256592,
           0.5354414582252502,
           0.593793511390686,
           0.13949541747570038,
           0.3976677358150482,
           0.5254643559455872,
           0.4258909821510315,
           0.9999998807907104,
           0.6540669202804565,
           0.4289891719818115,
           0.3792583644390106,
           0.4193999767303467,
           0.6023128032684326,
           0.6796543598175049,
           0.2504308521747589,
           0.4365917444229126,
           0.3591826558113098,
           0.3237666189670563,
           0.22455193102359772,
           0.3538343906402588,
           0.3166778087615967,
           0.42777860164642334,
           0.56646728515625,
           0.6148183345794678,
           0.3521541357040405,
           0.28650012612342834,
           0.10609287023544312,
           0.4341925382614136,
           0.3942660987377167,
           0.5400435328483582
          ],
          [
           0.3213436007499695,
           0.549195408821106,
           0.4568565785884857,
           0.4718804955482483,
           0.20009703934192657,
           0.4774641990661621,
           0.5132330656051636,
           0.5404293537139893,
           0.6994580030441284,
           0.341787189245224,
           0.15361452102661133,
           0.7804942727088928,
           0.40281522274017334,
           0.2877122461795807,
           0.1974065601825714,
           0.42563968896865845,
           0.5236784815788269,
           0.2155577689409256,
           0.7401908040046692,
           0.628572940826416,
           0.3747221529483795,
           0.5813566446304321,
           0.12814942002296448,
           0.2862626910209656,
           0.5380933880805969,
           0.7180375456809998,
           0.172409787774086,
           0.6169247627258301,
           0.737324595451355,
           0.5973957180976868,
           0.6540669202804565,
           1.0000003576278687,
           0.38637176156044006,
           0.50340336561203,
           0.563005268573761,
           0.7724730372428894,
           0.799895703792572,
           0.5074340105056763,
           0.4818257689476013,
           0.46734818816185,
           0.42474737763404846,
           0.3052586615085602,
           0.4729217290878296,
           0.36726731061935425,
           0.5392025113105774,
           0.7053254246711731,
           0.7265981435775757,
           0.4699445962905884,
           0.3703598976135254,
           0.14870841801166534,
           0.6393532752990723,
           0.5099678635597229,
           0.7334346175193787
          ],
          [
           0.6691880226135254,
           0.12053513526916504,
           0.30276283621788025,
           0.4332968592643738,
           0.02925676666200161,
           0.40059739351272583,
           0.28886401653289795,
           0.289935827255249,
           0.33229994773864746,
           0.432283878326416,
           0.7724668979644775,
           0.20377212762832642,
           0.07000195980072021,
           0.7869276404380798,
           0.11739183217287064,
           0.35907310247421265,
           0.548486590385437,
           0.208081915974617,
           0.41550660133361816,
           0.38210535049438477,
           0.6428373456001282,
           0.3182981610298157,
           0.7253369688987732,
           0.8268594741821289,
           0.5502818822860718,
           0.35011565685272217,
           0.8459995985031128,
           0.4264676570892334,
           0.22104988992214203,
           0.3371089994907379,
           0.4289891719818115,
           0.38637176156044006,
           0.9999998807907104,
           0.2921525239944458,
           0.16318494081497192,
           0.2982884347438812,
           0.3642593324184418,
           0.2952072024345398,
           0.3331618309020996,
           0.19048918783664703,
           0.29444628953933716,
           0.5459181070327759,
           0.32220885157585144,
           0.33802330493927,
           0.26314404606819153,
           0.2771638035774231,
           0.582152783870697,
           0.7416772842407227,
           0.3093518614768982,
           0.09689398109912872,
           0.2789822518825531,
           0.3144444227218628,
           0.4269985854625702
          ],
          [
           0.29703718423843384,
           0.3231969475746155,
           0.43652254343032837,
           0.29185256361961365,
           0.1630409061908722,
           0.3194083273410797,
           0.37819695472717285,
           0.4288555979728699,
           0.4612482190132141,
           0.19470252096652985,
           0.1479860544204712,
           0.5003589987754822,
           0.2568625807762146,
           0.21048767864704132,
           0.08672498911619186,
           0.23087403178215027,
           0.3817700147628784,
           0.21636611223220825,
           0.4123190641403198,
           0.30511608719825745,
           0.2731345593929291,
           0.2950863242149353,
           0.12068036198616028,
           0.20678916573524475,
           0.32863059639930725,
           0.31223830580711365,
           0.1769402176141739,
           0.3915502727031708,
           0.4567319452762604,
           0.38822588324546814,
           0.3792583644390106,
           0.50340336561203,
           0.2921525239944458,
           1,
           0.39213478565216064,
           0.40483611822128296,
           0.46317532658576965,
           0.35079512000083923,
           0.3459707200527191,
           0.3929790258407593,
           0.2921566367149353,
           0.2870311141014099,
           0.36813536286354065,
           0.30076155066490173,
           0.41608551144599915,
           0.410282701253891,
           0.4646225571632385,
           0.3273051381111145,
           0.22955496609210968,
           0.17025232315063477,
           0.33445626497268677,
           0.3035414516925812,
           0.4548899829387665
          ],
          [
           0.08538050949573517,
           0.5644980072975159,
           0.3681601583957672,
           0.3502162992954254,
           0.35777127742767334,
           0.4395505487918854,
           0.33029040694236755,
           0.3892727494239807,
           0.6140377521514893,
           0.19753995537757874,
           -0.0015400853008031845,
           0.6453403234481812,
           0.39807525277137756,
           0.14012083411216736,
           0.29808929562568665,
           0.22338426113128662,
           0.32830584049224854,
           0.1492651104927063,
           0.44903069734573364,
           0.3630199432373047,
           0.11201737821102142,
           0.41292819380760193,
           0.010782560333609581,
           0.14433488249778748,
           0.2733696699142456,
           0.4614599943161011,
           0.028190337121486664,
           0.42565542459487915,
           0.6602861285209656,
           0.44879385828971863,
           0.4193999767303467,
           0.563005268573761,
           0.16318494081497192,
           0.39213478565216064,
           1.0000001192092896,
           0.5640348196029663,
           0.5550546646118164,
           0.4026637077331543,
           0.29214879870414734,
           0.32198092341423035,
           0.31418612599372864,
           0.2578950822353363,
           0.391465425491333,
           0.23490288853645325,
           0.37318840622901917,
           0.5561141967773438,
           0.41059526801109314,
           0.2314305454492569,
           0.33597487211227417,
           0.17741703987121582,
           0.555881917476654,
           0.24181218445301056,
           0.5369260907173157
          ],
          [
           0.19688712060451508,
           0.4654696583747864,
           0.36315810680389404,
           0.51352858543396,
           0.10829147696495056,
           0.3188345432281494,
           0.3228670060634613,
           0.34864237904548645,
           0.5843897461891174,
           0.41704919934272766,
           0.08632742613554001,
           0.7700386643409729,
           0.2917764186859131,
           0.2593417465686798,
           0.09114213287830353,
           0.508605420589447,
           0.4081699848175049,
           0.12035689502954483,
           0.7803332209587097,
           0.5643415451049805,
           0.30135220289230347,
           0.4427209496498108,
           0.07623684406280518,
           0.19350633025169373,
           0.6073095798492432,
           0.8192048072814941,
           0.09515230357646942,
           0.4367116093635559,
           0.7018018960952759,
           0.5001277327537537,
           0.6023128032684326,
           0.7724730372428894,
           0.2982884347438812,
           0.40483611822128296,
           0.5640348196029663,
           0.9999997615814209,
           0.843980073928833,
           0.42203742265701294,
           0.4599829316139221,
           0.4347987771034241,
           0.3776034712791443,
           0.17670415341854095,
           0.47367504239082336,
           0.4180161952972412,
           0.3709014058113098,
           0.6135945320129395,
           0.6348558068275452,
           0.3330545127391815,
           0.29752808809280396,
           0.0009508617222309113,
           0.5498683452606201,
           0.3631933927536011,
           0.758750855922699
          ],
          [
           0.2533981502056122,
           0.531341552734375,
           0.4751895070075989,
           0.4914093017578125,
           0.18122248351573944,
           0.28396421670913696,
           0.348613977432251,
           0.3716077208518982,
           0.6429608464241028,
           0.3160487711429596,
           0.14674945175647736,
           0.8238303661346436,
           0.3702167272567749,
           0.32052090764045715,
           0.17845305800437927,
           0.48444876074790955,
           0.48754623532295227,
           0.127236008644104,
           0.8145202398300171,
           0.6523954272270203,
           0.32878294587135315,
           0.5540564656257629,
           0.1435713768005371,
           0.27944764494895935,
           0.5788535475730896,
           0.7749013900756836,
           0.14997462928295135,
           0.4680435061454773,
           0.7245145440101624,
           0.5596237778663635,
           0.6796543598175049,
           0.799895703792572,
           0.3642593324184418,
           0.46317532658576965,
           0.5550546646118164,
           0.843980073928833,
           0.9999996423721313,
           0.4179587960243225,
           0.5172572135925293,
           0.4803897738456726,
           0.37819913029670715,
           0.21862545609474182,
           0.4193848967552185,
           0.4412182569503784,
           0.5177814960479736,
           0.7238232493400574,
           0.7115929126739502,
           0.4253265857696533,
           0.3055681586265564,
           0.07514243572950363,
           0.6019544005393982,
           0.47150135040283203,
           0.7559292912483215
          ],
          [
           0.2783728837966919,
           0.3964986801147461,
           0.44713783264160156,
           0.3300171494483948,
           0.2772083282470703,
           0.49595826864242554,
           0.37418681383132935,
           0.4040452539920807,
           0.4115636348724365,
           0.4657806158065796,
           0.22793981432914734,
           0.43506669998168945,
           0.25359490513801575,
           0.2825067341327667,
           0.22389757633209229,
           0.33057162165641785,
           0.2382034808397293,
           0.4205993115901947,
           0.47708120942115784,
           0.42171719670295715,
           0.3459241986274719,
           0.33148983120918274,
           0.20870080590248108,
           0.2954619824886322,
           0.3362206220626831,
           0.3891139328479767,
           0.23307275772094727,
           0.40176862478256226,
           0.414431095123291,
           0.3413507342338562,
           0.2504308521747589,
           0.5074340105056763,
           0.2952072024345398,
           0.35079512000083923,
           0.4026637077331543,
           0.42203742265701294,
           0.4179587960243225,
           0.9999997615814209,
           0.3849654793739319,
           0.43955954909324646,
           0.3995653986930847,
           0.2740696370601654,
           0.3343384265899658,
           0.2432260811328888,
           0.302457332611084,
           0.5552272200584412,
           0.4469206929206848,
           0.35004374384880066,
           0.3991532325744629,
           0.2668847143650055,
           0.2875669598579407,
           0.33155345916748047,
           0.3970232605934143
          ],
          [
           0.30925893783569336,
           0.3600100874900818,
           0.326288640499115,
           0.3702135384082794,
           0.17081177234649658,
           0.3169742524623871,
           0.3082889914512634,
           0.32703897356987,
           0.4773574769496918,
           0.36636438965797424,
           0.25758635997772217,
           0.46929240226745605,
           0.23832951486110687,
           0.31713947653770447,
           0.19479519128799438,
           0.2834089696407318,
           0.2948269844055176,
           0.14448070526123047,
           0.5210603475570679,
           0.535973310470581,
           0.2861073315143585,
           0.3664840757846832,
           0.2604178190231323,
           0.3092154264450073,
           0.33404862880706787,
           0.42003899812698364,
           0.23160287737846375,
           0.2800747752189636,
           0.3969639241695404,
           0.36989933252334595,
           0.4365917444229126,
           0.4818257689476013,
           0.3331618309020996,
           0.3459707200527191,
           0.29214879870414734,
           0.4599829316139221,
           0.5172572135925293,
           0.3849654793739319,
           1.000000238418579,
           0.3651096522808075,
           0.2603336274623871,
           0.15506824851036072,
           0.2777303457260132,
           0.24079236388206482,
           0.33859407901763916,
           0.4285147190093994,
           0.4752448499202728,
           0.344652384519577,
           0.3454217314720154,
           0.10532984137535095,
           0.2900155186653137,
           0.3169838786125183,
           0.4594825506210327
          ],
          [
           -0.009224668145179749,
           0.3458840250968933,
           0.3430854082107544,
           0.19291695952415466,
           0.14117202162742615,
           0.3099157214164734,
           0.1512168049812317,
           0.19268859922885895,
           0.436890572309494,
           0.3477229177951813,
           0.03960669785737991,
           0.5130654573440552,
           0.31265783309936523,
           0.09182923287153244,
           0.11334599554538727,
           0.17795304954051971,
           0.2953827977180481,
           0.10377083718776703,
           0.4107802212238312,
           0.3380913734436035,
           0.021831410005688667,
           0.3300580680370331,
           0.023772716522216797,
           0.10518405586481094,
           0.21241602301597595,
           0.34354424476623535,
           0.03164434805512428,
           0.19293934106826782,
           0.4182594418525696,
           0.21897274255752563,
           0.3591826558113098,
           0.46734818816185,
           0.19048918783664703,
           0.3929790258407593,
           0.32198092341423035,
           0.4347987771034241,
           0.4803897738456726,
           0.43955954909324646,
           0.3651096522808075,
           1,
           0.23386067152023315,
           0.07106136530637741,
           0.28293582797050476,
           0.1482386738061905,
           0.36625033617019653,
           0.4519478976726532,
           0.2960871458053589,
           0.07603960484266281,
           0.18244068324565887,
           0.037809811532497406,
           0.3476659953594208,
           0.1995237022638321,
           0.3376675844192505
          ],
          [
           0.2792980968952179,
           0.38267841935157776,
           0.23624610900878906,
           0.2581948935985565,
           0.23385050892829895,
           0.34530237317085266,
           0.5068395733833313,
           0.4537721872329712,
           0.4723053574562073,
           0.2896130681037903,
           0.14726927876472473,
           0.3941386342048645,
           0.20461159944534302,
           0.21469232439994812,
           0.15435545146465302,
           0.29472893476486206,
           0.3329275846481323,
           0.42811280488967896,
           0.631195068359375,
           0.23712413012981415,
           0.5455529689788818,
           0.3058534264564514,
           0.137345552444458,
           0.1962844729423523,
           0.3901607394218445,
           0.3657151758670807,
           0.15682972967624664,
           0.41326189041137695,
           0.3482676148414612,
           0.4095061421394348,
           0.3237666189670563,
           0.42474737763404846,
           0.29444628953933716,
           0.2921566367149353,
           0.31418612599372864,
           0.3776034712791443,
           0.37819913029670715,
           0.3995653986930847,
           0.2603336274623871,
           0.23386067152023315,
           0.9999999403953552,
           0.3218908905982971,
           0.1952618658542633,
           0.26498737931251526,
           0.365908682346344,
           0.35678136348724365,
           0.36733782291412354,
           0.3222949206829071,
           0.24626199901103973,
           0.17811165750026703,
           0.3189007341861725,
           0.33659040927886963,
           0.37694865465164185
          ],
          [
           0.3480295240879059,
           0.27396154403686523,
           0.3940845727920532,
           0.2505173683166504,
           0.21225637197494507,
           0.3297322392463684,
           0.38796520233154297,
           0.36067503690719604,
           0.35807591676712036,
           0.2286805957555771,
           0.3618156909942627,
           0.16448640823364258,
           0.1625240296125412,
           0.3714146614074707,
           0.2920345664024353,
           0.16607365012168884,
           0.3024490773677826,
           0.24313893914222717,
           0.22755376994609833,
           0.13576535880565643,
           0.36747437715530396,
           0.23843765258789062,
           0.3106842637062073,
           0.5504060387611389,
           0.30616331100463867,
           0.20641747117042542,
           0.4945675730705261,
           0.43077486753463745,
           0.15730029344558716,
           0.2892826199531555,
           0.22455193102359772,
           0.3052586615085602,
           0.5459181070327759,
           0.2870311141014099,
           0.2578950822353363,
           0.17670415341854095,
           0.21862545609474182,
           0.2740696370601654,
           0.15506824851036072,
           0.07106136530637741,
           0.3218908905982971,
           0.9999997615814209,
           0.1697208285331726,
           0.13924895226955414,
           0.3305518329143524,
           0.3250541090965271,
           0.3280330300331116,
           0.41779831051826477,
           0.19449925422668457,
           0.2280389368534088,
           0.3725523352622986,
           0.24691830575466156,
           0.2621166706085205
          ],
          [
           0.22676125168800354,
           0.2802267372608185,
           0.24347901344299316,
           0.3854691684246063,
           0.15657533705234528,
           0.26368725299835205,
           0.18624627590179443,
           0.20649121701717377,
           0.3646957576274872,
           0.4965662658214569,
           0.19637402892112732,
           0.43471112847328186,
           0.22247526049613953,
           0.28165990114212036,
           0.10495652258396149,
           0.38208460807800293,
           0.23324494063854218,
           0.2641279101371765,
           0.41467052698135376,
           0.3448135554790497,
           0.3021215796470642,
           0.27120673656463623,
           0.15736708045005798,
           0.28724658489227295,
           0.46334409713745117,
           0.49799245595932007,
           0.29119497537612915,
           0.3374149203300476,
           0.5727018713951111,
           0.32477641105651855,
           0.3538343906402588,
           0.4729217290878296,
           0.32220885157585144,
           0.36813536286354065,
           0.391465425491333,
           0.47367504239082336,
           0.4193848967552185,
           0.3343384265899658,
           0.2777303457260132,
           0.28293582797050476,
           0.1952618658542633,
           0.1697208285331726,
           1.0000001192092896,
           0.29697930812835693,
           0.26825571060180664,
           0.3540734648704529,
           0.5067920684814453,
           0.3528318405151367,
           0.29249972105026245,
           0.0751255676150322,
           0.3222759962081909,
           0.24572356045246124,
           0.40124326944351196
          ],
          [
           0.48790237307548523,
           0.10038939863443375,
           0.2963765859603882,
           0.46387237310409546,
           -0.028919372707605362,
           0.2248205542564392,
           0.38358163833618164,
           0.36981192231178284,
           0.2288447618484497,
           0.20271533727645874,
           0.26492732763290405,
           0.3500846028327942,
           0.06387251615524292,
           0.34625351428985596,
           0.010427811183035374,
           0.3935771882534027,
           0.2490236908197403,
           0.16170579195022583,
           0.4992782175540924,
           0.39248910546302795,
           0.4422307312488556,
           0.22536489367485046,
           0.2748410701751709,
           0.3260546028614044,
           0.47321024537086487,
           0.42140993475914,
           0.29866722226142883,
           0.3959504961967468,
           0.31911855936050415,
           0.3927859663963318,
           0.3166778087615967,
           0.36726731061935425,
           0.33802330493927,
           0.30076155066490173,
           0.23490288853645325,
           0.4180161952972412,
           0.4412182569503784,
           0.2432260811328888,
           0.24079236388206482,
           0.1482386738061905,
           0.26498737931251526,
           0.13924895226955414,
           0.29697930812835693,
           0.9999997019767761,
           0.22908416390419006,
           0.29122281074523926,
           0.5013728141784668,
           0.474446564912796,
           0.14964042603969574,
           0.05398962274193764,
           0.23012405633926392,
           0.3985884189605713,
           0.43923094868659973
          ],
          [
           0.1605410873889923,
           0.5364587306976318,
           0.34569939970970154,
           0.23393654823303223,
           0.3827695846557617,
           0.2586754560470581,
           0.4131697714328766,
           0.41335058212280273,
           0.5352956652641296,
           0.19696947932243347,
           0.08304545283317566,
           0.5100213885307312,
           0.44948410987854004,
           0.18093140423297882,
           0.23122301697731018,
           0.16042836010456085,
           0.41144245862960815,
           0.18881207704544067,
           0.45008188486099243,
           0.4128395915031433,
           0.20012910664081573,
           0.4534117579460144,
           0.10118495672941208,
           0.20871220529079437,
           0.2442430555820465,
           0.3368127942085266,
           0.11336156725883484,
           0.3832697868347168,
           0.47438758611679077,
           0.42965662479400635,
           0.42777860164642334,
           0.5392025113105774,
           0.26314404606819153,
           0.41608551144599915,
           0.37318840622901917,
           0.3709014058113098,
           0.5177814960479736,
           0.302457332611084,
           0.33859407901763916,
           0.36625033617019653,
           0.365908682346344,
           0.3305518329143524,
           0.26825571060180664,
           0.22908416390419006,
           1,
           0.46956515312194824,
           0.449306845664978,
           0.27670085430145264,
           0.18908165395259857,
           0.2824418246746063,
           0.4339412748813629,
           0.4173493981361389,
           0.386699914932251
          ],
          [
           0.15393425524234772,
           0.5096893906593323,
           0.7382896542549133,
           0.41199609637260437,
           0.20452070236206055,
           0.3775255084037781,
           0.3947339653968811,
           0.44267207384109497,
           0.6032601594924927,
           0.26746100187301636,
           0.02999761328101158,
           0.6973048448562622,
           0.3268405497074127,
           0.1457061767578125,
           0.2210027575492859,
           0.41792428493499756,
           0.40398097038269043,
           0.30669575929641724,
           0.5857479572296143,
           0.5401965379714966,
           0.23484984040260315,
           0.43248888850212097,
           0.027723655104637146,
           0.22030100226402283,
           0.3882753849029541,
           0.6128273010253906,
           0.0842355415225029,
           0.49728095531463623,
           0.615337610244751,
           0.45246779918670654,
           0.56646728515625,
           0.7053254246711731,
           0.2771638035774231,
           0.410282701253891,
           0.5561141967773438,
           0.6135945320129395,
           0.7238232493400574,
           0.5552272200584412,
           0.4285147190093994,
           0.4519478976726532,
           0.35678136348724365,
           0.3250541090965271,
           0.3540734648704529,
           0.29122281074523926,
           0.46956515312194824,
           1.0000004768371582,
           0.5687845945358276,
           0.3277769982814789,
           0.3032239079475403,
           0.11318998783826828,
           0.5377521514892578,
           0.4052840769290924,
           0.5580655336380005
          ],
          [
           0.6486893892288208,
           0.3212776184082031,
           0.5093753933906555,
           0.5586063861846924,
           0.12355729192495346,
           0.4038097858428955,
           0.514542818069458,
           0.5005620121955872,
           0.540270209312439,
           0.4202817678451538,
           0.4584680199623108,
           0.6253365278244019,
           0.4017865061759949,
           0.5461558699607849,
           0.14194895327091217,
           0.5133291482925415,
           0.48426148295402527,
           0.25622430443763733,
           0.7449597716331482,
           0.6271111965179443,
           0.6556776165962219,
           0.5196654200553894,
           0.4157559871673584,
           0.5332670211791992,
           0.6884841322898865,
           0.649728000164032,
           0.4868479371070862,
           0.5599714517593384,
           0.5849432349205017,
           0.58646160364151,
           0.6148183345794678,
           0.7265981435775757,
           0.582152783870697,
           0.4646225571632385,
           0.41059526801109314,
           0.6348558068275452,
           0.7115929126739502,
           0.4469206929206848,
           0.4752448499202728,
           0.2960871458053589,
           0.36733782291412354,
           0.3280330300331116,
           0.5067920684814453,
           0.5013728141784668,
           0.449306845664978,
           0.5687845945358276,
           1.0000001192092896,
           0.7210850715637207,
           0.3247065842151642,
           0.10972734540700912,
           0.48788201808929443,
           0.5329781174659729,
           0.6804823279380798
          ],
          [
           0.8304468989372253,
           0.1459687352180481,
           0.352125346660614,
           0.5066456198692322,
           0.05735046789050102,
           0.46448782086372375,
           0.5025253891944885,
           0.4277530610561371,
           0.3487696349620819,
           0.2957783341407776,
           0.6950709223747253,
           0.2856990396976471,
           0.10843487828969955,
           0.7327820658683777,
           0.14563581347465515,
           0.3938295841217041,
           0.3994881212711334,
           0.21286576986312866,
           0.5099592208862305,
           0.49197661876678467,
           0.7560535073280334,
           0.34595799446105957,
           0.656101644039154,
           0.7313658595085144,
           0.6257590651512146,
           0.4436928629875183,
           0.7291524410247803,
           0.6038813591003418,
           0.29231634736061096,
           0.504228413105011,
           0.3521541357040405,
           0.4699445962905884,
           0.7416772842407227,
           0.3273051381111145,
           0.2314305454492569,
           0.3330545127391815,
           0.4253265857696533,
           0.35004374384880066,
           0.344652384519577,
           0.07603960484266281,
           0.3222949206829071,
           0.41779831051826477,
           0.3528318405151367,
           0.474446564912796,
           0.27670085430145264,
           0.3277769982814789,
           0.7210850715637207,
           0.9999997615814209,
           0.33483195304870605,
           0.1238139271736145,
           0.2678613066673279,
           0.4486132264137268,
           0.5762554407119751
          ],
          [
           0.24612389504909515,
           0.1741015762090683,
           0.2392062246799469,
           0.3435195982456207,
           0.12428059428930283,
           0.3276418149471283,
           0.29329004883766174,
           0.3052240014076233,
           0.3126215934753418,
           0.2744053900241852,
           0.17137975990772247,
           0.2429860532283783,
           0.16134120523929596,
           0.2093445360660553,
           0.2227213829755783,
           0.2991693913936615,
           0.32839035987854004,
           0.3051171898841858,
           0.31010860204696655,
           0.40446656942367554,
           0.3097562789916992,
           0.29259318113327026,
           0.1430256962776184,
           0.30026403069496155,
           0.3168242275714874,
           0.33967968821525574,
           0.20964905619621277,
           0.3582734763622284,
           0.31403857469558716,
           0.27164754271507263,
           0.28650012612342834,
           0.3703598976135254,
           0.3093518614768982,
           0.22955496609210968,
           0.33597487211227417,
           0.29752808809280396,
           0.3055681586265564,
           0.3991532325744629,
           0.3454217314720154,
           0.18244068324565887,
           0.24626199901103973,
           0.19449925422668457,
           0.29249972105026245,
           0.14964042603969574,
           0.18908165395259857,
           0.3032239079475403,
           0.3247065842151642,
           0.33483195304870605,
           1,
           0.08035833388566971,
           0.19145336747169495,
           0.296522319316864,
           0.3550874590873718
          ],
          [
           0.10847114026546478,
           0.5106685161590576,
           0.1248253732919693,
           -0.003657158464193344,
           0.589653491973877,
           0.18087700009346008,
           0.27056312561035156,
           0.3259428143501282,
           0.21483281254768372,
           0.07710146903991699,
           0.12105006724596024,
           0.1425907015800476,
           0.19989816844463348,
           0.13040126860141754,
           0.2699066400527954,
           -0.026125889271497726,
           0.23151320219039917,
           0.16284888982772827,
           0.0868067592382431,
           0.06585332006216049,
           0.07772241532802582,
           0.2444484680891037,
           0.13682638108730316,
           0.11647307127714157,
           -0.023704608902335167,
           -0.028605658560991287,
           0.08912499994039536,
           0.21867702901363373,
           0.14602336287498474,
           0.17008325457572937,
           0.10609287023544312,
           0.14870841801166534,
           0.09689398109912872,
           0.17025232315063477,
           0.17741703987121582,
           0.0009508617222309113,
           0.07514243572950363,
           0.2668847143650055,
           0.10532984137535095,
           0.037809811532497406,
           0.17811165750026703,
           0.2280389368534088,
           0.0751255676150322,
           0.05398962274193764,
           0.2824418246746063,
           0.11318998783826828,
           0.10972734540700912,
           0.1238139271736145,
           0.08035833388566971,
           0.9999999403953552,
           0.14375771582126617,
           0.2703688442707062,
           0.06493709236383438
          ],
          [
           0.15647487342357635,
           0.5107208490371704,
           0.3551461398601532,
           0.3582960069179535,
           0.24957893788814545,
           0.34957781434059143,
           0.36740589141845703,
           0.4304102063179016,
           0.6286725997924805,
           0.1935569941997528,
           0.07837364077568054,
           0.6751368045806885,
           0.49348726868629456,
           0.18501704931259155,
           0.2909129858016968,
           0.25080540776252747,
           0.35793134570121765,
           0.11331626772880554,
           0.489209920167923,
           0.3530842363834381,
           0.14476746320724487,
           0.6499876379966736,
           0.05971423536539078,
           0.27047327160835266,
           0.3061051666736603,
           0.4795514941215515,
           0.12502115964889526,
           0.4669312536716461,
           0.6618828773498535,
           0.44787946343421936,
           0.4341925382614136,
           0.6393532752990723,
           0.2789822518825531,
           0.33445626497268677,
           0.555881917476654,
           0.5498683452606201,
           0.6019544005393982,
           0.2875669598579407,
           0.2900155186653137,
           0.3476659953594208,
           0.3189007341861725,
           0.3725523352622986,
           0.3222759962081909,
           0.23012405633926392,
           0.4339412748813629,
           0.5377521514892578,
           0.48788201808929443,
           0.2678613066673279,
           0.19145336747169495,
           0.14375771582126617,
           1,
           0.30199405550956726,
           0.5089452266693115
          ],
          [
           0.4736085534095764,
           0.3086048662662506,
           0.37956804037094116,
           0.3342636525630951,
           0.17780150473117828,
           0.3055829405784607,
           0.6584545373916626,
           0.6253019571304321,
           0.3472614288330078,
           0.16007179021835327,
           0.195328950881958,
           0.36794301867485046,
           0.2955016791820526,
           0.27217742800712585,
           0.10368283092975616,
           0.3361507058143616,
           0.3449344038963318,
           0.2166285216808319,
           0.47371378540992737,
           0.4773455262184143,
           0.48805010318756104,
           0.3267521560192108,
           0.18068300187587738,
           0.2713419795036316,
           0.4387964606285095,
           0.4578820466995239,
           0.2379675656557083,
           0.6263991594314575,
           0.392694890499115,
           0.4942401647567749,
           0.3942660987377167,
           0.5099678635597229,
           0.3144444227218628,
           0.3035414516925812,
           0.24181218445301056,
           0.3631933927536011,
           0.47150135040283203,
           0.33155345916748047,
           0.3169838786125183,
           0.1995237022638321,
           0.33659040927886963,
           0.24691830575466156,
           0.24572356045246124,
           0.3985884189605713,
           0.4173493981361389,
           0.4052840769290924,
           0.5329781174659729,
           0.4486132264137268,
           0.296522319316864,
           0.2703688442707062,
           0.30199405550956726,
           0.9999998211860657,
           0.40213507413864136
          ],
          [
           0.46748217940330505,
           0.46417170763015747,
           0.35073649883270264,
           0.46897125244140625,
           0.17453578114509583,
           0.4096829891204834,
           0.46429428458213806,
           0.45796364545822144,
           0.6174786686897278,
           0.33234620094299316,
           0.26658257842063904,
           0.6875782608985901,
           0.25858741998672485,
           0.422971248626709,
           0.15285387635231018,
           0.42558881640434265,
           0.4812620282173157,
           0.1619422286748886,
           0.7324296832084656,
           0.6034935712814331,
           0.47510385513305664,
           0.47066566348075867,
           0.2696918845176697,
           0.36255136132240295,
           0.5841749310493469,
           0.6647714376449585,
           0.2844708561897278,
           0.5498561859130859,
           0.5857502818107605,
           0.6261711716651917,
           0.5400435328483582,
           0.7334346175193787,
           0.4269985854625702,
           0.4548899829387665,
           0.5369260907173157,
           0.758750855922699,
           0.7559292912483215,
           0.3970232605934143,
           0.4594825506210327,
           0.3376675844192505,
           0.37694865465164185,
           0.2621166706085205,
           0.40124326944351196,
           0.43923094868659973,
           0.386699914932251,
           0.5580655336380005,
           0.6804823279380798,
           0.5762554407119751,
           0.3550874590873718,
           0.06493709236383438,
           0.5089452266693115,
           0.40213507413864136,
           0.9999997019767761
          ]
         ]
        }
       ],
       "layout": {
        "coloraxis": {
         "colorbar": {
          "title": {
           "text": "Similarity Score"
          }
         },
         "colorscale": [
          [
           0,
           "rgb(247,252,240)"
          ],
          [
           0.125,
           "rgb(224,243,219)"
          ],
          [
           0.25,
           "rgb(204,235,197)"
          ],
          [
           0.375,
           "rgb(168,221,181)"
          ],
          [
           0.5,
           "rgb(123,204,196)"
          ],
          [
           0.625,
           "rgb(78,179,211)"
          ],
          [
           0.75,
           "rgb(43,140,190)"
          ],
          [
           0.875,
           "rgb(8,104,172)"
          ],
          [
           1,
           "rgb(8,64,129)"
          ]
         ]
        },
        "height": 800,
        "hoverlabel": {
         "bgcolor": "white",
         "font": {
          "family": "Rockwell",
          "size": 16
         }
        },
        "legend": {
         "title": {
          "text": "Trend"
         }
        },
        "margin": {
         "t": 60
        },
        "showlegend": true,
        "template": {
         "data": {
          "bar": [
           {
            "error_x": {
             "color": "#2a3f5f"
            },
            "error_y": {
             "color": "#2a3f5f"
            },
            "marker": {
             "line": {
              "color": "#E5ECF6",
              "width": 0.5
             },
             "pattern": {
              "fillmode": "overlay",
              "size": 10,
              "solidity": 0.2
             }
            },
            "type": "bar"
           }
          ],
          "barpolar": [
           {
            "marker": {
             "line": {
              "color": "#E5ECF6",
              "width": 0.5
             },
             "pattern": {
              "fillmode": "overlay",
              "size": 10,
              "solidity": 0.2
             }
            },
            "type": "barpolar"
           }
          ],
          "carpet": [
           {
            "aaxis": {
             "endlinecolor": "#2a3f5f",
             "gridcolor": "white",
             "linecolor": "white",
             "minorgridcolor": "white",
             "startlinecolor": "#2a3f5f"
            },
            "baxis": {
             "endlinecolor": "#2a3f5f",
             "gridcolor": "white",
             "linecolor": "white",
             "minorgridcolor": "white",
             "startlinecolor": "#2a3f5f"
            },
            "type": "carpet"
           }
          ],
          "choropleth": [
           {
            "colorbar": {
             "outlinewidth": 0,
             "ticks": ""
            },
            "type": "choropleth"
           }
          ],
          "contour": [
           {
            "colorbar": {
             "outlinewidth": 0,
             "ticks": ""
            },
            "colorscale": [
             [
              0,
              "#0d0887"
             ],
             [
              0.1111111111111111,
              "#46039f"
             ],
             [
              0.2222222222222222,
              "#7201a8"
             ],
             [
              0.3333333333333333,
              "#9c179e"
             ],
             [
              0.4444444444444444,
              "#bd3786"
             ],
             [
              0.5555555555555556,
              "#d8576b"
             ],
             [
              0.6666666666666666,
              "#ed7953"
             ],
             [
              0.7777777777777778,
              "#fb9f3a"
             ],
             [
              0.8888888888888888,
              "#fdca26"
             ],
             [
              1,
              "#f0f921"
             ]
            ],
            "type": "contour"
           }
          ],
          "contourcarpet": [
           {
            "colorbar": {
             "outlinewidth": 0,
             "ticks": ""
            },
            "type": "contourcarpet"
           }
          ],
          "heatmap": [
           {
            "colorbar": {
             "outlinewidth": 0,
             "ticks": ""
            },
            "colorscale": [
             [
              0,
              "#0d0887"
             ],
             [
              0.1111111111111111,
              "#46039f"
             ],
             [
              0.2222222222222222,
              "#7201a8"
             ],
             [
              0.3333333333333333,
              "#9c179e"
             ],
             [
              0.4444444444444444,
              "#bd3786"
             ],
             [
              0.5555555555555556,
              "#d8576b"
             ],
             [
              0.6666666666666666,
              "#ed7953"
             ],
             [
              0.7777777777777778,
              "#fb9f3a"
             ],
             [
              0.8888888888888888,
              "#fdca26"
             ],
             [
              1,
              "#f0f921"
             ]
            ],
            "type": "heatmap"
           }
          ],
          "heatmapgl": [
           {
            "colorbar": {
             "outlinewidth": 0,
             "ticks": ""
            },
            "colorscale": [
             [
              0,
              "#0d0887"
             ],
             [
              0.1111111111111111,
              "#46039f"
             ],
             [
              0.2222222222222222,
              "#7201a8"
             ],
             [
              0.3333333333333333,
              "#9c179e"
             ],
             [
              0.4444444444444444,
              "#bd3786"
             ],
             [
              0.5555555555555556,
              "#d8576b"
             ],
             [
              0.6666666666666666,
              "#ed7953"
             ],
             [
              0.7777777777777778,
              "#fb9f3a"
             ],
             [
              0.8888888888888888,
              "#fdca26"
             ],
             [
              1,
              "#f0f921"
             ]
            ],
            "type": "heatmapgl"
           }
          ],
          "histogram": [
           {
            "marker": {
             "pattern": {
              "fillmode": "overlay",
              "size": 10,
              "solidity": 0.2
             }
            },
            "type": "histogram"
           }
          ],
          "histogram2d": [
           {
            "colorbar": {
             "outlinewidth": 0,
             "ticks": ""
            },
            "colorscale": [
             [
              0,
              "#0d0887"
             ],
             [
              0.1111111111111111,
              "#46039f"
             ],
             [
              0.2222222222222222,
              "#7201a8"
             ],
             [
              0.3333333333333333,
              "#9c179e"
             ],
             [
              0.4444444444444444,
              "#bd3786"
             ],
             [
              0.5555555555555556,
              "#d8576b"
             ],
             [
              0.6666666666666666,
              "#ed7953"
             ],
             [
              0.7777777777777778,
              "#fb9f3a"
             ],
             [
              0.8888888888888888,
              "#fdca26"
             ],
             [
              1,
              "#f0f921"
             ]
            ],
            "type": "histogram2d"
           }
          ],
          "histogram2dcontour": [
           {
            "colorbar": {
             "outlinewidth": 0,
             "ticks": ""
            },
            "colorscale": [
             [
              0,
              "#0d0887"
             ],
             [
              0.1111111111111111,
              "#46039f"
             ],
             [
              0.2222222222222222,
              "#7201a8"
             ],
             [
              0.3333333333333333,
              "#9c179e"
             ],
             [
              0.4444444444444444,
              "#bd3786"
             ],
             [
              0.5555555555555556,
              "#d8576b"
             ],
             [
              0.6666666666666666,
              "#ed7953"
             ],
             [
              0.7777777777777778,
              "#fb9f3a"
             ],
             [
              0.8888888888888888,
              "#fdca26"
             ],
             [
              1,
              "#f0f921"
             ]
            ],
            "type": "histogram2dcontour"
           }
          ],
          "mesh3d": [
           {
            "colorbar": {
             "outlinewidth": 0,
             "ticks": ""
            },
            "type": "mesh3d"
           }
          ],
          "parcoords": [
           {
            "line": {
             "colorbar": {
              "outlinewidth": 0,
              "ticks": ""
             }
            },
            "type": "parcoords"
           }
          ],
          "pie": [
           {
            "automargin": true,
            "type": "pie"
           }
          ],
          "scatter": [
           {
            "fillpattern": {
             "fillmode": "overlay",
             "size": 10,
             "solidity": 0.2
            },
            "type": "scatter"
           }
          ],
          "scatter3d": [
           {
            "line": {
             "colorbar": {
              "outlinewidth": 0,
              "ticks": ""
             }
            },
            "marker": {
             "colorbar": {
              "outlinewidth": 0,
              "ticks": ""
             }
            },
            "type": "scatter3d"
           }
          ],
          "scattercarpet": [
           {
            "marker": {
             "colorbar": {
              "outlinewidth": 0,
              "ticks": ""
             }
            },
            "type": "scattercarpet"
           }
          ],
          "scattergeo": [
           {
            "marker": {
             "colorbar": {
              "outlinewidth": 0,
              "ticks": ""
             }
            },
            "type": "scattergeo"
           }
          ],
          "scattergl": [
           {
            "marker": {
             "colorbar": {
              "outlinewidth": 0,
              "ticks": ""
             }
            },
            "type": "scattergl"
           }
          ],
          "scattermapbox": [
           {
            "marker": {
             "colorbar": {
              "outlinewidth": 0,
              "ticks": ""
             }
            },
            "type": "scattermapbox"
           }
          ],
          "scatterpolar": [
           {
            "marker": {
             "colorbar": {
              "outlinewidth": 0,
              "ticks": ""
             }
            },
            "type": "scatterpolar"
           }
          ],
          "scatterpolargl": [
           {
            "marker": {
             "colorbar": {
              "outlinewidth": 0,
              "ticks": ""
             }
            },
            "type": "scatterpolargl"
           }
          ],
          "scatterternary": [
           {
            "marker": {
             "colorbar": {
              "outlinewidth": 0,
              "ticks": ""
             }
            },
            "type": "scatterternary"
           }
          ],
          "surface": [
           {
            "colorbar": {
             "outlinewidth": 0,
             "ticks": ""
            },
            "colorscale": [
             [
              0,
              "#0d0887"
             ],
             [
              0.1111111111111111,
              "#46039f"
             ],
             [
              0.2222222222222222,
              "#7201a8"
             ],
             [
              0.3333333333333333,
              "#9c179e"
             ],
             [
              0.4444444444444444,
              "#bd3786"
             ],
             [
              0.5555555555555556,
              "#d8576b"
             ],
             [
              0.6666666666666666,
              "#ed7953"
             ],
             [
              0.7777777777777778,
              "#fb9f3a"
             ],
             [
              0.8888888888888888,
              "#fdca26"
             ],
             [
              1,
              "#f0f921"
             ]
            ],
            "type": "surface"
           }
          ],
          "table": [
           {
            "cells": {
             "fill": {
              "color": "#EBF0F8"
             },
             "line": {
              "color": "white"
             }
            },
            "header": {
             "fill": {
              "color": "#C8D4E3"
             },
             "line": {
              "color": "white"
             }
            },
            "type": "table"
           }
          ]
         },
         "layout": {
          "annotationdefaults": {
           "arrowcolor": "#2a3f5f",
           "arrowhead": 0,
           "arrowwidth": 1
          },
          "autotypenumbers": "strict",
          "coloraxis": {
           "colorbar": {
            "outlinewidth": 0,
            "ticks": ""
           }
          },
          "colorscale": {
           "diverging": [
            [
             0,
             "#8e0152"
            ],
            [
             0.1,
             "#c51b7d"
            ],
            [
             0.2,
             "#de77ae"
            ],
            [
             0.3,
             "#f1b6da"
            ],
            [
             0.4,
             "#fde0ef"
            ],
            [
             0.5,
             "#f7f7f7"
            ],
            [
             0.6,
             "#e6f5d0"
            ],
            [
             0.7,
             "#b8e186"
            ],
            [
             0.8,
             "#7fbc41"
            ],
            [
             0.9,
             "#4d9221"
            ],
            [
             1,
             "#276419"
            ]
           ],
           "sequential": [
            [
             0,
             "#0d0887"
            ],
            [
             0.1111111111111111,
             "#46039f"
            ],
            [
             0.2222222222222222,
             "#7201a8"
            ],
            [
             0.3333333333333333,
             "#9c179e"
            ],
            [
             0.4444444444444444,
             "#bd3786"
            ],
            [
             0.5555555555555556,
             "#d8576b"
            ],
            [
             0.6666666666666666,
             "#ed7953"
            ],
            [
             0.7777777777777778,
             "#fb9f3a"
            ],
            [
             0.8888888888888888,
             "#fdca26"
            ],
            [
             1,
             "#f0f921"
            ]
           ],
           "sequentialminus": [
            [
             0,
             "#0d0887"
            ],
            [
             0.1111111111111111,
             "#46039f"
            ],
            [
             0.2222222222222222,
             "#7201a8"
            ],
            [
             0.3333333333333333,
             "#9c179e"
            ],
            [
             0.4444444444444444,
             "#bd3786"
            ],
            [
             0.5555555555555556,
             "#d8576b"
            ],
            [
             0.6666666666666666,
             "#ed7953"
            ],
            [
             0.7777777777777778,
             "#fb9f3a"
            ],
            [
             0.8888888888888888,
             "#fdca26"
            ],
            [
             1,
             "#f0f921"
            ]
           ]
          },
          "colorway": [
           "#636efa",
           "#EF553B",
           "#00cc96",
           "#ab63fa",
           "#FFA15A",
           "#19d3f3",
           "#FF6692",
           "#B6E880",
           "#FF97FF",
           "#FECB52"
          ],
          "font": {
           "color": "#2a3f5f"
          },
          "geo": {
           "bgcolor": "white",
           "lakecolor": "white",
           "landcolor": "#E5ECF6",
           "showlakes": true,
           "showland": true,
           "subunitcolor": "white"
          },
          "hoverlabel": {
           "align": "left"
          },
          "hovermode": "closest",
          "mapbox": {
           "style": "light"
          },
          "paper_bgcolor": "white",
          "plot_bgcolor": "#E5ECF6",
          "polar": {
           "angularaxis": {
            "gridcolor": "white",
            "linecolor": "white",
            "ticks": ""
           },
           "bgcolor": "#E5ECF6",
           "radialaxis": {
            "gridcolor": "white",
            "linecolor": "white",
            "ticks": ""
           }
          },
          "scene": {
           "xaxis": {
            "backgroundcolor": "#E5ECF6",
            "gridcolor": "white",
            "gridwidth": 2,
            "linecolor": "white",
            "showbackground": true,
            "ticks": "",
            "zerolinecolor": "white"
           },
           "yaxis": {
            "backgroundcolor": "#E5ECF6",
            "gridcolor": "white",
            "gridwidth": 2,
            "linecolor": "white",
            "showbackground": true,
            "ticks": "",
            "zerolinecolor": "white"
           },
           "zaxis": {
            "backgroundcolor": "#E5ECF6",
            "gridcolor": "white",
            "gridwidth": 2,
            "linecolor": "white",
            "showbackground": true,
            "ticks": "",
            "zerolinecolor": "white"
           }
          },
          "shapedefaults": {
           "line": {
            "color": "#2a3f5f"
           }
          },
          "ternary": {
           "aaxis": {
            "gridcolor": "white",
            "linecolor": "white",
            "ticks": ""
           },
           "baxis": {
            "gridcolor": "white",
            "linecolor": "white",
            "ticks": ""
           },
           "bgcolor": "#E5ECF6",
           "caxis": {
            "gridcolor": "white",
            "linecolor": "white",
            "ticks": ""
           }
          },
          "title": {
           "x": 0.05
          },
          "xaxis": {
           "automargin": true,
           "gridcolor": "white",
           "linecolor": "white",
           "ticks": "",
           "title": {
            "standoff": 15
           },
           "zerolinecolor": "white",
           "zerolinewidth": 2
          },
          "yaxis": {
           "automargin": true,
           "gridcolor": "white",
           "linecolor": "white",
           "ticks": "",
           "title": {
            "standoff": 15
           },
           "zerolinecolor": "white",
           "zerolinewidth": 2
          }
         }
        },
        "title": {
         "font": {
          "color": "Black",
          "size": 22
         },
         "text": "<b>Similarity Matrix</b>",
         "x": 0.55,
         "xanchor": "center",
         "y": 0.95,
         "yanchor": "top"
        },
        "width": 800,
        "xaxis": {
         "anchor": "y",
         "constrain": "domain",
         "domain": [
          0,
          1
         ],
         "scaleanchor": "y"
        },
        "yaxis": {
         "anchor": "x",
         "autorange": "reversed",
         "constrain": "domain",
         "domain": [
          0,
          1
         ]
        }
       }
      }
     },
     "metadata": {},
     "output_type": "display_data"
    }
   ],
   "source": [
    "topic_model.visualize_heatmap()"
   ]
  },
  {
   "cell_type": "markdown",
   "metadata": {},
   "source": [
    "## Amélioration du BERT Topic"
   ]
  },
  {
   "cell_type": "code",
   "execution_count": 100,
   "metadata": {},
   "outputs": [],
   "source": [
    "from bertopic.vectorizers import ClassTfidfTransformer\n",
    "from hdbscan import HDBSCAN\n",
    "from umap import UMAP"
   ]
  },
  {
   "cell_type": "code",
   "execution_count": 101,
   "metadata": {},
   "outputs": [],
   "source": [
    "dim_reduction_model = UMAP(\n",
    " n_neighbors=10,\n",
    " n_components=50,\n",
    " min_dist=0.0,\n",
    " metric=\"cosine\",\n",
    " random_state=42,\n",
    " )"
   ]
  },
  {
   "cell_type": "code",
   "execution_count": 102,
   "metadata": {},
   "outputs": [],
   "source": [
    "clustering_model = HDBSCAN(\n",
    " min_cluster_size=10,\n",
    " metric=\"euclidean\",\n",
    " cluster_selection_method=\"eom\",\n",
    " prediction_data=True,\n",
    ")"
   ]
  },
  {
   "cell_type": "code",
   "execution_count": 103,
   "metadata": {},
   "outputs": [],
   "source": [
    "from sklearn.feature_extraction.text import CountVectorizer"
   ]
  },
  {
   "cell_type": "code",
   "execution_count": 104,
   "metadata": {},
   "outputs": [],
   "source": [
    "ctfidf_model = ClassTfidfTransformer(\n",
    " bm25_weighting = False,\n",
    " reduce_frequent_words = False,\n",
    " # seed_words = None,\n",
    " # seed_multiplier = 2,\n",
    " )"
   ]
  },
  {
   "cell_type": "code",
   "execution_count": 105,
   "metadata": {},
   "outputs": [],
   "source": [
    "topic_model = BERTopic(\n",
    "    n_gram_range=(1, 3), \n",
    "    embedding_model=sentence_model,  \n",
    "    min_topic_size=5, \n",
    "    language=\"french\",\n",
    "    umap_model=dim_reduction_model,\n",
    "    hdbscan_model=clustering_model,\n",
    "    ctfidf_model=ctfidf_model,\n",
    "    \n",
    ")\n"
   ]
  },
  {
   "cell_type": "code",
   "execution_count": 106,
   "metadata": {},
   "outputs": [],
   "source": [
    "topics, probs = topic_model.fit_transform(cleaned_comments)"
   ]
  },
  {
   "cell_type": "code",
   "execution_count": 118,
   "metadata": {},
   "outputs": [
    {
     "data": {
      "application/vnd.plotly.v1+json": {
       "config": {
        "plotlyServerURL": "https://plot.ly"
       },
       "data": [
        {
         "hoverinfo": "text",
         "hovertext": [
          "france pays football pardon d'accord !!!",
          "seul vidéo thé bridge 1.6 millions vue tchouamenie âge a l'époque n'as presque jamais vue légende jouer veux douté dis ?",
          "grand frère devient président cameroun y'a ça sauvé voleur pays 1personne détourne 35 milliards rien",
          "sacré interview samuel eto'o, éternelle inspiration cédric doumbè, mental fer redouane bougheraba, pro l'impro aurélien tchouameni, talent caché journalisme mike maignan, étoile montante goal.",
          "mort rire clein d'œil redouane l'équipe d'algérie, devant légende samuel eto'o algérien recul devant rien . n'oublie défaite amère",
          "éto commence souvent phrases « » jnai rien d’autre ajouter",
          "incroyable. j’avais pris autant plaisir suivre discussion longue vidéo depuis kate williams chez shannon sharp, chiffres mentent pas.",
          "eto’o a encore démonté c’est patron auprès carrément resté vidéo entier cause",
          "eto’o paraître arrogant parfois fort, légende africaine respect 🫡 depuis mali 🇲🇱",
          "tchouameni pertinent questions. devrait donner cours journalistes français",
          "peur cedric ressent incomparable. c’est peur mourir. c’est combattant, c’est normal !",
          "l'on souviendra deux choses vie : problèmes résolus créés.",
          "merci ça aide énormément n’est mécano",
          "\" arrivé annngles mort \"",
          "eto’o fort lorsqu’il prend parole sent obligé l’écouter",
          "vrai cédric sais n'aimerais gars vient tabasser mentionne sœur",
          "l'humoriste a payé être la, obligé lool gars a com fary jamel interessant",
          "regardé début fin vs chapeau bas vs mecs mots fort motivant",
          "episode 1 2 anglais 130 300 milles vues épisode 3 français, 1million vues.c'est dinguerie!",
          "35:18 parce prédateur",
          "''ce meilleurs font erreurs car prennent risques '' merci eto'o",
          "c’est magnifique suivre ça eto’o humble 🥹🥹🥹",
          "papa eto'o quelqu'un, vraie legende mm travers l'écran dégage vibe ouf",
          "con d'avoir imposer thème récurrent comparaison entre l'humour sport. redouane domaine artistique, paradigme critères propres n'ont voir compétition sportive haut niveau.",
          "j’aime redouane comprends pourquoi l’interview casse délire sportifs c’est monde",
          "vive pays cameroun 🇨🇲🇨🇲🇨🇲",
          "doumbé arrete conerie, perdu escuse d'epine enlève ps defaite",
          "réel l'anecdote eto'o triplé l'inter",
          "eto'o monopolise parole !!!!!!! laisse autres parlé putain!!!!!",
          "tchouameni pertinent questions. bonne vidéo",
          "grâce vous, crois qu'avec volonté travail finirai réaliser rêve",
          "o tellement insupportable ! d'une prétention mec",
          "incroyable jure deviendrai champion",
          "redouane bougherblabla dommage",
          "pire équipe swag possible...",
          "cedric fernand lopez allé loin, t'as l'esprit compatriote tsiuup",
          "voilà pourquoi gens n’aiment eto’o… savant sport.",
          "3-0 a démentie",
          "raconte eto'o bête simpliste. parle qatar exemple, pays bâti l'esclavagisme travailleurs sous-continent indien, pays \"l'éducation gratuite\" citoyens uniquement (10% population qatar, peine 300000 personnes) repose l'exploitation gazière uniquement (pas sport raconte stupidement). enfin bref, raconte sonne faux, type a piqué l'argent public cameroun autres s'invente légende permanence. coéquipiers barcelone l'ont dit, bonne personne tout.",
          "a sadii mane🇸🇳🇸🇳",
          "désoler a aucun moment cite cr7 c’est meilleur joueur l’histoire a confiance indéniable permettre etoo zlatan",
          "veut invitation sadio mane salah ️️️️️je pense ça facile possible ️️️",
          "eto'o doit présenter être président cameroun. tellement inspirant apporter changement pays. aurélien quant m'a épaté maîtrise transitions. s'est régalé échanges a vu temps passé. chapeau",
          "entend compatriote comprends tt seul qu'être camerounais être champion né.",
          "\"les angles mots\" camerounais pur",
          "meilleures vidéos jamais vue aime gards tellement inspirant jeunesse",
          "doumpied meilleur combattant actuel 09/09/24 être après l'encourager voie",
          "samuel sait encore quoi meilleur souvenir, traduction : veut être président cameroun",
          "9:20 masterclasse d’eto’o",
          "neuer oui 2015 contre messi grand mur allemand",
          "47:50 vante ouvertement d'avoir harcelée bojan sachant a grise d'angoise a cause ça , etait tellement a bout mentalement a refusé jouer l'euro 2008",
          "hahaah a chaque foisbque samuel parle impression voir video humoristique doumbé ouf",
          "eto’o sort droit blue lock",
          "venu grace parole d'etoo réseaux cm 2024",
          "arrêtez the bridge anglais ! regardez states ! comment expliquez l’înterview henry passé sous radars ça..",
          "interview qualité... tchouameni aise, dirait métier. cedric mental . se9 franc parler",
          "etoo graaaaaand menteur",
          "redouane, fais rire chacune prises parole",
          "samuel eto'o rigole s'assoit seulement milieu canapé oklm",
          "cr7 a jamais qu’il meilleur? culture g vide",
          "eto'o marrant redouane",
          "pourquoi coupé montage speach samuel apres n'achetais ticket a partie \"rascisme\" !!! j'aurais voulu entendre suite xd !!",
          "fils fiert3 africaine",
          "\"les meilleurs souvenirs devant\" merci samuel eto'o",
          "mdrr redouane collé contre siege",
          "samuel eto'o incroyable. grand domaines. inspirant. j'aimerais voir souvent source motivation.",
          "49:23, seul lève debout serrer main maignan c’est samuel eto’o… ça long codes d’anciens disparaissent.",
          "tchouameni fume comment mec raconte annectodes merde répète disent",
          "eto'o !!! respect. sais vas. sais mets faut. l'afrique a besoin toi, cameroun a besoin toi. comprends maintenant pourquoi combattent tel acharnement. n'es n'importe",
          "dribble yeux truc dingue",
          "eto'o rien debut relancer interview mythique guardiola !",
          "partie canteleu frère retrouve émissions grand talent jdit respet frèro (abdelhamid).salam magid.",
          "instructive réclame el hadji diouf",
          "l’interview a cause samuel éto’o vient liker. eto’o légende",
          "et’oo n’y jamais joueur papa et’oo . après n’aura jamais joueur mm après mort qu’un légende. raplacable",
          "jesus transformer vie",
          "entretien pleurer sache champion aussi. combat continue, car suite belle histoire.",
          "dommage cameroun samuel eto'o présente élections car mindset favorable changements !!! interview incroyable petites",
          "dombe n'assume défaite. a situation inverse, prétendrait être victorieux. bref...",
          "aureline geres dirait t'as journaliste. etoo grand 9 regal l'écoute... ça rapelle tellement souvenirs d'enfances. doumbe d'habitude, force",
          "eto’o c’est possible… gênant, c’est mythomane chaque interview sort anecdotes chapeau… n’a jamais mis triplé mi-temps l’inter …",
          "j’ai envie replacer mèche rédouane",
          "merci eto’o, importe nationalité restera meilleur attaquant africain l’histoire 🇩🇿🇨🇲",
          "etoo débite heeein",
          "57:00 yes manuel nuer was lobbed by the great lionel messi in the semi final of the champions league",
          "o a vrai valeurs a africaine. tres bon monsieur",
          "mdr etoo 2006 ballon d'or c'était zizou normalement",
          "désolé etoo dessus bougheraba clown vulgaire doumbe champion auto-proclamé",
          "44:45 t’es mort l’accent daron camer",
          "\"bousiller\" ferrari clairement l'irrespect...",
          "samuel dès gardiens fous tant défenseur l’ai pensé seuls cage tête toute équipe gardiens",
          "eto'o j'aime engagement l'afrique",
          "eto'o pérronné mrt jouait (avec jambes)",
          "tchouameni chapeau bas. après carrière tracé",
          "a menti tripler l’inter",
          "afrique gens dorment",
          "samuel petit aurélien l’ancien anecdote ça passe c’est mort.",
          "jeunes disent n'ai talent samuel, fort cédric drôle redouane. sachez travailler dur talent n'importe acquérir, point commun entre champions tous.",
          "samuel, t'as honnête fier mentalité comprendre a jeunes joueurs africains possible donne mains.",
          "tchouameni parle etait élément important real a meme jouer finale j'suis mort",
          "aime bougheraba coup langue morte",
          "aurélien régule documentaire aisément milieu terrain real. c’est 2000 tema comment impose respect grands papa samuel eto’o, redouane & doumbé.",
          "eto’o n’es rien s’appelle eto’o triompher jusqu’à gar putain c’est légende",
          "carnaval suppose ii parle carvajal",
          "eto'o gentil a mensonges cdm l'histoire triplé sort mi-temps. immense joueur, prenne n'était",
          "l'histoire suite raconter",
          "magnifique bon a suivre",
          "eto'o lève fauteuil dire bonjour, n'arrive décrire beauté geste 🥹🥹",
          "waouuuu, coordination! gars font mieux journalistes!",
          "tchaouameni masterclass, verve, intelligence, bon animateur ! classe charisme.",
          "merci sébastien abdelhamid aurélien tchouaméni mettre lumière parcours vie majestueux respectables. espérant cela puisse inspirer d'autres.",
          "mythomane eto'o. a débuté carrière comique ?",
          "j'avais jamais vu doumbe attentif, petit garcon devant eto'o",
          "eto'o émission masterclass.... légende pense être",
          "continuez appeler joueurs bouxers ca",
          "personnalité samuel eto'o, contre discourt, médias, derrière eto'o suis..",
          "superbe concept renommer chaîne youtube the bridge da the bridge comprend .. voulais d’autre média .. c’est the bridge commencer da doit être évidente , voulais d’autre média , super nom the bridge .. car ça va pont ( the bridge ) entre vaut différent futur concept",
          "aucun ego entre sens respect mutuel part d'autre !",
          "a dit. mental avant tout. dommage qu'on puisse liker plusieurs fois. merci d'avoir réuni groupe d'avoir partagé moment.",
          "meilleurs font erreurs,si meilleur prends risque. respect papy samuel eto'o",
          "oui redouane ça marseille, l'om gagne toute ville euphorie perd, deuil. ça marseille, respirons om 🩵🩵🩵🩵",
          "sympa sauf l'anecdote ferrari trouve ça gratuit...",
          "doumbe moins malin",
          "meilleur \"the bridge\" faites deuxième partie s'il plait ça presque temps surtout besoin motivation personnes changer rien faites deuxième partie l'épisode 2",
          "demande encore redouane vidéo",
          "valcero bipolaire rend compte vraie fumeur banga pseudos analyses quartier .",
          "samuel etoo joueur a meilleur interview l’histoire beinsport ,je t’apprécie depuis dakar",
          "prochaine invité invité mané salah robben ribéry",
          "ngambé, 9 majuscule",
          "vu maignan repond a mental gardiens failli lâché gros créole guyanais",
          "quoi montre redouane????",
          "aurélien homme d’affaire qu’un joueur football frère. bravo champion qu’un simple ballon pieds",
          "samuel mec pourrais écouter pendant heures, crème",
          "arrogant eto'o, desoler meme top 20 meilleurs monde. dehors sa, tres bon grand joueur, rester humble vie pense personellement",
          "a avis poste difficile football celui gardien but.",
          "eto’o c’était sketch c’est possible écouter autant mensonges seconde",
          "the shop version francais ca donne the bridge. fan, tres bon podcast",
          "respect grand frère samuel eto'o parce grand frère impressionnant, respect chacun sait écouter sait écouter émission captivante expériences projets tire leçons",
          "\" être meilleur erreurs parce meilleurs prennent risques \" samuel eto'o",
          "pourquoi ça passe tele",
          "impressionné cédric doumbé. ressent c’est personne calme, éclairée, respectueux humble. cela contraste personnage trash talk avant combat",
          "madame vs parlez latin ….️",
          "viens là entendre triplé d'etoo disponible chat gpt sinon retrouve oas",
          "cameroun mal talents : dieudonne , etoo , yannick noah , cédric doumbe , ngallou …..",
          "parles zanetti parlait copain..!",
          "rencontrer l'un légendes jours 🇨🇲🇨🇲🇨🇲🇲🇫🇲🇫🇲🇫🇲🇫🇲🇫🇲🇫🇲🇫🇲🇫",
          "jure j’ai match 15h aujourd’hui j’ai regardais interview sens ronaldinho prime j’suis nul merci grands frères motivation 🇨🇲🇩🇿🇨🇮🇨🇬🇨🇩🇫🇷🇲🇦",
          "profondément impressionné l'intelligence sérénité d'aurélien tchouaméni. questions, concises pertinentes, révèlent sagesse rare. au-delà talents footballeur, incarne forme réflexion j'apprécie particulièrement. samuel eto'o, quant lui, dégage magnificence indéniable ; assurance intelligence souvent perçues l'arrogance, confiance rend fascinant.",
          "samuel eto'o, inspiration merci tout, légende",
          "try to have a woman (or 2) in every episode.",
          "etoo depuis toujour kif réal mdddddr",
          "être grand apprendre grands meilleures vidéos l'année mental tél synthèse podcast !!!",
          "plupart africains avail mentalité d’etoo",
          "hors sujet eto'o régale. être incroyable doumbé guez contre",
          "cédric dès début va y'avoir pépites bro know",
          "gars : 9:16 faux triplé 1:02:52 coupe monde",
          "etoo parle m'boma, geremi n'jitap autres olembe 0 can , ko peur...",
          "etoo t'es héros boss ! bravo",
          "magnifique. adoré. prochain interview francis ngannou svp",
          "samuel a raison. personnellement m'énerve voir conférences: chine afrique, russie afrique, bizarrement chefs d'état fiers d'aller là-bas. seul pays contre continent",
          "l’afrique a besoin hommes eto’o domaines…",
          "célébration soi, fatiguant. a plein gars vais etre meilleur, disent ça. a passe barrieres. y'a aucune mentalité particuliere derrière, a chance, talent, volonté elle, dépend plein facteurs. société fatiguante, projet collectif, lieu carrièriste finissent depression dès qu'ils centre scene",
          "bougheraba quoi autour champion,? crotte",
          "dieu bonne émission, lorsque patron foot relaxe jeunes, plaisir futur président cameroun george wea liberia. samuel t’aime infiniment pote. l’ami grands joueurs planétaire saisons confondues.",
          "j'aime concept, eto'o légende début solution. aurélien excellent présentateur, cédric admirable, bref panel solide merci motivation...que seigneur bénisse !",
          "masterclasse samuel eto’o, bonne analyse cédric doumbé redouane b, tchouaméni tant qu’intervieweur c’est pépite !!! hâte voir prochain épisode !!!",
          "rédouane, l’ai jamais connu. tant camerounais fan stand up comédie, j’aimerais aller spectacles lors prochaines visites! semble marrant anecdotes!",
          "eto'o arrête mentir jeunes connaissent",
          "wow eto'o vraie source motivation l'afrique, bravo aurelien maitriser sujet cedric redouane touche comique, pouvez être fière vous! bravo suivi émission 3 fois, bonheur",
          "eto'o parle ecoute",
          "seul mot j’ai retenu afrique gens dorment vrai etoo fils",
          "a ça choque pu partir real après barca? s'il jouait copains",
          "samuel eto'o interviews masterclass... mental incroyable",
          "3 camerounais🇨🇲 plateau forcément l'interview qualité",
          "c’était grand plaisir voir émission ça rappelle souvenirs énormes",
          "depuis rdc tjrs eto'o rester grand légende football mondial, mérite statut misé fc barcelone, rendre hommage d'honneur passage fc barcelone, fière a negro",
          "bravo acteurs présents big up samuel etoo. aurélien, après foot, métier consultant va",
          "superbe format découvre cedrick excellent comprends désormais mieux l’attendre parler pourquoi samuel légende mindset solide simplement inspirant .",
          "seul a lever saluer mignan voyez l'afrique quelque age respect merci lion",
          "part contre ballon d'or 2006 cannavaro titi, bon contenu sinon aime",
          "tant noirs, modèles impressionnants",
          "the bridge. aidez gars.",
          "pffff gars, mektoub, doumbé ouvert bouche, a salit homme parlant \"jordan t'es mort\", vrai muslim fais ça, dieu t'as rappelé humilité, maintenant chemin rédemption long douloureux.",
          "n’est jamais complexé devant blancs j’aime chez c’est qu’il sure",
          "née afrique grandir afrique, meilleur cadeau vie.",
          "samuel etoo légende, in monument football africain mondial, vrai champion mentalité vision bravo",
          "etoo, pourrais l'écouter parler toute journée t'ennuyer",
          "cedric perdu combat épines arrête mentir",
          "eto’o c’est impressionnant d’écouter waouuu quelle",
          "viennent loin bravo l'afrique fière cameroun encore",
          "24 heures seulement record vues chaîne nombre d'abonnés pull up. l'effet samuel eto'o doumbé 🇨🇲",
          "49:17 quelle entrée",
          "eto'o canavarro t'as rien volé 2006 ribery a volé ballon d'or",
          "seidou keita construisent entreprise 12 milliards emploi milliers malien, tintin distraire gens avec, a vue foot a developer pays",
          "hiboux sûrement venus regarder pasteur : eglisienne vie……️️️",
          "\"quand gagne souvent, champion. gagne temps sorcier\"",
          "9:46 l'anecdote fausse",
          "meilleur souvenir encore arrivé, eto'o président quelques années",
          "bougheraba parle trop, qu'on veut écouter cousin",
          "the part you looking for 1:02:50",
          "1:06:16 vrai incompréhensible quelqu'un tels absurdités",
          "etoo a rien a foutre",
          "hahahahahahah 1:02:52 qd raconte l'anecdote but qu'aurait pu marquer grand mère apres fourire monde façon dont a maignan \" dis , jeune homme \" c'était petit plié sacré samuel 🇨🇲",
          "comment possible d'être incapable factchecker triplé d'eto'o loooool shame us",
          "neuer lobbe sadio mane",
          "super etoo parle c’était meilleur monde",
          "merci grands frères l’inspiration 🫡️‍️‍",
          "super bonne équipe",
          "vidéo parfaite jusqu’à victimisation habituelle « c’est africains disent ça c’est grosse tête nanani » cr7 c’est africain sache j’ai qu’il grosse tête, mcgregor etc…. arrêter victimisation",
          "avancé passages doumpied, autant prétentieux, sinon top émission,.eto o grand monsieur",
          "samuel plaisir t'écouter, seul défaut d'être né camerounais car ambitions paraissent l'arrogance.",
          "mal gars !!!!!! aurelien étonnant. surtout, grand frère samuel là sagesse l'honneur africain football !",
          "etoo fils 🇨🇲️",
          "respectons impacté. monde, leurs bon mauvais caractères. souligné vidéos, champions seulement celui dit, assume dires réalise. merci l'inspiration partagée bon courage différentes carrière.",
          "bienveillant camerounais merci sagesse",
          "incroyable rigole apprend surtout c’est d’avoir mentalité d’un vainqueur",
          "etoo boss pense être, permette dire \"je meilleeeuuu \"",
          "pout ballon or 2006 canavaro etait shitte 2006/2007 real a chute. henry ribery.",
          "28:02 j’pp etoo c’est meilleur là a dis",
          "meilleurs font erreurs . parce n'es meilleur ; prends risques",
          "️ quelle échange incroyable ️️",
          "tchouameni sais parler quoi",
          "sport collectif meme salaires punchlines bon a termes",
          "tchouameni gars maître, sait chose vie, après foot respect",
          "redouane marrant. comprends hype autour",
          "samuel etoo parle 🇨🇩 🇨🇬 congolais... ba iké boza wapi ?",
          "aurélien tchoumeni manqué respect eto'o applaudis atteint 1million vue grâce eto'o.tu qu'on appelle quelq'un noor.tu vas encore dire oorh samuel mboutman",
          "belle team réunie",
          "etoo fierté cameroun",
          "1:28:25 parle d’andré onana",
          "super échange entre talents",
          "incroyable vraiment! magique remplit bonne valeurs.",
          "redouane surcoté, arreter l'inviter partout, rire max demi quartier a marseille",
          "discussion d’une grande qualité maturité. samuel exceptionnel, aurélien intéressant écouter, cédric bon délire, merci gars !",
          "camerounais 🇨🇲 humble n'ai jamais vu. mot n'existe chez nous. a dico qu'on a lu mot",
          "doumbé, qlq'un attentif l'écoute dehors provocations",
          "sportifs eto'o sport passion. incroyable.",
          "doumbé prévenu eto'o",
          "\"le latin langue morte\" bonne celle là",
          "celui trouve où acheter qu’à doumb tête c’est bon !!",
          "doumbe genre ancien mma lol va a ufc vas eteindre",
          "samuel cache montre vrais hommes frime joueurs maintenant monde a changé",
          "fallait invité mbappé",
          "france pays football...vas-y ça marche",
          "blanc ??? quoi vieux truc communauté",
          "l'argent dis bêtises t'ecoute",
          "m. écharde....s'invente bcp d'excuse...il pouce , ct meme",
          "est-ce tchouameni sait samuel papa loin même…? j’ai adoré simplement. africains doivent prendre exemple mentalité gens samuel, c’est gagnant mec. lieu ça, noirs pensent qu’à critiquer combattre leurs frères",
          "big samu l'afrique vrai! vachement kiffant inetrview",
          "sortez redouane svp",
          "etoo meilleur attaquant africain,like commentaire",
          "bel hommage andré onana.",
          "vive l'afrique 🇩🇿",
          "37:42 botter marche t’insulte",
          "eto’o bon orateur, profondeur",
          "continuer français svp mieux crois",
          "l'humoriste, tâche l'intérieur. fallait teddy riner légende judo.",
          "eto'o part comprends pourquoi gestion a problèmes car incompris.",
          "penser errol spence jr",
          "j’ai adorer grand frère eto’o protée moment petit frère",
          "chaussette vrunk mrc @redouanebougheraba dlg",
          "1:14:03 perdez énergie petits combat",
          "merci gars spécialement champion étoo, guinée-bissau, vrai viens dire rapport réalitë africaine (passivité, enfants calomnie etc.. ) merci ça être encore loin arrivera étoo d'autres commencés",
          "rapport entre koffi prière s’il plait?",
          "the bridge français fonctionne mieux français personnalités francophones. compare l’édition t. henry, nganou…",
          "samuel eto'o gens football mondial l'africaine,il être fier personne là",
          "samuel légende foot africain m’as gâcher interview faite , ..",
          "pense maintenant aurélien invite park ji sung , nakamura nakata, kagawa tifekusa kubo marcelo gros joueur chaque continent là..... banger assuré nakata joueur super connu sinon a mister beast, gros blue lock gros battle royal(squid game) jeux auxquels a joué petit pros amateurs brésilienne, goal goal etc.... nom nom accrocheur kami to kami",
          "5:37 eto’o a gentiment comprendre doumbè qu’il qu’il reste humble. belle leçon d’humilité d’une légende champion. (étant moi-même fan doumbè).",
          "meilleur moment 1:02:53",
          "définition confiance soi, croyance soi, l’optimisme. a l’ esprit d’un gagnant. viens changer vie… retiens simplement qu’on jamais “l’esprit éto” être grand bosseur. compréhension “l’esprit eto” c’est travailler façon acharnée continue sorte d’être convaincu qu’on train maximum être meilleure version possible soi même. c’est permet d’avoir ferme conviction, loin d’esprit d’arrogance, réussir qu’on entreprend. d’autres termes, être convaincu réussir, c’est être atteint maladie douter compétences qu’on travaille façon acharnée continue être.",
          "jf infogue phrase devenu mythique hein.. ko, \"quel grâce\"",
          "super épisode ! the bridge",
          "adoré phrase d'eto'o '' meilleurs font erreurs. parce meilleur, prends risque.''",
          "eto'o obligé mentir ??",
          "eto’o mec clean! j’espère qu’il n’a jamais participé white party diddy",
          "etoo rasiste mauavais!",
          "eto'o, légende lions immortel. doumbé, devrais t'inspirer jon jones perdu cause d'un coup illégal. a accepté devenu the goat....pourtant dominé grave combat. tandis t'as rien montré trouve baki,à âge, t'as maîtrisé. j'espère reviendras fort, l'humilité.",
          "eto'o simplement avance rapport génération",
          "formidable combattant soit, doumbé n'en moins horripilant lorsqu'il affirme perdu combat contre baki!",
          "a rappelé point aime andré onana",
          "bougherraba casting crois être seule trouver marrant. genre tout...",
          "doumbe tj entrain pleurer… t’a perdu frère",
          "tché bon passes transitions wow pro",
          "compare zlatan, a mémoire courte. a procès arrogance zlatan qu'à eto'o.",
          "merci clin d’œil légende koffi olomide.",
          "mike là chercher excuses n'ya joue mbappé cherche tjr excuses marque sors trucs genre ya pogba passes profondeur reuf justement a moitié passes coéquipiers.",
          "j'ecoute eto'o sens pousser nouvelles couilles",
          "eto'o devrait podcasts développement. l'afrique a besoin d'etoo développer. don africain. chérissons le, protégeons le. merci eto'o don vie nous. vivement écoutes peuple prennes rênes 🇨🇲🇨🇲🇨🇲",
          "d'accord eto'o, connais français blanc respecte moin zlatan, contraire.",
          "jaime hien charisme petit tres mature jaime",
          "comprends gens a point admiration devant samuel eto'o footballeur... trop...",
          "doumbe jamais faute, rend compte image tant dégradée suite a defaite, a cause défaite meme surtout pck a ouvert gueule petait pendant 4 mois \"baki mort\", malhonnêteté totale, perdu a cause d'une echarde mec, ufc battent os peté, fractures ets appelent ref autant",
          "samuel eto'o goat, supporter l'inter remercie travaux",
          "tchouameni chapeau! gestion kiffe!",
          "monsieur eto'o visionnaire",
          "pourrais écouter pendant heures sentir temps passer, paroles samuel cédric tellement sage chaque mot importance retenir",
          "belle émission surtout leçons tirer.",
          "etoo etait bon joueur lais lec vest pris zidane",
          "eto'o finit rires. raconte tellement histoire ça force respect. super fort.",
          "redouane cedrik j'aime l'autre moins",
          "difficile dire possible :c'est foi ,une ferme assurance démonstration qu'on",
          "agréable d'écouter samuel ! meilleurs font erreurs",
          "chapeau bas aurélien a masterclass!",
          "vrai émission !!! car émission preferer lafter foot devenu catastrophique !! walid a tuer émission quebil parle pr rien repete!!! degoute",
          "là grâce petites séquences différents réseaux sociaux laissé suspense conséquent venu chercher l'intégralité, lâche",
          "redouane a rien voir délire drôle",
          "interviews eto’o masterclass",
          "1:02:53 fort mentir autant samuel sait t'es fort...mais respecte vieux père.",
          "cause samuel eto'o sami ballon d'or vidéo fera millions vue d'ici quelques jours commentaire . légende eto'o",
          "n'es fou, n'as grain folie être gardien but belle parole merci mike",
          "eto’o l’humilité camerounaise",
          "radouane trouve vas loin perso, insulter spectateurs fan",
          "latin langue morte c’est incroyable",
          "rends compte dieudonné deux d'audience eto'o + redouane + tchouameny + doumbe dieudo légende.",
          "join our community for daily inspirations to help drive business and personal growth.",
          "tchouameni a su gérer distribution parole manière timing d'une passe décisive parfaite...",
          "wow quelle émission incroyable rends compte l’émission dure d’une heure temps n’as envie ça finit",
          "trouve ça dommage présence féminine moins sinon bon travail",
          "1:02:59 réaction aurélien tchouamen i 1:08:01 dédain cédric doumbé cer interview pure merveille",
          "interview qualité, rendu compte c’était fin tellement s’ennuyait 🫡",
          "bisous sam aime",
          "interview samuel etoo = masterclass",
          "samuel ego arrêter vouloir être centre monde",
          "pub tf1 quoi",
          "oulala etoo sacré joueur purée insupportable... humilité mal aussi... jordan humble lui. fan devenu fan était... rageux pls avis. peace",
          "confiance etait personne samuel eto'o confiance fascine . a mental d'un guerrier. aimé interview l'appeller ça . grave familier",
          "eto´o genre mec qu´on ecouter pendant heures s´arreter",
          "continent place 🇨🇲",
          "samuel eto'o seul sait levé salué gradient. voilà grandeur. autres restés assit .",
          "doumbé va mieux orteil??",
          "etoo arrête mentir",
          "tellement hate thomas ngijol l’imite mdrrr",
          "'' dribble sait combien joueur ligne '' mdr dribble seul joueur",
          "« meilleur » phrase mythique",
          "eto'o vraie l'affaire 3 but 39 min. plus, gagner coupe monde 2002 forme suréstimation soi.",
          "1:02:50 moment cherchiez.",
          "a samuel eto'o autres. échange enrichissant, ça plaisir d'écouter eto'o dire phrase genre ''ce meilleurs font erreurs. parce meilleur, prends risque.''",
          "eto’0 sait parler !",
          "cédric mec vraie plaie ... connaît l'art rire gens. mentalité camer",
          "vient d’où l’ensemble doumbé ?",
          "camers obligé fala c’est quoi ?",
          "fier d'être norvégien",
          "\"j'ai grand joueur, grand joueur\"",
          "fou redouane s'est embourgeoisé depuis an",
          "15:20 c'était pareil maé jeune humoristeb j'étais spectacle. parlait femme enfants, 1er rang moment dit: \"mais où mari\" ? dame répond: \"au ciel\", comment rebondi ...",
          "ngambé ,le neuf inspirant bravo papa eto'o 🇨🇲",
          "émission eto’o parle contredit… où parle d’eboue. début match finale ldc après c’était abidjan…",
          "pardon coupe parole",
          "voulu dire l'intro tchouameni fout quoi bas lieu d'aller s'entrainer.mais fin l'émission compris.respect papales francais vont louper a fin carriere.et a timbre vocal",
          "j’ai aimer vidéo , chaque personne intervient reste naturel podcast plonge atmosphère, chaque intervention fluide enseignant, j’aimerais voir mike maignan podcast. force",
          "soyons.honnêtes,.en dehors équipe nationale cameroun, etoo a jamais porté équipe. perso, joueur lambda,.voire bon. plus. arrêtons peu, ya anarque marchandise , etoo a jamais joueur envergure internationale. évident. a international, a porté équipe. ni barça, ni inter, encore moins everton. interview validé pensais savoir homme pathologiquement narcissique. grave.",
          "thierry henry ça incroyable",
          "meilleurs combattants français c’est salahdine parnasse ….",
          "eto'o régal, regarder heures",
          "gars ki mec costume chaine",
          "émission a intéressante j'espère d'autres intéressants. dois prendre exemple",
          "59:40 regard d'etoo tchouameni",
          "l'anecdote triplé avant prendre l'avion fausse",
          "46:25 balle perdue arsenal",
          "c’est première regarde c’est super sympa trouve",
          null
         ],
         "marker": {
          "color": "#CFD8DC",
          "opacity": 0.5,
          "size": 5
         },
         "mode": "markers+text",
         "name": "other",
         "showlegend": false,
         "type": "scattergl",
         "x": [
          3.5642319,
          1.4941952,
          4.503665,
          5.448945,
          4.067839,
          1.9061139,
          2.1571643,
          1.2249506,
          3.3093123,
          1.2281195,
          2.227922,
          1.8185673,
          3.44064,
          1.4481376,
          1.6746165,
          2.1133606,
          2.3088017,
          1.8861208,
          1.6549611,
          0.9445228,
          7.094766,
          1.3600675,
          2.020646,
          2.3708537,
          2.5464325,
          5.0590153,
          2.5411015,
          3.5250921,
          2.2614222,
          1.1730112,
          2.4556353,
          2.7426488,
          3.377678,
          1.2715017,
          0.7438862,
          2.9146647,
          5.189259,
          1.6736096,
          2.7437744,
          2.9570212,
          3.3949149,
          2.9732988,
          3.653128,
          4.892856,
          1.6319431,
          2.375018,
          1.7341219,
          4.7495003,
          3.6799662,
          3.547191,
          3.140571,
          5.1877794,
          1.735961,
          3.7320685,
          0.8045727,
          1.9638999,
          1.6679031,
          1.9431658,
          5.790906,
          2.6122627,
          2.8501637,
          1.6707441,
          5.1060104,
          5.4429164,
          2.7973258,
          5.123515,
          4.24754,
          2.2592413,
          5.261279,
          1.458877,
          1.4446081,
          2.9739718,
          2.2637339,
          3.8513067,
          3.7221088,
          1.3238567,
          2.1527467,
          3.8754537,
          4.70762,
          2.363968,
          3.4574327,
          2.797879,
          4.691886,
          2.2830627,
          4.520938,
          3.3805149,
          4.5801277,
          4.592076,
          2.1741834,
          2.3166435,
          3.6795883,
          4.8977604,
          2.6163363,
          1.9459321,
          3.5605576,
          3.1606398,
          4.1285863,
          2.2333696,
          3.3624063,
          3.5301454,
          1.3755344,
          3.490562,
          4.463695,
          1.6097826,
          3.5542328,
          2.0433667,
          1.1758887,
          2.2214618,
          2.151428,
          3.5950685,
          3.1290932,
          7.327607,
          4.0203815,
          3.6662338,
          3.0365028,
          3.8373501,
          0.80625284,
          2.2357948,
          1.0487727,
          7.0910764,
          2.798958,
          2.1876776,
          4.231388,
          0.78228325,
          2.7954972,
          2.114987,
          4.49996,
          0.13556533,
          3.4450278,
          3.182449,
          2.7874444,
          3.5246012,
          3.1196628,
          3.315103,
          3.7853706,
          1.3253325,
          0.77381736,
          3.66225,
          7.089877,
          -0.3894464,
          2.0829031,
          1.4740179,
          2.402885,
          5.4386954,
          1.4013,
          2.2036428,
          4.1766906,
          3.126214,
          5.186471,
          1.4938873,
          3.3985739,
          1.5846788,
          4.2391768,
          2.6516306,
          2.0264788,
          4.118669,
          4.102086,
          1.7003424,
          2.3459773,
          3.1334972,
          4.8790917,
          2.6499596,
          1.3369873,
          4.3770165,
          2.1248784,
          3.5703654,
          3.576977,
          1.6506635,
          2.976718,
          1.5481981,
          3.1143146,
          3.1944752,
          6.4702463,
          0.7991045,
          1.6606164,
          4.6420703,
          4.2982173,
          2.8138914,
          2.8108726,
          4.62209,
          4.0802345,
          0.76860625,
          2.5197115,
          2.1855059,
          4.7048874,
          4.659191,
          1.826964,
          1.8786993,
          1.3293767,
          5.071989,
          3.8259792,
          0.90703493,
          4.594067,
          3.943888,
          1.869133,
          3.465793,
          1.557911,
          4.918284,
          1.6130912,
          0.31693855,
          1.3765373,
          2.2379134,
          3.2431753,
          1.7445259,
          2.9037554,
          2.533593,
          3.742312,
          0.58379704,
          2.9114988,
          2.388675,
          2.8475816,
          4.315666,
          3.9280987,
          2.1188343,
          1.6168705,
          1.7171748,
          2.6329343,
          4.5651813,
          2.6113422,
          7.0945406,
          0.42671645,
          1.5501509,
          1.4110591,
          2.8272686,
          1.8734946,
          6.1845016,
          3.85359,
          0.6703219,
          5.0467386,
          3.3411565,
          0.5007504,
          1.8252702,
          2.501638,
          0.98155683,
          2.070088,
          1.8053805,
          5.192361,
          3.4742804,
          1.448552,
          2.2682953,
          2.609398,
          4.22361,
          3.7301295,
          3.5640168,
          1.0139574,
          1.6671727,
          2.6176398,
          3.9641826,
          4.797843,
          2.7814314,
          4.619124,
          3.3313053,
          4.868369,
          2.326461,
          1.9170436,
          1.5249909,
          2.4739013,
          1.8346237,
          2.8975577,
          3.7480514,
          2.9350457,
          0.56723475,
          3.4453828,
          3.305573,
          0.7760487,
          4.79548,
          4.6210585,
          4.395697,
          3.1970708,
          0.29112,
          2.470048,
          1.961094,
          0.75910354,
          7.0952396,
          1.7009715,
          3.6164956,
          1.4438672,
          2.9011712,
          2.2280583,
          2.8039567,
          3.341747,
          1.9480835,
          3.6770554,
          1.4244971,
          3.3072622,
          3.3879046,
          3.7209842,
          2.2543302,
          3.9891896,
          3.4280815,
          2.784521,
          4.8211884,
          3.1421483,
          5.303088,
          1.9123441,
          5.434752,
          3.080265,
          1.6504961,
          3.909685,
          1.8297,
          5.7884793,
          2.839879,
          7.0648303,
          3.6074054,
          3.3321822,
          1.0476918,
          2.2061455,
          3.6424918,
          4.2051744,
          3.8411303,
          3.6615694,
          1.7617434,
          2.3222988,
          1.3667036,
          3.223138,
          1.3584747,
          0.6195993,
          1.4352748,
          2.814009,
          3.4102533,
          1.3839147,
          4.9188375,
          3.7083528,
          2.6524985,
          -0.41969904,
          2.6147423,
          3.0936375,
          3.0987897,
          3.7731328,
          3.1118574,
          0.8711006,
          1.6793185,
          4.7770314,
          3.1100261,
          1.9669496,
          3.9513972,
          0.37205222,
          7.0926414,
          1.5891569,
          2.0793872,
          1.8083344,
          1.7179347,
          5.527827,
          3.1647282,
          2.8083453,
          3.0491655,
          3.4589148,
          3.4021473,
          0.91375196,
          2.6507246,
          1.7525005,
          3.9921088,
          0.90485066,
          2.202191,
          1.0969473,
          1.4012535,
          1.7593077,
          3.6048083,
          1.3300753,
          0.84148717,
          1.6227975,
          2.8905013
         ],
         "y": [
          7.038073,
          7.7824416,
          7.180402,
          8.365253,
          7.239448,
          8.349428,
          7.622603,
          7.8441033,
          7.861428,
          9.440645,
          7.150588,
          8.140859,
          6.593643,
          9.050095,
          9.030092,
          7.1423316,
          7.8747253,
          8.396628,
          8.371033,
          7.9016404,
          11.658029,
          8.915625,
          8.636651,
          7.8383846,
          8.358624,
          5.832647,
          7.588167,
          6.287937,
          8.473626,
          9.428909,
          7.4774446,
          7.3010783,
          6.652179,
          8.227289,
          8.824634,
          8.703212,
          9.522103,
          7.289743,
          7.6159816,
          10.361174,
          7.335539,
          10.304466,
          7.929639,
          5.565194,
          9.467531,
          8.776609,
          7.611237,
          7.049679,
          9.981524,
          7.6698256,
          7.2451243,
          8.3650055,
          8.773461,
          9.604435,
          7.2744246,
          7.213291,
          7.2786646,
          8.12337,
          9.931762,
          8.47503,
          9.39594,
          8.332635,
          5.986913,
          9.276444,
          9.53164,
          9.117923,
          11.235298,
          7.944055,
          8.225009,
          8.697871,
          8.637582,
          8.829693,
          9.099152,
          8.850628,
          7.344214,
          8.574994,
          7.8861985,
          7.9602213,
          6.3924026,
          8.600485,
          6.5384254,
          9.542196,
          8.129996,
          8.520017,
          6.7640414,
          8.330764,
          7.338191,
          6.8636713,
          7.366538,
          7.855456,
          7.42212,
          8.437244,
          9.031018,
          9.514404,
          6.2676525,
          8.548561,
          11.213265,
          7.269098,
          8.146541,
          6.6234283,
          8.928708,
          7.7788014,
          7.983999,
          9.388615,
          6.7239356,
          8.034582,
          10.142289,
          8.361333,
          8.221974,
          9.942772,
          8.176071,
          8.32836,
          9.335012,
          9.965353,
          6.962092,
          8.8344965,
          7.3542724,
          7.672034,
          7.9833803,
          11.656691,
          8.951439,
          7.752127,
          8.9140625,
          7.33662,
          9.536549,
          8.203954,
          7.5817585,
          9.150522,
          8.981547,
          7.9159565,
          9.531456,
          7.31852,
          8.673295,
          7.3956537,
          7.2316527,
          8.663837,
          7.296753,
          8.510147,
          11.654106,
          8.127248,
          7.259997,
          9.319893,
          8.662547,
          8.373536,
          7.7138553,
          8.718346,
          6.8121614,
          8.2295065,
          9.217226,
          8.422807,
          9.603217,
          7.678281,
          8.595056,
          8.262951,
          8.536445,
          6.7687902,
          8.015569,
          8.274747,
          8.98196,
          7.239695,
          8.46655,
          7.4275675,
          8.678007,
          7.38738,
          8.466578,
          8.454627,
          7.9375,
          7.986785,
          8.696358,
          9.347741,
          8.1376,
          7.539741,
          9.615716,
          8.591048,
          8.508195,
          7.8729625,
          7.7612824,
          8.274244,
          8.031349,
          7.365886,
          9.070675,
          7.298437,
          7.7976904,
          7.2024336,
          8.381583,
          7.769151,
          8.120478,
          7.118801,
          8.902944,
          6.00645,
          8.863446,
          7.9481015,
          7.3376565,
          7.94942,
          8.404516,
          6.5851636,
          7.3907266,
          9.251611,
          9.183804,
          7.7223454,
          8.73624,
          7.019376,
          8.008356,
          8.754501,
          10.237308,
          8.563422,
          9.235088,
          8.745247,
          7.0883927,
          8.282046,
          8.0801325,
          7.6928277,
          9.565937,
          7.8911185,
          9.477661,
          7.6236653,
          8.504776,
          7.259723,
          8.547903,
          11.658428,
          8.69572,
          9.458344,
          8.149713,
          8.024252,
          7.873671,
          10.295659,
          9.044234,
          8.680508,
          5.9693117,
          9.654102,
          8.722277,
          8.922477,
          8.592129,
          9.752708,
          8.498778,
          8.331972,
          9.489797,
          9.033401,
          9.2118,
          8.617378,
          7.955014,
          11.164703,
          6.8910704,
          7.0825605,
          7.960364,
          7.813216,
          7.3900847,
          7.663914,
          8.3543005,
          9.531621,
          8.143848,
          9.657139,
          8.397023,
          7.8061585,
          8.875678,
          9.418026,
          7.8667574,
          8.032693,
          9.177668,
          9.306496,
          9.022939,
          7.699963,
          7.735877,
          10.689643,
          7.2674007,
          7.758846,
          7.723841,
          7.1209273,
          7.886772,
          7.707518,
          7.5190606,
          8.939762,
          7.278308,
          11.658587,
          7.268565,
          7.9287934,
          7.5718994,
          7.4877515,
          8.615919,
          7.12242,
          9.640327,
          7.975205,
          9.327539,
          8.748321,
          7.78145,
          10.655658,
          6.877805,
          9.769637,
          8.590757,
          7.6384907,
          8.062334,
          7.5376334,
          7.213814,
          9.087027,
          9.356806,
          10.115945,
          8.485332,
          7.7192125,
          7.11594,
          8.075079,
          10.098789,
          8.05811,
          11.643441,
          10.02112,
          7.0567245,
          7.9476175,
          6.8918204,
          10.035426,
          11.185881,
          8.870941,
          7.307643,
          6.584089,
          7.563619,
          9.057824,
          9.344809,
          8.4088545,
          9.642874,
          8.544597,
          7.5663705,
          8.589635,
          8.614717,
          11.502939,
          10.075661,
          7.3746285,
          8.165957,
          7.3454685,
          8.152647,
          8.718181,
          9.885255,
          8.295981,
          7.3424826,
          7.252851,
          10.397782,
          6.9672675,
          8.940773,
          6.7113166,
          7.7045135,
          11.658672,
          9.323697,
          7.091081,
          8.328028,
          7.390634,
          10.280858,
          7.122418,
          9.54465,
          7.9125457,
          9.025541,
          7.1143384,
          9.353162,
          7.7343225,
          7.566896,
          7.355691,
          7.2111936,
          7.2458925,
          8.751797,
          7.8615403,
          7.983903,
          9.571978,
          7.598228,
          7.758121,
          7.8419414,
          8.331804
         ]
        },
        {
         "hoverinfo": "text",
         "hovertext": [
          "jeunes nont force samuel etoo",
          "24:10 ronaldo…. suuuu",
          "《orrrhhh samuel》qui a ref",
          "ahhhh samuel sacré tchouameni",
          "viennent tik tok cause orh samuel",
          "57:00 messi a lobe pied droit svp 1:00:00 memorable - ahhh samuel",
          "abounane takelele kimpo ziboudi aaammoutch....brrrrrrrrrr",
          "1:02:55 << oh samuel >>",
          "<< orrh samuel >> désormais partie culture",
          "oh samuel (il souffle fort) 1:02:52",
          "\" comment faites battre n'avez aucun problème entre \" aaaah samuel m'as tué",
          "samuel dieu vivant",
          "1:03 orhhh samuel j'adore",
          "authentique c’est samuel ressemble street",
          "mytho samuel malgré",
          "cherchent oohhh samuel 1:02:52",
          "1:02:51 nouvelle célèbre réf tiktok : fameux « ohhh samuel » « samuel t’abuses « ……🇨🇲🇨🇲🇨🇲…",
          "fannn samuel chouchou",
          "\" oorrrhhh samuel\" blague part, c’est vrai cocktail super mindset. c’est rien nous-même",
          "seule chose dire, ooooorh samuelllllllllllllllllllll",
          "samuel i’m so proud of you",
          "1:02:54 orhhh samuel",
          "« samuel t’abuse baï »",
          "1:02:40 « orw samuel »",
          "super contenu merci mindset samuel",
          "samuel : « j’ai salaire fédération, j’en besoin » aurélien : « ahn d’accord »",
          "tchouameni, samuel, irreductible: égal !!!",
          "mdr samuel ! déchaîné !",
          "1:02:54 ça tue samuel abuse bail",
          "inspirant grand samuel.",
          "oh samuel , samuel t'abuses bail",
          "ahhh samuel tchip...",
          "the legend samuel etoo",
          "n'adore dieu grosse force cedrik boumber",
          "samuel seul s’est lever serrer main respect",
          "cedric regale 1ere loge haha samuel",
          "samuel fort grin",
          "\" orrrh samuel \" tue",
          "oooh samuel . petit mauvais",
          "comment ça ooorh samuel ??? demande encore parents raconter aurélien",
          "merci samuel exemple",
          "vrai samuel permettre emission meme serie netflix",
          "ooooorhhh samuel tchip",
          "samuel a fini",
          "1:17:30 maignan retien fortement rigoler derrière samuel",
          "samuel t’abuuzzzee bail",
          "samuel, reste attacher idées",
          "hoooo samuel tchipp jsui mort",
          "samuel m'a régalé bons l'équipe",
          "trois (03) champions 🇨🇲🇨🇲🇨🇲 merci papa samuel etoo",
          "aime positivity samuel",
          "orhhhh samuel tchipp",
          "j’aime tellement samuel.",
          "1:02:52 ohrrr, samuel… tchiiip",
          "aaaaaarghr , samuellll",
          "oh samuel ️",
          "\"orhhhh samuel\" merci aurélien",
          "samuel étoo all star striker ..hit the like button",
          "1:02:53 ooorrrrrrhhh samuel",
          "oooh samuel !!!!!!!!!",
          "1:02:57 ohh samuell",
          "là cause samuel",
          "là d'après réaction aurelien stories ohhhhh samuel",
          "9:45 rhoo samuel",
          "eto’o devenu chef grin hein tchouameni versé orrrr samuel",
          "vasi sait bon joueur ooooooorrrhhhhh mito",
          "j’ai adoré samuel grand footballeur passage bein sport a monstrueux",
          "fameux ohhh samuel",
          "1h 02/56s pepite ohrrr samuel",
          "samuel orhhhh 1:02:54 remercier",
          "interview touchante, meilleurs sportifs camer particulièrement star incontournable : samuel 🇨🇲 🇩🇿",
          "oooorh mince samuel eto'o fils ze bridge simplement 'ze wise'.. excusez",
          "samuel enfants triplés redouane fou",
          null
         ],
         "marker": {
          "opacity": 0.5,
          "size": 5
         },
         "mode": "markers+text",
         "name": "0_samuel_02_samuel samuel",
         "text": [
          "",
          "",
          "",
          "",
          "",
          "",
          "",
          "",
          "",
          "",
          "",
          "",
          "",
          "",
          "",
          "",
          "",
          "",
          "",
          "",
          "",
          "",
          "",
          "",
          "",
          "",
          "",
          "",
          "",
          "",
          "",
          "",
          "",
          "",
          "",
          "",
          "",
          "",
          "",
          "",
          "",
          "",
          "",
          "",
          "",
          "",
          "",
          "",
          "",
          "",
          "",
          "",
          "",
          "",
          "",
          "",
          "",
          "",
          "",
          "",
          "",
          "",
          "",
          "",
          "",
          "",
          "",
          "",
          "",
          "",
          "",
          "",
          "",
          "0_samuel_02_samuel samuel"
         ],
         "textfont": {
          "size": 12
         },
         "type": "scattergl",
         "x": [
          5.1086392,
          5.391607,
          4.4559016,
          4.257325,
          4.961297,
          4.6078215,
          4.323113,
          4.6239867,
          4.8241954,
          4.6462245,
          4.716071,
          4.915341,
          4.687441,
          5.0150023,
          4.9881377,
          4.6211076,
          4.338367,
          4.992556,
          4.515809,
          4.5606394,
          4.702464,
          4.559803,
          4.3453937,
          4.6159987,
          4.3382397,
          4.0723786,
          4.0460205,
          4.889561,
          4.3270016,
          4.9947166,
          4.3412905,
          4.4785333,
          5.183601,
          4.442929,
          4.7396183,
          4.278965,
          4.734453,
          4.768165,
          4.725063,
          3.9807448,
          5.0563354,
          5.084332,
          4.4541903,
          5.05948,
          5.012884,
          4.262817,
          4.731492,
          4.486236,
          4.79963,
          4.640496,
          4.936175,
          4.533474,
          4.9070516,
          4.4898944,
          4.543088,
          5.0617533,
          3.9163895,
          4.3875046,
          4.599874,
          4.7597075,
          4.53954,
          5.0649447,
          4.216217,
          4.7023435,
          4.264416,
          4.363787,
          4.8749356,
          4.833739,
          4.591689,
          4.5393734,
          5.0114145,
          4.2409263,
          4.611932,
          4.6396384
         ],
         "y": [
          12.213997,
          10.847722,
          12.302716,
          11.721076,
          12.214535,
          12.582597,
          11.957961,
          12.579856,
          12.452486,
          12.62754,
          12.301641,
          12.216605,
          12.290638,
          12.299281,
          12.317951,
          12.628309,
          12.415769,
          12.183228,
          12.263516,
          12.515565,
          12.263311,
          12.651539,
          12.460334,
          12.607589,
          12.339938,
          12.281642,
          11.4169235,
          12.355017,
          12.557994,
          12.322259,
          12.484998,
          11.88462,
          12.163003,
          12.188519,
          11.758932,
          12.298506,
          12.371464,
          12.20616,
          12.318944,
          12.226271,
          12.247901,
          12.24799,
          12.0387535,
          12.2912035,
          12.313182,
          12.560276,
          11.823475,
          12.041892,
          12.2624855,
          12.334971,
          12.3008,
          12.049794,
          12.237965,
          12.428312,
          12.60844,
          12.288088,
          12.208505,
          12.291779,
          12.53785,
          12.362053,
          12.637654,
          12.291222,
          12.3364105,
          12.422825,
          11.5838175,
          11.415387,
          12.238248,
          12.291927,
          12.575205,
          12.660581,
          12.144323,
          11.503219,
          12.587935,
          12.250074
         ]
        },
        {
         "hoverinfo": "text",
         "hovertext": [
          "samuel etoo !!!",
          "vu samuel eto’o j’étais petit l’aéroport parents",
          "avoue appris dialogue surtout grande légende samuel etoo. grand visionnaire.",
          "samuel eto’o c’est garçon… connaissent histoire comprennent",
          "samuel fils u fiert3 d'afrique vrema",
          "podcasts ça samuel eto’o",
          "but contre bresil etoo jeux olimpique",
          "l'effet samuel eto'o 2jours 700k vues",
          "\"le meilleur souvenir, celui arrive...\" samuel eto'o 🇨🇲",
          "j’ai l’impression samuel etoo mens vente bcp trouve",
          "samuel eto'o chaud",
          "légende samuel eto'o ️",
          "samuel eto'o meilleur",
          "respect samuel eto'o frissons",
          "wow samuel eto‘o. his mentality is insane 🇨🇲",
          "eto'o samuel meilleur d'afrique",
          "samuel eto'o spurce d'inspiration. 🇨🇩️",
          "samuel eto'o degage légendaire. homme!",
          "imagine contact samuel eto'o tchouameni",
          "super samuel eto’o inspirant",
          "samuel eto'o tueur interview",
          "big up champion samuel eto'o",
          "1:27:34 samuel eto’o futur président 🇨🇲 ?",
          "samuel etoo exellement exellent",
          "t'as respect samuel eto'o, like commentaire.",
          "samuel respect frérot",
          "samuel eto'o fils!!!!! légende barca !! eto'o dynamite!!! lors interviews longue vie eto'o!!!!",
          "merci samuel eto’o !",
          "samuel eto'o unique",
          "samuel eto'o fils",
          "eto’o samuel légende 🇨🇲",
          "samuel eto'o meilleur président🇨🇬🇨🇲",
          "t’as cedric doumbe samuel eto’o mm video sais qu’il y’aura chaud",
          "samuel eto’o légende vivante 🫡",
          "jour veux être meilleur joueur samuel eto'o",
          "grâce facebook. hiboux voyent fauteuil samuel eto'o. garoua",
          "samuel best of thé best 🇩🇿",
          "samuel eto'o oussama amar football",
          "lorsque gens mal parler d'un samuel eto'o incroyable!",
          "samuel eto'o, seul, l'unique, légende",
          "camerounais sachez seulement samuel eto'o appartient monde depuis 🇮🇪",
          "voulez samuel eto'o cameroun donnez-le rdc 🇨🇩",
          "samuel eto'o n'a vérifié angles mort",
          "samuel etoo ️ cédric ndoumbe ️ aurélien tchouameni ️ t’es camerounais 🇨🇲, laisses like commentaire.",
          "j'adore mec, eto'o samuel m'inspire",
          "samuel eto’o grand monsieur",
          "samuel eto’o personnage futuriste tellement avance temps ️papa dieu bénisse",
          "samuel éto’o payait kérosène l’avion l.équipe national … c’est réel",
          "grâce facebook . bravo samuel garoua.",
          "impressionnant samuel eto'o merci mentalité cédric",
          "samuel eto'o suivez regard",
          "écoutant samuel etoo, confiance soi. merci samuel",
          "l'effet samuel eto'o a booster chaîne",
          "j'aimes samuel eto'o seul joueur j'aimes.",
          "l'enfant béni samuel eto'o",
          "légende samuel eto'o 🇨🇲🇨🇲🇨🇲🇨🇲🇨🇲",
          "samuel eto’o a mental d’acier c’est incroyable",
          "discours samuel eto'o",
          "mental samuel eto’o cr7",
          "samuel eto'o grand esprit",
          "merci samuel etoo legende",
          "samuel grand menteur l’histoire",
          "samuel eto'o tres dangereux interview effectivement",
          "jaime samuel etoo quelle mentalité incroyable",
          "togolaise j'écoute samuel eto'o m'inspire l'adore",
          "samuel eto'o t'es monstre mindset malade gagner gars.",
          "samuel eto'o the best",
          "dès samuel eto'o clique légende point.",
          "samuel eto'o ecouter éternité",
          "samuel eto'o g.o.a.t interview",
          null
         ],
         "marker": {
          "opacity": 0.5,
          "size": 5
         },
         "mode": "markers+text",
         "name": "1_samuel eto_samuel_eto",
         "text": [
          "",
          "",
          "",
          "",
          "",
          "",
          "",
          "",
          "",
          "",
          "",
          "",
          "",
          "",
          "",
          "",
          "",
          "",
          "",
          "",
          "",
          "",
          "",
          "",
          "",
          "",
          "",
          "",
          "",
          "",
          "",
          "",
          "",
          "",
          "",
          "",
          "",
          "",
          "",
          "",
          "",
          "",
          "",
          "",
          "",
          "",
          "",
          "",
          "",
          "",
          "",
          "",
          "",
          "",
          "",
          "",
          "",
          "",
          "",
          "",
          "",
          "",
          "",
          "",
          "",
          "",
          "",
          "",
          "",
          "",
          "1_samuel eto_samuel_eto"
         ],
         "textfont": {
          "size": 12
         },
         "type": "scattergl",
         "x": [
          5.8022723,
          6.3329434,
          5.7665386,
          6.583389,
          6.2991486,
          6.487482,
          6.308934,
          6.4390216,
          6.313479,
          5.7611394,
          6.600929,
          6.564345,
          6.735718,
          6.3546333,
          6.5231657,
          6.5960503,
          6.2421727,
          6.630983,
          6.325995,
          6.3095417,
          6.623873,
          6.580053,
          6.613935,
          5.744145,
          5.8029184,
          5.7757626,
          6.5864525,
          6.5295324,
          6.707825,
          6.65003,
          6.657429,
          6.7144666,
          6.094295,
          6.7322392,
          6.6709013,
          6.3139544,
          6.7339325,
          6.5792503,
          6.368876,
          6.664334,
          6.573855,
          6.3546195,
          6.644865,
          6.1293693,
          6.1302996,
          6.651198,
          5.8277583,
          6.6068516,
          5.916483,
          5.8361416,
          6.785222,
          5.742835,
          6.4468803,
          5.8745847,
          6.5025883,
          6.551289,
          6.7299933,
          6.490067,
          6.5051546,
          6.5641747,
          5.700912,
          6.169735,
          6.505511,
          5.776535,
          6.0905766,
          6.7641864,
          6.7314577,
          6.6510987,
          6.717612,
          6.5041823,
          6.379973
         ],
         "y": [
          10.593973,
          10.2485895,
          10.388919,
          9.907486,
          9.436252,
          10.2503195,
          9.268745,
          10.393544,
          10.033455,
          10.523782,
          10.275577,
          10.168052,
          9.8678465,
          10.474574,
          10.211636,
          9.741601,
          9.771747,
          9.837291,
          10.362023,
          10.05684,
          9.651895,
          10.24299,
          10.100557,
          10.597526,
          10.013639,
          10.007834,
          9.766175,
          10.256522,
          9.881003,
          9.899829,
          10.1531,
          9.998821,
          10.577043,
          9.8470955,
          9.81545,
          10.523131,
          9.826214,
          10.241824,
          10.050388,
          9.863566,
          10.223158,
          10.337919,
          9.67718,
          10.216063,
          10.094706,
          9.952357,
          10.403683,
          10.283298,
          10.734494,
          9.958751,
          9.949254,
          10.53562,
          10.390542,
          10.078013,
          10.307035,
          10.241811,
          9.828418,
          10.207623,
          10.224257,
          9.901769,
          10.504968,
          10.379721,
          9.617696,
          10.629004,
          10.034681,
          9.771759,
          9.786958,
          10.107369,
          9.880626,
          9.614059,
          10.099995
         ]
        },
        {
         "hoverinfo": "text",
         "hovertext": [
          "j'adore écouter eto'o.j'aimais voir jouer.",
          "eto'o éternel... eto'o exceptionnel... eto'o extraordinaire... eto'o unique... force eto'o ...",
          "etoo papa na dohi",
          "legends surtout eto'o",
          "interviews d'eto'o sensationnels",
          "parle gardiens être fou ça penser oliver kahn fou !",
          "vasi etoo rend fou",
          "meilleur meilleurs eto'o respects.",
          "eto'o personne magnifique",
          "bravo eto’o invités🇨🇬🇨🇬🇨🇬🇨🇬",
          "sef grand homme!!!!",
          "merci papa eto'o",
          "touche eto'o, eto'o continent",
          "papah eto'o fierté pays 🇨🇲",
          "merci papa eto'o",
          "là eto‘o ️🇨🇲",
          "eto'o personne incroyable qualités",
          "eto'o ment telle assurance",
          "interview eto'o depuis 🇬🇦",
          "enfaîte l'émission spéciale eto'o lourd",
          "grand monsieur eto'o",
          "camerounais arrêtez hein, eto'o appartient tous. j'admire",
          "etoo we love you meilleur.des.meilleur",
          "etooo…. etooo.. etooo ehhh etoo!!!!🇨🇲🇨🇲🇨🇲🇨🇲",
          "etooo this man",
          "dois être seul ici... trouve eto'o insupportable réalité",
          "eto'o défait nœuds 🇨🇲",
          "besoins personnes eto'o dieu bénisse protège",
          "eto'o grand monsieur...",
          "touche eto'o, eto'o continent",
          "camerounais obligés savoir eto'o appartient hein🇨🇩🇨🇩",
          "t'es là eto'o like commentaire",
          "belle émission. merci eto'o fils",
          "pasteur papa eto'o. we love u sir. ️🇨🇲🇨🇲",
          "no etoo jajajaja",
          "eto'o m'inspire légende grand respect",
          "eto'o fou grand monsieur 🇩🇿",
          "trouve eto'o perte confiance soi",
          "samel etoo meilleur coachs tiktok",
          "eto’o film q",
          "touche eto'o, eto'o continent",
          "pris plaisir regarder émission surtout père eto'o partie",
          "papa eto'o . legend ️",
          "bravo nouvelle émission seb! grand eto'o, magnifique",
          "grand etoo 🫶🇩🇿️",
          "sympa partie d'eto'o",
          "e.t.o.o f.i.l.s gracias",
          "papa eto'o t'adore",
          "eto'o n'a aucune corde cerveau. homme libre.",
          "facettes ´o grand hommme",
          "merci eto'o mindset....",
          "longue vie monsieur eto'o",
          null
         ],
         "marker": {
          "opacity": 0.5,
          "size": 5
         },
         "mode": "markers+text",
         "name": "2_eto_papa_papa eto",
         "text": [
          "",
          "",
          "",
          "",
          "",
          "",
          "",
          "",
          "",
          "",
          "",
          "",
          "",
          "",
          "",
          "",
          "",
          "",
          "",
          "",
          "",
          "",
          "",
          "",
          "",
          "",
          "",
          "",
          "",
          "",
          "",
          "",
          "",
          "",
          "",
          "",
          "",
          "",
          "",
          "",
          "",
          "",
          "",
          "",
          "",
          "",
          "",
          "",
          "",
          "",
          "",
          "",
          "2_eto_papa_papa eto"
         ],
         "textfont": {
          "size": 12
         },
         "type": "scattergl",
         "x": [
          5.0885563,
          4.9484763,
          4.0595584,
          4.8236327,
          4.5322385,
          4.567913,
          4.8074074,
          4.832749,
          4.7529144,
          4.7318244,
          4.6006956,
          4.068238,
          5.112254,
          5.442406,
          4.13242,
          4.890626,
          4.54133,
          4.7523284,
          5.0168233,
          4.295162,
          4.6644,
          4.5566053,
          4.2653627,
          4.926733,
          4.5836143,
          4.808647,
          4.4191303,
          4.9915767,
          4.6542234,
          5.15874,
          4.5660396,
          4.823179,
          4.117796,
          4.1828756,
          4.9240136,
          4.802143,
          4.64804,
          5.370772,
          4.970452,
          4.6569,
          5.1286807,
          4.0560074,
          4.938534,
          4.1604524,
          4.962377,
          4.352882,
          4.848896,
          4.821228,
          4.322726,
          4.6834955,
          4.8368273,
          4.608393,
          4.68864
         ],
         "y": [
          9.910766,
          9.9252,
          9.545082,
          9.926174,
          9.738359,
          10.207681,
          10.368101,
          9.889771,
          9.729397,
          9.889395,
          9.644436,
          9.566528,
          9.897929,
          9.474866,
          9.6270895,
          9.959714,
          9.436017,
          9.578253,
          9.925259,
          9.815612,
          9.88285,
          9.952185,
          9.618589,
          10.064753,
          9.754501,
          9.890505,
          9.962381,
          10.029724,
          9.822052,
          9.902851,
          9.947947,
          9.7479105,
          9.6039095,
          9.664722,
          10.270844,
          9.501541,
          10.119167,
          10.266884,
          9.483276,
          9.656879,
          9.903206,
          9.595832,
          9.975828,
          9.521958,
          10.086377,
          9.823527,
          9.826567,
          9.788299,
          10.040256,
          9.970196,
          9.940686,
          9.8841,
          9.837614
         ]
        },
        {
         "hoverinfo": "text",
         "hovertext": [
          "i dont like the way tchouameni talks to etoo, dude is a legend have some respect kid j'aime maniere dont tchouameni parle etoo ,",
          "tchouameni, bon présentateur",
          "\" e anecdote fin \" tchouméni sébastien - abdelhamid n' parler",
          "aurélien tchouameni ️",
          "tchouameni a trouvé nouveau taff eto'o légende",
          "j’aime tchouameni tant qu’host",
          "niveau qi ,,,,????",
          "tchouameni respecter cameroun hein ....",
          "impressionné tchouameni sons éloquence pertinence etc a l’air trooop sympa",
          "tchouameni has such a smooth accent when talking in english",
          "tchouaméni tellement agréable posé, discret agréable écouter pogba manque",
          "tchouameni dr dre avant retrouve groupe nwa !",
          "tchouameni meilleur animateur sébastien abdelhamid",
          "mdr ancien tchouameni",
          "ptn tchouameni fort présentation",
          "tchouameni premier cacher match niveau",
          "tchouameni bon calme, posé, bravo !!!",
          "tchouameni monstre interview",
          "respect a tchouamani. quelle aisance. ça force l’administration. intelligent garçon. 🇨🇲",
          "attend quoi ? tchouameni devenue presentateur ?",
          "pourquoi tchouaméni veut grand tipeu",
          "a l'air tres intelligent tchouaméni",
          "is that toucheameni?",
          "omg tchouameni stop interrupting before they finish a point or story.",
          "etoo, tchouameni, doumbe. 🇨🇲🇨🇲🇨🇲",
          "l'intelligence tchouameni simplement remarquable.",
          "bête hein tchouameni.... maîtrise sujet ....",
          "tchouamenii a taff après foot graaave a l'aise woouuaaahhh",
          "tchouameni charismatique voix",
          "tchouaméni excellent maître conversation. agréablement surpris",
          "tchouameni respect 🫡🫡🫡🇨🇲🇨🇲🇨🇲",
          "tchouameni monstreux real",
          "who would’ve imagined seeing tchoua in such a different setting?",
          "tchouameni meilleur journaliste",
          "tchouameni qu'es fais ?",
          "attendez y'a choqué titre ? mis mike maignan lieu aurélien tchouameni",
          "merci chef œuvre doumbe tchouameni redouane merci",
          "bon. presentateur footballeur.",
          "05:36 tchouameni vrai tarba",
          "tchoumachin prend camerounais , a fin joue ??!!",
          "redécouvre tchouameni bon moderateur",
          "tchouameni devient animateur télé quoi ?",
          "tchuameni, bon présentateur",
          "\"mais diiis jeune homme...\"",
          "trouve tchouameni pertinent ca tant qu'animateur...",
          null
         ],
         "marker": {
          "opacity": 0.5,
          "size": 5
         },
         "mode": "markers+text",
         "name": "3_tchouameni_tchouaméni_bon",
         "text": [
          "",
          "",
          "",
          "",
          "",
          "",
          "",
          "",
          "",
          "",
          "",
          "",
          "",
          "",
          "",
          "",
          "",
          "",
          "",
          "",
          "",
          "",
          "",
          "",
          "",
          "",
          "",
          "",
          "",
          "",
          "",
          "",
          "",
          "",
          "",
          "",
          "",
          "",
          "",
          "",
          "",
          "",
          "",
          "",
          "",
          "3_tchouameni_tchouaméni_bon"
         ],
         "textfont": {
          "size": 12
         },
         "type": "scattergl",
         "x": [
          2.2553127,
          1.6997181,
          1.6591966,
          2.0840006,
          2.0660307,
          2.0912375,
          1.9189657,
          2.2850351,
          1.8264173,
          2.0012686,
          1.7901005,
          2.0135224,
          1.563844,
          2.0221963,
          2.036565,
          1.9306307,
          1.9527999,
          1.8982545,
          1.9503958,
          1.7333015,
          2.0612075,
          1.921135,
          1.9031781,
          1.7774489,
          2.1498106,
          1.9634911,
          1.9127648,
          2.0773723,
          1.9011598,
          1.7165837,
          2.293138,
          1.9039571,
          2.0146596,
          1.5874801,
          1.8460568,
          2.0825026,
          2.3450205,
          1.3395207,
          1.9584681,
          1.9088261,
          1.8061918,
          1.6509881,
          1.7454474,
          1.9773439,
          1.4023135,
          1.9116633
         ],
         "y": [
          10.628836,
          10.459458,
          9.885619,
          10.679352,
          9.98198,
          10.705463,
          10.64546,
          10.593637,
          10.337092,
          10.698371,
          9.692025,
          9.915908,
          10.335301,
          10.675642,
          10.543885,
          10.014321,
          9.686354,
          10.336978,
          10.15583,
          10.505287,
          10.6236315,
          10.199933,
          10.625233,
          10.366698,
          10.682844,
          10.640648,
          10.612641,
          9.82333,
          10.36356,
          9.7660475,
          10.611602,
          10.373754,
          10.696427,
          10.358622,
          10.4884815,
          10.6179085,
          10.574222,
          10.197234,
          10.622983,
          10.092785,
          10.455964,
          10.469877,
          10.514339,
          10.361258,
          10.20911,
          10.37391
         ]
        },
        {
         "hoverinfo": "text",
         "hovertext": [
          "c’est interviews aime",
          "tchouaméni, bon animateur... lent , naturel, éloquent... ça coupe sujets intéressants... invités commencent perdre fil...",
          "carré interviews omg",
          "redouane éclaté sol . marrant.",
          "vrmt respect vie etoo agréable qd parle explique énormément façon s’exprimer bon état d’esprit",
          "l'émission personnes moins éloquentes, ça",
          "énormes: casting top envies voir finir. super interview assurés",
          "tchouamemi gar, journaliste ? façon gère débat calme. classe",
          "abusé effet lissage peau, film interview",
          "super épisode veut !!!",
          "49;30 l'entree boss",
          "super the bridge, intéressant mélange point vue ça ouvre l'esprit. puis format laisse place vraie discussion profonde, naturel prise tête. invités super choisis, leurs parcours complètent bien. petite suggestion : j'aurais adoré entendre aurélien parler plus. intelligent prises paroles plaisir d'écouter point vue différents sujets. merci cas, bravo travaillent projet ! hâte voir suite !",
          "1h 30min passé l’internet . pitchichi",
          "bon moment !!!!",
          "eto'o exemple société, incroyable interview !",
          "amis, écouter riches, réunissent entre riches parler vent enrichir image… perdons temps car dernier riche",
          "c’est première vie regarde 1h30 d’interview lasser…🇨🇲🇨🇲🇨🇲…️️️…",
          "tellement vrai gars, lasse d'écouter interviews. apprends grandir personnes eto'o. parle grandir psychologiquement. déchiré, kiffé \"the bridge\"",
          "doumbé tant personne viens découvrir, parler intelligent, respect 🫡",
          "bel entretien eto’o laisse gens parler aussi. y’a 3 personnes. sinon adore histoires",
          "dirais conversation, inspirant voir légendes leurs différents discipline, agréable surprise",
          "super trouve donner parole option, arrive écoutée jusqu'au bout autres.",
          "rêve d'une réunion eto'o tony elumelu",
          "merci participants, ça a vrai régal.",
          "niveau autosatisfaction léchage boules mutuel impressionnant",
          "monsieur eto'o fils 1h30 pure motivation",
          "samuel prend parole laisse autres invités c’est dommage car intéressant",
          "magnifique interview dirais réunion. légendaire",
          "9:30 parle match précisément ???",
          "tchouamani coupe parole essayant intéressant. c’est énervant.",
          "excellente interview dommage d'avoir invité autant d'artiste d'un coup qu'on approfondir sujets vue donner parole a monde reste interview qualité bravo l'idée génie",
          "régal d’écouter l’expérience grands champions",
          "class... 1:30:23 cours dispenser écoles. ferait plateau tonne cours personnes recherche motivations",
          "tiens félicité initiateurs projet inspirant",
          "mdr ... episode passionnant",
          "tchouameni bon , transitions entre invités incroyables , questions également. bravo",
          "seb veut zz stp !!! ️️️",
          "présentateurs top omg, manières d'enchaîner questions wowwwwwwwwwwww",
          "c'était régal ! merci champions. concept bien, vivement prochain épisode",
          "devais résumer épisode 1 mot : mentalité",
          "toute grande systèmes tombé, visiblement laisse 1:18:30",
          "enfaite interview accorder et’o j’ai captée",
          null
         ],
         "marker": {
          "opacity": 0.5,
          "size": 5
         },
         "mode": "markers+text",
         "name": "4_interview_30_laisse",
         "text": [
          "",
          "",
          "",
          "",
          "",
          "",
          "",
          "",
          "",
          "",
          "",
          "",
          "",
          "",
          "",
          "",
          "",
          "",
          "",
          "",
          "",
          "",
          "",
          "",
          "",
          "",
          "",
          "",
          "",
          "",
          "",
          "",
          "",
          "",
          "",
          "",
          "",
          "",
          "",
          "",
          "",
          "",
          "4_interview_30_laisse"
         ],
         "textfont": {
          "size": 12
         },
         "type": "scattergl",
         "x": [
          0.41626248,
          1.3868425,
          0.43976566,
          0.9773652,
          1.5256666,
          1.7629515,
          0.82426333,
          1.2335719,
          0.41470528,
          0.77125865,
          0.63667643,
          1.2510839,
          0.63214225,
          0.7338739,
          0.6126004,
          1.2883472,
          0.39771184,
          1.4650397,
          1.2410462,
          1.4138788,
          1.1506995,
          1.3929697,
          0.512177,
          0.9113266,
          0.83450925,
          0.6545514,
          1.5361927,
          0.47555935,
          0.59067166,
          1.2836035,
          1.2304826,
          1.1954504,
          0.973288,
          1.2404321,
          1.0919752,
          1.1413707,
          0.9000775,
          1.0946134,
          0.85656,
          0.94418025,
          0.99885654,
          0.37626648,
          0.9716873
         ],
         "y": [
          8.394433,
          8.190926,
          8.392651,
          8.064285,
          7.9383855,
          8.110662,
          8.372457,
          7.9419904,
          8.381846,
          8.440161,
          8.1408825,
          8.104109,
          8.146004,
          8.368345,
          8.473477,
          8.1662035,
          8.310745,
          7.869332,
          8.22471,
          8.102116,
          8.178958,
          8.206817,
          8.412118,
          8.720617,
          8.259968,
          8.130781,
          8.092474,
          8.380495,
          8.196936,
          8.582361,
          8.083803,
          8.033726,
          8.16656,
          8.317561,
          8.707099,
          8.472774,
          8.520224,
          8.4929085,
          8.494732,
          8.321642,
          7.9687576,
          8.34975,
          8.267257
         ]
        },
        {
         "hoverinfo": "text",
         "hovertext": [
          "parle s’il n’avait jamais refusé tirer penalty",
          "samuel eto'o grand joueur grand menteur khoo triplé mi temps ️ sous leonardo eto'o, grand menteur",
          "eto'o s'invente vie mdr n'a jamais marqué triplé première mi-temps raconte. doutes l'histoire roni vestiaires etc grand joueur grand menteur mdrrr",
          "08:16 n’a jamais raté 2 penalties meme match. bon c’est eto’o version amar parle temps",
          "cetais avent samuel aujourdhuit mbappe vini tchouameni cedrick ,onana ,etc mm ronaldinho etais meilleur joueur monde ,quand monte chaine tele sourire seulment gents aplodit parce quon connais assi sufit tjrs bavarde dire ss meilleur",
          "etoo n’a jamais marqué triplé leo entraineur mens",
          "truc gole-ri samuel eto'o n'a jamais marqué 3 buts durant première mi-temps l'inter :)",
          "respecte énormément samuel eto'o a jamais marque triple première mi temps a l'inter milan entraineur l'a jamais remplace a mi temps attention a dis samuel",
          "ludovic giuli raconter l’histoire ‘’je vais marquer mis-temps ‘’ probablement vrai …",
          "voilà vu joueurs français sens français aurelien appelle etoo tapel ancien grand joueurs français henry trez zizou",
          "cas gars n'a talent jouer real madrid grosse arnaque",
          "prend ronaldo messi pelé , arrive meme a cheville , gros melon l'histoire foot ..au dessus zlatan",
          "pourtant eto’o a peur tirer penalty l’a laissé wome",
          "combien a répéter match contre côte d'ivoire ? arrêté 5",
          "merci l'anecdote triplé fausse... parce passé barça plagier romario",
          "eto'o n'a jamais triplé l'inter. mec mytho",
          "oui, samuel eto'o a effectivement marqué trois buts première mi-temps lors d'un match l'inter milan sous direction leonardo. cela s'est produit **6 mars 2011**, lors d'un match serie a contre **le genoa**, l'inter a remporté 5-2. durant match, eto'o a inscrit triplé première mi-temps, aidant ainsi l'inter prendre avance décisive. match moment mémorable saison 2010-2011 eto'o l'inter sous ordres leonardo.",
          "etoo n'a jamais mis triplé sous l'ere leonardo mytho etoo",
          "aurélien a irrespectueux eto’o parle l’équipe qu’il pouvait gagner coupe monde.il comporte s’il savait équipe composée.tous grands footballeurs.et etoo recadré ronaldhino .2006,2007,2008 etoo sommet art c’est faisait gagné barca n’était messi faisait gagner barca moment",
          "mythoman lol a ete prouvé a jamais marque 3 but a mi temps match inter….",
          "j'aime doumbe l'histoire dont parle contre jimmy viennot a mieux \" tenir\" jusqua fin a jeu egal pu etre donner gzgnant a décision",
          "mito a jamais mis 3 l’inter coach là",
          "chouameni n'a place real madrid. n'a jamais place. che qu'est fout là-bas fallait rester monaco mieux entouré",
          "samuel légende. gros fan époque barca gens retiennent surtout roni tard messi vrai killer c’était samuel. rarement vu joueur décisif.",
          "eto'o na jamais mi's triple avant mitemps a linter",
          "redouane a raison marseille c’est reste france ça vit foot",
          "etoo menteur a jamais marquer triplé l'inter milan sous ordres leonardo",
          "onana a pris balle perdu",
          "t'as jamais marqué triplé mi temps l'inter menteur veux imiter l'anecdote romario carnaval",
          "parlent joueur ferrari barça ? n'ai compris",
          "tchouameni sais real madrinulard joue arbitres entre vestiaire dire allez mecs vais donner cadeau penalty",
          "camerounais racontent histoire magique . eto'o: avant ballon touche sol reprise volée lucarne opposée 🇨🇲",
          "ooôoooooooooooooh légende samuel eto'o arrêtez douter car jeunes connaissent l'histoire veulent discuter football parce qu'ils croient savoir youtube l'anecdote vérifié l'inter 2011",
          "samuel eto'o 3 buts mi temps a l'inter milan ... ca ? ? waa a abusé jpensai cetai mytho",
          "a 37min20 appellez mbappé s'inspire etoo jouer dos but honte tromper l'adversaire merde",
          "saint étienne marseille ça vie football",
          "menteur jamais marquer trois but inter 38 min",
          null
         ],
         "marker": {
          "opacity": 0.5,
          "size": 5
         },
         "mode": "markers+text",
         "name": "5_inter_jamais_mi",
         "text": [
          "",
          "",
          "",
          "",
          "",
          "",
          "",
          "",
          "",
          "",
          "",
          "",
          "",
          "",
          "",
          "",
          "",
          "",
          "",
          "",
          "",
          "",
          "",
          "",
          "",
          "",
          "",
          "",
          "",
          "",
          "",
          "",
          "",
          "",
          "",
          "",
          "",
          "5_inter_jamais_mi"
         ],
         "textfont": {
          "size": 12
         },
         "type": "scattergl",
         "x": [
          4.02137,
          4.152709,
          3.7517772,
          3.975117,
          4.053291,
          3.880003,
          4.089453,
          4.1070743,
          3.7520566,
          4.425693,
          3.9765012,
          4.037605,
          4.0289707,
          3.6570554,
          3.771592,
          3.6739154,
          4.107378,
          3.6441226,
          4.106524,
          3.9675553,
          3.8959453,
          3.6657023,
          3.8153284,
          4.084399,
          4.0355573,
          4.165423,
          3.9815328,
          3.809277,
          3.7059593,
          3.866679,
          4.1557264,
          4.054919,
          4.3256917,
          4.071743,
          3.8059053,
          4.2633295,
          3.9899125,
          3.969535
         ],
         "y": [
          6.450281,
          6.098189,
          6.7589717,
          6.1100597,
          7.1488757,
          6.135171,
          6.045913,
          6.0841446,
          6.3083653,
          7.384555,
          6.5638957,
          6.947376,
          6.237853,
          6.5530715,
          6.447291,
          6.1878133,
          6.065625,
          6.1849723,
          7.2641034,
          6.102961,
          7.111136,
          6.1824665,
          7.1544557,
          7.3833723,
          6.040964,
          7.346742,
          6.201729,
          6.3053284,
          6.398525,
          6.3142385,
          6.6729636,
          6.212918,
          7.286052,
          6.072983,
          6.7932754,
          7.3566885,
          6.0670886,
          6.5400114
         ]
        },
        {
         "hoverinfo": "text",
         "hovertext": [
          "heureusement yavait caméras a l'évoque etoo hyn",
          "regarde comment @samueleto'o légende foot international palmarès connaissions leve salué mike maigna pourtant lea autrez lont salué assis, bonne éducation respecter valeur humaine leve salué mike tres humble incroyable gens dieu envoi ume seul terre après 100",
          "heureusement regarde telefoot ça pu retrouver présentateur clique légende content savoir continue présenter émission",
          "etoo fils grand respect grand monsieur incroyable écouter attentivement qu’il a incroyable",
          "casting fou, grand hommes, plaisir connaitre vie privée pense artiste athlete importe discipline, foo, mma, humour",
          "etoo racontes salades",
          "etoo , aucune éducation. pire, montre face monde première class. stupide. dire bcp camers valident, encore choquant ....",
          "mis play téléphone notification ensuite, allé regarder l'écran tv suivi jusqu'à fin. fils veut être footballeur m'a rejoint s'est levé jusqu'à fin. beau concept réunir toutes valeurs sûres font fierté l'afrique antilles. découvre enfin mike m., effacé introverti réfléchi attentif. belle personnalité suffisamment rare monde sport prend apparences valeur. doumced, est-ce qu'on présente encore? 9 confirme aisance face l'écran. bravo réalisateurs présentateurs. tchouamegni a reconversion pense vais aller cherché shows redouane. inspirant jeunes frères enfants. masterclass...",
          "c’est fou eto’o inventer anecdotes n’a lucidité propos .. devenu détestable malheureusement.. équipe gagner coupe monde, meilleur joueur monde, ramener lui.. après c’est jouer l’avoir ramener buzz c’était but part ça concept cool bravo bravo aurélien grosse maîtrise rythme etc respect 🫡",
          "cédric perdu combat face baki , point final... fou comment n'assume défaite. échangeait rôles baki place encore train crier toits. n'es humble. point a levé celui baki . soir-là, seule chose soulevé orteil. t'ai suivi débuts, habitués vannes hilarantes n'avais jamais déçu. retourné veste telle vitesse. respecte adversaires. remercie baki t'avoir calmé t'avoir soulevé premiers round vieux sac patate.",
          "genre 12 père vais jouer grand club mdrrr psht agit dosée",
          "rends compte l'absurdité casting! bonhommes! big respect surtout eto'o",
          "toujour confiance etoo president tant marocain conai tres afrique a fin reel",
          "a memon passe portes. mec n’a ballon d’or ramene",
          "moment où ca parle pro amateur faot penser inconnus bon chasseur mauvais chasseur. mdrrrr",
          "eto'o meilleur l'univers comédien.",
          "confusion, l'espérance humains. 2 timothée 4:2-4 ...prêche parole, insiste toute occasion, favorable non, reprends, censure, exhorte, toute douceur instruisant. car viendra temps où hommes supporteront saine doctrine; mais, démangeaison d’entendre choses agréables, donneront foule docteurs selon leurs propres désirs, détourneront l’oreille vérité, tourneront vers fables. fables , demi-parole, parole approximative, bref confusion mode. gens n'acceptent vraie parole, vérité, l'épée double tranchant \"opère \" l'être humain soutirer mal guérir. presque tous, chrétiens chrétiens officiels, relativisent parole, mélangent d'autres sagesses prophéties humaines, créant demi-obscurité laquelle semble pareil (tous chats deviennent gris) , sorte qu'on n'arrive distinguer faux vrai. confusion arrange monde ; ça chacun propre loi. dieu gardera parole pure suscitera gens l'annoncer vérité.",
          "j’attends impatiemment prochains épisodes bridge. qualité dialogues respect. conversation entre samuel mike disant gardien haut niveau doit être fou comprendre martinez ( l’argentin) finale mental. j’attends ibra ronny suite français possible. bonne continuation",
          "france sauf marseille saint etienne reuf préciser parce sainte perd ville dégoûté ça gagne ça parle partout tabac ça va acheter l'équipe",
          "1h30 a voir etoo raconter bobards, boulet",
          "..., quelle manque humilite ca veut etre leader. tchouameni, sors rapidement format. carriere aa construire n' encore rien fait.",
          "eto'o rappelle façon grand père racontait épopées, véracité importe.",
          "meme film ibdien vrai raconte o",
          "\" veux joueur caractère, importe m'insulte, donnes résultat veux. veux foutes bordel donnes résultat qu'on attend toi. parce celui a caractère celui tire l'équipe vers haut l'encourager. \" fact ! effectivement niveau qu'on voit différence entre joueurs génération d'eto'o d'aujourd'hui. aujourd'hui joueurs jouent stars réseaux sociaux caméras terrain ça vaut rien. qu'avant anciens terrain confirmaient leurs caractères terrain.",
          "doumbé \"l'afrique continents riches, a problème gestion\"... toi, gestion synonyme fmi, europe, impérialisme, ok, sinon dis d'la merde, t'es meilleur donner coups qu'a penser politique, juré rends fou. va lire deuspi taffe l'histoire j'sais pas, rends zinzin",
          "cédric doumbé explique début combattant a moins facilité partenaires, sponsors. m’étonnes, épine l’orteil, ca t’as discredité…",
          "a écouter monsieur pose question savoir comment incite gens voter paul biya fume pays depuis presque demi siècle, dirais c’est l’hypocrisie",
          "avis a fans bougheraba . assis terrasse a geneve four seasons , adepte luxe depuis sorti misere marseillaise , salue felicite carriere voulais serrer main , meme leve a froidement merci . cas type vrai merde tant etre humain ......",
          "a ego surdimensionné eto'o trouve, ça gâche grand joueur était.",
          "quelle interview, champions, domaines différents, pression similaire défis différents. mecs là, place qu’ils ça n’est rien, mettent plat, font qu’ils disent. parle jamais avant, pas, compris? parlent font, grand respect gars. partage génération incroyable",
          "excellente interveiw, pur regal. tchouameni excellent role, reconversion d'apres carriere toute trouvee :) grand 9 etoo, narrateur hors pair, tellement marrant ca rend fier voir camerounais successfull parler reussite ca !",
          "qualité protagonistes : spectaculaire style oratoire : super top gestuelle participants : admirable personnalité motivatrice acteurs : authentique respect plateau : supra free qualité comique : fantastique émotions partagées : formidable eto'o : inspirant aurélien : lucide objectif transitions doumbé : attentif responsable mike : discret a partager l'humoriste blanc : sympa décomplexé blanc lunette : hyper drôle ! l'équipe interview a kongossa époustouflant. 1h30 assis souhaites ça finisse parce partagé instructif. merci !",
          "impressionné respect chacun plateau…. ouf sais remarqué, personne a coupé parole l’autre, patients écouter l’autre finir ensuite prendre parole. j’ai l’impression aurélien mieux certains journalistes passent grands plateaux. samuel encore m’as encore impressionné dieu garde longtemps sincèrement, j’espère jeune africain finira comprendre vision mettre pratique.",
          "excellente émission, intéressante! étonné voir réussi trouver place 5 personnes autour l’énorme boulard eto’o…",
          "aurelien sincèrement mec ,ton niveaux extrêmement professionnel formation ! façon gérer débats essayant partager temps trois invités réussite sachant trois stars invités wow grand respect ,j fâché contre car baissé niveau surtout real moins rapide,moins risque ,tu récupère moins ballons a chaque lieu avancer recule donnant ballon défenseur gardien,sûrement absence kroos raison oublier blessure stp aurelien perfectionné niveau car génie...hala madrid nada mas aime mec",
          "génial, vu temps passé. entendre monsieur eto'o quelque chose, vachement enrichissant. aurélien chapeau, t'aurais vu rôle, tenu débats côtés acolyte.",
          null
         ],
         "marker": {
          "opacity": 0.5,
          "size": 5
         },
         "mode": "markers+text",
         "name": "6_parole_ça_qu",
         "text": [
          "",
          "",
          "",
          "",
          "",
          "",
          "",
          "",
          "",
          "",
          "",
          "",
          "",
          "",
          "",
          "",
          "",
          "",
          "",
          "",
          "",
          "",
          "",
          "",
          "",
          "",
          "",
          "",
          "",
          "",
          "",
          "",
          "",
          "",
          "",
          "",
          "6_parole_ça_qu"
         ],
         "textfont": {
          "size": 12
         },
         "type": "scattergl",
         "x": [
          2.0740044,
          2.8604517,
          2.968259,
          2.6720793,
          2.1954134,
          2.0036767,
          2.7825277,
          2.9307377,
          3.224647,
          2.547154,
          2.856194,
          2.0772674,
          2.8921092,
          3.4593706,
          2.9524195,
          2.3267055,
          2.571761,
          2.3307853,
          3.1822221,
          2.0444276,
          2.3737738,
          2.1420867,
          2.7273993,
          2.800223,
          2.693146,
          2.6581466,
          2.6181166,
          2.546448,
          2.7760708,
          2.1784418,
          2.1046891,
          1.9808306,
          2.537252,
          2.0659394,
          3.0967324,
          2.3003185,
          2.5708842
         ],
         "y": [
          8.502809,
          7.7486706,
          7.756988,
          8.1719475,
          7.7001877,
          8.120362,
          7.6490397,
          7.818256,
          7.3643947,
          7.5641785,
          7.4489512,
          8.271938,
          8.080297,
          7.268784,
          7.3838925,
          8.417273,
          7.9174623,
          7.6091585,
          7.3228755,
          7.9978447,
          8.2193,
          8.303625,
          8.231038,
          7.477503,
          7.7553797,
          7.4549994,
          7.7430696,
          7.9761553,
          7.361033,
          7.9115224,
          8.337197,
          7.898986,
          8.060486,
          8.485408,
          7.4991283,
          8.5079,
          7.870501
         ]
        },
        {
         "hoverinfo": "text",
         "hovertext": [
          "aurelien d’une serenité",
          "patron, bravo aurélien",
          "remercie aurélien: géré débat d’un professionnalisme incroyable! carrière chroniqueur assurée retraite foot!",
          "aurelien journaliste petit",
          "pense aurélien veut etre styl pogba entuca ferra bon métier journaliste après ça carrière",
          "ohhh putin régalé plateau trankil.merci aurélien",
          "belle émission. aurelien preuve d'une bonne polyvalence. bon footballeur, bon pianiste, bon chroniqueur smart.",
          "aurélien dis, comment fais animer l'émission ballon pied ??? bravo toi...",
          "aurélien a t’il journalisme? assure grave !!!",
          "possible, aurélien reconvertis journalisme après retraite, n'a fiche note gère transitions. fort niveau. bravo, félicitation, impossible camerounais",
          "bravo aurélien, découvre sous angle. gères intervenants précision d'un match football : excellent timing distribuer parole, affichant charisme impressionnant. félicitations !",
          "l’éternel berger manquerai rien",
          "belle émission aurélien tshuameni a magistral. demande 1er métier journaliste sinon, fière tous.",
          "t'es quelqu'un hinn nn aurélien",
          "aurelien! aurelien! aurelien! t'ai appelé combien fois? doutes continent frangin? remporter toutes compétitions",
          "\"c'est marrant dises ça\" a chaque prise parole part d'aurélien xdd",
          "aurelien formation journalisme ??? parce haut ete agréablement surpris",
          "quelle belle émission aurélien maestro micro",
          "masterclass.... aurélien dirait t'a çà vie chapeau",
          "honnêtement aurélien d'une intelligence remarquable!",
          "aurélien après carrière feras bon journaliste. maîtrisé job.",
          "super interview bienveillante intervenants qualité, aurélien mal tt",
          "aurélien . good job guys",
          "arrêttons instant apprécier qualité présentation d'aurélien. véritable maître",
          "aurélien, t’a job merveille, bravo",
          "aurélien gère rythme l'échange rythme matchs terrains. maître",
          "aurélien tchouaméni 10/10 . maitrise parfait transitions , donne parole invité élégance .... j’adore ... futur bon journaliste sportif après foot",
          "aurélien a charisme",
          "pffff aurelien 22ans raconte",
          "aurelien !!!!!!! bon …",
          "aurélien bonhomme ️",
          "aurélien gars communication. s'exprime",
          "aurelien charisme !",
          null
         ],
         "marker": {
          "opacity": 0.5,
          "size": 5
         },
         "mode": "markers+text",
         "name": "7_aurélien_aurelien_journaliste",
         "text": [
          "",
          "",
          "",
          "",
          "",
          "",
          "",
          "",
          "",
          "",
          "",
          "",
          "",
          "",
          "",
          "",
          "",
          "",
          "",
          "",
          "",
          "",
          "",
          "",
          "",
          "",
          "",
          "",
          "",
          "",
          "",
          "",
          "",
          "7_aurélien_aurelien_journaliste"
         ],
         "textfont": {
          "size": 12
         },
         "type": "scattergl",
         "x": [
          0.50452834,
          0.4658293,
          0.52483934,
          0.393438,
          0.35662156,
          0.83399796,
          0.6090411,
          0.501468,
          0.3969173,
          0.49998417,
          0.56308556,
          0.5419731,
          0.47288355,
          0.47955093,
          2.4353797,
          0.69052505,
          0.40519592,
          0.5950048,
          0.5519487,
          0.4926294,
          0.38945758,
          0.60282516,
          0.46359342,
          0.5821814,
          0.425726,
          0.53082377,
          0.57345194,
          0.45848793,
          0.6412416,
          0.4769508,
          0.45454445,
          0.6230087,
          0.46843866,
          0.57592654
         ],
         "y": [
          10.308198,
          10.254836,
          9.7832575,
          10.181017,
          9.933014,
          9.730463,
          9.851466,
          10.00366,
          9.955848,
          9.771058,
          9.779202,
          10.203636,
          9.8227215,
          10.2445135,
          8.353233,
          9.922449,
          9.875259,
          10.011313,
          9.956267,
          10.225981,
          9.907842,
          10.001005,
          10.293584,
          10.057619,
          10.227668,
          9.769266,
          9.733716,
          10.268821,
          10.112484,
          10.296669,
          10.335301,
          9.991384,
          10.274418,
          9.982945
         ]
        },
        {
         "hoverinfo": "text",
         "hovertext": [
          "haute ambition retiens, belle emission",
          "super émission, invités top",
          "aimé l'émission merci",
          "goat, l'emission dinguerie, l'ambiance incroyable",
          "class, merci gars",
          "super émission adoré",
          "émission passe quelle chaîne ? date prochaine émission",
          "well done !",
          "c'était bonne émission",
          "bonjour, l’émission trouve podcast ?",
          "c’était super intéressant !",
          "magnifique. merçi production",
          "super émission super",
          "champions plateau !",
          "excellent interview merci !",
          "etoo meilleur invité pertinent plateau",
          "merci etoo merci romane zhommes",
          "tres bon invité",
          "j’ai aimé l’émission français faites ça souvent",
          "meilleures émissions suivies année",
          "belle émission, merci",
          "triste fin émission",
          "merci invités félicitations \"continentais\"️",
          "cool l’émission merci ️",
          "quelle superbe émission! merci!",
          "j’ai kiffé l’émission d’acc moi?",
          "pense émission va changer vie",
          "formidables. merci !",
          "interview m'a touché merci a stars 🇨🇲🇨🇲🇨🇲",
          "bravo qualité travail",
          "9 international 🇨🇲🇨🇲🇨🇲",
          "super émission !",
          null
         ],
         "marker": {
          "opacity": 0.5,
          "size": 5
         },
         "mode": "markers+text",
         "name": "8_émission_merci_super",
         "text": [
          "",
          "",
          "",
          "",
          "",
          "",
          "",
          "",
          "",
          "",
          "",
          "",
          "",
          "",
          "",
          "",
          "",
          "",
          "",
          "",
          "",
          "",
          "",
          "",
          "",
          "",
          "",
          "",
          "",
          "",
          "",
          "",
          "8_émission_merci_super"
         ],
         "textfont": {
          "size": 12
         },
         "type": "scattergl",
         "x": [
          -0.39658636,
          -0.68590075,
          -0.3622801,
          -0.7272809,
          -0.27353412,
          -0.7199666,
          -0.6914473,
          -0.056583367,
          -0.662811,
          -0.5346524,
          -0.030259326,
          -0.27110782,
          -0.7459748,
          0.016694348,
          0.08846418,
          0.04805945,
          -0.34795552,
          0.046882622,
          -0.71318686,
          -0.7104167,
          -0.3606136,
          -0.6871464,
          -0.12039437,
          -0.43346265,
          -0.53221494,
          -0.6985166,
          -0.63535845,
          -0.24568026,
          -0.40189248,
          0.3183703,
          0.18950482,
          -0.6902037,
          -0.37585783
         ],
         "y": [
          8.582816,
          8.600017,
          8.746274,
          8.586727,
          8.78879,
          8.606081,
          8.575139,
          8.756625,
          8.637362,
          8.544653,
          8.707249,
          8.786696,
          8.569239,
          8.8352785,
          8.561554,
          8.898718,
          8.765762,
          8.945089,
          8.638682,
          8.584813,
          8.709062,
          8.610013,
          8.872874,
          8.711395,
          8.635563,
          8.630989,
          8.550917,
          8.770204,
          8.74296,
          8.837694,
          8.773461,
          8.588968,
          8.69224
         ]
        },
        {
         "hoverinfo": "text",
         "hovertext": [
          "samuel eto'o fierté l'afrique laisse like",
          "bonne chance samuel eto'o l'afrique, force",
          "samuel eto'o fierté africaine",
          "ahhh samuel 4 personnes cameroun, sort bouillabaisse. meilleur",
          "l'aime l'aime samuel eto'o restera légende vivante l'afrique fière ️🫶",
          "haitien africain sang . j'aime bcp samuel eto'o fourgue grande personnalité . regadant droit yeux disant mots face langue bois... namaste",
          "lourd accord samuel afrique diaspora pousse fort puissamment !! mike maman ….c beau ….",
          "samuel eto'o continent fière ️🇨🇲",
          "samuel motive tellement gens surtout africains merci",
          "tellement vrai samuel eto'o a l'afrique",
          "regarde interview cause samuel eto’o l’afrique l’amour sport",
          "quelle belle famille fier fier samuel eto'o ouais frère africain mauritanie🇲🇷",
          "samuel eto'o, parle souvent. l'afrique a besoin genre d'interviews. longue vie legacy.",
          "ah oui chapeau continentaire (samuel eto'o, cédric doumbe, aurélien tchouameni ) fier d'être camerounais 🇨🇲🇨🇲. merci exploits président samuel eto'o l'homme providentiel continent",
          "samuel eto'o depuis départ a encore attaquant rêver, merci t'as fais l'afrique cameroun. souhaite belles choses l'avenir.",
          "belle émission. merci particulièrement envoyé dieu samuel eto'o. vrai dieu envoie samuel eto'o partout l'afrique.",
          "c’est mentalité compte c’est cela samuel eto’o doit servir d’exemple jeunes africains",
          "samuel eto'o : \"... rater grand-mère marqué.\"",
          "sais comment manquer respect etoo? édifiant.",
          "icône légendaire africain sef ( samuel eto'o fils ). j'adore franchise merci dieu bénisse l'afrique. j'aime vérité 🇹🇬. seulement pouviez être père adoptif kao monde ️🫶",
          "croyez samuel eto'o don puissent a accordé africain respect eto'o",
          "monsieur samuel eto'o exemple d'ambition ! souhaite antillais d'avoirs ambition!",
          "samuel eto'o fierté toute l'afrique",
          "voir samuel eto'o clique. best of the best. legend camerounais legende africaine legende monde",
          "nul prophète chez soi. comment compatriotes traitent samuel eto'o honte. mec afrique personne n'a pareil.",
          "merci dr eto'o samuel qu'une légende... africains particularité,, cameroun..",
          "eto'o fils samuel vraie legende forever. camerounais venez pointer ici🇨🇲🇨🇲",
          "honeslty one of the best things i've watched ever. great points from uncle samuel about africa.",
          null
         ],
         "marker": {
          "opacity": 0.5,
          "size": 5
         },
         "mode": "markers+text",
         "name": "9_samuel eto_samuel_eto",
         "text": [
          "",
          "",
          "",
          "",
          "",
          "",
          "",
          "",
          "",
          "",
          "",
          "",
          "",
          "",
          "",
          "",
          "",
          "",
          "",
          "",
          "",
          "",
          "",
          "",
          "",
          "",
          "",
          "",
          "9_samuel eto_samuel_eto"
         ],
         "textfont": {
          "size": 12
         },
         "type": "scattergl",
         "x": [
          5.715563,
          5.79271,
          5.878182,
          5.397454,
          5.9085426,
          5.2693243,
          5.781936,
          5.958386,
          5.271754,
          5.828573,
          5.8575478,
          5.9951744,
          5.8108773,
          5.4715934,
          5.3982067,
          5.4300504,
          5.507587,
          5.9132504,
          5.3210974,
          5.2328377,
          5.4352865,
          5.135289,
          5.871702,
          5.670167,
          5.614489,
          5.524442,
          5.661937,
          4.9771304,
          5.5939674
         ],
         "y": [
          8.792231,
          8.821144,
          8.90902,
          8.386794,
          8.926004,
          8.368252,
          8.789436,
          9.001952,
          9.063988,
          8.913025,
          8.9219055,
          9.005651,
          8.99632,
          8.366391,
          8.242865,
          8.834373,
          9.003243,
          8.933756,
          9.34236,
          8.56734,
          9.047024,
          9.01897,
          8.906861,
          8.552848,
          8.594506,
          8.441879,
          8.545941,
          8.535258,
          8.77962
         ]
        },
        {
         "hoverinfo": "text",
         "hovertext": [
          "c’est dieu dieu do légende l’humour",
          "parcontre meilleur combattant cedric",
          "cédric j'aime manière dont traites racisme",
          "bourgeois sportifs comique mdr.",
          "cédric, frère toko ikanbi???",
          "cédric doumbé meilleur combattant français.... connu certainement, meilleur....",
          "samuel met larme l'humoriste plateau ahahahahahahahah",
          "49:38 cedric excellent réf",
          "cédric clown bande k.o",
          "arrêté « meilleur combattant français cédric doumbe »",
          "meilleur combattant français doumbé ? connaissez st denis quoi ?",
          "n' a joué cédric victoire défaite",
          "ouf doumbé assis position triangle#jjb# t’es mort# 8 mort 6 blessé",
          "quoi emission full ego ? qqun dise doumbé a bel perdu svp",
          "meilleur combattant francais? blague. ?",
          "arrêtez croire doumbé grand champion français ! mec ligue pfl ramassis has been. qu’il aille boxer l’ufc",
          "doumbe meilleur combattant français next",
          "aucun vrai champion insulte adversaire cédric doumbé l'a",
          "cedric doumbe c’est exemple",
          "cedric accepte champion accepte defaite",
          "dommage pseudo humoriste rire personne",
          "meilleur combattant français ca commence mal",
          "meilleur combattant français cédric doumbe mdr",
          "combattant ouvre bouche oui combat benoît saint denis non. viens dire doumbé début confirme sait a perdu",
          "svp like cédric doumbe a fais rire pendant bonne période",
          "meilleur combatant mma francais ???? doumbe allume pro francais",
          "j’aime paroles « cédric »",
          "doumbé meilleur combattant fr mdrrrrrrrrrrrr",
          null
         ],
         "marker": {
          "opacity": 0.5,
          "size": 5
         },
         "mode": "markers+text",
         "name": "10_combattant_meilleur combattant_cédric",
         "text": [
          "",
          "",
          "",
          "",
          "",
          "",
          "",
          "",
          "",
          "",
          "",
          "",
          "",
          "",
          "",
          "",
          "",
          "",
          "",
          "",
          "",
          "",
          "",
          "",
          "",
          "",
          "",
          "",
          "10_combattant_meilleur combattant_cédric"
         ],
         "textfont": {
          "size": 12
         },
         "type": "scattergl",
         "x": [
          2.2935877,
          2.5425847,
          2.438302,
          2.307694,
          2.3616226,
          2.6829884,
          2.3150227,
          2.5109763,
          2.3630795,
          2.6471856,
          2.7431338,
          2.5165162,
          2.7998922,
          2.801912,
          2.340439,
          2.8996348,
          2.6641266,
          2.7988482,
          2.5583646,
          2.7008984,
          2.3032837,
          2.3048463,
          2.6401324,
          2.8528202,
          2.3654592,
          2.4232652,
          2.4675593,
          2.740294,
          2.5494456
         ],
         "y": [
          6.760334,
          6.3529,
          6.288335,
          6.7305064,
          6.3831453,
          6.4405003,
          6.7516017,
          6.41224,
          6.3577547,
          6.327324,
          6.6446123,
          6.2968163,
          6.688372,
          6.766584,
          6.800365,
          6.5287795,
          6.327984,
          6.5083933,
          6.320882,
          6.406116,
          6.711496,
          6.8612204,
          6.3158264,
          6.7680526,
          6.4180994,
          6.8295727,
          6.280515,
          6.401415,
          6.524277
         ]
        },
        {
         "hoverinfo": "text",
         "hovertext": [
          "respecton grand,la légende eto'o.",
          "eto’o l’un meilleurs joueurs monde",
          "merci grand ( 9 )",
          "etoo meilleur 9 2004-2005 2008-2009",
          "^proverbe arabe cite doumbe : vise lune finiras parmi étoiles.",
          "eto'o légende vivante",
          "dinguerie comment noire limités ambitions . eto’o c’est l’étoile excellence",
          "eto'o meilleur 9 temps",
          "émission etre nomes légende",
          "eto’o a fini cotes",
          "meilleur 9 meilleur joueur africain 🇨🇲️",
          "gens eto'o , monde meilleur. véritable modèle suivre...",
          "président ️️🇨🇲🇨🇲🇨🇲🇨🇲la légende",
          "eto'o donne tjrs force siens. légende",
          "grand 9 fidèle a",
          "anecdotes eto’o trois lourdes toutes motivations qu’on trouver internet",
          "eto'o restera légende",
          null
         ],
         "marker": {
          "opacity": 0.5,
          "size": 5
         },
         "mode": "markers+text",
         "name": "11_légende_eto_meilleur",
         "text": [
          "",
          "",
          "",
          "",
          "",
          "",
          "",
          "",
          "",
          "",
          "",
          "",
          "",
          "",
          "",
          "",
          "",
          "11_légende_eto_meilleur"
         ],
         "textfont": {
          "size": 12
         },
         "type": "scattergl",
         "x": [
          4.7629066,
          4.6592264,
          4.6694965,
          4.7057614,
          4.5698633,
          4.7827353,
          4.624199,
          4.674746,
          4.6653376,
          4.6029677,
          4.694675,
          4.788291,
          4.6436677,
          4.7697563,
          4.7075768,
          4.250289,
          4.799489,
          4.6688814
         ],
         "y": [
          9.087071,
          8.8779955,
          8.639743,
          8.577448,
          8.911033,
          9.181916,
          8.961009,
          8.795144,
          9.115318,
          8.960733,
          8.33349,
          8.993149,
          9.126066,
          9.043875,
          8.675519,
          9.199301,
          9.140501,
          8.918783
         ]
        },
        {
         "hoverinfo": "text",
         "hovertext": [
          "c'était beau gars, courage mike maignan, bonne continuité présentateurs",
          "magic mike !!",
          "j'admire personnalité l'humilité mike maignan",
          "aimé l'attitude papa eto'o s'est levé salut mike a arrivé pendant assis salué. papa eto'o exemple",
          "samuel eto'o tellement respectueux s'est levé accueillir mike maignan ........il a deux personnes samuel",
          "paroles mentent actes. mike arrive, jeunes tchek assis. samuel eto’o, pourtant patron plateau, seul lève saluer.",
          "noi siamo curva sud. grande mike ️️️",
          "49:20 etoo a beau être arrogant c’est seul a respect lever serrer main mike maignan",
          "mike maignan grand écart canapé besoin d’affirmer virilité mike ?",
          "après eto'o virage. y'a l'homme sef 🇨🇲🇨🇲🇨🇲🇨🇲",
          "magique mike bon gars",
          "eto’o grand monsieur, monde accueille mike assis samuel choisit différence, mec lève",
          "facile comprendre pourquoi monsieur eto’o arrivé là où arrivé. solide.",
          "camers l’humilité vont ensemble",
          "mike vs doumbe victoire k.o mike suit",
          "seul s'est levé saluer l'invité malgré l'aîné quelle humilité",
          "mike vrais mec villiers bel",
          null
         ],
         "marker": {
          "opacity": 0.5,
          "size": 5
         },
         "mode": "markers+text",
         "name": "12_mike_mike maignan_maignan",
         "text": [
          "",
          "",
          "",
          "",
          "",
          "",
          "",
          "",
          "",
          "",
          "",
          "",
          "",
          "",
          "",
          "",
          "",
          "12_mike_mike maignan_maignan"
         ],
         "textfont": {
          "size": 12
         },
         "type": "scattergl",
         "x": [
          1.1384784,
          1.0956502,
          1.2128929,
          1.1842939,
          1.2005968,
          1.1469641,
          1.1189814,
          1.2016469,
          1.1394358,
          1.2514201,
          1.0945827,
          1.1749947,
          1.357748,
          1.5598862,
          1.1171669,
          1.4533973,
          1.0490998,
          1.2057197
         ],
         "y": [
          6.393511,
          6.25799,
          6.3190928,
          6.347939,
          6.3681545,
          6.3103557,
          6.2691603,
          6.3267303,
          6.277059,
          6.562457,
          6.274868,
          6.330304,
          6.703046,
          6.4879484,
          6.264842,
          6.4135756,
          6.265573,
          6.3630943
         ]
        },
        {
         "hoverinfo": "text",
         "hovertext": [
          "c’est fou comment samuel eto’o captive l’auditoire chaque prise parole. a discours inspirant. cependant, pose ça ici. pourquoi l’afrique brille malgré richesses ? corruption. l’avarice. grand défi ici. j’espère 20 ans, continent brillera. belle émission cas !",
          "samuel eto’o trop. homme n’as jamais stress n’importe quoi. n’a jamais mauvais moments moment doute. . lâché ça frère roni rien qu’en regardant maillot fc barcelone donnais confiance ouvrir là bouche. mytho. camerounais c’est grande gueule.",
          "bravo monsieur eto'o ! : \" rendre autres riches , donner connaissance opportunités ! \" amplement raison. car part mindset, mindset, connaissance brise chaînes médiocrité, l'obscurantisme, complexe. l'âme mental d'un champion ! devriez être invités grandes écoles, enseigner transmettre état d'esprit ! ! merci gars belle émission !",
          "jeunesse française issu quartiers populaires a besoin genre vidéo. enrichissant vidéo. samuel exemple suivre. tire l’homme noir vers haut",
          "toute masterclass.. merci légende samuel eto'o fils, leader visionnaire \" ..donner connaissance opportunités autres réussir..\". source d'inspiration exemple créée chemin plusieurs activer développement l'afrique. panel enrichissant modèles réussite alliant talent travail respect valeurs.. cédric doumbe,mike maignan redouane bougheraba. chapeau animateurs l'émission sébastien abdelhamid aurélien tchouameni",
          "excellent souhaitons voir ça eduquer jeunes afrique.",
          "grand samuel pourrait écrire livre montrant façon pensée, réfléchir, idéologie vie. livre pourrait aider jeunes africain (camerounais) particulier ambition, grinta tant défaut",
          "dis tchouameni, réactions propos aîné samuel eto'o celles d'un loser. 2002, l'équipe cameroun pu gagner coupe monde fédé camerounaise mieux organisée. suffit quelques recherches ligne rendre compte qualité joueurs camerounais leurs performances début années 2000. choquant, ça dérangerait disait ça d'une équipe européenne sud-américaine. mentalité exactement autres veulent africains continuent d'accepter. vrai. cesser complexe d'infériorité retrograde.",
          "pouvais rencontrer eto’o pourrai exprimer projet l’afrique. grand homme exemple africains mots doivent être compris jeunesse africaine afrique occident",
          "toute masterclass.. merci légende samuel eto'o fils, leader visionnaire \" ..donner connaissance opportunités autres réussir..\". source d'inspiration exemple créée chemin plusieurs activer développement l'afrique. panel enrichissant modèles réussite alliant talent travail respect valeurs.. cédric doumbe,mike maignan redouane bougheraba. chapeau animateurs l'émission sébastien abdelhamid aurélien tchouameni",
          "et'oo c,est panafricain, investisseur visionnaire ... surtout mal compris entourage certains",
          "samiel grand monsieur icône, fecafoot penses vas laisser déchets laba oenses qu'à moment vas laba démissionner, camerounais pense voulu changer choses qu'on a mis bâtons roues, stp arrête choses vont salir fecafoot va salir grande carrière grande personnalité. respect grand homme",
          "incroyable, vidéo ! pris immense plaisir écouter. pense a quelques années, vidéo retraçant carrière samuel eto'o ; honneur ambitionne cameroun afrique. cédric doumbé, également, grand monsieur j'apprécie ! découvert mike maignan sous angle grâce vidéo. aurélien, souhaite bonne chance carrière ici, moins barça (supporter barça obligé, ahah) ; fond derrière koundé . non, vraiment, vidéo intéressante m'inspirerai mots partagés différence entre être bon joueur être champion. m'a marqué ! salut autres invités (que connais plaisant écouter) merci !",
          "souvent devenir meilleur copier vie meilleurs importe obstacles samuel eto'o doit connaître manière inconsciente a laissé empreintes passage inspire générations l'a existe braqueurs ceci perdront temps félicitations aurélien cédric eto'o mike l'émission succès",
          "sagesse courage force ngouma jean claude jeune camerounais âgé 27ans dire grand frère paire temps gens disent mal garde rêves vision atteindra objectifs modèle icône force grand champion ensemble parviendra",
          "magnifique émission valorise talents africains. the bridge. kiffe concept. samuel eto'o légende, magistral. respect. longue vie a légende.",
          "vidéo pareille, envie surpasser atteindre objectifs. masterclass messieurs !! fier d'être africain, fière d'être camerounais 🇨🇲",
          null
         ],
         "marker": {
          "opacity": 0.5,
          "size": 5
         },
         "mode": "markers+text",
         "name": "13_vidéo_afrique_grand",
         "text": [
          "",
          "",
          "",
          "",
          "",
          "",
          "",
          "",
          "",
          "",
          "",
          "",
          "",
          "",
          "",
          "",
          "",
          "13_vidéo_afrique_grand"
         ],
         "textfont": {
          "size": 12
         },
         "type": "scattergl",
         "x": [
          3.709883,
          4.071802,
          3.3652475,
          3.7686079,
          3.688347,
          3.7168484,
          3.7252922,
          4.0209627,
          4.0485835,
          3.7690556,
          3.702105,
          4.0952845,
          3.6413703,
          3.501552,
          3.5018113,
          3.8395104,
          3.7936318,
          3.7623467
         ],
         "y": [
          8.200015,
          7.3806205,
          8.182034,
          8.259543,
          8.2562475,
          8.212778,
          8.210603,
          7.486935,
          8.363605,
          8.265531,
          8.132092,
          7.5001926,
          7.9684544,
          8.131769,
          8.128931,
          8.360029,
          8.300431,
          8.078813
         ]
        },
        {
         "hoverinfo": "text",
         "hovertext": [
          "samuel mito'o sent venir tribunal dire l'on veut plaisir personnel. cameroun a clairement avantagé arbitrages contre l'algérie..",
          "marocain trouvais plaisir regarder cameroun etoo mbouma oui cameroun 2002 pouvait gagner coupe monde, fort tenu puma debardeur",
          "lions indomptables potentiellement capacité gagner coupe monde 2002. rappeler \"cuvée\" a gagné can 2000 2002, jeux olympques 2000, finale coupe confédérations 2003 (qu'ils aisément gagné contre france, n'eut décès brutal marc vivien foé)",
          "rendent compte point vrai, entre 2000 2003 venait gagner j.o contre l'espagne (avec xavi, puyol cie) deux can suite battant meilleure équipe nigéria temps ((okocha, babanguida, kanu, oliseh, etc) meilleure génération sénégal (fadiga, henry kamara, boupa diop, coulibaly, diouf, cissé, . match amical avant mondial, joue l'angleterre (owen, beckham, gerrard, schooles, lampard, ferdinand, etc) l'une meilleures générations l'argentine (batustuta, verone, crespo, zanetti, samuel, ayala) cameroun chaque a 2-2. 2003, arrivent finale coupe confédérations sortant brésil (champion monde titre), turquie (3e dernier mondial) toute compétition encaisser temps reglementaire. cameroun monstrueux. mondial perd uniquement contre l'allemagne futur finaliste tournoi. n'avez idée force équipe dégageait. a joué france championne monde d'europe titre stade france toutes stars a nul.",
          "fais football camerounais a changer meme 3eme division joue stade courage a big 9 cameroonais continents, derriere big up ngambe",
          "aurélien cameroun gagner coupe monde 2002 moques samuel eto'o. regardes l'équipe france a remporté a remporté coupe monde 2018 celle a joué finale 2022 n'est-ce africains dis-moi a combien français joué l'équipe français, cameroun gagner coupe monde",
          "a propos penalty aurélien sentais pas….a aucun moment voulais tirait car voulais france gagne l’ai pays.il oui c’est match important c’est final etc différence mets cameroun temps premier devant tout.",
          "cru camerounais cetait meilleurs athlete monde, jamais rien gagner de.leurs histoires tt theme confondues",
          "tchouameni attention hein .... pourquoi penses cameroun pouvait gagner coupe monde eto'o ? va cameroun tchouameni petit gars bamileké là....",
          "mif scène où samuel cameroun pu gagner coupe monde ???",
          "cameroun vs togo j'étais stade magnifique but schabba explose jour",
          "samuel eto'o a raison. équipe 2000 2002 potentiel remporter coupe monde.",
          "être camerounais c’est être talentueux. camer a tjrs soif victoire. c’est raison qu’ils n’abandonnent jamais",
          "c' cameroun gagne 🇨🇲🇨🇲🇨🇲",
          "débat cameroun remporter coupe monde 2002",
          "'' equipe gagner coupe monde ! ''",
          "eto'o a raison cameroun équipe gagner coupe monde 2002",
          null
         ],
         "marker": {
          "opacity": 0.5,
          "size": 5
         },
         "mode": "markers+text",
         "name": "14_cameroun_coupe_monde",
         "text": [
          "",
          "",
          "",
          "",
          "",
          "",
          "",
          "",
          "",
          "",
          "",
          "",
          "",
          "",
          "",
          "",
          "",
          "14_cameroun_coupe_monde"
         ],
         "textfont": {
          "size": 12
         },
         "type": "scattergl",
         "x": [
          4.762838,
          4.8078804,
          4.7749777,
          4.8113427,
          4.9275393,
          4.8519793,
          4.7903647,
          4.7819014,
          4.891594,
          4.88557,
          4.9148655,
          4.763687,
          4.82115,
          4.9877067,
          4.9747195,
          4.833947,
          4.9115005,
          4.8525624
         ],
         "y": [
          6.725219,
          6.579529,
          6.5346146,
          6.577593,
          6.3964705,
          6.509462,
          6.560348,
          6.382468,
          6.486459,
          6.46458,
          6.4795475,
          6.5480046,
          6.3397264,
          6.1676373,
          6.261348,
          6.499966,
          6.411894,
          6.4661684
         ]
        },
        {
         "hoverinfo": "text",
         "hovertext": [
          "eto'o big mytho ... grave point",
          "arrogant ignorant mytho",
          "j'adore kaaris double tort",
          "eto'o mytho lol",
          "9:15 mal épisode samuel mytho'o !",
          "samuel etoo , grand joueur , grave mythomane",
          "samuel eto'o mythoman",
          "eto'o mytho hahahahahahahaha",
          "samuel eto’o samuel mytho",
          "mdr etoo appelle assistants 4 h matin, dictateur",
          "samuel eto'o mytho ,",
          "eto'o roi mythomanes",
          "revient regarder mitho etoo ?",
          "ahah gros mytho",
          "doumbe etoo 2 gros mythos abusé",
          "etoo gros mytho",
          null
         ],
         "marker": {
          "opacity": 0.5,
          "size": 5
         },
         "mode": "markers+text",
         "name": "15_mytho_eto mytho_gros",
         "text": [
          "",
          "",
          "",
          "",
          "",
          "",
          "",
          "",
          "",
          "",
          "",
          "",
          "",
          "",
          "",
          "",
          "15_mytho_eto mytho_gros"
         ],
         "textfont": {
          "size": 12
         },
         "type": "scattergl",
         "x": [
          7.380514,
          7.355598,
          7.329139,
          7.381066,
          7.3380713,
          7.3037233,
          7.331058,
          7.3677707,
          7.332819,
          7.216227,
          7.325044,
          7.353946,
          7.3836813,
          7.3709784,
          7.33234,
          7.3795686,
          7.3425965
         ],
         "y": [
          8.444201,
          8.474317,
          8.431939,
          8.440338,
          8.562154,
          8.579164,
          8.614451,
          8.432731,
          8.611496,
          8.601398,
          8.614292,
          8.514257,
          8.376401,
          8.441503,
          8.500794,
          8.44137,
          8.50505
         ]
        },
        {
         "hoverinfo": "text",
         "hovertext": [
          "n’arrêtent rebondir… j’ai vertige!",
          "c’est première j’avance vidéo",
          "incroyable vidéo, temps passé vite",
          "j’ai regardé vidéo mentalité gens j’ai envie remettre judo crois j’ai raté quelque chose confiance après ça s’est démultiplié",
          "ouvrir youtube jours s’il y’a genre contenu chaîne français",
          "j’ai visionnée avance rapide . excellent !",
          "1:01:55- 1:03:35 meilleure partie vidéo clairement",
          "magnifique contenu, énormément aimé. a quoi liker vidéo",
          "patrimoine cumulé vidéo pib",
          "concept excellent genre vidéo manquait youtube excellent casting première fort",
          "j’fais montages sympas vidéo dbz",
          "émission école ! personnellement l'ai visionné totalement ! merci champions",
          "connaissais chaîne... video top!",
          "puissance diversité vidéo couper souffle",
          null
         ],
         "marker": {
          "opacity": 0.5,
          "size": 5
         },
         "mode": "markers+text",
         "name": "16_vidéo_ai_excellent",
         "text": [
          "",
          "",
          "",
          "",
          "",
          "",
          "",
          "",
          "",
          "",
          "",
          "",
          "",
          "",
          "16_vidéo_ai_excellent"
         ],
         "textfont": {
          "size": 12
         },
         "type": "scattergl",
         "x": [
          1.1659986,
          -0.017033864,
          -0.018262994,
          0.024859712,
          -0.074807934,
          0.020311277,
          -0.037183557,
          -0.026067654,
          0.07907394,
          -0.08445444,
          -0.000958079,
          -0.054429762,
          -0.1621605,
          -0.12973855,
          0.04893901
         ],
         "y": [
          8.845852,
          7.9589353,
          7.866107,
          7.9352365,
          7.9345927,
          7.889077,
          7.844612,
          7.9209924,
          7.855969,
          7.913922,
          7.9169874,
          7.934764,
          7.9608684,
          7.929979,
          7.979135
         ]
        },
        {
         "hoverinfo": "text",
         "hovertext": [
          "belle émission, eto'o, ivoirien t'admire énormément . panafricanisme exemple suivre.",
          "mine rien chapeau legende samuel eto'o 1 jour bas records d'audience émission. dire qu'en 6mois aucun episode n'a pu atteindre moitié vues épisode",
          "sais communauté ; regardé interview samuel eto'o quelle charisme, franchise naturelle manière a raconter.. qu'un grand monsieur légende vivante.",
          "c’est tour didier drogba",
          "pfff... bonbon interview !! tonton eto'o goat pense être 🇨🇲🇨🇲🇨🇲🇨🇲",
          "quelle homme inspirant samuel eto'o. pourrais écouter anecdotes durant heures !",
          "tchouaméni être bon journaliste car sait distribuer parole , merci légende samuel eto'o franc parlé.",
          "samuel eto’o bonne source d’inspiration, tchouameni personne intelligente doumbé combattant. représenter bien, fières vous🇨🇲",
          "pourquoi émission légende ivoirien didier drobga",
          "samuel eto'o anecdotes... possible, a !",
          "chez côte d’ivoire 🇨🇮 dit, «eto’o c’est l’homme» merci aurélien , géré discussion",
          "bonne émission bine gérer rien dire samuel éto bon gars",
          "eto'o j'le tellement guerrieros révolutionnaire vie uniforme capitaine l'armée anti-impérialiste camerounaise...",
          "28:00 grand samuel eto'o m'a rire n'ai vu temps passé, vidéo toutes personnalités superbe",
          null
         ],
         "marker": {
          "opacity": 0.5,
          "size": 5
         },
         "mode": "markers+text",
         "name": "17_eto_samuel eto_samuel",
         "text": [
          "",
          "",
          "",
          "",
          "",
          "",
          "",
          "",
          "",
          "",
          "",
          "",
          "",
          "",
          "17_eto_samuel eto_samuel"
         ],
         "textfont": {
          "size": 12
         },
         "type": "scattergl",
         "x": [
          4.1447563,
          3.6874306,
          3.6533742,
          4.0929356,
          3.5323927,
          3.3428264,
          3.448648,
          3.9116728,
          4.0797124,
          3.611448,
          4.0909095,
          3.5670977,
          4.2909327,
          3.6194806,
          3.7909722
         ],
         "y": [
          8.616469,
          8.719813,
          8.586519,
          8.219044,
          8.932293,
          8.874911,
          8.545061,
          8.425526,
          8.169917,
          8.88341,
          8.555264,
          8.571124,
          8.40819,
          8.620111,
          8.580546
         ]
        },
        {
         "hoverinfo": "text",
         "hovertext": [
          "cameroun 🇨🇲 béni",
          "fière d'être camerounais 🇨🇲🇨🇲🇨🇲",
          "trois camerounais plateau 🇨🇲",
          "3 camerounais plateau:",
          "3 camerounais fiere d'etre camerounais",
          "fière d'être camerounais 🇨🇲🇨🇲🇨🇲",
          "impossible camerounais !!!",
          "impossible n’est camerounais.",
          "ya 3 camerounais a table",
          "etre camerounais/se chose ...",
          "1:13:53 «on mets coeur» j’aime être camerounaise 🇨🇲",
          "3 camerounais pièce seigneur !!!!!🇨🇲️",
          null
         ],
         "marker": {
          "opacity": 0.5,
          "size": 5
         },
         "mode": "markers+text",
         "name": "18_camerounais_etre camerounais_fière être",
         "text": [
          "",
          "",
          "",
          "",
          "",
          "",
          "",
          "",
          "",
          "",
          "",
          "",
          "18_camerounais_etre camerounais_fière être"
         ],
         "textfont": {
          "size": 12
         },
         "type": "scattergl",
         "x": [
          5.0899014,
          5.1074076,
          5.0922203,
          5.0954156,
          5.1430926,
          5.106342,
          5.082522,
          5.1023707,
          5.098216,
          5.085248,
          5.1281586,
          5.0934877,
          5.1020317
         ],
         "y": [
          5.48694,
          5.3254356,
          5.2970066,
          5.2942977,
          5.373515,
          5.31738,
          5.275804,
          5.290663,
          5.297836,
          5.2657537,
          5.3634887,
          5.289259,
          5.323115
         ]
        }
       ],
       "layout": {
        "annotations": [
         {
          "showarrow": false,
          "text": "D1",
          "x": -0.8578709959983826,
          "y": 9.517779207229614,
          "yshift": 10
         },
         {
          "showarrow": false,
          "text": "D2",
          "x": 3.8166812479496004,
          "xshift": 10,
          "y": 14.559667730331421
         }
        ],
        "height": 750,
        "shapes": [
         {
          "line": {
           "color": "#CFD8DC",
           "width": 2
          },
          "type": "line",
          "x0": 3.8166812479496004,
          "x1": 3.8166812479496004,
          "y0": 4.475890684127807,
          "y1": 14.559667730331421
         },
         {
          "line": {
           "color": "#9E9E9E",
           "width": 2
          },
          "type": "line",
          "x0": -0.8578709959983826,
          "x1": 8.491233491897583,
          "y0": 9.517779207229614,
          "y1": 9.517779207229614
         }
        ],
        "template": {
         "data": {
          "bar": [
           {
            "error_x": {
             "color": "rgb(36,36,36)"
            },
            "error_y": {
             "color": "rgb(36,36,36)"
            },
            "marker": {
             "line": {
              "color": "white",
              "width": 0.5
             },
             "pattern": {
              "fillmode": "overlay",
              "size": 10,
              "solidity": 0.2
             }
            },
            "type": "bar"
           }
          ],
          "barpolar": [
           {
            "marker": {
             "line": {
              "color": "white",
              "width": 0.5
             },
             "pattern": {
              "fillmode": "overlay",
              "size": 10,
              "solidity": 0.2
             }
            },
            "type": "barpolar"
           }
          ],
          "carpet": [
           {
            "aaxis": {
             "endlinecolor": "rgb(36,36,36)",
             "gridcolor": "white",
             "linecolor": "white",
             "minorgridcolor": "white",
             "startlinecolor": "rgb(36,36,36)"
            },
            "baxis": {
             "endlinecolor": "rgb(36,36,36)",
             "gridcolor": "white",
             "linecolor": "white",
             "minorgridcolor": "white",
             "startlinecolor": "rgb(36,36,36)"
            },
            "type": "carpet"
           }
          ],
          "choropleth": [
           {
            "colorbar": {
             "outlinewidth": 1,
             "tickcolor": "rgb(36,36,36)",
             "ticks": "outside"
            },
            "type": "choropleth"
           }
          ],
          "contour": [
           {
            "colorbar": {
             "outlinewidth": 1,
             "tickcolor": "rgb(36,36,36)",
             "ticks": "outside"
            },
            "colorscale": [
             [
              0,
              "#440154"
             ],
             [
              0.1111111111111111,
              "#482878"
             ],
             [
              0.2222222222222222,
              "#3e4989"
             ],
             [
              0.3333333333333333,
              "#31688e"
             ],
             [
              0.4444444444444444,
              "#26828e"
             ],
             [
              0.5555555555555556,
              "#1f9e89"
             ],
             [
              0.6666666666666666,
              "#35b779"
             ],
             [
              0.7777777777777778,
              "#6ece58"
             ],
             [
              0.8888888888888888,
              "#b5de2b"
             ],
             [
              1,
              "#fde725"
             ]
            ],
            "type": "contour"
           }
          ],
          "contourcarpet": [
           {
            "colorbar": {
             "outlinewidth": 1,
             "tickcolor": "rgb(36,36,36)",
             "ticks": "outside"
            },
            "type": "contourcarpet"
           }
          ],
          "heatmap": [
           {
            "colorbar": {
             "outlinewidth": 1,
             "tickcolor": "rgb(36,36,36)",
             "ticks": "outside"
            },
            "colorscale": [
             [
              0,
              "#440154"
             ],
             [
              0.1111111111111111,
              "#482878"
             ],
             [
              0.2222222222222222,
              "#3e4989"
             ],
             [
              0.3333333333333333,
              "#31688e"
             ],
             [
              0.4444444444444444,
              "#26828e"
             ],
             [
              0.5555555555555556,
              "#1f9e89"
             ],
             [
              0.6666666666666666,
              "#35b779"
             ],
             [
              0.7777777777777778,
              "#6ece58"
             ],
             [
              0.8888888888888888,
              "#b5de2b"
             ],
             [
              1,
              "#fde725"
             ]
            ],
            "type": "heatmap"
           }
          ],
          "heatmapgl": [
           {
            "colorbar": {
             "outlinewidth": 1,
             "tickcolor": "rgb(36,36,36)",
             "ticks": "outside"
            },
            "colorscale": [
             [
              0,
              "#440154"
             ],
             [
              0.1111111111111111,
              "#482878"
             ],
             [
              0.2222222222222222,
              "#3e4989"
             ],
             [
              0.3333333333333333,
              "#31688e"
             ],
             [
              0.4444444444444444,
              "#26828e"
             ],
             [
              0.5555555555555556,
              "#1f9e89"
             ],
             [
              0.6666666666666666,
              "#35b779"
             ],
             [
              0.7777777777777778,
              "#6ece58"
             ],
             [
              0.8888888888888888,
              "#b5de2b"
             ],
             [
              1,
              "#fde725"
             ]
            ],
            "type": "heatmapgl"
           }
          ],
          "histogram": [
           {
            "marker": {
             "line": {
              "color": "white",
              "width": 0.6
             }
            },
            "type": "histogram"
           }
          ],
          "histogram2d": [
           {
            "colorbar": {
             "outlinewidth": 1,
             "tickcolor": "rgb(36,36,36)",
             "ticks": "outside"
            },
            "colorscale": [
             [
              0,
              "#440154"
             ],
             [
              0.1111111111111111,
              "#482878"
             ],
             [
              0.2222222222222222,
              "#3e4989"
             ],
             [
              0.3333333333333333,
              "#31688e"
             ],
             [
              0.4444444444444444,
              "#26828e"
             ],
             [
              0.5555555555555556,
              "#1f9e89"
             ],
             [
              0.6666666666666666,
              "#35b779"
             ],
             [
              0.7777777777777778,
              "#6ece58"
             ],
             [
              0.8888888888888888,
              "#b5de2b"
             ],
             [
              1,
              "#fde725"
             ]
            ],
            "type": "histogram2d"
           }
          ],
          "histogram2dcontour": [
           {
            "colorbar": {
             "outlinewidth": 1,
             "tickcolor": "rgb(36,36,36)",
             "ticks": "outside"
            },
            "colorscale": [
             [
              0,
              "#440154"
             ],
             [
              0.1111111111111111,
              "#482878"
             ],
             [
              0.2222222222222222,
              "#3e4989"
             ],
             [
              0.3333333333333333,
              "#31688e"
             ],
             [
              0.4444444444444444,
              "#26828e"
             ],
             [
              0.5555555555555556,
              "#1f9e89"
             ],
             [
              0.6666666666666666,
              "#35b779"
             ],
             [
              0.7777777777777778,
              "#6ece58"
             ],
             [
              0.8888888888888888,
              "#b5de2b"
             ],
             [
              1,
              "#fde725"
             ]
            ],
            "type": "histogram2dcontour"
           }
          ],
          "mesh3d": [
           {
            "colorbar": {
             "outlinewidth": 1,
             "tickcolor": "rgb(36,36,36)",
             "ticks": "outside"
            },
            "type": "mesh3d"
           }
          ],
          "parcoords": [
           {
            "line": {
             "colorbar": {
              "outlinewidth": 1,
              "tickcolor": "rgb(36,36,36)",
              "ticks": "outside"
             }
            },
            "type": "parcoords"
           }
          ],
          "pie": [
           {
            "automargin": true,
            "type": "pie"
           }
          ],
          "scatter": [
           {
            "fillpattern": {
             "fillmode": "overlay",
             "size": 10,
             "solidity": 0.2
            },
            "type": "scatter"
           }
          ],
          "scatter3d": [
           {
            "line": {
             "colorbar": {
              "outlinewidth": 1,
              "tickcolor": "rgb(36,36,36)",
              "ticks": "outside"
             }
            },
            "marker": {
             "colorbar": {
              "outlinewidth": 1,
              "tickcolor": "rgb(36,36,36)",
              "ticks": "outside"
             }
            },
            "type": "scatter3d"
           }
          ],
          "scattercarpet": [
           {
            "marker": {
             "colorbar": {
              "outlinewidth": 1,
              "tickcolor": "rgb(36,36,36)",
              "ticks": "outside"
             }
            },
            "type": "scattercarpet"
           }
          ],
          "scattergeo": [
           {
            "marker": {
             "colorbar": {
              "outlinewidth": 1,
              "tickcolor": "rgb(36,36,36)",
              "ticks": "outside"
             }
            },
            "type": "scattergeo"
           }
          ],
          "scattergl": [
           {
            "marker": {
             "colorbar": {
              "outlinewidth": 1,
              "tickcolor": "rgb(36,36,36)",
              "ticks": "outside"
             }
            },
            "type": "scattergl"
           }
          ],
          "scattermapbox": [
           {
            "marker": {
             "colorbar": {
              "outlinewidth": 1,
              "tickcolor": "rgb(36,36,36)",
              "ticks": "outside"
             }
            },
            "type": "scattermapbox"
           }
          ],
          "scatterpolar": [
           {
            "marker": {
             "colorbar": {
              "outlinewidth": 1,
              "tickcolor": "rgb(36,36,36)",
              "ticks": "outside"
             }
            },
            "type": "scatterpolar"
           }
          ],
          "scatterpolargl": [
           {
            "marker": {
             "colorbar": {
              "outlinewidth": 1,
              "tickcolor": "rgb(36,36,36)",
              "ticks": "outside"
             }
            },
            "type": "scatterpolargl"
           }
          ],
          "scatterternary": [
           {
            "marker": {
             "colorbar": {
              "outlinewidth": 1,
              "tickcolor": "rgb(36,36,36)",
              "ticks": "outside"
             }
            },
            "type": "scatterternary"
           }
          ],
          "surface": [
           {
            "colorbar": {
             "outlinewidth": 1,
             "tickcolor": "rgb(36,36,36)",
             "ticks": "outside"
            },
            "colorscale": [
             [
              0,
              "#440154"
             ],
             [
              0.1111111111111111,
              "#482878"
             ],
             [
              0.2222222222222222,
              "#3e4989"
             ],
             [
              0.3333333333333333,
              "#31688e"
             ],
             [
              0.4444444444444444,
              "#26828e"
             ],
             [
              0.5555555555555556,
              "#1f9e89"
             ],
             [
              0.6666666666666666,
              "#35b779"
             ],
             [
              0.7777777777777778,
              "#6ece58"
             ],
             [
              0.8888888888888888,
              "#b5de2b"
             ],
             [
              1,
              "#fde725"
             ]
            ],
            "type": "surface"
           }
          ],
          "table": [
           {
            "cells": {
             "fill": {
              "color": "rgb(237,237,237)"
             },
             "line": {
              "color": "white"
             }
            },
            "header": {
             "fill": {
              "color": "rgb(217,217,217)"
             },
             "line": {
              "color": "white"
             }
            },
            "type": "table"
           }
          ]
         },
         "layout": {
          "annotationdefaults": {
           "arrowhead": 0,
           "arrowwidth": 1
          },
          "autotypenumbers": "strict",
          "coloraxis": {
           "colorbar": {
            "outlinewidth": 1,
            "tickcolor": "rgb(36,36,36)",
            "ticks": "outside"
           }
          },
          "colorscale": {
           "diverging": [
            [
             0,
             "rgb(103,0,31)"
            ],
            [
             0.1,
             "rgb(178,24,43)"
            ],
            [
             0.2,
             "rgb(214,96,77)"
            ],
            [
             0.3,
             "rgb(244,165,130)"
            ],
            [
             0.4,
             "rgb(253,219,199)"
            ],
            [
             0.5,
             "rgb(247,247,247)"
            ],
            [
             0.6,
             "rgb(209,229,240)"
            ],
            [
             0.7,
             "rgb(146,197,222)"
            ],
            [
             0.8,
             "rgb(67,147,195)"
            ],
            [
             0.9,
             "rgb(33,102,172)"
            ],
            [
             1,
             "rgb(5,48,97)"
            ]
           ],
           "sequential": [
            [
             0,
             "#440154"
            ],
            [
             0.1111111111111111,
             "#482878"
            ],
            [
             0.2222222222222222,
             "#3e4989"
            ],
            [
             0.3333333333333333,
             "#31688e"
            ],
            [
             0.4444444444444444,
             "#26828e"
            ],
            [
             0.5555555555555556,
             "#1f9e89"
            ],
            [
             0.6666666666666666,
             "#35b779"
            ],
            [
             0.7777777777777778,
             "#6ece58"
            ],
            [
             0.8888888888888888,
             "#b5de2b"
            ],
            [
             1,
             "#fde725"
            ]
           ],
           "sequentialminus": [
            [
             0,
             "#440154"
            ],
            [
             0.1111111111111111,
             "#482878"
            ],
            [
             0.2222222222222222,
             "#3e4989"
            ],
            [
             0.3333333333333333,
             "#31688e"
            ],
            [
             0.4444444444444444,
             "#26828e"
            ],
            [
             0.5555555555555556,
             "#1f9e89"
            ],
            [
             0.6666666666666666,
             "#35b779"
            ],
            [
             0.7777777777777778,
             "#6ece58"
            ],
            [
             0.8888888888888888,
             "#b5de2b"
            ],
            [
             1,
             "#fde725"
            ]
           ]
          },
          "colorway": [
           "#1F77B4",
           "#FF7F0E",
           "#2CA02C",
           "#D62728",
           "#9467BD",
           "#8C564B",
           "#E377C2",
           "#7F7F7F",
           "#BCBD22",
           "#17BECF"
          ],
          "font": {
           "color": "rgb(36,36,36)"
          },
          "geo": {
           "bgcolor": "white",
           "lakecolor": "white",
           "landcolor": "white",
           "showlakes": true,
           "showland": true,
           "subunitcolor": "white"
          },
          "hoverlabel": {
           "align": "left"
          },
          "hovermode": "closest",
          "mapbox": {
           "style": "light"
          },
          "paper_bgcolor": "white",
          "plot_bgcolor": "white",
          "polar": {
           "angularaxis": {
            "gridcolor": "rgb(232,232,232)",
            "linecolor": "rgb(36,36,36)",
            "showgrid": false,
            "showline": true,
            "ticks": "outside"
           },
           "bgcolor": "white",
           "radialaxis": {
            "gridcolor": "rgb(232,232,232)",
            "linecolor": "rgb(36,36,36)",
            "showgrid": false,
            "showline": true,
            "ticks": "outside"
           }
          },
          "scene": {
           "xaxis": {
            "backgroundcolor": "white",
            "gridcolor": "rgb(232,232,232)",
            "gridwidth": 2,
            "linecolor": "rgb(36,36,36)",
            "showbackground": true,
            "showgrid": false,
            "showline": true,
            "ticks": "outside",
            "zeroline": false,
            "zerolinecolor": "rgb(36,36,36)"
           },
           "yaxis": {
            "backgroundcolor": "white",
            "gridcolor": "rgb(232,232,232)",
            "gridwidth": 2,
            "linecolor": "rgb(36,36,36)",
            "showbackground": true,
            "showgrid": false,
            "showline": true,
            "ticks": "outside",
            "zeroline": false,
            "zerolinecolor": "rgb(36,36,36)"
           },
           "zaxis": {
            "backgroundcolor": "white",
            "gridcolor": "rgb(232,232,232)",
            "gridwidth": 2,
            "linecolor": "rgb(36,36,36)",
            "showbackground": true,
            "showgrid": false,
            "showline": true,
            "ticks": "outside",
            "zeroline": false,
            "zerolinecolor": "rgb(36,36,36)"
           }
          },
          "shapedefaults": {
           "fillcolor": "black",
           "line": {
            "width": 0
           },
           "opacity": 0.3
          },
          "ternary": {
           "aaxis": {
            "gridcolor": "rgb(232,232,232)",
            "linecolor": "rgb(36,36,36)",
            "showgrid": false,
            "showline": true,
            "ticks": "outside"
           },
           "baxis": {
            "gridcolor": "rgb(232,232,232)",
            "linecolor": "rgb(36,36,36)",
            "showgrid": false,
            "showline": true,
            "ticks": "outside"
           },
           "bgcolor": "white",
           "caxis": {
            "gridcolor": "rgb(232,232,232)",
            "linecolor": "rgb(36,36,36)",
            "showgrid": false,
            "showline": true,
            "ticks": "outside"
           }
          },
          "title": {
           "x": 0.05
          },
          "xaxis": {
           "automargin": true,
           "gridcolor": "rgb(232,232,232)",
           "linecolor": "rgb(36,36,36)",
           "showgrid": false,
           "showline": true,
           "ticks": "outside",
           "title": {
            "standoff": 15
           },
           "zeroline": false,
           "zerolinecolor": "rgb(36,36,36)"
          },
          "yaxis": {
           "automargin": true,
           "gridcolor": "rgb(232,232,232)",
           "linecolor": "rgb(36,36,36)",
           "showgrid": false,
           "showline": true,
           "ticks": "outside",
           "title": {
            "standoff": 15
           },
           "zeroline": false,
           "zerolinecolor": "rgb(36,36,36)"
          }
         }
        },
        "title": {
         "font": {
          "color": "Black",
          "size": 22
         },
         "text": "<b>Documents and Topics</b>",
         "x": 0.5,
         "xanchor": "center",
         "yanchor": "top"
        },
        "width": 1200,
        "xaxis": {
         "visible": false
        },
        "yaxis": {
         "visible": false
        }
       }
      }
     },
     "metadata": {},
     "output_type": "display_data"
    }
   ],
   "source": [
    "topic_model.visualize_documents(docs = cleaned_comments)"
   ]
  },
  {
   "cell_type": "code",
   "execution_count": 107,
   "metadata": {},
   "outputs": [
    {
     "data": {
      "text/html": [
       "<div>\n",
       "<style scoped>\n",
       "    .dataframe tbody tr th:only-of-type {\n",
       "        vertical-align: middle;\n",
       "    }\n",
       "\n",
       "    .dataframe tbody tr th {\n",
       "        vertical-align: top;\n",
       "    }\n",
       "\n",
       "    .dataframe thead th {\n",
       "        text-align: right;\n",
       "    }\n",
       "</style>\n",
       "<table border=\"1\" class=\"dataframe\">\n",
       "  <thead>\n",
       "    <tr style=\"text-align: right;\">\n",
       "      <th></th>\n",
       "      <th>Topic</th>\n",
       "      <th>Count</th>\n",
       "      <th>Name</th>\n",
       "      <th>Representation</th>\n",
       "      <th>Representative_Docs</th>\n",
       "    </tr>\n",
       "  </thead>\n",
       "  <tbody>\n",
       "    <tr>\n",
       "      <th>0</th>\n",
       "      <td>-1</td>\n",
       "      <td>361</td>\n",
       "      <td>-1_eto_est_etoo_samuel</td>\n",
       "      <td>[eto, est, etoo, samuel, être, ça, qu, redouan...</td>\n",
       "      <td>[raconte eto'o bête simpliste. parle qatar exe...</td>\n",
       "    </tr>\n",
       "    <tr>\n",
       "      <th>1</th>\n",
       "      <td>0</td>\n",
       "      <td>73</td>\n",
       "      <td>0_samuel_02_samuel samuel_oh samuel</td>\n",
       "      <td>[samuel, 02, samuel samuel, oh samuel, samuel ...</td>\n",
       "      <td>[oh samuel ️, 1:02:51 nouvelle célèbre réf tik...</td>\n",
       "    </tr>\n",
       "    <tr>\n",
       "      <th>2</th>\n",
       "      <td>1</td>\n",
       "      <td>70</td>\n",
       "      <td>1_samuel eto_samuel_eto_samuel etoo</td>\n",
       "      <td>[samuel eto, samuel, eto, samuel etoo, eto sam...</td>\n",
       "      <td>[samuel eto'o fils, légende samuel eto'o 🇨🇲🇨🇲🇨...</td>\n",
       "    </tr>\n",
       "    <tr>\n",
       "      <th>3</th>\n",
       "      <td>2</td>\n",
       "      <td>52</td>\n",
       "      <td>2_eto_papa_papa eto_grand</td>\n",
       "      <td>[eto, papa, papa eto, grand, etooo, eto eto, e...</td>\n",
       "      <td>[touche eto'o, eto'o continent, touche eto'o, ...</td>\n",
       "    </tr>\n",
       "    <tr>\n",
       "      <th>4</th>\n",
       "      <td>3</td>\n",
       "      <td>45</td>\n",
       "      <td>3_tchouameni_tchouaméni_bon_tchouameni bon</td>\n",
       "      <td>[tchouameni, tchouaméni, bon, tchouameni bon, ...</td>\n",
       "      <td>[tchouameni, bon présentateur, aurélien tchoua...</td>\n",
       "    </tr>\n",
       "    <tr>\n",
       "      <th>5</th>\n",
       "      <td>4</td>\n",
       "      <td>42</td>\n",
       "      <td>4_interview_30_laisse_super</td>\n",
       "      <td>[interview, 30, laisse, super, personnes, invi...</td>\n",
       "      <td>[tellement vrai gars, lasse d'écouter intervie...</td>\n",
       "    </tr>\n",
       "    <tr>\n",
       "      <th>6</th>\n",
       "      <td>5</td>\n",
       "      <td>37</td>\n",
       "      <td>5_inter_jamais_mi_mi temps</td>\n",
       "      <td>[inter, jamais, mi, mi temps, temps, triplé, m...</td>\n",
       "      <td>[eto'o s'invente vie mdr n'a jamais marqué tri...</td>\n",
       "    </tr>\n",
       "    <tr>\n",
       "      <th>7</th>\n",
       "      <td>6</td>\n",
       "      <td>36</td>\n",
       "      <td>6_parole_ça_qu_respect</td>\n",
       "      <td>[parole, ça, qu, respect, grand, encore, ca, f...</td>\n",
       "      <td>[\" veux joueur caractère, importe m'insulte, d...</td>\n",
       "    </tr>\n",
       "    <tr>\n",
       "      <th>8</th>\n",
       "      <td>7</td>\n",
       "      <td>33</td>\n",
       "      <td>7_aurélien_aurelien_journaliste_bon</td>\n",
       "      <td>[aurélien, aurelien, journaliste, bon, bravo, ...</td>\n",
       "      <td>[possible, aurélien reconvertis journalisme ap...</td>\n",
       "    </tr>\n",
       "    <tr>\n",
       "      <th>9</th>\n",
       "      <td>8</td>\n",
       "      <td>32</td>\n",
       "      <td>8_émission_merci_super_super émission</td>\n",
       "      <td>[émission, merci, super, super émission, émiss...</td>\n",
       "      <td>[aimé l'émission merci, super émission super, ...</td>\n",
       "    </tr>\n",
       "    <tr>\n",
       "      <th>10</th>\n",
       "      <td>9</td>\n",
       "      <td>28</td>\n",
       "      <td>9_samuel eto_samuel_eto_afrique</td>\n",
       "      <td>[samuel eto, samuel, eto, afrique, merci, samu...</td>\n",
       "      <td>[belle émission. merci particulièrement envoyé...</td>\n",
       "    </tr>\n",
       "    <tr>\n",
       "      <th>11</th>\n",
       "      <td>10</td>\n",
       "      <td>28</td>\n",
       "      <td>10_combattant_meilleur combattant_cédric_meilleur</td>\n",
       "      <td>[combattant, meilleur combattant, cédric, meil...</td>\n",
       "      <td>[cédric doumbé meilleur combattant français......</td>\n",
       "    </tr>\n",
       "    <tr>\n",
       "      <th>12</th>\n",
       "      <td>11</td>\n",
       "      <td>17</td>\n",
       "      <td>11_légende_eto_meilleur_la légende</td>\n",
       "      <td>[légende, eto, meilleur, la légende, légende e...</td>\n",
       "      <td>[dinguerie comment noire limités ambitions . e...</td>\n",
       "    </tr>\n",
       "    <tr>\n",
       "      <th>13</th>\n",
       "      <td>12</td>\n",
       "      <td>17</td>\n",
       "      <td>12_mike_mike maignan_maignan_est levé</td>\n",
       "      <td>[mike, mike maignan, maignan, est levé, arrivé...</td>\n",
       "      <td>[samuel eto'o tellement respectueux s'est levé...</td>\n",
       "    </tr>\n",
       "    <tr>\n",
       "      <th>14</th>\n",
       "      <td>13</td>\n",
       "      <td>17</td>\n",
       "      <td>13_vidéo_afrique_grand_connaissance</td>\n",
       "      <td>[vidéo, afrique, grand, connaissance, autres, ...</td>\n",
       "      <td>[incroyable, vidéo ! pris immense plaisir écou...</td>\n",
       "    </tr>\n",
       "    <tr>\n",
       "      <th>15</th>\n",
       "      <td>14</td>\n",
       "      <td>17</td>\n",
       "      <td>14_cameroun_coupe_monde_coupe monde</td>\n",
       "      <td>[cameroun, coupe, monde, coupe monde, gagner, ...</td>\n",
       "      <td>[lions indomptables potentiellement capacité g...</td>\n",
       "    </tr>\n",
       "    <tr>\n",
       "      <th>16</th>\n",
       "      <td>15</td>\n",
       "      <td>16</td>\n",
       "      <td>15_mytho_eto mytho_gros_etoo</td>\n",
       "      <td>[mytho, eto mytho, gros, etoo, gros mytho, sam...</td>\n",
       "      <td>[samuel eto’o samuel mytho, samuel eto'o mytho...</td>\n",
       "    </tr>\n",
       "    <tr>\n",
       "      <th>17</th>\n",
       "      <td>16</td>\n",
       "      <td>14</td>\n",
       "      <td>16_vidéo_ai_excellent_contenu</td>\n",
       "      <td>[vidéo, ai, excellent, contenu, youtube, avanc...</td>\n",
       "      <td>[1:01:55- 1:03:35 meilleure partie vidéo clair...</td>\n",
       "    </tr>\n",
       "    <tr>\n",
       "      <th>18</th>\n",
       "      <td>17</td>\n",
       "      <td>14</td>\n",
       "      <td>17_eto_samuel eto_samuel_didier</td>\n",
       "      <td>[eto, samuel eto, samuel, didier, ivoirien, ém...</td>\n",
       "      <td>[samuel eto’o bonne source d’inspiration, tcho...</td>\n",
       "    </tr>\n",
       "    <tr>\n",
       "      <th>19</th>\n",
       "      <td>18</td>\n",
       "      <td>12</td>\n",
       "      <td>18_camerounais_etre camerounais_fière être_fiè...</td>\n",
       "      <td>[camerounais, etre camerounais, fière être, fi...</td>\n",
       "      <td>[3 camerounais fiere d'etre camerounais, fière...</td>\n",
       "    </tr>\n",
       "  </tbody>\n",
       "</table>\n",
       "</div>"
      ],
      "text/plain": [
       "    Topic  Count                                               Name  \\\n",
       "0      -1    361                             -1_eto_est_etoo_samuel   \n",
       "1       0     73                0_samuel_02_samuel samuel_oh samuel   \n",
       "2       1     70                1_samuel eto_samuel_eto_samuel etoo   \n",
       "3       2     52                          2_eto_papa_papa eto_grand   \n",
       "4       3     45         3_tchouameni_tchouaméni_bon_tchouameni bon   \n",
       "5       4     42                        4_interview_30_laisse_super   \n",
       "6       5     37                         5_inter_jamais_mi_mi temps   \n",
       "7       6     36                             6_parole_ça_qu_respect   \n",
       "8       7     33                7_aurélien_aurelien_journaliste_bon   \n",
       "9       8     32              8_émission_merci_super_super émission   \n",
       "10      9     28                    9_samuel eto_samuel_eto_afrique   \n",
       "11     10     28  10_combattant_meilleur combattant_cédric_meilleur   \n",
       "12     11     17                 11_légende_eto_meilleur_la légende   \n",
       "13     12     17              12_mike_mike maignan_maignan_est levé   \n",
       "14     13     17                13_vidéo_afrique_grand_connaissance   \n",
       "15     14     17                14_cameroun_coupe_monde_coupe monde   \n",
       "16     15     16                       15_mytho_eto mytho_gros_etoo   \n",
       "17     16     14                      16_vidéo_ai_excellent_contenu   \n",
       "18     17     14                    17_eto_samuel eto_samuel_didier   \n",
       "19     18     12  18_camerounais_etre camerounais_fière être_fiè...   \n",
       "\n",
       "                                       Representation  \\\n",
       "0   [eto, est, etoo, samuel, être, ça, qu, redouan...   \n",
       "1   [samuel, 02, samuel samuel, oh samuel, samuel ...   \n",
       "2   [samuel eto, samuel, eto, samuel etoo, eto sam...   \n",
       "3   [eto, papa, papa eto, grand, etooo, eto eto, e...   \n",
       "4   [tchouameni, tchouaméni, bon, tchouameni bon, ...   \n",
       "5   [interview, 30, laisse, super, personnes, invi...   \n",
       "6   [inter, jamais, mi, mi temps, temps, triplé, m...   \n",
       "7   [parole, ça, qu, respect, grand, encore, ca, f...   \n",
       "8   [aurélien, aurelien, journaliste, bon, bravo, ...   \n",
       "9   [émission, merci, super, super émission, émiss...   \n",
       "10  [samuel eto, samuel, eto, afrique, merci, samu...   \n",
       "11  [combattant, meilleur combattant, cédric, meil...   \n",
       "12  [légende, eto, meilleur, la légende, légende e...   \n",
       "13  [mike, mike maignan, maignan, est levé, arrivé...   \n",
       "14  [vidéo, afrique, grand, connaissance, autres, ...   \n",
       "15  [cameroun, coupe, monde, coupe monde, gagner, ...   \n",
       "16  [mytho, eto mytho, gros, etoo, gros mytho, sam...   \n",
       "17  [vidéo, ai, excellent, contenu, youtube, avanc...   \n",
       "18  [eto, samuel eto, samuel, didier, ivoirien, ém...   \n",
       "19  [camerounais, etre camerounais, fière être, fi...   \n",
       "\n",
       "                                  Representative_Docs  \n",
       "0   [raconte eto'o bête simpliste. parle qatar exe...  \n",
       "1   [oh samuel ️, 1:02:51 nouvelle célèbre réf tik...  \n",
       "2   [samuel eto'o fils, légende samuel eto'o 🇨🇲🇨🇲🇨...  \n",
       "3   [touche eto'o, eto'o continent, touche eto'o, ...  \n",
       "4   [tchouameni, bon présentateur, aurélien tchoua...  \n",
       "5   [tellement vrai gars, lasse d'écouter intervie...  \n",
       "6   [eto'o s'invente vie mdr n'a jamais marqué tri...  \n",
       "7   [\" veux joueur caractère, importe m'insulte, d...  \n",
       "8   [possible, aurélien reconvertis journalisme ap...  \n",
       "9   [aimé l'émission merci, super émission super, ...  \n",
       "10  [belle émission. merci particulièrement envoyé...  \n",
       "11  [cédric doumbé meilleur combattant français......  \n",
       "12  [dinguerie comment noire limités ambitions . e...  \n",
       "13  [samuel eto'o tellement respectueux s'est levé...  \n",
       "14  [incroyable, vidéo ! pris immense plaisir écou...  \n",
       "15  [lions indomptables potentiellement capacité g...  \n",
       "16  [samuel eto’o samuel mytho, samuel eto'o mytho...  \n",
       "17  [1:01:55- 1:03:35 meilleure partie vidéo clair...  \n",
       "18  [samuel eto’o bonne source d’inspiration, tcho...  \n",
       "19  [3 camerounais fiere d'etre camerounais, fière...  "
      ]
     },
     "execution_count": 107,
     "metadata": {},
     "output_type": "execute_result"
    }
   ],
   "source": [
    "topic_model.get_topic_info()"
   ]
  },
  {
   "cell_type": "code",
   "execution_count": 36,
   "metadata": {},
   "outputs": [
    {
     "data": {
      "application/vnd.plotly.v1+json": {
       "config": {
        "plotlyServerURL": "https://plot.ly"
       },
       "data": [
        {
         "marker": {
          "color": "#D55E00"
         },
         "orientation": "h",
         "type": "bar",
         "x": [
          0.020398624008369177,
          0.020649595026711747,
          0.02151131152396561,
          0.022583928525008942,
          0.02625006230502246,
          0.026373469402977755,
          0.027586394204693047,
          0.02851371613610625,
          0.03007273180658546,
          0.11425811878611075
         ],
         "xaxis": "x",
         "y": [
          "merci eto  ",
          "monsieur  ",
          "etoo  ",
          "etooo  ",
          "eto eto  ",
          "grand  ",
          "meilleur  ",
          "papa eto  ",
          "papa  ",
          "eto  "
         ],
         "yaxis": "y"
        },
        {
         "marker": {
          "color": "#0072B2"
         },
         "orientation": "h",
         "type": "bar",
         "x": [
          0.024759535106105936,
          0.030228974458265147,
          0.03058212999047335,
          0.03379269468146821,
          0.033902078761993734,
          0.035700084734830544,
          0.04599870541082818,
          0.04613788796066906,
          0.05428648161899324,
          0.1128707753890571
         ],
         "xaxis": "x2",
         "y": [
          "top  ",
          "émission super  ",
          "belle émission  ",
          "invité  ",
          "belle  ",
          "émission merci  ",
          "super  ",
          "super émission  ",
          "merci  ",
          "émission  "
         ],
         "yaxis": "y2"
        },
        {
         "marker": {
          "color": "#CC79A7"
         },
         "orientation": "h",
         "type": "bar",
         "x": [
          0.014963639338595371,
          0.015564599388857516,
          0.017844709986382656,
          0.022238045021396882,
          0.023421739184775057,
          0.02620179320615169,
          0.03115086816461635,
          0.08087371592676502,
          0.10165041437018753,
          0.11113937236484155
         ],
         "xaxis": "x3",
         "y": [
          "merci samuel  ",
          "samuel eto samuel  ",
          "légende samuel  ",
          "etoo  ",
          "légende  ",
          "eto samuel  ",
          "samuel etoo  ",
          "eto  ",
          "samuel  ",
          "samuel eto  "
         ],
         "yaxis": "y3"
        },
        {
         "marker": {
          "color": "#E69F00"
         },
         "orientation": "h",
         "type": "bar",
         "x": [
          0.0157520645229406,
          0.0157520645229406,
          0.0157520645229406,
          0.01653477767517297,
          0.0169005433604517,
          0.01709369528980489,
          0.017755793930908655,
          0.020280390312382005,
          0.021094878292590772,
          0.14755204073440123
         ],
         "xaxis": "x4",
         "y": [
          "bon présentateur  ",
          "éloquence  ",
          "etoo tchouameni  ",
          "quoi  ",
          "bon  ",
          "parler  ",
          "tchouaméni  ",
          "animateur  ",
          "tchouameni bon  ",
          "tchouameni  "
         ],
         "yaxis": "y4"
        },
        {
         "marker": {
          "color": "#56B4E9"
         },
         "orientation": "h",
         "type": "bar",
         "x": [
          0.00598956402928193,
          0.006256985498675824,
          0.006634688593531899,
          0.006847879307706873,
          0.007869913636135192,
          0.008188835492915315,
          0.008314841068709002,
          0.00841202387703575,
          0.009437895915441596,
          0.009826958319243002
         ],
         "xaxis": "x5",
         "y": [
          "légende  ",
          "moins  ",
          "eto  ",
          "baki  ",
          "grand  ",
          "ça  ",
          "respect  ",
          "qu  ",
          "parole  ",
          "joueur  "
         ],
         "yaxis": "y5"
        }
       ],
       "layout": {
        "annotations": [
         {
          "font": {
           "size": 16
          },
          "showarrow": false,
          "text": "Topic 1",
          "x": 0.0875,
          "xanchor": "center",
          "xref": "paper",
          "y": 1,
          "yanchor": "bottom",
          "yref": "paper"
         },
         {
          "font": {
           "size": 16
          },
          "showarrow": false,
          "text": "Topic 2",
          "x": 0.36250000000000004,
          "xanchor": "center",
          "xref": "paper",
          "y": 1,
          "yanchor": "bottom",
          "yref": "paper"
         },
         {
          "font": {
           "size": 16
          },
          "showarrow": false,
          "text": "Topic 3",
          "x": 0.6375000000000001,
          "xanchor": "center",
          "xref": "paper",
          "y": 1,
          "yanchor": "bottom",
          "yref": "paper"
         },
         {
          "font": {
           "size": 16
          },
          "showarrow": false,
          "text": "Topic 4",
          "x": 0.9125,
          "xanchor": "center",
          "xref": "paper",
          "y": 1,
          "yanchor": "bottom",
          "yref": "paper"
         },
         {
          "font": {
           "size": 16
          },
          "showarrow": false,
          "text": "Topic 5",
          "x": 0.0875,
          "xanchor": "center",
          "xref": "paper",
          "y": 0.4,
          "yanchor": "bottom",
          "yref": "paper"
         }
        ],
        "height": 600,
        "hoverlabel": {
         "bgcolor": "white",
         "font": {
          "family": "Rockwell",
          "size": 16
         }
        },
        "showlegend": false,
        "template": {
         "data": {
          "bar": [
           {
            "error_x": {
             "color": "#2a3f5f"
            },
            "error_y": {
             "color": "#2a3f5f"
            },
            "marker": {
             "line": {
              "color": "white",
              "width": 0.5
             },
             "pattern": {
              "fillmode": "overlay",
              "size": 10,
              "solidity": 0.2
             }
            },
            "type": "bar"
           }
          ],
          "barpolar": [
           {
            "marker": {
             "line": {
              "color": "white",
              "width": 0.5
             },
             "pattern": {
              "fillmode": "overlay",
              "size": 10,
              "solidity": 0.2
             }
            },
            "type": "barpolar"
           }
          ],
          "carpet": [
           {
            "aaxis": {
             "endlinecolor": "#2a3f5f",
             "gridcolor": "#C8D4E3",
             "linecolor": "#C8D4E3",
             "minorgridcolor": "#C8D4E3",
             "startlinecolor": "#2a3f5f"
            },
            "baxis": {
             "endlinecolor": "#2a3f5f",
             "gridcolor": "#C8D4E3",
             "linecolor": "#C8D4E3",
             "minorgridcolor": "#C8D4E3",
             "startlinecolor": "#2a3f5f"
            },
            "type": "carpet"
           }
          ],
          "choropleth": [
           {
            "colorbar": {
             "outlinewidth": 0,
             "ticks": ""
            },
            "type": "choropleth"
           }
          ],
          "contour": [
           {
            "colorbar": {
             "outlinewidth": 0,
             "ticks": ""
            },
            "colorscale": [
             [
              0,
              "#0d0887"
             ],
             [
              0.1111111111111111,
              "#46039f"
             ],
             [
              0.2222222222222222,
              "#7201a8"
             ],
             [
              0.3333333333333333,
              "#9c179e"
             ],
             [
              0.4444444444444444,
              "#bd3786"
             ],
             [
              0.5555555555555556,
              "#d8576b"
             ],
             [
              0.6666666666666666,
              "#ed7953"
             ],
             [
              0.7777777777777778,
              "#fb9f3a"
             ],
             [
              0.8888888888888888,
              "#fdca26"
             ],
             [
              1,
              "#f0f921"
             ]
            ],
            "type": "contour"
           }
          ],
          "contourcarpet": [
           {
            "colorbar": {
             "outlinewidth": 0,
             "ticks": ""
            },
            "type": "contourcarpet"
           }
          ],
          "heatmap": [
           {
            "colorbar": {
             "outlinewidth": 0,
             "ticks": ""
            },
            "colorscale": [
             [
              0,
              "#0d0887"
             ],
             [
              0.1111111111111111,
              "#46039f"
             ],
             [
              0.2222222222222222,
              "#7201a8"
             ],
             [
              0.3333333333333333,
              "#9c179e"
             ],
             [
              0.4444444444444444,
              "#bd3786"
             ],
             [
              0.5555555555555556,
              "#d8576b"
             ],
             [
              0.6666666666666666,
              "#ed7953"
             ],
             [
              0.7777777777777778,
              "#fb9f3a"
             ],
             [
              0.8888888888888888,
              "#fdca26"
             ],
             [
              1,
              "#f0f921"
             ]
            ],
            "type": "heatmap"
           }
          ],
          "heatmapgl": [
           {
            "colorbar": {
             "outlinewidth": 0,
             "ticks": ""
            },
            "colorscale": [
             [
              0,
              "#0d0887"
             ],
             [
              0.1111111111111111,
              "#46039f"
             ],
             [
              0.2222222222222222,
              "#7201a8"
             ],
             [
              0.3333333333333333,
              "#9c179e"
             ],
             [
              0.4444444444444444,
              "#bd3786"
             ],
             [
              0.5555555555555556,
              "#d8576b"
             ],
             [
              0.6666666666666666,
              "#ed7953"
             ],
             [
              0.7777777777777778,
              "#fb9f3a"
             ],
             [
              0.8888888888888888,
              "#fdca26"
             ],
             [
              1,
              "#f0f921"
             ]
            ],
            "type": "heatmapgl"
           }
          ],
          "histogram": [
           {
            "marker": {
             "pattern": {
              "fillmode": "overlay",
              "size": 10,
              "solidity": 0.2
             }
            },
            "type": "histogram"
           }
          ],
          "histogram2d": [
           {
            "colorbar": {
             "outlinewidth": 0,
             "ticks": ""
            },
            "colorscale": [
             [
              0,
              "#0d0887"
             ],
             [
              0.1111111111111111,
              "#46039f"
             ],
             [
              0.2222222222222222,
              "#7201a8"
             ],
             [
              0.3333333333333333,
              "#9c179e"
             ],
             [
              0.4444444444444444,
              "#bd3786"
             ],
             [
              0.5555555555555556,
              "#d8576b"
             ],
             [
              0.6666666666666666,
              "#ed7953"
             ],
             [
              0.7777777777777778,
              "#fb9f3a"
             ],
             [
              0.8888888888888888,
              "#fdca26"
             ],
             [
              1,
              "#f0f921"
             ]
            ],
            "type": "histogram2d"
           }
          ],
          "histogram2dcontour": [
           {
            "colorbar": {
             "outlinewidth": 0,
             "ticks": ""
            },
            "colorscale": [
             [
              0,
              "#0d0887"
             ],
             [
              0.1111111111111111,
              "#46039f"
             ],
             [
              0.2222222222222222,
              "#7201a8"
             ],
             [
              0.3333333333333333,
              "#9c179e"
             ],
             [
              0.4444444444444444,
              "#bd3786"
             ],
             [
              0.5555555555555556,
              "#d8576b"
             ],
             [
              0.6666666666666666,
              "#ed7953"
             ],
             [
              0.7777777777777778,
              "#fb9f3a"
             ],
             [
              0.8888888888888888,
              "#fdca26"
             ],
             [
              1,
              "#f0f921"
             ]
            ],
            "type": "histogram2dcontour"
           }
          ],
          "mesh3d": [
           {
            "colorbar": {
             "outlinewidth": 0,
             "ticks": ""
            },
            "type": "mesh3d"
           }
          ],
          "parcoords": [
           {
            "line": {
             "colorbar": {
              "outlinewidth": 0,
              "ticks": ""
             }
            },
            "type": "parcoords"
           }
          ],
          "pie": [
           {
            "automargin": true,
            "type": "pie"
           }
          ],
          "scatter": [
           {
            "fillpattern": {
             "fillmode": "overlay",
             "size": 10,
             "solidity": 0.2
            },
            "type": "scatter"
           }
          ],
          "scatter3d": [
           {
            "line": {
             "colorbar": {
              "outlinewidth": 0,
              "ticks": ""
             }
            },
            "marker": {
             "colorbar": {
              "outlinewidth": 0,
              "ticks": ""
             }
            },
            "type": "scatter3d"
           }
          ],
          "scattercarpet": [
           {
            "marker": {
             "colorbar": {
              "outlinewidth": 0,
              "ticks": ""
             }
            },
            "type": "scattercarpet"
           }
          ],
          "scattergeo": [
           {
            "marker": {
             "colorbar": {
              "outlinewidth": 0,
              "ticks": ""
             }
            },
            "type": "scattergeo"
           }
          ],
          "scattergl": [
           {
            "marker": {
             "colorbar": {
              "outlinewidth": 0,
              "ticks": ""
             }
            },
            "type": "scattergl"
           }
          ],
          "scattermapbox": [
           {
            "marker": {
             "colorbar": {
              "outlinewidth": 0,
              "ticks": ""
             }
            },
            "type": "scattermapbox"
           }
          ],
          "scatterpolar": [
           {
            "marker": {
             "colorbar": {
              "outlinewidth": 0,
              "ticks": ""
             }
            },
            "type": "scatterpolar"
           }
          ],
          "scatterpolargl": [
           {
            "marker": {
             "colorbar": {
              "outlinewidth": 0,
              "ticks": ""
             }
            },
            "type": "scatterpolargl"
           }
          ],
          "scatterternary": [
           {
            "marker": {
             "colorbar": {
              "outlinewidth": 0,
              "ticks": ""
             }
            },
            "type": "scatterternary"
           }
          ],
          "surface": [
           {
            "colorbar": {
             "outlinewidth": 0,
             "ticks": ""
            },
            "colorscale": [
             [
              0,
              "#0d0887"
             ],
             [
              0.1111111111111111,
              "#46039f"
             ],
             [
              0.2222222222222222,
              "#7201a8"
             ],
             [
              0.3333333333333333,
              "#9c179e"
             ],
             [
              0.4444444444444444,
              "#bd3786"
             ],
             [
              0.5555555555555556,
              "#d8576b"
             ],
             [
              0.6666666666666666,
              "#ed7953"
             ],
             [
              0.7777777777777778,
              "#fb9f3a"
             ],
             [
              0.8888888888888888,
              "#fdca26"
             ],
             [
              1,
              "#f0f921"
             ]
            ],
            "type": "surface"
           }
          ],
          "table": [
           {
            "cells": {
             "fill": {
              "color": "#EBF0F8"
             },
             "line": {
              "color": "white"
             }
            },
            "header": {
             "fill": {
              "color": "#C8D4E3"
             },
             "line": {
              "color": "white"
             }
            },
            "type": "table"
           }
          ]
         },
         "layout": {
          "annotationdefaults": {
           "arrowcolor": "#2a3f5f",
           "arrowhead": 0,
           "arrowwidth": 1
          },
          "autotypenumbers": "strict",
          "coloraxis": {
           "colorbar": {
            "outlinewidth": 0,
            "ticks": ""
           }
          },
          "colorscale": {
           "diverging": [
            [
             0,
             "#8e0152"
            ],
            [
             0.1,
             "#c51b7d"
            ],
            [
             0.2,
             "#de77ae"
            ],
            [
             0.3,
             "#f1b6da"
            ],
            [
             0.4,
             "#fde0ef"
            ],
            [
             0.5,
             "#f7f7f7"
            ],
            [
             0.6,
             "#e6f5d0"
            ],
            [
             0.7,
             "#b8e186"
            ],
            [
             0.8,
             "#7fbc41"
            ],
            [
             0.9,
             "#4d9221"
            ],
            [
             1,
             "#276419"
            ]
           ],
           "sequential": [
            [
             0,
             "#0d0887"
            ],
            [
             0.1111111111111111,
             "#46039f"
            ],
            [
             0.2222222222222222,
             "#7201a8"
            ],
            [
             0.3333333333333333,
             "#9c179e"
            ],
            [
             0.4444444444444444,
             "#bd3786"
            ],
            [
             0.5555555555555556,
             "#d8576b"
            ],
            [
             0.6666666666666666,
             "#ed7953"
            ],
            [
             0.7777777777777778,
             "#fb9f3a"
            ],
            [
             0.8888888888888888,
             "#fdca26"
            ],
            [
             1,
             "#f0f921"
            ]
           ],
           "sequentialminus": [
            [
             0,
             "#0d0887"
            ],
            [
             0.1111111111111111,
             "#46039f"
            ],
            [
             0.2222222222222222,
             "#7201a8"
            ],
            [
             0.3333333333333333,
             "#9c179e"
            ],
            [
             0.4444444444444444,
             "#bd3786"
            ],
            [
             0.5555555555555556,
             "#d8576b"
            ],
            [
             0.6666666666666666,
             "#ed7953"
            ],
            [
             0.7777777777777778,
             "#fb9f3a"
            ],
            [
             0.8888888888888888,
             "#fdca26"
            ],
            [
             1,
             "#f0f921"
            ]
           ]
          },
          "colorway": [
           "#636efa",
           "#EF553B",
           "#00cc96",
           "#ab63fa",
           "#FFA15A",
           "#19d3f3",
           "#FF6692",
           "#B6E880",
           "#FF97FF",
           "#FECB52"
          ],
          "font": {
           "color": "#2a3f5f"
          },
          "geo": {
           "bgcolor": "white",
           "lakecolor": "white",
           "landcolor": "white",
           "showlakes": true,
           "showland": true,
           "subunitcolor": "#C8D4E3"
          },
          "hoverlabel": {
           "align": "left"
          },
          "hovermode": "closest",
          "mapbox": {
           "style": "light"
          },
          "paper_bgcolor": "white",
          "plot_bgcolor": "white",
          "polar": {
           "angularaxis": {
            "gridcolor": "#EBF0F8",
            "linecolor": "#EBF0F8",
            "ticks": ""
           },
           "bgcolor": "white",
           "radialaxis": {
            "gridcolor": "#EBF0F8",
            "linecolor": "#EBF0F8",
            "ticks": ""
           }
          },
          "scene": {
           "xaxis": {
            "backgroundcolor": "white",
            "gridcolor": "#DFE8F3",
            "gridwidth": 2,
            "linecolor": "#EBF0F8",
            "showbackground": true,
            "ticks": "",
            "zerolinecolor": "#EBF0F8"
           },
           "yaxis": {
            "backgroundcolor": "white",
            "gridcolor": "#DFE8F3",
            "gridwidth": 2,
            "linecolor": "#EBF0F8",
            "showbackground": true,
            "ticks": "",
            "zerolinecolor": "#EBF0F8"
           },
           "zaxis": {
            "backgroundcolor": "white",
            "gridcolor": "#DFE8F3",
            "gridwidth": 2,
            "linecolor": "#EBF0F8",
            "showbackground": true,
            "ticks": "",
            "zerolinecolor": "#EBF0F8"
           }
          },
          "shapedefaults": {
           "line": {
            "color": "#2a3f5f"
           }
          },
          "ternary": {
           "aaxis": {
            "gridcolor": "#DFE8F3",
            "linecolor": "#A2B1C6",
            "ticks": ""
           },
           "baxis": {
            "gridcolor": "#DFE8F3",
            "linecolor": "#A2B1C6",
            "ticks": ""
           },
           "bgcolor": "white",
           "caxis": {
            "gridcolor": "#DFE8F3",
            "linecolor": "#A2B1C6",
            "ticks": ""
           }
          },
          "title": {
           "x": 0.05
          },
          "xaxis": {
           "automargin": true,
           "gridcolor": "#EBF0F8",
           "linecolor": "#EBF0F8",
           "ticks": "",
           "title": {
            "standoff": 15
           },
           "zerolinecolor": "#EBF0F8",
           "zerolinewidth": 2
          },
          "yaxis": {
           "automargin": true,
           "gridcolor": "#EBF0F8",
           "linecolor": "#EBF0F8",
           "ticks": "",
           "title": {
            "standoff": 15
           },
           "zerolinecolor": "#EBF0F8",
           "zerolinewidth": 2
          }
         }
        },
        "title": {
         "font": {
          "color": "Black",
          "size": 22
         },
         "text": "Topic Word Scores",
         "x": 0.5,
         "xanchor": "center",
         "yanchor": "top"
        },
        "width": 1200,
        "xaxis": {
         "anchor": "y",
         "domain": [
          0,
          0.175
         ],
         "showgrid": true
        },
        "xaxis2": {
         "anchor": "y2",
         "domain": [
          0.275,
          0.45
         ],
         "showgrid": true
        },
        "xaxis3": {
         "anchor": "y3",
         "domain": [
          0.55,
          0.7250000000000001
         ],
         "showgrid": true
        },
        "xaxis4": {
         "anchor": "y4",
         "domain": [
          0.825,
          1
         ],
         "showgrid": true
        },
        "xaxis5": {
         "anchor": "y5",
         "domain": [
          0,
          0.175
         ],
         "showgrid": true
        },
        "xaxis6": {
         "anchor": "y6",
         "domain": [
          0.275,
          0.45
         ],
         "showgrid": true
        },
        "xaxis7": {
         "anchor": "y7",
         "domain": [
          0.55,
          0.7250000000000001
         ],
         "showgrid": true
        },
        "xaxis8": {
         "anchor": "y8",
         "domain": [
          0.825,
          1
         ],
         "showgrid": true
        },
        "yaxis": {
         "anchor": "x",
         "domain": [
          0.6000000000000001,
          1
         ],
         "showgrid": true
        },
        "yaxis2": {
         "anchor": "x2",
         "domain": [
          0.6000000000000001,
          1
         ],
         "showgrid": true
        },
        "yaxis3": {
         "anchor": "x3",
         "domain": [
          0.6000000000000001,
          1
         ],
         "showgrid": true
        },
        "yaxis4": {
         "anchor": "x4",
         "domain": [
          0.6000000000000001,
          1
         ],
         "showgrid": true
        },
        "yaxis5": {
         "anchor": "x5",
         "domain": [
          0,
          0.4
         ],
         "showgrid": true
        },
        "yaxis6": {
         "anchor": "x6",
         "domain": [
          0,
          0.4
         ],
         "showgrid": true
        },
        "yaxis7": {
         "anchor": "x7",
         "domain": [
          0,
          0.4
         ],
         "showgrid": true
        },
        "yaxis8": {
         "anchor": "x8",
         "domain": [
          0,
          0.4
         ],
         "showgrid": true
        }
       }
      }
     },
     "metadata": {},
     "output_type": "display_data"
    }
   ],
   "source": [
    "topic_model.visualize_barchart(n_words=10, topics=[1,2,3,4,5, ], height=300, width=300)"
   ]
  },
  {
   "cell_type": "code",
   "execution_count": 59,
   "metadata": {},
   "outputs": [
    {
     "data": {
      "application/vnd.plotly.v1+json": {
       "config": {
        "plotlyServerURL": "https://plot.ly"
       },
       "data": [
        {
         "coloraxis": "coloraxis",
         "hovertemplate": "x: %{x}<br>y: %{y}<br>Similarity Score: %{z}<extra></extra>",
         "name": "0",
         "type": "heatmap",
         "x": [
          "0_samuel_orh_orh samuel",
          "1_samuel eto_samuel_eto",
          "2_tchouameni_tchouameni bon...",
          "3_inter_jamais_mi",
          "4_ça_respect_parole",
          "5_aurélien_aurelien_journal...",
          "6_redouane_travail_etoo",
          "7_eto_eto eto_touche eto",
          "8_mort_excellent_vie",
          "9_combattant_meilleur comba...",
          "10_mytho_prédateur_eto mytho",
          "11_eto eto_eto_eto eto eto",
          "12_personnes_invités_parler",
          "13_02_02 53_53",
          "14_interview_belle intervie...",
          "15_samuel eto_afrique_samuel",
          "16_émission_super émission_...",
          "17_coupe_cameroun_monde",
          "18_vidéo_connaissance_autres",
          "19_camerounais_cameroun_cam...",
          "20_mike_mike maignan_maignan",
          "21_eto_samuel eto_samuel",
          "22_vidéo_ai_excellent",
          "23_merci_émission merci_émi...",
          "24_latin_parle_écouter"
         ],
         "xaxis": "x",
         "y": [
          "0_samuel_orh_orh samuel",
          "1_samuel eto_samuel_eto",
          "2_tchouameni_tchouameni bon...",
          "3_inter_jamais_mi",
          "4_ça_respect_parole",
          "5_aurélien_aurelien_journal...",
          "6_redouane_travail_etoo",
          "7_eto_eto eto_touche eto",
          "8_mort_excellent_vie",
          "9_combattant_meilleur comba...",
          "10_mytho_prédateur_eto mytho",
          "11_eto eto_eto_eto eto eto",
          "12_personnes_invités_parler",
          "13_02_02 53_53",
          "14_interview_belle intervie...",
          "15_samuel eto_afrique_samuel",
          "16_émission_super émission_...",
          "17_coupe_cameroun_monde",
          "18_vidéo_connaissance_autres",
          "19_camerounais_cameroun_cam...",
          "20_mike_mike maignan_maignan",
          "21_eto_samuel eto_samuel",
          "22_vidéo_ai_excellent",
          "23_merci_émission merci_émi...",
          "24_latin_parle_écouter"
         ],
         "yaxis": "y",
         "z": [
          [
           1,
           0.8007363677024841,
           0.254788875579834,
           0.4071316719055176,
           0.24105092883110046,
           0.3444017171859741,
           0.14501897990703583,
           0.31214869022369385,
           0.11518018692731857,
           0.3612137734889984,
           0.38120242953300476,
           0.3029610216617584,
           0.15551383793354034,
           0.20569737255573273,
           0.265389084815979,
           0.6548566818237305,
           0.04981055110692978,
           0.2490178942680359,
           0.3563113808631897,
           0.19875474274158478,
           0.37383657693862915,
           0.6120734214782715,
           0.28850215673446655,
           0.15664848685264587,
           0.22585289180278778
          ],
          [
           0.8007363677024841,
           0.9999998211860657,
           0.28122490644454956,
           0.5327052474021912,
           0.2898043394088745,
           0.34174230694770813,
           0.06558366119861603,
           0.6141484975814819,
           0.03546667844057083,
           0.3063717782497406,
           0.4349130690097809,
           0.5249676704406738,
           0.15196825563907623,
           0.09086805582046509,
           0.275355726480484,
           0.8427955508232117,
           0.07017754763364792,
           0.3485107421875,
           0.44028234481811523,
           0.27114608883857727,
           0.41469061374664307,
           0.7531478404998779,
           0.2628515362739563,
           0.14880764484405518,
           0.300495445728302
          ],
          [
           0.254788875579834,
           0.28122490644454956,
           1.000000238418579,
           0.47330400347709656,
           0.5479836463928223,
           0.4797380566596985,
           0.38906383514404297,
           0.43542465567588806,
           0.20777501165866852,
           0.3131493031978607,
           0.3584382236003876,
           0.46264728903770447,
           0.5354101061820984,
           0.27076828479766846,
           0.46040576696395874,
           0.31679344177246094,
           0.29281091690063477,
           0.4162897765636444,
           0.46505048871040344,
           0.38382282853126526,
           0.5044359564781189,
           0.56992506980896,
           0.37292975187301636,
           0.45571374893188477,
           0.4489600956439972
          ],
          [
           0.4071316719055176,
           0.5327052474021912,
           0.47330400347709656,
           1.0000001192092896,
           0.6365494728088379,
           0.46531757712364197,
           0.1904686689376831,
           0.4454083740711212,
           0.03353406488895416,
           0.5015296936035156,
           0.45241162180900574,
           0.4119270145893097,
           0.4087386727333069,
           0.08717771619558334,
           0.4130064845085144,
           0.5639055371284485,
           0.15289978682994843,
           0.6197482943534851,
           0.5946379899978638,
           0.19119936227798462,
           0.5148417353630066,
           0.7270292043685913,
           0.38200581073760986,
           0.26220086216926575,
           0.32185477018356323
          ],
          [
           0.24105092883110046,
           0.2898043394088745,
           0.5479836463928223,
           0.6365494728088379,
           0.9999993443489075,
           0.6425289511680603,
           0.5449768304824829,
           0.44590166211128235,
           0.1577029824256897,
           0.49253690242767334,
           0.31684476137161255,
           0.4507722854614258,
           0.8393633961677551,
           0.16709604859352112,
           0.6160086989402771,
           0.394520103931427,
           0.3955782651901245,
           0.515568196773529,
           0.8346537947654724,
           0.1090390756726265,
           0.6318037509918213,
           0.7282019853591919,
           0.5777430534362793,
           0.56459641456604,
           0.44287440180778503
          ],
          [
           0.3444017171859741,
           0.34174230694770813,
           0.4797380566596985,
           0.46531757712364197,
           0.6425289511680603,
           0.9999998807907104,
           0.49247944355010986,
           0.41081544756889343,
           0.2381504625082016,
           0.3383414149284363,
           0.28944462537765503,
           0.43542665243148804,
           0.5925336480140686,
           0.2777283191680908,
           0.5458282828330994,
           0.3805729150772095,
           0.326518714427948,
           0.34505897760391235,
           0.5904554128646851,
           0.14507469534873962,
           0.4520590305328369,
           0.5953816771507263,
           0.4875943064689636,
           0.5001300573348999,
           0.4175040125846863
          ],
          [
           0.14501897990703583,
           0.06558366119861603,
           0.38906383514404297,
           0.1904686689376831,
           0.5449768304824829,
           0.49247944355010986,
           1,
           0.3827908933162689,
           0.780715823173523,
           0.2612571120262146,
           0.3366039991378784,
           0.506575345993042,
           0.6433681845664978,
           0.46696990728378296,
           0.6229785680770874,
           0.1090150773525238,
           0.4813684821128845,
           0.06826972961425781,
           0.44653627276420593,
           0.13751167058944702,
           0.34923291206359863,
           0.29890409111976624,
           0.5380093455314636,
           0.6068168878555298,
           0.32907915115356445
          ],
          [
           0.31214869022369385,
           0.6141484975814819,
           0.43542465567588806,
           0.4454083740711212,
           0.44590166211128235,
           0.41081544756889343,
           0.3827908933162689,
           0.9999995231628418,
           0.27551358938217163,
           0.21738819777965546,
           0.49453747272491455,
           0.8358455896377563,
           0.36920294165611267,
           0.1939290463924408,
           0.4708481431007385,
           0.6314933896064758,
           0.2780259847640991,
           0.31032082438468933,
           0.47632235288619995,
           0.31483685970306396,
           0.43205976486206055,
           0.6266798377037048,
           0.35812726616859436,
           0.4462411105632782,
           0.3949025869369507
          ],
          [
           0.11518018692731857,
           0.03546667844057083,
           0.20777501165866852,
           0.03353406488895416,
           0.1577029824256897,
           0.2381504625082016,
           0.780715823173523,
           0.27551358938217163,
           0.9999997615814209,
           0.1446147859096527,
           0.22647005319595337,
           0.3490246534347534,
           0.2951534390449524,
           0.4246703088283539,
           0.3983808159828186,
           0.033932775259017944,
           0.3653044104576111,
           -0.06221400201320648,
           0.15611383318901062,
           0.17081406712532043,
           0.14598482847213745,
           0.10182961821556091,
           0.3432978689670563,
           0.42191609740257263,
           0.17516878247261047
          ],
          [
           0.3612137734889984,
           0.3063717782497406,
           0.3131493031978607,
           0.5015296936035156,
           0.49253690242767334,
           0.3383414149284363,
           0.2612571120262146,
           0.21738819777965546,
           0.1446147859096527,
           0.9999999403953552,
           0.342528760433197,
           0.21026407182216644,
           0.3464758098125458,
           0.1268366575241089,
           0.32017165422439575,
           0.4086100459098816,
           0.19470088183879852,
           0.3755919337272644,
           0.4604228138923645,
           0.25915396213531494,
           0.4026789665222168,
           0.48369842767715454,
           0.28683632612228394,
           0.26473402976989746,
           0.2931358814239502
          ],
          [
           0.38120242953300476,
           0.4349130690097809,
           0.3584382236003876,
           0.45241162180900574,
           0.31684476137161255,
           0.28944462537765503,
           0.3366039991378784,
           0.49453747272491455,
           0.22647005319595337,
           0.342528760433197,
           0.9999998807907104,
           0.5158209204673767,
           0.29886913299560547,
           0.20852352678775787,
           0.4369323253631592,
           0.4125857949256897,
           0.20289692282676697,
           0.2189681977033615,
           0.3282938301563263,
           0.26330724358558655,
           0.41258054971694946,
           0.445331871509552,
           0.3125500977039337,
           0.2545105218887329,
           0.3054983615875244
          ],
          [
           0.3029610216617584,
           0.5249676704406738,
           0.46264728903770447,
           0.4119270145893097,
           0.4507722854614258,
           0.43542665243148804,
           0.506575345993042,
           0.8358455896377563,
           0.3490246534347534,
           0.21026407182216644,
           0.5158209204673767,
           1,
           0.41210758686065674,
           0.29868364334106445,
           0.5249208807945251,
           0.4906333088874817,
           0.31130656599998474,
           0.2523155212402344,
           0.4345082640647888,
           0.2711532413959503,
           0.41205716133117676,
           0.5628642439842224,
           0.42467036843299866,
           0.4226442575454712,
           0.4193670153617859
          ],
          [
           0.15551383793354034,
           0.15196825563907623,
           0.5354101061820984,
           0.4087386727333069,
           0.8393633961677551,
           0.5925336480140686,
           0.6433681845664978,
           0.36920294165611267,
           0.2951534390449524,
           0.3464758098125458,
           0.29886913299560547,
           0.41210758686065674,
           1.0000003576278687,
           0.27975985407829285,
           0.758832573890686,
           0.2150420844554901,
           0.5099059343338013,
           0.28161582350730896,
           0.7171950936317444,
           0.08481240272521973,
           0.4966862201690674,
           0.584477424621582,
           0.5858696699142456,
           0.6392514109611511,
           0.4824301302433014
          ],
          [
           0.20569737255573273,
           0.09086805582046509,
           0.27076828479766846,
           0.08717771619558334,
           0.16709604859352112,
           0.2777283191680908,
           0.46696990728378296,
           0.1939290463924408,
           0.4246703088283539,
           0.1268366575241089,
           0.20852352678775787,
           0.29868364334106445,
           0.27975985407829285,
           1,
           0.3466358482837677,
           0.057946041226387024,
           0.2229517549276352,
           -0.019599828869104385,
           0.12258829921483994,
           0.19896456599235535,
           0.24424180388450623,
           0.14808069169521332,
           0.28833624720573425,
           0.26645076274871826,
           0.10982292145490646
          ],
          [
           0.265389084815979,
           0.275355726480484,
           0.46040576696395874,
           0.4130064845085144,
           0.6160086989402771,
           0.5458282828330994,
           0.6229785680770874,
           0.4708481431007385,
           0.3983808159828186,
           0.32017165422439575,
           0.4369323253631592,
           0.5249208807945251,
           0.758832573890686,
           0.3466358482837677,
           0.9999997615814209,
           0.2971757650375366,
           0.4718315601348877,
           0.192505344748497,
           0.5327136516571045,
           0.20552004873752594,
           0.3979657292366028,
           0.5386725664138794,
           0.580256462097168,
           0.5910840034484863,
           0.46847298741340637
          ],
          [
           0.6548566818237305,
           0.8427955508232117,
           0.31679344177246094,
           0.5639055371284485,
           0.394520103931427,
           0.3805729150772095,
           0.1090150773525238,
           0.6314933896064758,
           0.033932775259017944,
           0.4086100459098816,
           0.4125857949256897,
           0.4906333088874817,
           0.2150420844554901,
           0.057946041226387024,
           0.2971757650375366,
           1.0000001192092896,
           0.11146621406078339,
           0.5140985250473022,
           0.6187533140182495,
           0.4355366826057434,
           0.40445613861083984,
           0.7432270050048828,
           0.269848495721817,
           0.2163170427083969,
           0.2889833450317383
          ],
          [
           0.04981055110692978,
           0.07017754763364792,
           0.29281091690063477,
           0.15289978682994843,
           0.3955782651901245,
           0.326518714427948,
           0.4813684821128845,
           0.2780259847640991,
           0.3653044104576111,
           0.19470088183879852,
           0.20289692282676697,
           0.31130656599998474,
           0.5099059343338013,
           0.2229517549276352,
           0.4718315601348877,
           0.11146621406078339,
           0.9999998211860657,
           0.09739014506340027,
           0.3113342225551605,
           0.08761167526245117,
           0.214043527841568,
           0.3324539363384247,
           0.522869884967804,
           0.6005091667175293,
           0.2514834403991699
          ],
          [
           0.2490178942680359,
           0.3485107421875,
           0.4162897765636444,
           0.6197482943534851,
           0.515568196773529,
           0.34505897760391235,
           0.06826972961425781,
           0.31032082438468933,
           -0.06221400201320648,
           0.3755919337272644,
           0.2189681977033615,
           0.2523155212402344,
           0.28161582350730896,
           -0.019599828869104385,
           0.192505344748497,
           0.5140985250473022,
           0.09739014506340027,
           1.000000238418579,
           0.5555137991905212,
           0.5036510825157166,
           0.35321688652038574,
           0.5276523232460022,
           0.22676122188568115,
           0.16730180382728577,
           0.19643749296665192
          ],
          [
           0.3563113808631897,
           0.44028234481811523,
           0.46505048871040344,
           0.5946379899978638,
           0.8346537947654724,
           0.5904554128646851,
           0.44653627276420593,
           0.47632235288619995,
           0.15611383318901062,
           0.4604228138923645,
           0.3282938301563263,
           0.4345082640647888,
           0.7171950936317444,
           0.12258829921483994,
           0.5327136516571045,
           0.6187533140182495,
           0.3113342225551605,
           0.5555137991905212,
           1.0000001192092896,
           0.21891362965106964,
           0.5454384684562683,
           0.750361442565918,
           0.5119060277938843,
           0.49454885721206665,
           0.40005481243133545
          ],
          [
           0.19875474274158478,
           0.27114608883857727,
           0.38382282853126526,
           0.19119936227798462,
           0.1090390756726265,
           0.14507469534873962,
           0.13751167058944702,
           0.31483685970306396,
           0.17081406712532043,
           0.25915396213531494,
           0.26330724358558655,
           0.2711532413959503,
           0.08481240272521973,
           0.19896456599235535,
           0.20552004873752594,
           0.4355366826057434,
           0.08761167526245117,
           0.5036510825157166,
           0.21891362965106964,
           0.9999996423721313,
           0.16606998443603516,
           0.23690888285636902,
           0.053989216685295105,
           0.1781558394432068,
           0.19893310964107513
          ],
          [
           0.37383657693862915,
           0.41469061374664307,
           0.5044359564781189,
           0.5148417353630066,
           0.6318037509918213,
           0.4520590305328369,
           0.34923291206359863,
           0.43205976486206055,
           0.14598482847213745,
           0.4026789665222168,
           0.41258054971694946,
           0.41205716133117676,
           0.4966862201690674,
           0.24424180388450623,
           0.3979657292366028,
           0.40445613861083984,
           0.214043527841568,
           0.35321688652038574,
           0.5454384684562683,
           0.16606998443603516,
           0.9999998807907104,
           0.6054898500442505,
           0.39872315526008606,
           0.41239336133003235,
           0.2703186571598053
          ],
          [
           0.6120734214782715,
           0.7531478404998779,
           0.56992506980896,
           0.7270292043685913,
           0.7282019853591919,
           0.5953816771507263,
           0.29890409111976624,
           0.6266798377037048,
           0.10182961821556091,
           0.48369842767715454,
           0.445331871509552,
           0.5628642439842224,
           0.584477424621582,
           0.14808069169521332,
           0.5386725664138794,
           0.7432270050048828,
           0.3324539363384247,
           0.5276523232460022,
           0.750361442565918,
           0.23690888285636902,
           0.6054898500442505,
           1.000000238418579,
           0.5456546545028687,
           0.44897761940956116,
           0.4225490689277649
          ],
          [
           0.28850215673446655,
           0.2628515362739563,
           0.37292975187301636,
           0.38200581073760986,
           0.5777430534362793,
           0.4875943064689636,
           0.5380093455314636,
           0.35812726616859436,
           0.3432978689670563,
           0.28683632612228394,
           0.3125500977039337,
           0.42467036843299866,
           0.5858696699142456,
           0.28833624720573425,
           0.580256462097168,
           0.269848495721817,
           0.522869884967804,
           0.22676122188568115,
           0.5119060277938843,
           0.053989216685295105,
           0.39872315526008606,
           0.5456546545028687,
           1.0000001192092896,
           0.5558708906173706,
           0.3066823482513428
          ],
          [
           0.15664848685264587,
           0.14880764484405518,
           0.45571374893188477,
           0.26220086216926575,
           0.56459641456604,
           0.5001300573348999,
           0.6068168878555298,
           0.4462411105632782,
           0.42191609740257263,
           0.26473402976989746,
           0.2545105218887329,
           0.4226442575454712,
           0.6392514109611511,
           0.26645076274871826,
           0.5910840034484863,
           0.2163170427083969,
           0.6005091667175293,
           0.16730180382728577,
           0.49454885721206665,
           0.1781558394432068,
           0.41239336133003235,
           0.44897761940956116,
           0.5558708906173706,
           1.000000238418579,
           0.42616769671440125
          ],
          [
           0.22585289180278778,
           0.300495445728302,
           0.4489600956439972,
           0.32185477018356323,
           0.44287440180778503,
           0.4175040125846863,
           0.32907915115356445,
           0.3949025869369507,
           0.17516878247261047,
           0.2931358814239502,
           0.3054983615875244,
           0.4193670153617859,
           0.4824301302433014,
           0.10982292145490646,
           0.46847298741340637,
           0.2889833450317383,
           0.2514834403991699,
           0.19643749296665192,
           0.40005481243133545,
           0.19893310964107513,
           0.2703186571598053,
           0.4225490689277649,
           0.3066823482513428,
           0.42616769671440125,
           1
          ]
         ]
        }
       ],
       "layout": {
        "coloraxis": {
         "colorbar": {
          "title": {
           "text": "Similarity Score"
          }
         },
         "colorscale": [
          [
           0,
           "rgb(247,252,240)"
          ],
          [
           0.125,
           "rgb(224,243,219)"
          ],
          [
           0.25,
           "rgb(204,235,197)"
          ],
          [
           0.375,
           "rgb(168,221,181)"
          ],
          [
           0.5,
           "rgb(123,204,196)"
          ],
          [
           0.625,
           "rgb(78,179,211)"
          ],
          [
           0.75,
           "rgb(43,140,190)"
          ],
          [
           0.875,
           "rgb(8,104,172)"
          ],
          [
           1,
           "rgb(8,64,129)"
          ]
         ]
        },
        "height": 800,
        "hoverlabel": {
         "bgcolor": "white",
         "font": {
          "family": "Rockwell",
          "size": 16
         }
        },
        "legend": {
         "title": {
          "text": "Trend"
         }
        },
        "margin": {
         "t": 60
        },
        "showlegend": true,
        "template": {
         "data": {
          "bar": [
           {
            "error_x": {
             "color": "#2a3f5f"
            },
            "error_y": {
             "color": "#2a3f5f"
            },
            "marker": {
             "line": {
              "color": "#E5ECF6",
              "width": 0.5
             },
             "pattern": {
              "fillmode": "overlay",
              "size": 10,
              "solidity": 0.2
             }
            },
            "type": "bar"
           }
          ],
          "barpolar": [
           {
            "marker": {
             "line": {
              "color": "#E5ECF6",
              "width": 0.5
             },
             "pattern": {
              "fillmode": "overlay",
              "size": 10,
              "solidity": 0.2
             }
            },
            "type": "barpolar"
           }
          ],
          "carpet": [
           {
            "aaxis": {
             "endlinecolor": "#2a3f5f",
             "gridcolor": "white",
             "linecolor": "white",
             "minorgridcolor": "white",
             "startlinecolor": "#2a3f5f"
            },
            "baxis": {
             "endlinecolor": "#2a3f5f",
             "gridcolor": "white",
             "linecolor": "white",
             "minorgridcolor": "white",
             "startlinecolor": "#2a3f5f"
            },
            "type": "carpet"
           }
          ],
          "choropleth": [
           {
            "colorbar": {
             "outlinewidth": 0,
             "ticks": ""
            },
            "type": "choropleth"
           }
          ],
          "contour": [
           {
            "colorbar": {
             "outlinewidth": 0,
             "ticks": ""
            },
            "colorscale": [
             [
              0,
              "#0d0887"
             ],
             [
              0.1111111111111111,
              "#46039f"
             ],
             [
              0.2222222222222222,
              "#7201a8"
             ],
             [
              0.3333333333333333,
              "#9c179e"
             ],
             [
              0.4444444444444444,
              "#bd3786"
             ],
             [
              0.5555555555555556,
              "#d8576b"
             ],
             [
              0.6666666666666666,
              "#ed7953"
             ],
             [
              0.7777777777777778,
              "#fb9f3a"
             ],
             [
              0.8888888888888888,
              "#fdca26"
             ],
             [
              1,
              "#f0f921"
             ]
            ],
            "type": "contour"
           }
          ],
          "contourcarpet": [
           {
            "colorbar": {
             "outlinewidth": 0,
             "ticks": ""
            },
            "type": "contourcarpet"
           }
          ],
          "heatmap": [
           {
            "colorbar": {
             "outlinewidth": 0,
             "ticks": ""
            },
            "colorscale": [
             [
              0,
              "#0d0887"
             ],
             [
              0.1111111111111111,
              "#46039f"
             ],
             [
              0.2222222222222222,
              "#7201a8"
             ],
             [
              0.3333333333333333,
              "#9c179e"
             ],
             [
              0.4444444444444444,
              "#bd3786"
             ],
             [
              0.5555555555555556,
              "#d8576b"
             ],
             [
              0.6666666666666666,
              "#ed7953"
             ],
             [
              0.7777777777777778,
              "#fb9f3a"
             ],
             [
              0.8888888888888888,
              "#fdca26"
             ],
             [
              1,
              "#f0f921"
             ]
            ],
            "type": "heatmap"
           }
          ],
          "heatmapgl": [
           {
            "colorbar": {
             "outlinewidth": 0,
             "ticks": ""
            },
            "colorscale": [
             [
              0,
              "#0d0887"
             ],
             [
              0.1111111111111111,
              "#46039f"
             ],
             [
              0.2222222222222222,
              "#7201a8"
             ],
             [
              0.3333333333333333,
              "#9c179e"
             ],
             [
              0.4444444444444444,
              "#bd3786"
             ],
             [
              0.5555555555555556,
              "#d8576b"
             ],
             [
              0.6666666666666666,
              "#ed7953"
             ],
             [
              0.7777777777777778,
              "#fb9f3a"
             ],
             [
              0.8888888888888888,
              "#fdca26"
             ],
             [
              1,
              "#f0f921"
             ]
            ],
            "type": "heatmapgl"
           }
          ],
          "histogram": [
           {
            "marker": {
             "pattern": {
              "fillmode": "overlay",
              "size": 10,
              "solidity": 0.2
             }
            },
            "type": "histogram"
           }
          ],
          "histogram2d": [
           {
            "colorbar": {
             "outlinewidth": 0,
             "ticks": ""
            },
            "colorscale": [
             [
              0,
              "#0d0887"
             ],
             [
              0.1111111111111111,
              "#46039f"
             ],
             [
              0.2222222222222222,
              "#7201a8"
             ],
             [
              0.3333333333333333,
              "#9c179e"
             ],
             [
              0.4444444444444444,
              "#bd3786"
             ],
             [
              0.5555555555555556,
              "#d8576b"
             ],
             [
              0.6666666666666666,
              "#ed7953"
             ],
             [
              0.7777777777777778,
              "#fb9f3a"
             ],
             [
              0.8888888888888888,
              "#fdca26"
             ],
             [
              1,
              "#f0f921"
             ]
            ],
            "type": "histogram2d"
           }
          ],
          "histogram2dcontour": [
           {
            "colorbar": {
             "outlinewidth": 0,
             "ticks": ""
            },
            "colorscale": [
             [
              0,
              "#0d0887"
             ],
             [
              0.1111111111111111,
              "#46039f"
             ],
             [
              0.2222222222222222,
              "#7201a8"
             ],
             [
              0.3333333333333333,
              "#9c179e"
             ],
             [
              0.4444444444444444,
              "#bd3786"
             ],
             [
              0.5555555555555556,
              "#d8576b"
             ],
             [
              0.6666666666666666,
              "#ed7953"
             ],
             [
              0.7777777777777778,
              "#fb9f3a"
             ],
             [
              0.8888888888888888,
              "#fdca26"
             ],
             [
              1,
              "#f0f921"
             ]
            ],
            "type": "histogram2dcontour"
           }
          ],
          "mesh3d": [
           {
            "colorbar": {
             "outlinewidth": 0,
             "ticks": ""
            },
            "type": "mesh3d"
           }
          ],
          "parcoords": [
           {
            "line": {
             "colorbar": {
              "outlinewidth": 0,
              "ticks": ""
             }
            },
            "type": "parcoords"
           }
          ],
          "pie": [
           {
            "automargin": true,
            "type": "pie"
           }
          ],
          "scatter": [
           {
            "fillpattern": {
             "fillmode": "overlay",
             "size": 10,
             "solidity": 0.2
            },
            "type": "scatter"
           }
          ],
          "scatter3d": [
           {
            "line": {
             "colorbar": {
              "outlinewidth": 0,
              "ticks": ""
             }
            },
            "marker": {
             "colorbar": {
              "outlinewidth": 0,
              "ticks": ""
             }
            },
            "type": "scatter3d"
           }
          ],
          "scattercarpet": [
           {
            "marker": {
             "colorbar": {
              "outlinewidth": 0,
              "ticks": ""
             }
            },
            "type": "scattercarpet"
           }
          ],
          "scattergeo": [
           {
            "marker": {
             "colorbar": {
              "outlinewidth": 0,
              "ticks": ""
             }
            },
            "type": "scattergeo"
           }
          ],
          "scattergl": [
           {
            "marker": {
             "colorbar": {
              "outlinewidth": 0,
              "ticks": ""
             }
            },
            "type": "scattergl"
           }
          ],
          "scattermapbox": [
           {
            "marker": {
             "colorbar": {
              "outlinewidth": 0,
              "ticks": ""
             }
            },
            "type": "scattermapbox"
           }
          ],
          "scatterpolar": [
           {
            "marker": {
             "colorbar": {
              "outlinewidth": 0,
              "ticks": ""
             }
            },
            "type": "scatterpolar"
           }
          ],
          "scatterpolargl": [
           {
            "marker": {
             "colorbar": {
              "outlinewidth": 0,
              "ticks": ""
             }
            },
            "type": "scatterpolargl"
           }
          ],
          "scatterternary": [
           {
            "marker": {
             "colorbar": {
              "outlinewidth": 0,
              "ticks": ""
             }
            },
            "type": "scatterternary"
           }
          ],
          "surface": [
           {
            "colorbar": {
             "outlinewidth": 0,
             "ticks": ""
            },
            "colorscale": [
             [
              0,
              "#0d0887"
             ],
             [
              0.1111111111111111,
              "#46039f"
             ],
             [
              0.2222222222222222,
              "#7201a8"
             ],
             [
              0.3333333333333333,
              "#9c179e"
             ],
             [
              0.4444444444444444,
              "#bd3786"
             ],
             [
              0.5555555555555556,
              "#d8576b"
             ],
             [
              0.6666666666666666,
              "#ed7953"
             ],
             [
              0.7777777777777778,
              "#fb9f3a"
             ],
             [
              0.8888888888888888,
              "#fdca26"
             ],
             [
              1,
              "#f0f921"
             ]
            ],
            "type": "surface"
           }
          ],
          "table": [
           {
            "cells": {
             "fill": {
              "color": "#EBF0F8"
             },
             "line": {
              "color": "white"
             }
            },
            "header": {
             "fill": {
              "color": "#C8D4E3"
             },
             "line": {
              "color": "white"
             }
            },
            "type": "table"
           }
          ]
         },
         "layout": {
          "annotationdefaults": {
           "arrowcolor": "#2a3f5f",
           "arrowhead": 0,
           "arrowwidth": 1
          },
          "autotypenumbers": "strict",
          "coloraxis": {
           "colorbar": {
            "outlinewidth": 0,
            "ticks": ""
           }
          },
          "colorscale": {
           "diverging": [
            [
             0,
             "#8e0152"
            ],
            [
             0.1,
             "#c51b7d"
            ],
            [
             0.2,
             "#de77ae"
            ],
            [
             0.3,
             "#f1b6da"
            ],
            [
             0.4,
             "#fde0ef"
            ],
            [
             0.5,
             "#f7f7f7"
            ],
            [
             0.6,
             "#e6f5d0"
            ],
            [
             0.7,
             "#b8e186"
            ],
            [
             0.8,
             "#7fbc41"
            ],
            [
             0.9,
             "#4d9221"
            ],
            [
             1,
             "#276419"
            ]
           ],
           "sequential": [
            [
             0,
             "#0d0887"
            ],
            [
             0.1111111111111111,
             "#46039f"
            ],
            [
             0.2222222222222222,
             "#7201a8"
            ],
            [
             0.3333333333333333,
             "#9c179e"
            ],
            [
             0.4444444444444444,
             "#bd3786"
            ],
            [
             0.5555555555555556,
             "#d8576b"
            ],
            [
             0.6666666666666666,
             "#ed7953"
            ],
            [
             0.7777777777777778,
             "#fb9f3a"
            ],
            [
             0.8888888888888888,
             "#fdca26"
            ],
            [
             1,
             "#f0f921"
            ]
           ],
           "sequentialminus": [
            [
             0,
             "#0d0887"
            ],
            [
             0.1111111111111111,
             "#46039f"
            ],
            [
             0.2222222222222222,
             "#7201a8"
            ],
            [
             0.3333333333333333,
             "#9c179e"
            ],
            [
             0.4444444444444444,
             "#bd3786"
            ],
            [
             0.5555555555555556,
             "#d8576b"
            ],
            [
             0.6666666666666666,
             "#ed7953"
            ],
            [
             0.7777777777777778,
             "#fb9f3a"
            ],
            [
             0.8888888888888888,
             "#fdca26"
            ],
            [
             1,
             "#f0f921"
            ]
           ]
          },
          "colorway": [
           "#636efa",
           "#EF553B",
           "#00cc96",
           "#ab63fa",
           "#FFA15A",
           "#19d3f3",
           "#FF6692",
           "#B6E880",
           "#FF97FF",
           "#FECB52"
          ],
          "font": {
           "color": "#2a3f5f"
          },
          "geo": {
           "bgcolor": "white",
           "lakecolor": "white",
           "landcolor": "#E5ECF6",
           "showlakes": true,
           "showland": true,
           "subunitcolor": "white"
          },
          "hoverlabel": {
           "align": "left"
          },
          "hovermode": "closest",
          "mapbox": {
           "style": "light"
          },
          "paper_bgcolor": "white",
          "plot_bgcolor": "#E5ECF6",
          "polar": {
           "angularaxis": {
            "gridcolor": "white",
            "linecolor": "white",
            "ticks": ""
           },
           "bgcolor": "#E5ECF6",
           "radialaxis": {
            "gridcolor": "white",
            "linecolor": "white",
            "ticks": ""
           }
          },
          "scene": {
           "xaxis": {
            "backgroundcolor": "#E5ECF6",
            "gridcolor": "white",
            "gridwidth": 2,
            "linecolor": "white",
            "showbackground": true,
            "ticks": "",
            "zerolinecolor": "white"
           },
           "yaxis": {
            "backgroundcolor": "#E5ECF6",
            "gridcolor": "white",
            "gridwidth": 2,
            "linecolor": "white",
            "showbackground": true,
            "ticks": "",
            "zerolinecolor": "white"
           },
           "zaxis": {
            "backgroundcolor": "#E5ECF6",
            "gridcolor": "white",
            "gridwidth": 2,
            "linecolor": "white",
            "showbackground": true,
            "ticks": "",
            "zerolinecolor": "white"
           }
          },
          "shapedefaults": {
           "line": {
            "color": "#2a3f5f"
           }
          },
          "ternary": {
           "aaxis": {
            "gridcolor": "white",
            "linecolor": "white",
            "ticks": ""
           },
           "baxis": {
            "gridcolor": "white",
            "linecolor": "white",
            "ticks": ""
           },
           "bgcolor": "#E5ECF6",
           "caxis": {
            "gridcolor": "white",
            "linecolor": "white",
            "ticks": ""
           }
          },
          "title": {
           "x": 0.05
          },
          "xaxis": {
           "automargin": true,
           "gridcolor": "white",
           "linecolor": "white",
           "ticks": "",
           "title": {
            "standoff": 15
           },
           "zerolinecolor": "white",
           "zerolinewidth": 2
          },
          "yaxis": {
           "automargin": true,
           "gridcolor": "white",
           "linecolor": "white",
           "ticks": "",
           "title": {
            "standoff": 15
           },
           "zerolinecolor": "white",
           "zerolinewidth": 2
          }
         }
        },
        "title": {
         "font": {
          "color": "Black",
          "size": 22
         },
         "text": "<b>Similarity Matrix</b>",
         "x": 0.55,
         "xanchor": "center",
         "y": 0.95,
         "yanchor": "top"
        },
        "width": 800,
        "xaxis": {
         "anchor": "y",
         "constrain": "domain",
         "domain": [
          0,
          1
         ],
         "scaleanchor": "y"
        },
        "yaxis": {
         "anchor": "x",
         "autorange": "reversed",
         "constrain": "domain",
         "domain": [
          0,
          1
         ]
        }
       }
      }
     },
     "metadata": {},
     "output_type": "display_data"
    }
   ],
   "source": [
    "topic_model.visualize_heatmap()"
   ]
  },
  {
   "cell_type": "code",
   "execution_count": 37,
   "metadata": {},
   "outputs": [
    {
     "data": {
      "text/plain": [
       "array([0.        , 0.94156988, 0.71052478, ..., 1.        , 0.71416397,\n",
       "       0.        ])"
      ]
     },
     "execution_count": 37,
     "metadata": {},
     "output_type": "execute_result"
    }
   ],
   "source": [
    "probs"
   ]
  },
  {
   "cell_type": "code",
   "execution_count": 108,
   "metadata": {},
   "outputs": [
    {
     "data": {
      "text/html": [
       "<div>\n",
       "<style scoped>\n",
       "    .dataframe tbody tr th:only-of-type {\n",
       "        vertical-align: middle;\n",
       "    }\n",
       "\n",
       "    .dataframe tbody tr th {\n",
       "        vertical-align: top;\n",
       "    }\n",
       "\n",
       "    .dataframe thead th {\n",
       "        text-align: right;\n",
       "    }\n",
       "</style>\n",
       "<table border=\"1\" class=\"dataframe\">\n",
       "  <thead>\n",
       "    <tr style=\"text-align: right;\">\n",
       "      <th></th>\n",
       "      <th>Topic</th>\n",
       "      <th>Count</th>\n",
       "      <th>Name</th>\n",
       "      <th>Representation</th>\n",
       "      <th>Representative_Docs</th>\n",
       "    </tr>\n",
       "  </thead>\n",
       "  <tbody>\n",
       "    <tr>\n",
       "      <th>0</th>\n",
       "      <td>-1</td>\n",
       "      <td>361</td>\n",
       "      <td>-1_eto_est_etoo_samuel</td>\n",
       "      <td>[eto, est, etoo, samuel, être, ça, qu, redouan...</td>\n",
       "      <td>[raconte eto'o bête simpliste. parle qatar exe...</td>\n",
       "    </tr>\n",
       "    <tr>\n",
       "      <th>1</th>\n",
       "      <td>0</td>\n",
       "      <td>73</td>\n",
       "      <td>0_samuel_02_samuel samuel_oh samuel</td>\n",
       "      <td>[samuel, 02, samuel samuel, oh samuel, samuel ...</td>\n",
       "      <td>[oh samuel ️, 1:02:51 nouvelle célèbre réf tik...</td>\n",
       "    </tr>\n",
       "    <tr>\n",
       "      <th>2</th>\n",
       "      <td>1</td>\n",
       "      <td>70</td>\n",
       "      <td>1_samuel eto_samuel_eto_samuel etoo</td>\n",
       "      <td>[samuel eto, samuel, eto, samuel etoo, eto sam...</td>\n",
       "      <td>[samuel eto'o fils, légende samuel eto'o 🇨🇲🇨🇲🇨...</td>\n",
       "    </tr>\n",
       "    <tr>\n",
       "      <th>3</th>\n",
       "      <td>2</td>\n",
       "      <td>52</td>\n",
       "      <td>2_eto_papa_papa eto_grand</td>\n",
       "      <td>[eto, papa, papa eto, grand, etooo, eto eto, e...</td>\n",
       "      <td>[touche eto'o, eto'o continent, touche eto'o, ...</td>\n",
       "    </tr>\n",
       "    <tr>\n",
       "      <th>4</th>\n",
       "      <td>3</td>\n",
       "      <td>45</td>\n",
       "      <td>3_tchouameni_tchouaméni_bon_tchouameni bon</td>\n",
       "      <td>[tchouameni, tchouaméni, bon, tchouameni bon, ...</td>\n",
       "      <td>[tchouameni, bon présentateur, aurélien tchoua...</td>\n",
       "    </tr>\n",
       "  </tbody>\n",
       "</table>\n",
       "</div>"
      ],
      "text/plain": [
       "   Topic  Count                                        Name  \\\n",
       "0     -1    361                      -1_eto_est_etoo_samuel   \n",
       "1      0     73         0_samuel_02_samuel samuel_oh samuel   \n",
       "2      1     70         1_samuel eto_samuel_eto_samuel etoo   \n",
       "3      2     52                   2_eto_papa_papa eto_grand   \n",
       "4      3     45  3_tchouameni_tchouaméni_bon_tchouameni bon   \n",
       "\n",
       "                                      Representation  \\\n",
       "0  [eto, est, etoo, samuel, être, ça, qu, redouan...   \n",
       "1  [samuel, 02, samuel samuel, oh samuel, samuel ...   \n",
       "2  [samuel eto, samuel, eto, samuel etoo, eto sam...   \n",
       "3  [eto, papa, papa eto, grand, etooo, eto eto, e...   \n",
       "4  [tchouameni, tchouaméni, bon, tchouameni bon, ...   \n",
       "\n",
       "                                 Representative_Docs  \n",
       "0  [raconte eto'o bête simpliste. parle qatar exe...  \n",
       "1  [oh samuel ️, 1:02:51 nouvelle célèbre réf tik...  \n",
       "2  [samuel eto'o fils, légende samuel eto'o 🇨🇲🇨🇲🇨...  \n",
       "3  [touche eto'o, eto'o continent, touche eto'o, ...  \n",
       "4  [tchouameni, bon présentateur, aurélien tchoua...  "
      ]
     },
     "execution_count": 108,
     "metadata": {},
     "output_type": "execute_result"
    }
   ],
   "source": [
    "infos_topics = topic_model.get_topic_info()\n",
    "infos_topics.head()"
   ]
  },
  {
   "cell_type": "code",
   "execution_count": 110,
   "metadata": {},
   "outputs": [
    {
     "name": "stdout",
     "output_type": "stream",
     "text": [
      "['cédric doumbé meilleur combattant français.... connu certainement, meilleur....', 'arrêté « meilleur combattant français cédric doumbe »', 'meilleur combattant français cédric doumbe mdr']\n"
     ]
    }
   ],
   "source": [
    "print(infos_topics['Representative_Docs'].iloc[11])"
   ]
  },
  {
   "cell_type": "code",
   "execution_count": 40,
   "metadata": {},
   "outputs": [],
   "source": [
    "from langchain.prompts.chat import (\n",
    "    ChatPromptTemplate,\n",
    ")"
   ]
  },
  {
   "cell_type": "code",
   "execution_count": 111,
   "metadata": {},
   "outputs": [],
   "source": [
    "prompt = \"\"\"\n",
    "<|système|>\n",
    "Tu es un agent qui permet de donner un titre à un ensemble de topic que l'utilisateur te donnera. Donne uniquement le titre comme réponse.\n",
    "\n",
    "<|utilisateur|>\n",
    "Topics :\n",
    "{topics}\n",
    "\n",
    "\n",
    "\"\"\""
   ]
  },
  {
   "cell_type": "code",
   "execution_count": 42,
   "metadata": {},
   "outputs": [],
   "source": [
    "from langchain.chat_models import ChatOpenAI"
   ]
  },
  {
   "cell_type": "code",
   "execution_count": 76,
   "metadata": {},
   "outputs": [],
   "source": [
    "#!pip install langchain_community"
   ]
  },
  {
   "cell_type": "code",
   "execution_count": 80,
   "metadata": {},
   "outputs": [],
   "source": [
    "#!pip install openai"
   ]
  },
  {
   "cell_type": "code",
   "execution_count": 43,
   "metadata": {},
   "outputs": [
    {
     "name": "stderr",
     "output_type": "stream",
     "text": [
      "C:\\Users\\mbial\\AppData\\Local\\Temp\\ipykernel_13188\\3447722831.py:3: LangChainDeprecationWarning:\n",
      "\n",
      "The class `ChatOpenAI` was deprecated in LangChain 0.0.10 and will be removed in 1.0. An updated version of the class exists in the :class:`~langchain-openai package and should be used instead. To use it run `pip install -U :class:`~langchain-openai` and import as `from :class:`~langchain_openai import ChatOpenAI``.\n",
      "\n"
     ]
    }
   ],
   "source": [
    "OPENAI_API_KEY = \"\"\n",
    "\n",
    "\n"
   ]
  },
  {
   "cell_type": "code",
   "execution_count": 112,
   "metadata": {},
   "outputs": [],
   "source": [
    "eval_chat_model = ChatOpenAI(model=\"gpt-4-1106-preview\", temperature=0.9, openai_api_key=OPENAI_API_KEY)"
   ]
  },
  {
   "cell_type": "code",
   "execution_count": 113,
   "metadata": {},
   "outputs": [
    {
     "data": {
      "text/plain": [
       "'combattant meilleur combattant cédric meilleur combattant français meilleur combattant français doumbé français doumbe cédric doumbe'"
      ]
     },
     "execution_count": 113,
     "metadata": {},
     "output_type": "execute_result"
    }
   ],
   "source": [
    "\" \".join(infos_topics['Representation'].iloc[11])"
   ]
  },
  {
   "cell_type": "code",
   "execution_count": 114,
   "metadata": {},
   "outputs": [
    {
     "name": "stdout",
     "output_type": "stream",
     "text": [
      "\n",
      "<|système|>\n",
      "Tu es un agent qui permet de donner un titre à un ensemble de topic que l'utilisateur te donnera. Donne uniquement le titre comme réponse.\n",
      "\n",
      "<|utilisateur|>\n",
      "Topics :\n",
      "combattant meilleur combattant cédric meilleur combattant français meilleur combattant français doumbé français doumbe cédric doumbe\n",
      "\n",
      "\n",
      "\n"
     ]
    }
   ],
   "source": [
    "final_prompt = prompt.format(topics = \" \".join(infos_topics['Representation'].iloc[11])\n",
    "                             )\n",
    "print(final_prompt)"
   ]
  },
  {
   "cell_type": "code",
   "execution_count": 115,
   "metadata": {},
   "outputs": [
    {
     "data": {
      "text/html": [
       "<div>\n",
       "<style scoped>\n",
       "    .dataframe tbody tr th:only-of-type {\n",
       "        vertical-align: middle;\n",
       "    }\n",
       "\n",
       "    .dataframe tbody tr th {\n",
       "        vertical-align: top;\n",
       "    }\n",
       "\n",
       "    .dataframe thead th {\n",
       "        text-align: right;\n",
       "    }\n",
       "</style>\n",
       "<table border=\"1\" class=\"dataframe\">\n",
       "  <thead>\n",
       "    <tr style=\"text-align: right;\">\n",
       "      <th></th>\n",
       "      <th>Topic</th>\n",
       "      <th>Count</th>\n",
       "      <th>Name</th>\n",
       "      <th>Representation</th>\n",
       "      <th>Representative_Docs</th>\n",
       "    </tr>\n",
       "  </thead>\n",
       "  <tbody>\n",
       "    <tr>\n",
       "      <th>0</th>\n",
       "      <td>-1</td>\n",
       "      <td>361</td>\n",
       "      <td>-1_eto_est_etoo_samuel</td>\n",
       "      <td>[eto, est, etoo, samuel, être, ça, qu, redouan...</td>\n",
       "      <td>[raconte eto'o bête simpliste. parle qatar exe...</td>\n",
       "    </tr>\n",
       "    <tr>\n",
       "      <th>1</th>\n",
       "      <td>0</td>\n",
       "      <td>73</td>\n",
       "      <td>0_samuel_02_samuel samuel_oh samuel</td>\n",
       "      <td>[samuel, 02, samuel samuel, oh samuel, samuel ...</td>\n",
       "      <td>[oh samuel ️, 1:02:51 nouvelle célèbre réf tik...</td>\n",
       "    </tr>\n",
       "    <tr>\n",
       "      <th>2</th>\n",
       "      <td>1</td>\n",
       "      <td>70</td>\n",
       "      <td>1_samuel eto_samuel_eto_samuel etoo</td>\n",
       "      <td>[samuel eto, samuel, eto, samuel etoo, eto sam...</td>\n",
       "      <td>[samuel eto'o fils, légende samuel eto'o 🇨🇲🇨🇲🇨...</td>\n",
       "    </tr>\n",
       "    <tr>\n",
       "      <th>3</th>\n",
       "      <td>2</td>\n",
       "      <td>52</td>\n",
       "      <td>2_eto_papa_papa eto_grand</td>\n",
       "      <td>[eto, papa, papa eto, grand, etooo, eto eto, e...</td>\n",
       "      <td>[touche eto'o, eto'o continent, touche eto'o, ...</td>\n",
       "    </tr>\n",
       "    <tr>\n",
       "      <th>4</th>\n",
       "      <td>3</td>\n",
       "      <td>45</td>\n",
       "      <td>3_tchouameni_tchouaméni_bon_tchouameni bon</td>\n",
       "      <td>[tchouameni, tchouaméni, bon, tchouameni bon, ...</td>\n",
       "      <td>[tchouameni, bon présentateur, aurélien tchoua...</td>\n",
       "    </tr>\n",
       "    <tr>\n",
       "      <th>5</th>\n",
       "      <td>4</td>\n",
       "      <td>42</td>\n",
       "      <td>4_interview_30_laisse_super</td>\n",
       "      <td>[interview, 30, laisse, super, personnes, invi...</td>\n",
       "      <td>[tellement vrai gars, lasse d'écouter intervie...</td>\n",
       "    </tr>\n",
       "    <tr>\n",
       "      <th>6</th>\n",
       "      <td>5</td>\n",
       "      <td>37</td>\n",
       "      <td>5_inter_jamais_mi_mi temps</td>\n",
       "      <td>[inter, jamais, mi, mi temps, temps, triplé, m...</td>\n",
       "      <td>[eto'o s'invente vie mdr n'a jamais marqué tri...</td>\n",
       "    </tr>\n",
       "    <tr>\n",
       "      <th>7</th>\n",
       "      <td>6</td>\n",
       "      <td>36</td>\n",
       "      <td>6_parole_ça_qu_respect</td>\n",
       "      <td>[parole, ça, qu, respect, grand, encore, ca, f...</td>\n",
       "      <td>[\" veux joueur caractère, importe m'insulte, d...</td>\n",
       "    </tr>\n",
       "    <tr>\n",
       "      <th>8</th>\n",
       "      <td>7</td>\n",
       "      <td>33</td>\n",
       "      <td>7_aurélien_aurelien_journaliste_bon</td>\n",
       "      <td>[aurélien, aurelien, journaliste, bon, bravo, ...</td>\n",
       "      <td>[possible, aurélien reconvertis journalisme ap...</td>\n",
       "    </tr>\n",
       "    <tr>\n",
       "      <th>9</th>\n",
       "      <td>8</td>\n",
       "      <td>32</td>\n",
       "      <td>8_émission_merci_super_super émission</td>\n",
       "      <td>[émission, merci, super, super émission, émiss...</td>\n",
       "      <td>[aimé l'émission merci, super émission super, ...</td>\n",
       "    </tr>\n",
       "  </tbody>\n",
       "</table>\n",
       "</div>"
      ],
      "text/plain": [
       "   Topic  Count                                        Name  \\\n",
       "0     -1    361                      -1_eto_est_etoo_samuel   \n",
       "1      0     73         0_samuel_02_samuel samuel_oh samuel   \n",
       "2      1     70         1_samuel eto_samuel_eto_samuel etoo   \n",
       "3      2     52                   2_eto_papa_papa eto_grand   \n",
       "4      3     45  3_tchouameni_tchouaméni_bon_tchouameni bon   \n",
       "5      4     42                 4_interview_30_laisse_super   \n",
       "6      5     37                  5_inter_jamais_mi_mi temps   \n",
       "7      6     36                      6_parole_ça_qu_respect   \n",
       "8      7     33         7_aurélien_aurelien_journaliste_bon   \n",
       "9      8     32       8_émission_merci_super_super émission   \n",
       "\n",
       "                                      Representation  \\\n",
       "0  [eto, est, etoo, samuel, être, ça, qu, redouan...   \n",
       "1  [samuel, 02, samuel samuel, oh samuel, samuel ...   \n",
       "2  [samuel eto, samuel, eto, samuel etoo, eto sam...   \n",
       "3  [eto, papa, papa eto, grand, etooo, eto eto, e...   \n",
       "4  [tchouameni, tchouaméni, bon, tchouameni bon, ...   \n",
       "5  [interview, 30, laisse, super, personnes, invi...   \n",
       "6  [inter, jamais, mi, mi temps, temps, triplé, m...   \n",
       "7  [parole, ça, qu, respect, grand, encore, ca, f...   \n",
       "8  [aurélien, aurelien, journaliste, bon, bravo, ...   \n",
       "9  [émission, merci, super, super émission, émiss...   \n",
       "\n",
       "                                 Representative_Docs  \n",
       "0  [raconte eto'o bête simpliste. parle qatar exe...  \n",
       "1  [oh samuel ️, 1:02:51 nouvelle célèbre réf tik...  \n",
       "2  [samuel eto'o fils, légende samuel eto'o 🇨🇲🇨🇲🇨...  \n",
       "3  [touche eto'o, eto'o continent, touche eto'o, ...  \n",
       "4  [tchouameni, bon présentateur, aurélien tchoua...  \n",
       "5  [tellement vrai gars, lasse d'écouter intervie...  \n",
       "6  [eto'o s'invente vie mdr n'a jamais marqué tri...  \n",
       "7  [\" veux joueur caractère, importe m'insulte, d...  \n",
       "8  [possible, aurélien reconvertis journalisme ap...  \n",
       "9  [aimé l'émission merci, super émission super, ...  "
      ]
     },
     "execution_count": 115,
     "metadata": {},
     "output_type": "execute_result"
    }
   ],
   "source": [
    "infos_topics.head(10)"
   ]
  },
  {
   "cell_type": "code",
   "execution_count": 116,
   "metadata": {},
   "outputs": [
    {
     "name": "stdout",
     "output_type": "stream",
     "text": [
      "\"Le Phénomène Viral de 'Oh Samuel' sur TikTok\"\n",
      "\"La Légende de Samuel Eto'o Fils: Héritage d'un Champion Camerounais\"\n",
      "\"Les Multiples Facettes du Continent à Travers le Prisme d'Eto'o\"\n",
      "\"Aurélien Tchouaméni et la Polémique de Respect envers Samuel Eto'o\"\n",
      "\"Réflexions sur la Croissance Personnelle et Échanges Profonds : Retour sur 'The Bridge'\"\n",
      "\"Vérification des faits sur le triplé de Samuel Eto'o lors d'un match de l'Inter Milan\"\n",
      "\"Réflexions sur le Leadership et la Nature Humaine dans le Football et la Société\"\n",
      "\"La reconversion réussie d'Aurélien Tchouaméni dans le journalisme sportif\"\n",
      "\"Avis enthousiaste sur une émission de télévision\"\n",
      "\"Samuel Eto'o : Légende Africaine et Espoir du Continent\"\n",
      "Cédric Doumbé : Profil du Meilleur Combattant Français\n",
      "\"De la Dinguerie à l'Excellence: Les Ambitions Sans Limites d'Eto'o à travers Anecdotes et Proverbes\"\n",
      "La marque de respect de Samuel Eto'o envers Mike Maignan\n",
      "\"Masterclass de légendes: Ambition, Succès et Inspirations Africaines\"\n",
      "Les Lions Indomptables de 2000 à 2003: Analyse de l'Âge d'Or du Football Camerounais\n",
      "\"Les Polémiques Autour de Samuel Eto'o : Mythes et Exagérations\"\n",
      "\"Le Déclic de Confiance : Réflexions sur la Mentalité et le Succès d'une Vidéo Virale\"\n",
      "\"Samuel Eto'o : Légende Vivante et Source d'Inspiration pour le Cameroun\"\n",
      "\"Fierté Camerounaise : Célébration de l'Identité Nationale\"\n"
     ]
    }
   ],
   "source": [
    "for i in range(1, len(infos_topics)):\n",
    "    final_prompt = prompt.format(topics = \" \".join(infos_topics['Representative_Docs'].iloc[i]))\n",
    "    answer = eval_chat_model.invoke(final_prompt)\n",
    "    print(answer.content)\n"
   ]
  },
  {
   "cell_type": "code",
   "execution_count": 47,
   "metadata": {},
   "outputs": [
    {
     "name": "stdout",
     "output_type": "stream",
     "text": [
      "\"Orh Samuel: A Repetitive Focus\"\n",
      "\"Exploration de l'Influence de Samuel Eto'o sur le Football Continental\"\n",
      "\"Retours Positifs sur une Émission Télévisée\"\n",
      "\"La Légende de Samuel Eto'o : Parcours d'un Héros du Football Camerounais\"\n",
      "\"Le Respect des Légendes : La Polémique entre Aurélien Tchouaméni et Samuel Eto'o\"\n",
      "\"Réflexions sur le Professionnalisme, le Football et la Quête de Vérité\"\n",
      "\"Aurélien Tchouaméni : Un Futur Journaliste Sportif Prometteur Après le Football\"\n",
      "\"Réflexions sur la Croissance Personnelle et Diversité des Perspectives dans les Interviews\"\n",
      "\"Samuel Eto'o et son triplé historique en première mi-temps avec l'Inter Milan\"\n",
      "\"Les Controverses autour de Samuel Eto'o : Vérités et Exagérations\"\n",
      "Cédric Doumbé : Le Meilleur Combattant Français\n",
      "\"Célébration des Icônes Sportives Africaines : Hommage à Samuel Eto'o et Fierté Camerounaise\"\n",
      "L'Épopée des Lions Indomptables : Potentiel et Performances (2000-2003)\n",
      "\"Le Respect et l'Humilité de Samuel Eto'o en Accueillant Mike Maignan\"\n",
      "\"Confiance et Réussite : L'Impact d'un Excellent Casting sur YouTube\"\n",
      "\"Entretien avec Eto'o : Entre Mythes et Réalités du Football\"\n",
      "\"Masterclass de Légendes : Inspiration et Réussite à l'Africaine\"\n",
      "\"Charisme et Impact de Samuel Eto'o : Analyse d'une Légende Vivante\"\n",
      "\"Réflexions sur le Leadership et les Défis de Samuel Eto'o à la FECAFOOT\"\n",
      "\"Fierté Camerounaise : Célébration de l'Identité Nationale\"\n",
      "\"Réactions et Analyse de l'Audience sur les Épisodes Bilingues d'une Émission Populaire\"\n"
     ]
    }
   ],
   "source": [
    "for i in range(1, len(infos_topics)):\n",
    "    final_prompt = prompt.format(topics = \" \".join(infos_topics['Representative_Docs'].iloc[i]))\n",
    "    answer = eval_chat_model.invoke(final_prompt)\n",
    "    print(answer.content)\n"
   ]
  },
  {
   "cell_type": "code",
   "execution_count": 48,
   "metadata": {},
   "outputs": [
    {
     "name": "stdout",
     "output_type": "stream",
     "text": [
      "\"Exploration des Variations de 'Samuel' et 'Orh' dans un Contexte Numérique\"\n",
      "\"Les Louanges à Samuel Eto'o\"\n",
      "\"Super Émission: Merci à Nos Invités Formidables\"\n",
      "\"Samuel Eto'o: Hommage à une Légende du Football\"\n",
      "\"Tchouaméni et Eto'o : Éloquence et Présentation dans le Monde du Sport\"\n",
      "\"Le Respect et la Parole d'un Grand Joueur: Légende de Baki Eto\"\n",
      "\"Le Parcours d'Aurélien : Du Journalisme à la Reconnaissance Professionnelle\"\n",
      "\"Conversations Captivantes : Écouter et Partager avec des Invités Exceptionnels\"\n",
      "\"Les temps triples et les mi-temps dans les matchs de l'Inter\"\n",
      "\"Les Mythes et Réalités autour de Samuel Eto'o et la Prédation dans le Football\"\n",
      "Cédric Doumbé: Le Meilleur Combattant Français\n",
      "\"Samuel Eto'o: La Fierté du Football Africain\"\n",
      "\"Triomphe de la France à la Coupe du Monde 2002\"\n",
      "\"Mike Maignan : L'humilité et le respect d'un gardien de but au sommet\"\n",
      "\"Création de Contenu Vidéo Avancé avec l'IA pour une Première Chaîne YouTube Excellente\"\n",
      "\"Les multiples facettes de Guardiola : Entretiens et Impressions\"\n",
      "\"Visionnaire Afrique: Émission de Connaissance et Opportunités\"\n",
      "La Légende de Samuel Eto'o: Carrière et Impact\n",
      "\"Le Moment Clé de Messi et l'Équipe du Barça pour Gagner avec la FECAFOOT\"\n",
      "\"Fierté et Identité : L'Essence d'Être Camerounais\"\n",
      "\"Analyse d'un épisode marquant d'une émission populaire\"\n"
     ]
    }
   ],
   "source": [
    "for i in range(1, len(infos_topics)):\n",
    "    final_prompt = prompt.format(topics = \" \".join(infos_topics['Representation'].iloc[i]))\n",
    "    answer = eval_chat_model.invoke(final_prompt)\n",
    "    print(answer.content)\n"
   ]
  },
  {
   "cell_type": "code",
   "execution_count": 49,
   "metadata": {},
   "outputs": [
    {
     "data": {
      "text/plain": [
       "array([0.        , 0.94156988, 0.71052478, ..., 1.        , 0.71416397,\n",
       "       0.        ])"
      ]
     },
     "execution_count": 49,
     "metadata": {},
     "output_type": "execute_result"
    }
   ],
   "source": [
    "probs"
   ]
  },
  {
   "cell_type": "code",
   "execution_count": null,
   "metadata": {},
   "outputs": [],
   "source": []
  },
  {
   "cell_type": "markdown",
   "metadata": {},
   "source": [
    "# 4. sentiment analysis"
   ]
  },
  {
   "cell_type": "code",
   "execution_count": 50,
   "metadata": {},
   "outputs": [],
   "source": [
    "def classify_comments(comments):\n",
    "    classifier = pipeline('zero-shot-classification', model='facebook/bart-large-mnli')\n",
    "    categories = ['positive', 'negative']\n",
    "    classified_comments = []\n",
    "    scores = []\n",
    "    for comment in tqdm(comments):\n",
    "        result = classifier(comment, candidate_labels=categories)\n",
    "        classified_comments.append(result['labels'][0])\n",
    "        scores.append(result['scores'][0])\n",
    "    return classified_comments, scores"
   ]
  },
  {
   "cell_type": "code",
   "execution_count": 51,
   "metadata": {},
   "outputs": [
    {
     "name": "stderr",
     "output_type": "stream",
     "text": [
      "100%|██████████| 1096/1096 [10:16<00:00,  1.78it/s]\n"
     ]
    }
   ],
   "source": [
    "classified_comments, scores = classify_comments(cleaned_comments)"
   ]
  },
  {
   "cell_type": "code",
   "execution_count": 55,
   "metadata": {},
   "outputs": [],
   "source": [
    "new_df = pd.DataFrame(\n",
    "    {\n",
    "        \"sentiment\": scores,\n",
    "        \"commentaire\": classified_comments\n",
    "    }\n",
    ")"
   ]
  },
  {
   "cell_type": "code",
   "execution_count": 56,
   "metadata": {},
   "outputs": [
    {
     "data": {
      "text/html": [
       "<div>\n",
       "<style scoped>\n",
       "    .dataframe tbody tr th:only-of-type {\n",
       "        vertical-align: middle;\n",
       "    }\n",
       "\n",
       "    .dataframe tbody tr th {\n",
       "        vertical-align: top;\n",
       "    }\n",
       "\n",
       "    .dataframe thead th {\n",
       "        text-align: right;\n",
       "    }\n",
       "</style>\n",
       "<table border=\"1\" class=\"dataframe\">\n",
       "  <thead>\n",
       "    <tr style=\"text-align: right;\">\n",
       "      <th></th>\n",
       "      <th>sentiment</th>\n",
       "      <th>commentaire</th>\n",
       "    </tr>\n",
       "  </thead>\n",
       "  <tbody>\n",
       "    <tr>\n",
       "      <th>0</th>\n",
       "      <td>0.987961</td>\n",
       "      <td>negative</td>\n",
       "    </tr>\n",
       "    <tr>\n",
       "      <th>1</th>\n",
       "      <td>0.966440</td>\n",
       "      <td>positive</td>\n",
       "    </tr>\n",
       "    <tr>\n",
       "      <th>2</th>\n",
       "      <td>0.685886</td>\n",
       "      <td>positive</td>\n",
       "    </tr>\n",
       "    <tr>\n",
       "      <th>3</th>\n",
       "      <td>0.980685</td>\n",
       "      <td>positive</td>\n",
       "    </tr>\n",
       "    <tr>\n",
       "      <th>4</th>\n",
       "      <td>0.648160</td>\n",
       "      <td>negative</td>\n",
       "    </tr>\n",
       "  </tbody>\n",
       "</table>\n",
       "</div>"
      ],
      "text/plain": [
       "   sentiment commentaire\n",
       "0   0.987961    negative\n",
       "1   0.966440    positive\n",
       "2   0.685886    positive\n",
       "3   0.980685    positive\n",
       "4   0.648160    negative"
      ]
     },
     "execution_count": 56,
     "metadata": {},
     "output_type": "execute_result"
    }
   ],
   "source": [
    "new_df.head()"
   ]
  },
  {
   "cell_type": "code",
   "execution_count": 179,
   "metadata": {},
   "outputs": [],
   "source": []
  },
  {
   "cell_type": "code",
   "execution_count": 59,
   "metadata": {},
   "outputs": [
    {
     "data": {
      "image/png": "[encoded data removed]",
      "text/plain": [
       "<Figure size 800x500 with 1 Axes>"
      ]
     },
     "metadata": {},
     "output_type": "display_data"
    }
   ],
   "source": [
    "plt.figure(figsize=(8, 5))\n",
    "plt.rcParams.update({'legend.fontsize': 10})\n",
    "sns.histplot(new_df[\"sentiment\"])\n",
    "#add a line plot x=1\n",
    "plt.axvline(x=0.5, color='r', linestyle='--')\n",
    "plt.title(\"Distribution des sentiments associés aux commentaires\", weight=\"bold\", size=12);"
   ]
  },
  {
   "cell_type": "code",
   "execution_count": 220,
   "metadata": {},
   "outputs": [],
   "source": [
    "for c in df[df.columns[0]]:\n",
    "    u = c.split('Pasteur')\n",
    "    if len(u) > 1:\n",
    "        print(c)"
   ]
  },
  {
   "cell_type": "code",
   "execution_count": 216,
   "metadata": {},
   "outputs": [
    {
     "data": {
      "text/plain": [
       "False"
      ]
     },
     "execution_count": 216,
     "metadata": {},
     "output_type": "execute_result"
    }
   ],
   "source": []
  },
  {
   "cell_type": "code",
   "execution_count": 211,
   "metadata": {},
   "outputs": [],
   "source": [
    "for c in df[ df[df.columns[0]].str.contains(\"Garoua\") ][df.columns[0]].values:\n",
    "    print(c)"
   ]
  },
  {
   "cell_type": "code",
   "execution_count": 181,
   "metadata": {},
   "outputs": [
    {
     "name": "stdout",
     "output_type": "stream",
     "text": [
      "Impressionné par Aurelien dans son rôle qui maîtrise à mon sens d’une main de maître… excellente émission\n",
      "Sans des sportifs comme Eto'o le sport ne serait plus une passion. Il est juste incroyable.\n",
      "Quand tu vois une vidéo pareille, tu as juste envie de te surpasser pour atteindre tes objectifs.\n",
      "Masterclass messieurs !!\n",
      "Fier d'être africain, trop fière d'être Camerounais 🇨🇲\n",
      "Tchaouameni masterclass, verve, intelligence, un très bon animateur ! Quel classe et charisme.\n",
      "Eto’o peut paraître arrogant parfois mais il était très fort, une légende africaine respect 🫡 depuis le Mali 🇲🇱 \n",
      "Tchouameni  TRÈS TRÈS BON calme, posé, bravo !!!\n",
      "Chapeau bas pour Aurélien qui a vraiment fait une masterclass!\n",
      "Bravo Aurélien, je te découvre sous un autre angle. Tu gères tes intervenants avec la précision d'un match de football : un excellent timing pour distribuer la parole, tout en affichant un charisme impressionnant. Félicitations !\n",
      "Vrmt respect à vie à etoo très agréable qd il parle il explique énormément bien sa façon de s’exprimer et un très bon état d’esprit\n",
      "Mr Eto'o est un exemple pour la société, incroyable interview !\n",
      "Respectons ceux qui ont impacté.  Comme tout le monde, ils ont leurs bon et mauvais caractères.  Mais comme  souligné dans la vidéos,  Le champions n'est pas seulement celui qui dit, mais assume ses dires et réalise. \n",
      "\n",
      "Merci de l'inspiration partagée et bon courage à vous dans vos différentes carrière.\n",
      "Les interviews d'Eto'o sont trop sensationnels\n",
      "Cette interview m'a vraiment touché merci a vous mes stars 🇨🇲🇨🇲🇨🇲\n",
      "Samuel, quel grand HOMME ! Respect \n",
      "Tchouameni il est trop charismatique sa voix\n",
      "C’est la première fois que je regarde c’est super sympa je trouve\n",
      "Et lorsque je vois les gens mal parler d'un Samuel Eto'o vraiment c'est incroyable!\n",
      "Aurelien, tu ferais un excellent journaliste après l'aire de jeu.\n",
      "   Quant à Éto'o, quel Masterclass!\n",
      "C'est un gars comme ça que le Cameroun sabote.  Inadmissible incroyable...\n",
      "N'oubliez pas que vos expérience aideront bcp d'Africains et autres\n",
      "merci pour l'interview\n",
      "notre légende THE N'9\n",
      "Les hors sujet de Eto'o me régale. Quel être incroyable\n",
      "doumbé guez par contre\n",
      "Je suis profondément impressionné par l'intelligence et la sérénité d'Aurélien Tchouaméni. Ses questions, à la fois concises et pertinentes, révèlent une sagesse rare. Au-delà de ses talents de footballeur, il incarne une forme de réflexion que j'apprécie particulièrement. Samuel Eto'o, quant à lui, dégage une magnificence indéniable ; son assurance et son intelligence sont souvent perçues comme de l'arrogance, mais c'est cette même confiance qui le rend fascinant.\n",
      "Franchement Eto'o est une personne incroyable avec beaucoup de qualités\n",
      "Beau partage ! \n",
      "\n",
      "Un coup de chapeau à Aurelien TCHOUAMENI ! Je suis un passionné et ce que je le vois faire avec un calme olympien... MAGNIFIQUE\n",
      "Une dinguerie comment nous noire nous sommes limités dans nos ambitions . Eto’o c’est vraiment l’étoile par excellence\n",
      "Merci Sébastien Abdelhamid et Aurélien Tchouaméni de mettre en lumière tous ses parcours de vie majestueux et respectables.\n",
      "En espérant que cela puisse en inspirer d'autres. \n",
      "Excellente interveiw, un pur regal. Tchouameni excellent dans son role, la reconversion d'apres carriere est deja toute trouvee :)\n",
      "\n",
      "Le grand 9  Etoo, un narrateur hors pair, il est tellement marrant mais ca rend fier de voir des camerounais aussi successfull parler de leur reussite comme ca !\n",
      "ETO\"O LE PLUS GRAND!!!!!!\n",
      "La prestance et le charisme de Tchouameni entouré de ces grands messieurs wow!\n",
      "Des gens intéressants font forcement une interview interessante, chapeau à Aurélien qui est un vrai caméléon, footballeur, pianiste et maintenant presentateur !\n"
     ]
    }
   ],
   "source": [
    "# select comments with a score greater than 0.5\n",
    "for c in df[df[\"scores\"] > 0.99][df.columns[0]].values:\n",
    "    print(c)"
   ]
  },
  {
   "cell_type": "code",
   "execution_count": null,
   "metadata": {},
   "outputs": [],
   "source": []
  }
 ],
 "metadata": {
  "kernelspec": {
   "display_name": "nkobo",
   "language": "python",
   "name": "python3"
  },
  "language_info": {
   "codemirror_mode": {
    "name": "ipython",
    "version": 3
   },
   "file_extension": ".py",
   "mimetype": "text/x-python",
   "name": "python",
   "nbconvert_exporter": "python",
   "pygments_lexer": "ipython3",
   "version": "3.12.5"
  }
 },
 "nbformat": 4,
 "nbformat_minor": 2
}
